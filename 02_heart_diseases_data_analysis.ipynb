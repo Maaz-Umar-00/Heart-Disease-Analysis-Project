{
 "cells": [
  {
   "cell_type": "markdown",
   "metadata": {},
   "source": [
    "<h1 style=\"font-family: 'Poppins', sans-serif; font-weight: 700; color: #1c1c1c; background: white; padding: 15px; border-radius: 10px; text-align: center; box-shadow: 0 4px 8px rgba(0, 0, 0, 0.5); letter-spacing: 1px; text-transform: capitalize; font-size: 1.5rem;\">\n",
    "  Project Title: <span style=\"color: #333333;\">Heart disease analysis</span>\n",
    "</h1>"
   ]
  },
  {
   "cell_type": "markdown",
   "metadata": {},
   "source": [
    "<h1 style=\"font-family: 'Poppins', sans-serif; font-weight: 700; color: #1c1c1c; background: white; padding: 20px; border-radius: 15px; text-align: center; box-shadow: 0 4px 8px rgba(0, 0, 0, 0.1); letter-spacing: 1px; text-transform: capitalize; font-size: 1.5rem;\">\n",
    "  <span style=\"color: #1c1c1c; font-size: 2rem;\">👨‍💻</span> \n",
    "  Author: <span style=\"color: #333333;\">Maaz Umar</span><br>\n",
    "  <a href=\"https://github.com/Maaz-Umar-00\" style=\"color: #333333; text-decoration: none; font-size: 0.9rem;\">GitHub</a> |\n",
    "  <a href=\"https://www.linkedin.com/in/maaz-umar-178090307/\" style=\"color: #333333; text-decoration: none; font-size: 0.9rem;\">LinkedIn</a> |\n",
    "  <a href=\"mailto:maazumar2005@email.com\" style=\"color: #555555; text-decoration: none; font-size: 0.9rem;\">Email</a>\n",
    "\n",
    "</h1>"
   ]
  },
  {
   "cell_type": "markdown",
   "metadata": {},
   "source": [
    "<img src=\"./Heart_pic.webp\" alt=\"Mitron Bank\" style=\"width: 600px; display: block; margin: 0 auto;\" />"
   ]
  },
  {
   "cell_type": "markdown",
   "metadata": {},
   "source": [
    "<h1 style=\"font-family: 'Poppins', sans-serif; font-weight: 700; color: #1c1c1c; background: white; padding: 15px; border-radius: 10px; text-align: center; box-shadow: 0 4px 8px rgba(0, 0, 0, 0.5); letter-spacing: 1px; text-transform: capitalize; font-size: 1.5rem;\">\n",
    "  Meta-Data(About Dataset) <span style=\"color: #333333;\"></span>\n",
    "</h1>\n",
    "\n",
    "\n",
    "This multivariate dataset includes 16 attributes such as age, sex, chest pain type, blood pressure, cholesterol, and others. Despite having 76 attributes, studies typically use this subset. The Cleveland database is commonly used for predicting heart disease based on these attributes and for gaining insights to better understand the condition.\n",
    "\n",
    "<h1 style=\"font-family: 'Poppins', sans-serif; font-weight: 700; color: #1c1c1c; background: white; padding: 10px; border-radius: 10px; text-align: left; box-shadow: 0 4px 8px rgba(0, 0, 0, 0.1); letter-spacing: 1px; text-transform: capitalize; font-size: 1.2rem;\">\n",
    "  Columns description: <span style=\"color: #333333;\"></span>\n",
    "</h1>\n",
    "\n",
    "* `id:` A unique identifier assigned to each patient. It helps to distinguish between different patients but doesn't provide any medical information.\n",
    "* `age:` The patient's age in years. Age is a key factor in assessing heart disease risk, as older individuals generally have a higher risk.\n",
    "* `dataset:` The place or source of the study or data collection. This might be useful for understanding geographic variations in the data.\n",
    "* `sex:` The patient's gender (Male or Female). Gender can influence the likelihood of developing heart disease, with different risks associated with each gender.\n",
    "* `cp (chest pain type):` Indicates the type of chest pain experienced by the patient:\n",
    "  - 1: Typical angina - pain due to heart disease.\n",
    "  - 2: Atypical angina - pain not necessarily related to heart disease.\n",
    "  - 3: Non-anginal pain - pain not related to the heart.\n",
    "  - 4: Asymptomatic - no chest pain experienced.\n",
    "* `trestbps:` Resting blood pressure (in mm Hg) measured when the patient is admitted to the hospital. High blood pressure is a known risk factor for heart disease.\n",
    "* `chol:` Serum cholesterol level (in mg/dl). High cholesterol levels can increase the risk of heart disease.\n",
    "* `fbs:` Indicates whether the patient's fasting blood sugar level is greater than 120 mg/dl (True or False). High fasting blood sugar can be a sign of diabetes, which is a risk factor for heart disease.\n",
    "* `restecg:` Resting electrocardiographic results:\n",
    "  - 1: Normal heart activity.\n",
    "  - 2: ST-T wave abnormality, which can indicate heart issues.\n",
    "  - 3: Left ventricular hypertrophy, an enlargement of the heart's left ventricle.\n",
    "* `thalach:` Maximum heart rate achieved during exercise. A higher heart rate can indicate better cardiovascular fitness, but extremely high or low rates can be a concern.\n",
    "* `exang:` Exercise-induced angina (True or False). Indicates whether exercise triggers chest pain, which can be a sign of heart disease.\n",
    "* `oldpeak:` ST depression caused by exercise relative to rest. ST depression can be a sign of heart disease.\n",
    "* `slope:` The slope of the peak exercise ST segment:\n",
    "  - 1: Upsloping - indicates better exercise tolerance.\n",
    "  - 2: Flat - can be normal or indicative of heart issues.\n",
    "  - 3: Downsloping - often associated with heart disease.\n",
    "* `ca:` Number of major vessels (0-3) colored by fluoroscopy. More vessels colored indicates more significant coronary artery disease.\n",
    "* `thal:` Thalassemia status.\n",
    "* `num:` Indicates whether heart disease is present:\n",
    "  - 0: No heart disease.\n",
    "  - 1: Heart disease present (or a higher number if it's a multi-class classification).\n",
    "<h1 style=\"font-family: 'Poppins', sans-serif; font-weight: 700; color: #1c1c1c; background: white; padding: 10px; border-radius: 10px; text-align: left; box-shadow: 0 4px 8px rgba(0, 0, 0, 0.1); letter-spacing: 1px; text-transform: capitalize; font-size: 1.2rem;\">\n",
    "  Addition of New Columns During Data Cleaning: <span style=\"color: #333333;\"></span>\n",
    "</h1>\n",
    "\n",
    "**The following new columns were added to the dataset during the cleaning process to facilitate our analysis:**\n",
    "#### 1. Blood Pressure Categories (`trestbps`)\n",
    "- **Normal**: 90–120 mm Hg\n",
    "- **Elevated**: 120–130 mm Hg\n",
    "- **Hypertension Stage 1**: 130–140 mm Hg\n",
    "- **Hypertension Stage 2**: >140 mm Hg\n",
    "\n",
    "#### 2. Cholesterol Levels (`chol`)\n",
    "- **Normal**: < 200 mg/dL\n",
    "- **Borderline High**: 200–239 mg/dL\n",
    "- **High**: ≥ 240 mg/dL\n",
    "\n",
    "#### 3. Heart Rate Zones (`thalch`)\n",
    "- **Low**: < 60 bpm\n",
    "- **Moderate**: 60–100 bpm\n",
    "- **High**: > 100 bpm\n",
    "\n",
    "#### 4. Oldpeak Interpretation (`oldpeak`)\n",
    "- **No Depression**: 0\n",
    "- **Mild**: 0–1\n",
    "- **Moderate**: 1–2\n",
    "- **Severe**: > 2\n",
    "\n",
    "##### Summary of New Features\n",
    "- `blood_pressure_category`\n",
    "- `cholesterol_category`\n",
    "- `heart_rate_category`\n",
    "- `oldpeak_category`\n"
   ]
  },
  {
   "cell_type": "markdown",
   "metadata": {},
   "source": [
    "<h1 style=\"font-family: 'Poppins', sans-serif; font-weight: 700; color: #1c1c1c; background: white; padding: 10px; border-radius: 10px; text-align: left; box-shadow: 0 4px 8px rgba(0, 0, 0, 0.1); letter-spacing: 1px; text-transform: capitalize; font-size: 1.2rem;\">\n",
    "  Project Aim: <span style=\"color: #333333;\"></span>\n",
    "</h1>\n",
    "\n",
    "\n",
    "The aim of this project is to perform data analysis on the heart disease dataset to understand key factors that may influence the risk of heart disease.The focus will be on the following:\n",
    "\n",
    "* Understanding the distribution of patient demographics like age and gender.\n",
    "* Identifying risk factors associated with heart disease, such as high cholesterol, blood pressure, and chest pain types.\n",
    "* Comparing the presence of heart disease across different subgroups, including age ranges, gender, and other medical attributes.\n",
    "* Visualizing relationships between variables like cholesterol levels, blood pressure, and heart disease to provide insights into patient health.\n",
    "* `The ultimate goal is to provide meaningful insights from the dataset that could be useful for understanding heart disease risk.`\n",
    "\n",
    "<h1 style=\"font-family: 'Poppins', sans-serif; font-weight: 700; color: #1c1c1c; background: white; padding: 10px; border-radius: 10px; text-align: left; box-shadow: 0 4px 8px rgba(0, 0, 0, 0.1); letter-spacing: 1px; text-transform: capitalize; font-size: 1.2rem;\">\n",
    "Key Findings: <span style=\"color: #333333;\"></span>\n",
    "</h1>\n",
    "\n",
    "* Most people in the dataset are between the `ages of 40 and 70.`\n",
    "* There are` 565 males` in the dataset, which is significant since heart disease is more prevalent in males. The total number of `females is 183`.\n",
    "* `Middle-aged` and` older` individuals have the` highest rates of heart disease`, which is expected, as the likelihood of developing heart disease increases with age.\n",
    "* Heart disease is significantly more prevalent in` males, with 317 cases, compared to 40 cases in females.`\n",
    "* Most people exhibit asymptomatic chest `pain`, yet they are still diagnosed with heart disease. This underscores the importance of thorough medical evaluations and monitoring, even for patients with non-specific or no symptoms at all.\n",
    "* It was found that as `age increases, both resting blood pressure and cholesterol levels tend to rise.` This could be one of the reasons why `middle-aged and older individuals have a higher risk of heart disease.`\n",
    "* As age increases, maximum heart rate (thalch) values tend to decrease. This suggests potential concerns related to` cardiovascular fitness and health`, indicating that older individuals may experience reduced heart efficiency and a higher risk of heart-related issues.\n",
    "* `The final and most important finding was a strong correlation between` high blood pressure, high cholesterol, elevated heart rate, and severe depression in the oldpeak variable. This suggests that individuals with these characteristics are significantly more likely to have heart disease. The data emphasizes the importance of monitoring these health indicators to effectively assess heart disease risk.\n"
   ]
  },
  {
   "cell_type": "markdown",
   "metadata": {},
   "source": [
    "<h1 style=\"font-family: 'Poppins', sans-serif; font-weight: 700; color: #1c1c1c; background: white; padding: 15px; border-radius: 10px; text-align: left; box-shadow: 0 4px 8px rgba(0, 0, 0, 0.1); letter-spacing: 1px; text-transform: capitalize; font-size: 1.5rem;\">\n",
    "  1. Importing Libraries <span style=\"color: #333333;\"></span>\n",
    "</h1>\n",
    "\n",
    "\n",
    "Let's start the project by importing all the libraries that we will need in this project."
   ]
  },
  {
   "cell_type": "code",
   "execution_count": 1,
   "metadata": {},
   "outputs": [],
   "source": [
    "# importing libraries\n",
    "\n",
    "# 1. to handle the data\n",
    "import pandas as pd\n",
    "import numpy as np\n",
    "\n",
    "# to visualize the dataset\n",
    "import matplotlib.pyplot as plt\n",
    "import seaborn as sns\n",
    "import plotly.express as px\n",
    "\n",
    "# To preprocess the data and scales the data\n",
    "from sklearn.preprocessing import StandardScaler, MinMaxScaler, LabelEncoder\n",
    "\n",
    "# for imputation of missing values\n",
    "from sklearn.impute import SimpleImputer, KNNImputer\n",
    "from sklearn.experimental import enable_iterative_imputer\n",
    "from sklearn.impute import IterativeImputer\n",
    "\n",
    "# For little bit of  machine learning\n",
    "from sklearn.linear_model import LinearRegression\n",
    "\n",
    "# ignore warnings   \n",
    "import warnings\n",
    "warnings.filterwarnings('ignore')"
   ]
  },
  {
   "cell_type": "markdown",
   "metadata": {},
   "source": [
    "<h1 style=\"font-family: 'Poppins', sans-serif; font-weight: 700; color: #1c1c1c; background: white; padding: 10px; border-radius: 10px; text-align: left; box-shadow: 0 4px 8px rgba(0, 0, 0, 0.1); letter-spacing: 1px; text-transform: capitalize; font-size: 1.2rem;\">\n",
    "1.1 Taking basic overview of the data <span style=\"color: #333333;\"></span>\n",
    "</h1>\n"
   ]
  },
  {
   "cell_type": "code",
   "execution_count": 2,
   "metadata": {},
   "outputs": [
    {
     "name": "stdout",
     "output_type": "stream",
     "text": [
      "   id  age     sex    dataset               cp  trestbps   chol    fbs  \\\n",
      "0   1   63    Male  Cleveland   typical angina     145.0  233.0   True   \n",
      "1   2   67    Male  Cleveland     asymptomatic     160.0  286.0  False   \n",
      "2   3   67    Male  Cleveland     asymptomatic     120.0  229.0  False   \n",
      "3   4   37    Male  Cleveland      non-anginal     130.0  250.0  False   \n",
      "4   5   41  Female  Cleveland  atypical angina     130.0  204.0  False   \n",
      "\n",
      "          restecg  thalch  exang  oldpeak        slope          num  \\\n",
      "0  lv hypertrophy   150.0  False      2.3  downsloping   No disease   \n",
      "1  lv hypertrophy   108.0   True      1.5         flat  Yes disease   \n",
      "2  lv hypertrophy   129.0   True      2.6         flat  Yes disease   \n",
      "3          normal   187.0  False      3.5  downsloping   No disease   \n",
      "4  lv hypertrophy   172.0  False      1.4    upsloping   No disease   \n",
      "\n",
      "  blood_pressure_category cholesterol_category heart_rate_category  \\\n",
      "0    Hypertension Stage 2      Borderline High                High   \n",
      "1    Hypertension Stage 2                 High                High   \n",
      "2                  Normal      Borderline High                High   \n",
      "3                Elevated                 High                High   \n",
      "4                Elevated      Borderline High                High   \n",
      "\n",
      "      oldpeak_category  \n",
      "0    Severe Depression  \n",
      "1  Moderate Depression  \n",
      "2    Severe Depression  \n",
      "3    Severe Depression  \n",
      "4  Moderate Depression  \n"
     ]
    }
   ],
   "source": [
    "df=pd.read_excel('cleaned_heart_disease_data.xlsx')\n",
    "print(df.head())"
   ]
  },
  {
   "cell_type": "markdown",
   "metadata": {},
   "source": [
    "* dropping `id` column because it won't helpful in our analysis"
   ]
  },
  {
   "cell_type": "code",
   "execution_count": 4,
   "metadata": {},
   "outputs": [],
   "source": [
    "df.drop(columns='id',inplace=True)"
   ]
  },
  {
   "cell_type": "markdown",
   "metadata": {},
   "source": [
    "<h1 style=\"font-family: 'Poppins', sans-serif; font-weight: 700; color: #1c1c1c; background: white; padding: 15px; border-radius: 10px; text-align: left; box-shadow: 0 4px 8px rgba(0, 0, 0, 0.1); letter-spacing: 1px; text-transform: capitalize; font-size: 1.5rem;\">\n",
    "2. Exploratory data analysis(EDA) <span style=\"color: #333333;\"></span>\n",
    "</h1>\n",
    "\n"
   ]
  },
  {
   "cell_type": "markdown",
   "metadata": {},
   "source": [
    "<h1 style=\"font-family: 'Poppins', sans-serif; font-weight: 700; color: #1c1c1c; background: white; padding: 10px; border-radius: 10px; text-align: left; box-shadow: 0 4px 8px rgba(0, 0, 0, 0.1); letter-spacing: 1px; text-transform: capitalize; font-size: 1.2rem;\">\n",
    " 2.1 Checking total number of rows and columns <span style=\"color: #333333;\"></span>\n",
    "</h1>\n",
    "\n"
   ]
  },
  {
   "cell_type": "code",
   "execution_count": 6,
   "metadata": {},
   "outputs": [
    {
     "name": "stdout",
     "output_type": "stream",
     "text": [
      "Total Number of rows  after cleaning the data : 748\n",
      "Total Number of columns after cleaning data : 17\n"
     ]
    }
   ],
   "source": [
    "## total number of rows and columns are\n",
    "print(\"Total Number of rows  after cleaning the data :\",df.shape[0])\n",
    "print(\"Total Number of columns after cleaning data :\",df.shape[1])"
   ]
  },
  {
   "cell_type": "markdown",
   "metadata": {},
   "source": [
    "<h1 style=\"font-family: 'Poppins', sans-serif; font-weight: 700; color: #1c1c1c; background: white; padding: 10px; border-radius: 10px; text-align: left; box-shadow: 0 4px 8px rgba(0, 0, 0, 0.1); letter-spacing: 1px; text-transform: capitalize; font-size: 1.2rem;\">\n",
    "2.2 Checking all the statistics of the data <span style=\"color: #333333;\"></span>\n",
    "</h1>\n",
    "\n"
   ]
  },
  {
   "cell_type": "code",
   "execution_count": 10,
   "metadata": {},
   "outputs": [
    {
     "data": {
      "text/html": [
       "<div>\n",
       "<style scoped>\n",
       "    .dataframe tbody tr th:only-of-type {\n",
       "        vertical-align: middle;\n",
       "    }\n",
       "\n",
       "    .dataframe tbody tr th {\n",
       "        vertical-align: top;\n",
       "    }\n",
       "\n",
       "    .dataframe thead th {\n",
       "        text-align: right;\n",
       "    }\n",
       "</style>\n",
       "<table border=\"1\" class=\"dataframe\">\n",
       "  <thead>\n",
       "    <tr style=\"text-align: right;\">\n",
       "      <th></th>\n",
       "      <th>age</th>\n",
       "      <th>sex</th>\n",
       "      <th>dataset</th>\n",
       "      <th>cp</th>\n",
       "      <th>trestbps</th>\n",
       "      <th>chol</th>\n",
       "      <th>fbs</th>\n",
       "      <th>restecg</th>\n",
       "      <th>thalch</th>\n",
       "      <th>exang</th>\n",
       "      <th>oldpeak</th>\n",
       "      <th>slope</th>\n",
       "      <th>num</th>\n",
       "      <th>blood_pressure_category</th>\n",
       "      <th>cholesterol_category</th>\n",
       "      <th>heart_rate_category</th>\n",
       "      <th>oldpeak_category</th>\n",
       "    </tr>\n",
       "  </thead>\n",
       "  <tbody>\n",
       "    <tr>\n",
       "      <th>count</th>\n",
       "      <td>748.000000</td>\n",
       "      <td>748</td>\n",
       "      <td>748</td>\n",
       "      <td>748</td>\n",
       "      <td>748.000000</td>\n",
       "      <td>748.000000</td>\n",
       "      <td>748</td>\n",
       "      <td>748</td>\n",
       "      <td>748.000000</td>\n",
       "      <td>748</td>\n",
       "      <td>748.000000</td>\n",
       "      <td>748</td>\n",
       "      <td>748</td>\n",
       "      <td>748</td>\n",
       "      <td>748</td>\n",
       "      <td>748</td>\n",
       "      <td>748</td>\n",
       "    </tr>\n",
       "    <tr>\n",
       "      <th>unique</th>\n",
       "      <td>NaN</td>\n",
       "      <td>2</td>\n",
       "      <td>3</td>\n",
       "      <td>4</td>\n",
       "      <td>NaN</td>\n",
       "      <td>NaN</td>\n",
       "      <td>2</td>\n",
       "      <td>3</td>\n",
       "      <td>NaN</td>\n",
       "      <td>2</td>\n",
       "      <td>NaN</td>\n",
       "      <td>3</td>\n",
       "      <td>2</td>\n",
       "      <td>4</td>\n",
       "      <td>3</td>\n",
       "      <td>2</td>\n",
       "      <td>4</td>\n",
       "    </tr>\n",
       "    <tr>\n",
       "      <th>top</th>\n",
       "      <td>NaN</td>\n",
       "      <td>Male</td>\n",
       "      <td>Cleveland</td>\n",
       "      <td>asymptomatic</td>\n",
       "      <td>NaN</td>\n",
       "      <td>NaN</td>\n",
       "      <td>False</td>\n",
       "      <td>normal</td>\n",
       "      <td>NaN</td>\n",
       "      <td>False</td>\n",
       "      <td>NaN</td>\n",
       "      <td>upsloping</td>\n",
       "      <td>No disease</td>\n",
       "      <td>Normal</td>\n",
       "      <td>High</td>\n",
       "      <td>High</td>\n",
       "      <td>No Depression</td>\n",
       "    </tr>\n",
       "    <tr>\n",
       "      <th>freq</th>\n",
       "      <td>NaN</td>\n",
       "      <td>565</td>\n",
       "      <td>304</td>\n",
       "      <td>370</td>\n",
       "      <td>NaN</td>\n",
       "      <td>NaN</td>\n",
       "      <td>626</td>\n",
       "      <td>446</td>\n",
       "      <td>NaN</td>\n",
       "      <td>488</td>\n",
       "      <td>NaN</td>\n",
       "      <td>437</td>\n",
       "      <td>391</td>\n",
       "      <td>226</td>\n",
       "      <td>359</td>\n",
       "      <td>695</td>\n",
       "      <td>319</td>\n",
       "    </tr>\n",
       "    <tr>\n",
       "      <th>mean</th>\n",
       "      <td>52.883690</td>\n",
       "      <td>NaN</td>\n",
       "      <td>NaN</td>\n",
       "      <td>NaN</td>\n",
       "      <td>132.687287</td>\n",
       "      <td>244.919666</td>\n",
       "      <td>NaN</td>\n",
       "      <td>NaN</td>\n",
       "      <td>140.881758</td>\n",
       "      <td>NaN</td>\n",
       "      <td>0.891448</td>\n",
       "      <td>NaN</td>\n",
       "      <td>NaN</td>\n",
       "      <td>NaN</td>\n",
       "      <td>NaN</td>\n",
       "      <td>NaN</td>\n",
       "      <td>NaN</td>\n",
       "    </tr>\n",
       "    <tr>\n",
       "      <th>std</th>\n",
       "      <td>9.496063</td>\n",
       "      <td>NaN</td>\n",
       "      <td>NaN</td>\n",
       "      <td>NaN</td>\n",
       "      <td>17.214509</td>\n",
       "      <td>58.099669</td>\n",
       "      <td>NaN</td>\n",
       "      <td>NaN</td>\n",
       "      <td>24.124995</td>\n",
       "      <td>NaN</td>\n",
       "      <td>1.059215</td>\n",
       "      <td>NaN</td>\n",
       "      <td>NaN</td>\n",
       "      <td>NaN</td>\n",
       "      <td>NaN</td>\n",
       "      <td>NaN</td>\n",
       "      <td>NaN</td>\n",
       "    </tr>\n",
       "    <tr>\n",
       "      <th>min</th>\n",
       "      <td>28.000000</td>\n",
       "      <td>NaN</td>\n",
       "      <td>NaN</td>\n",
       "      <td>NaN</td>\n",
       "      <td>92.000000</td>\n",
       "      <td>85.000000</td>\n",
       "      <td>NaN</td>\n",
       "      <td>NaN</td>\n",
       "      <td>69.000000</td>\n",
       "      <td>NaN</td>\n",
       "      <td>0.000000</td>\n",
       "      <td>NaN</td>\n",
       "      <td>NaN</td>\n",
       "      <td>NaN</td>\n",
       "      <td>NaN</td>\n",
       "      <td>NaN</td>\n",
       "      <td>NaN</td>\n",
       "    </tr>\n",
       "    <tr>\n",
       "      <th>25%</th>\n",
       "      <td>46.000000</td>\n",
       "      <td>NaN</td>\n",
       "      <td>NaN</td>\n",
       "      <td>NaN</td>\n",
       "      <td>120.000000</td>\n",
       "      <td>204.750000</td>\n",
       "      <td>NaN</td>\n",
       "      <td>NaN</td>\n",
       "      <td>125.000000</td>\n",
       "      <td>NaN</td>\n",
       "      <td>0.000000</td>\n",
       "      <td>NaN</td>\n",
       "      <td>NaN</td>\n",
       "      <td>NaN</td>\n",
       "      <td>NaN</td>\n",
       "      <td>NaN</td>\n",
       "      <td>NaN</td>\n",
       "    </tr>\n",
       "    <tr>\n",
       "      <th>50%</th>\n",
       "      <td>54.000000</td>\n",
       "      <td>NaN</td>\n",
       "      <td>NaN</td>\n",
       "      <td>NaN</td>\n",
       "      <td>130.000000</td>\n",
       "      <td>236.000000</td>\n",
       "      <td>NaN</td>\n",
       "      <td>NaN</td>\n",
       "      <td>140.000000</td>\n",
       "      <td>NaN</td>\n",
       "      <td>0.600000</td>\n",
       "      <td>NaN</td>\n",
       "      <td>NaN</td>\n",
       "      <td>NaN</td>\n",
       "      <td>NaN</td>\n",
       "      <td>NaN</td>\n",
       "      <td>NaN</td>\n",
       "    </tr>\n",
       "    <tr>\n",
       "      <th>75%</th>\n",
       "      <td>59.000000</td>\n",
       "      <td>NaN</td>\n",
       "      <td>NaN</td>\n",
       "      <td>NaN</td>\n",
       "      <td>140.000000</td>\n",
       "      <td>275.000000</td>\n",
       "      <td>NaN</td>\n",
       "      <td>NaN</td>\n",
       "      <td>160.000000</td>\n",
       "      <td>NaN</td>\n",
       "      <td>1.500000</td>\n",
       "      <td>NaN</td>\n",
       "      <td>NaN</td>\n",
       "      <td>NaN</td>\n",
       "      <td>NaN</td>\n",
       "      <td>NaN</td>\n",
       "      <td>NaN</td>\n",
       "    </tr>\n",
       "    <tr>\n",
       "      <th>max</th>\n",
       "      <td>77.000000</td>\n",
       "      <td>NaN</td>\n",
       "      <td>NaN</td>\n",
       "      <td>NaN</td>\n",
       "      <td>200.000000</td>\n",
       "      <td>603.000000</td>\n",
       "      <td>NaN</td>\n",
       "      <td>NaN</td>\n",
       "      <td>202.000000</td>\n",
       "      <td>NaN</td>\n",
       "      <td>6.200000</td>\n",
       "      <td>NaN</td>\n",
       "      <td>NaN</td>\n",
       "      <td>NaN</td>\n",
       "      <td>NaN</td>\n",
       "      <td>NaN</td>\n",
       "      <td>NaN</td>\n",
       "    </tr>\n",
       "  </tbody>\n",
       "</table>\n",
       "</div>"
      ],
      "text/plain": [
       "               age   sex    dataset            cp    trestbps        chol  \\\n",
       "count   748.000000   748        748           748  748.000000  748.000000   \n",
       "unique         NaN     2          3             4         NaN         NaN   \n",
       "top            NaN  Male  Cleveland  asymptomatic         NaN         NaN   \n",
       "freq           NaN   565        304           370         NaN         NaN   \n",
       "mean     52.883690   NaN        NaN           NaN  132.687287  244.919666   \n",
       "std       9.496063   NaN        NaN           NaN   17.214509   58.099669   \n",
       "min      28.000000   NaN        NaN           NaN   92.000000   85.000000   \n",
       "25%      46.000000   NaN        NaN           NaN  120.000000  204.750000   \n",
       "50%      54.000000   NaN        NaN           NaN  130.000000  236.000000   \n",
       "75%      59.000000   NaN        NaN           NaN  140.000000  275.000000   \n",
       "max      77.000000   NaN        NaN           NaN  200.000000  603.000000   \n",
       "\n",
       "          fbs restecg      thalch  exang     oldpeak      slope         num  \\\n",
       "count     748     748  748.000000    748  748.000000        748         748   \n",
       "unique      2       3         NaN      2         NaN          3           2   \n",
       "top     False  normal         NaN  False         NaN  upsloping  No disease   \n",
       "freq      626     446         NaN    488         NaN        437         391   \n",
       "mean      NaN     NaN  140.881758    NaN    0.891448        NaN         NaN   \n",
       "std       NaN     NaN   24.124995    NaN    1.059215        NaN         NaN   \n",
       "min       NaN     NaN   69.000000    NaN    0.000000        NaN         NaN   \n",
       "25%       NaN     NaN  125.000000    NaN    0.000000        NaN         NaN   \n",
       "50%       NaN     NaN  140.000000    NaN    0.600000        NaN         NaN   \n",
       "75%       NaN     NaN  160.000000    NaN    1.500000        NaN         NaN   \n",
       "max       NaN     NaN  202.000000    NaN    6.200000        NaN         NaN   \n",
       "\n",
       "       blood_pressure_category cholesterol_category heart_rate_category  \\\n",
       "count                      748                  748                 748   \n",
       "unique                       4                    3                   2   \n",
       "top                     Normal                 High                High   \n",
       "freq                       226                  359                 695   \n",
       "mean                       NaN                  NaN                 NaN   \n",
       "std                        NaN                  NaN                 NaN   \n",
       "min                        NaN                  NaN                 NaN   \n",
       "25%                        NaN                  NaN                 NaN   \n",
       "50%                        NaN                  NaN                 NaN   \n",
       "75%                        NaN                  NaN                 NaN   \n",
       "max                        NaN                  NaN                 NaN   \n",
       "\n",
       "       oldpeak_category  \n",
       "count               748  \n",
       "unique                4  \n",
       "top       No Depression  \n",
       "freq                319  \n",
       "mean                NaN  \n",
       "std                 NaN  \n",
       "min                 NaN  \n",
       "25%                 NaN  \n",
       "50%                 NaN  \n",
       "75%                 NaN  \n",
       "max                 NaN  "
      ]
     },
     "execution_count": 10,
     "metadata": {},
     "output_type": "execute_result"
    }
   ],
   "source": [
    "df.describe(include='all')"
   ]
  },
  {
   "cell_type": "markdown",
   "metadata": {},
   "source": [
    "## Observations:\n",
    "\n",
    "----\n",
    "\n",
    "* Age: The `age ranges` from `28` to `77` years, with an `average of 52.88` years.\n",
    "* Sex: The majority of the individuals are male `(565 out of 748).`\n",
    "* Chest Pain (cp): `\"Asymptomatic\" `is the most frequent type of chest pain `(370 cases)` means no chest pain experienced.\n",
    "* Resting Blood Pressure (trestbps): The average blood pressure is `132.69,` with a range of `92 to 200`.\n",
    "* Cholesterol (chol): The average cholesterol level is` 244.92`, ranging from` 85 to 603`.\n",
    "* Maximum Heart Rate (thalch): The average heart rate is` 140.88,` with a range of `69 to 202.`\n",
    "* Exercise-Induced Angina (exang): Mostly absent `(488 cases marked as False)`.\n",
    "* Oldpeak: The average ST depression is` 0.89`, with a maximum value of` 6.2`.\n",
    "* Heart Disease (num): `\"No disease\"` is recorded in `391 cases.`\n",
    "#### Categorical Data:\n",
    "* Blood pressure, cholesterol, and heart rate are `mostly categorized as \"Normal\" or \"High.\"`"
   ]
  },
  {
   "cell_type": "markdown",
   "metadata": {},
   "source": [
    "<h1 style=\"font-family: 'Poppins', sans-serif; font-weight: 700; color: #1c1c1c; background: white; padding: 10px; border-radius: 10px; text-align: left; box-shadow: 0 4px 8px rgba(0, 0, 0, 0.1); letter-spacing: 1px; text-transform: capitalize; font-size: 1.2rem;\">\n",
    "2.3 Let's explore column one by one<span style=\"color: #333333;\"></span>\n",
    "</h1>\n",
    "\n",
    " "
   ]
  },
  {
   "cell_type": "code",
   "execution_count": 11,
   "metadata": {},
   "outputs": [
    {
     "data": {
      "text/html": [
       "<div>\n",
       "<style scoped>\n",
       "    .dataframe tbody tr th:only-of-type {\n",
       "        vertical-align: middle;\n",
       "    }\n",
       "\n",
       "    .dataframe tbody tr th {\n",
       "        vertical-align: top;\n",
       "    }\n",
       "\n",
       "    .dataframe thead th {\n",
       "        text-align: right;\n",
       "    }\n",
       "</style>\n",
       "<table border=\"1\" class=\"dataframe\">\n",
       "  <thead>\n",
       "    <tr style=\"text-align: right;\">\n",
       "      <th></th>\n",
       "      <th>age</th>\n",
       "      <th>sex</th>\n",
       "      <th>dataset</th>\n",
       "      <th>cp</th>\n",
       "      <th>trestbps</th>\n",
       "      <th>chol</th>\n",
       "      <th>fbs</th>\n",
       "      <th>restecg</th>\n",
       "      <th>thalch</th>\n",
       "      <th>exang</th>\n",
       "      <th>oldpeak</th>\n",
       "      <th>slope</th>\n",
       "      <th>num</th>\n",
       "      <th>blood_pressure_category</th>\n",
       "      <th>cholesterol_category</th>\n",
       "      <th>heart_rate_category</th>\n",
       "      <th>oldpeak_category</th>\n",
       "    </tr>\n",
       "  </thead>\n",
       "  <tbody>\n",
       "    <tr>\n",
       "      <th>0</th>\n",
       "      <td>63</td>\n",
       "      <td>Male</td>\n",
       "      <td>Cleveland</td>\n",
       "      <td>typical angina</td>\n",
       "      <td>145.0</td>\n",
       "      <td>233.0</td>\n",
       "      <td>True</td>\n",
       "      <td>lv hypertrophy</td>\n",
       "      <td>150.0</td>\n",
       "      <td>False</td>\n",
       "      <td>2.3</td>\n",
       "      <td>downsloping</td>\n",
       "      <td>No disease</td>\n",
       "      <td>Hypertension Stage 2</td>\n",
       "      <td>Borderline High</td>\n",
       "      <td>High</td>\n",
       "      <td>Severe Depression</td>\n",
       "    </tr>\n",
       "    <tr>\n",
       "      <th>1</th>\n",
       "      <td>67</td>\n",
       "      <td>Male</td>\n",
       "      <td>Cleveland</td>\n",
       "      <td>asymptomatic</td>\n",
       "      <td>160.0</td>\n",
       "      <td>286.0</td>\n",
       "      <td>False</td>\n",
       "      <td>lv hypertrophy</td>\n",
       "      <td>108.0</td>\n",
       "      <td>True</td>\n",
       "      <td>1.5</td>\n",
       "      <td>flat</td>\n",
       "      <td>Yes disease</td>\n",
       "      <td>Hypertension Stage 2</td>\n",
       "      <td>High</td>\n",
       "      <td>High</td>\n",
       "      <td>Moderate Depression</td>\n",
       "    </tr>\n",
       "    <tr>\n",
       "      <th>2</th>\n",
       "      <td>67</td>\n",
       "      <td>Male</td>\n",
       "      <td>Cleveland</td>\n",
       "      <td>asymptomatic</td>\n",
       "      <td>120.0</td>\n",
       "      <td>229.0</td>\n",
       "      <td>False</td>\n",
       "      <td>lv hypertrophy</td>\n",
       "      <td>129.0</td>\n",
       "      <td>True</td>\n",
       "      <td>2.6</td>\n",
       "      <td>flat</td>\n",
       "      <td>Yes disease</td>\n",
       "      <td>Normal</td>\n",
       "      <td>Borderline High</td>\n",
       "      <td>High</td>\n",
       "      <td>Severe Depression</td>\n",
       "    </tr>\n",
       "    <tr>\n",
       "      <th>3</th>\n",
       "      <td>37</td>\n",
       "      <td>Male</td>\n",
       "      <td>Cleveland</td>\n",
       "      <td>non-anginal</td>\n",
       "      <td>130.0</td>\n",
       "      <td>250.0</td>\n",
       "      <td>False</td>\n",
       "      <td>normal</td>\n",
       "      <td>187.0</td>\n",
       "      <td>False</td>\n",
       "      <td>3.5</td>\n",
       "      <td>downsloping</td>\n",
       "      <td>No disease</td>\n",
       "      <td>Elevated</td>\n",
       "      <td>High</td>\n",
       "      <td>High</td>\n",
       "      <td>Severe Depression</td>\n",
       "    </tr>\n",
       "    <tr>\n",
       "      <th>4</th>\n",
       "      <td>41</td>\n",
       "      <td>Female</td>\n",
       "      <td>Cleveland</td>\n",
       "      <td>atypical angina</td>\n",
       "      <td>130.0</td>\n",
       "      <td>204.0</td>\n",
       "      <td>False</td>\n",
       "      <td>lv hypertrophy</td>\n",
       "      <td>172.0</td>\n",
       "      <td>False</td>\n",
       "      <td>1.4</td>\n",
       "      <td>upsloping</td>\n",
       "      <td>No disease</td>\n",
       "      <td>Elevated</td>\n",
       "      <td>Borderline High</td>\n",
       "      <td>High</td>\n",
       "      <td>Moderate Depression</td>\n",
       "    </tr>\n",
       "  </tbody>\n",
       "</table>\n",
       "</div>"
      ],
      "text/plain": [
       "   age     sex    dataset               cp  trestbps   chol    fbs  \\\n",
       "0   63    Male  Cleveland   typical angina     145.0  233.0   True   \n",
       "1   67    Male  Cleveland     asymptomatic     160.0  286.0  False   \n",
       "2   67    Male  Cleveland     asymptomatic     120.0  229.0  False   \n",
       "3   37    Male  Cleveland      non-anginal     130.0  250.0  False   \n",
       "4   41  Female  Cleveland  atypical angina     130.0  204.0  False   \n",
       "\n",
       "          restecg  thalch  exang  oldpeak        slope          num  \\\n",
       "0  lv hypertrophy   150.0  False      2.3  downsloping   No disease   \n",
       "1  lv hypertrophy   108.0   True      1.5         flat  Yes disease   \n",
       "2  lv hypertrophy   129.0   True      2.6         flat  Yes disease   \n",
       "3          normal   187.0  False      3.5  downsloping   No disease   \n",
       "4  lv hypertrophy   172.0  False      1.4    upsloping   No disease   \n",
       "\n",
       "  blood_pressure_category cholesterol_category heart_rate_category  \\\n",
       "0    Hypertension Stage 2      Borderline High                High   \n",
       "1    Hypertension Stage 2                 High                High   \n",
       "2                  Normal      Borderline High                High   \n",
       "3                Elevated                 High                High   \n",
       "4                Elevated      Borderline High                High   \n",
       "\n",
       "      oldpeak_category  \n",
       "0    Severe Depression  \n",
       "1  Moderate Depression  \n",
       "2    Severe Depression  \n",
       "3    Severe Depression  \n",
       "4  Moderate Depression  "
      ]
     },
     "execution_count": 11,
     "metadata": {},
     "output_type": "execute_result"
    }
   ],
   "source": [
    "df.head()"
   ]
  },
  {
   "cell_type": "markdown",
   "metadata": {},
   "source": [
    "<h1 style=\"font-family: 'Poppins', sans-serif; font-weight: 700; color: #1c1c1c; background: white; padding: 8px; border-radius: 10px; text-align: left; box-shadow: 0 4px 8px rgba(0, 0, 0, 0.1); letter-spacing: 1px; text-transform: capitalize; font-size: 1rem;\">\n",
    "2.3.1 Creating an histogram for age to check the distribution of age<span style=\"color: #333333;\"></span>\n",
    "</h1>\n"
   ]
  },
  {
   "cell_type": "code",
   "execution_count": 18,
   "metadata": {},
   "outputs": [
    {
     "data": {
      "application/vnd.plotly.v1+json": {
       "config": {
        "plotlyServerURL": "https://plot.ly"
       },
       "data": [
        {
         "alignmentgroup": "True",
         "bingroup": "x",
         "hovertemplate": "age=%{x}<br>count=%{y}<extra></extra>",
         "legendgroup": "",
         "marker": {
          "color": "#636efa",
          "pattern": {
           "shape": ""
          }
         },
         "name": "",
         "nbinsx": 7,
         "offsetgroup": "",
         "orientation": "v",
         "showlegend": false,
         "type": "histogram",
         "x": [
          63,
          67,
          67,
          37,
          41,
          56,
          62,
          57,
          63,
          53,
          57,
          56,
          56,
          44,
          52,
          57,
          48,
          54,
          48,
          49,
          64,
          58,
          58,
          58,
          60,
          50,
          58,
          66,
          43,
          40,
          69,
          60,
          64,
          59,
          44,
          42,
          43,
          57,
          55,
          61,
          65,
          40,
          71,
          59,
          61,
          58,
          51,
          50,
          65,
          53,
          41,
          65,
          44,
          44,
          60,
          54,
          50,
          41,
          54,
          51,
          51,
          46,
          58,
          54,
          54,
          60,
          60,
          54,
          59,
          46,
          65,
          67,
          62,
          65,
          44,
          65,
          60,
          51,
          48,
          58,
          45,
          53,
          39,
          68,
          52,
          44,
          47,
          53,
          53,
          51,
          66,
          62,
          62,
          44,
          63,
          52,
          59,
          60,
          52,
          48,
          45,
          34,
          57,
          71,
          49,
          54,
          59,
          57,
          61,
          39,
          61,
          56,
          52,
          43,
          62,
          41,
          58,
          35,
          63,
          65,
          48,
          63,
          51,
          55,
          65,
          45,
          56,
          54,
          44,
          62,
          54,
          51,
          29,
          51,
          43,
          55,
          70,
          62,
          35,
          51,
          59,
          59,
          52,
          64,
          58,
          47,
          57,
          41,
          45,
          60,
          52,
          42,
          67,
          55,
          64,
          70,
          51,
          58,
          60,
          68,
          46,
          77,
          54,
          58,
          48,
          57,
          52,
          54,
          35,
          45,
          70,
          53,
          59,
          62,
          64,
          57,
          52,
          56,
          43,
          53,
          48,
          56,
          42,
          59,
          60,
          63,
          42,
          66,
          54,
          69,
          50,
          51,
          43,
          62,
          68,
          67,
          69,
          45,
          50,
          59,
          50,
          64,
          57,
          64,
          43,
          45,
          58,
          50,
          55,
          62,
          37,
          38,
          41,
          66,
          52,
          56,
          46,
          46,
          64,
          59,
          41,
          54,
          39,
          53,
          63,
          34,
          47,
          67,
          54,
          66,
          52,
          55,
          49,
          74,
          54,
          54,
          56,
          46,
          49,
          42,
          41,
          41,
          49,
          61,
          60,
          67,
          58,
          47,
          52,
          62,
          57,
          58,
          64,
          51,
          43,
          42,
          67,
          76,
          70,
          57,
          44,
          58,
          60,
          44,
          61,
          42,
          52,
          59,
          40,
          42,
          61,
          66,
          46,
          71,
          59,
          64,
          66,
          39,
          57,
          58,
          57,
          47,
          55,
          35,
          61,
          58,
          58,
          58,
          56,
          56,
          67,
          55,
          44,
          63,
          63,
          41,
          59,
          57,
          45,
          68,
          57,
          57,
          38,
          28,
          29,
          29,
          30,
          31,
          32,
          32,
          32,
          33,
          34,
          34,
          34,
          35,
          35,
          35,
          35,
          36,
          36,
          36,
          36,
          37,
          37,
          37,
          37,
          37,
          37,
          37,
          38,
          38,
          38,
          39,
          39,
          39,
          39,
          39,
          39,
          39,
          39,
          39,
          39,
          40,
          40,
          40,
          40,
          40,
          41,
          41,
          41,
          41,
          41,
          41,
          41,
          42,
          42,
          42,
          42,
          42,
          42,
          42,
          43,
          43,
          43,
          43,
          43,
          43,
          43,
          43,
          44,
          44,
          44,
          44,
          45,
          45,
          45,
          45,
          45,
          45,
          45,
          46,
          46,
          46,
          46,
          46,
          46,
          46,
          47,
          47,
          47,
          47,
          47,
          48,
          48,
          48,
          48,
          48,
          48,
          48,
          48,
          48,
          48,
          48,
          49,
          49,
          49,
          49,
          49,
          49,
          49,
          49,
          50,
          50,
          50,
          50,
          50,
          50,
          50,
          51,
          51,
          51,
          51,
          51,
          51,
          51,
          52,
          52,
          52,
          52,
          52,
          52,
          52,
          52,
          53,
          53,
          53,
          53,
          53,
          53,
          53,
          53,
          53,
          54,
          54,
          54,
          54,
          54,
          54,
          54,
          54,
          54,
          54,
          54,
          54,
          54,
          54,
          54,
          54,
          55,
          55,
          55,
          55,
          55,
          55,
          55,
          55,
          55,
          55,
          56,
          56,
          56,
          56,
          56,
          57,
          57,
          57,
          58,
          58,
          58,
          58,
          59,
          59,
          59,
          59,
          59,
          60,
          61,
          61,
          62,
          62,
          31,
          33,
          34,
          35,
          36,
          37,
          38,
          38,
          38,
          40,
          41,
          41,
          43,
          46,
          46,
          46,
          47,
          47,
          48,
          48,
          48,
          49,
          49,
          49,
          50,
          50,
          51,
          52,
          54,
          54,
          55,
          57,
          58,
          59,
          60,
          63,
          65,
          32,
          38,
          39,
          40,
          43,
          45,
          46,
          46,
          48,
          48,
          48,
          48,
          50,
          52,
          52,
          53,
          54,
          54,
          54,
          54,
          54,
          55,
          56,
          57,
          58,
          58,
          41,
          43,
          44,
          44,
          46,
          47,
          48,
          49,
          49,
          51,
          52,
          52,
          52,
          52,
          53,
          53,
          54,
          55,
          55,
          55,
          56,
          56,
          56,
          58,
          59,
          59,
          65,
          66,
          41,
          43,
          44,
          47,
          47,
          49,
          49,
          50,
          50,
          52,
          52,
          54,
          56,
          58,
          65,
          63,
          44,
          60,
          55,
          66,
          65,
          60,
          56,
          62,
          63,
          46,
          60,
          56,
          55,
          77,
          63,
          60,
          58,
          57,
          59,
          42,
          62,
          56,
          60,
          51,
          57,
          67,
          63,
          55,
          57,
          65,
          54,
          72,
          75,
          51,
          60,
          64,
          58,
          61,
          67,
          62,
          65,
          63,
          69,
          51,
          62,
          55,
          75,
          40,
          58,
          60,
          63,
          35,
          62,
          68,
          65,
          63,
          64,
          61,
          50,
          59,
          55,
          45,
          65,
          61,
          49,
          72,
          50,
          64,
          55,
          63,
          59,
          74,
          54,
          57,
          62,
          76,
          54,
          70,
          61,
          48,
          48,
          61,
          66,
          68,
          55,
          62,
          71,
          74,
          53,
          58,
          75,
          56,
          58,
          64,
          54,
          54,
          59,
          55,
          57,
          61,
          41,
          71,
          38,
          55,
          56,
          69,
          64,
          72,
          69,
          56,
          62,
          67,
          57,
          69,
          51,
          48,
          69,
          69,
          64,
          57,
          53,
          37,
          67,
          74,
          63,
          58,
          61,
          64,
          58,
          60,
          57,
          55,
          55,
          56,
          57,
          61,
          61,
          58,
          74,
          68,
          51,
          62,
          53,
          62,
          46,
          54,
          62,
          55,
          58,
          62
         ],
         "xaxis": "x",
         "yaxis": "y"
        }
       ],
       "layout": {
        "barmode": "relative",
        "legend": {
         "tracegroupgap": 0
        },
        "template": {
         "data": {
          "bar": [
           {
            "error_x": {
             "color": "#2a3f5f"
            },
            "error_y": {
             "color": "#2a3f5f"
            },
            "marker": {
             "line": {
              "color": "#E5ECF6",
              "width": 0.5
             },
             "pattern": {
              "fillmode": "overlay",
              "size": 10,
              "solidity": 0.2
             }
            },
            "type": "bar"
           }
          ],
          "barpolar": [
           {
            "marker": {
             "line": {
              "color": "#E5ECF6",
              "width": 0.5
             },
             "pattern": {
              "fillmode": "overlay",
              "size": 10,
              "solidity": 0.2
             }
            },
            "type": "barpolar"
           }
          ],
          "carpet": [
           {
            "aaxis": {
             "endlinecolor": "#2a3f5f",
             "gridcolor": "white",
             "linecolor": "white",
             "minorgridcolor": "white",
             "startlinecolor": "#2a3f5f"
            },
            "baxis": {
             "endlinecolor": "#2a3f5f",
             "gridcolor": "white",
             "linecolor": "white",
             "minorgridcolor": "white",
             "startlinecolor": "#2a3f5f"
            },
            "type": "carpet"
           }
          ],
          "choropleth": [
           {
            "colorbar": {
             "outlinewidth": 0,
             "ticks": ""
            },
            "type": "choropleth"
           }
          ],
          "contour": [
           {
            "colorbar": {
             "outlinewidth": 0,
             "ticks": ""
            },
            "colorscale": [
             [
              0,
              "#0d0887"
             ],
             [
              0.1111111111111111,
              "#46039f"
             ],
             [
              0.2222222222222222,
              "#7201a8"
             ],
             [
              0.3333333333333333,
              "#9c179e"
             ],
             [
              0.4444444444444444,
              "#bd3786"
             ],
             [
              0.5555555555555556,
              "#d8576b"
             ],
             [
              0.6666666666666666,
              "#ed7953"
             ],
             [
              0.7777777777777778,
              "#fb9f3a"
             ],
             [
              0.8888888888888888,
              "#fdca26"
             ],
             [
              1,
              "#f0f921"
             ]
            ],
            "type": "contour"
           }
          ],
          "contourcarpet": [
           {
            "colorbar": {
             "outlinewidth": 0,
             "ticks": ""
            },
            "type": "contourcarpet"
           }
          ],
          "heatmap": [
           {
            "colorbar": {
             "outlinewidth": 0,
             "ticks": ""
            },
            "colorscale": [
             [
              0,
              "#0d0887"
             ],
             [
              0.1111111111111111,
              "#46039f"
             ],
             [
              0.2222222222222222,
              "#7201a8"
             ],
             [
              0.3333333333333333,
              "#9c179e"
             ],
             [
              0.4444444444444444,
              "#bd3786"
             ],
             [
              0.5555555555555556,
              "#d8576b"
             ],
             [
              0.6666666666666666,
              "#ed7953"
             ],
             [
              0.7777777777777778,
              "#fb9f3a"
             ],
             [
              0.8888888888888888,
              "#fdca26"
             ],
             [
              1,
              "#f0f921"
             ]
            ],
            "type": "heatmap"
           }
          ],
          "heatmapgl": [
           {
            "colorbar": {
             "outlinewidth": 0,
             "ticks": ""
            },
            "colorscale": [
             [
              0,
              "#0d0887"
             ],
             [
              0.1111111111111111,
              "#46039f"
             ],
             [
              0.2222222222222222,
              "#7201a8"
             ],
             [
              0.3333333333333333,
              "#9c179e"
             ],
             [
              0.4444444444444444,
              "#bd3786"
             ],
             [
              0.5555555555555556,
              "#d8576b"
             ],
             [
              0.6666666666666666,
              "#ed7953"
             ],
             [
              0.7777777777777778,
              "#fb9f3a"
             ],
             [
              0.8888888888888888,
              "#fdca26"
             ],
             [
              1,
              "#f0f921"
             ]
            ],
            "type": "heatmapgl"
           }
          ],
          "histogram": [
           {
            "marker": {
             "pattern": {
              "fillmode": "overlay",
              "size": 10,
              "solidity": 0.2
             }
            },
            "type": "histogram"
           }
          ],
          "histogram2d": [
           {
            "colorbar": {
             "outlinewidth": 0,
             "ticks": ""
            },
            "colorscale": [
             [
              0,
              "#0d0887"
             ],
             [
              0.1111111111111111,
              "#46039f"
             ],
             [
              0.2222222222222222,
              "#7201a8"
             ],
             [
              0.3333333333333333,
              "#9c179e"
             ],
             [
              0.4444444444444444,
              "#bd3786"
             ],
             [
              0.5555555555555556,
              "#d8576b"
             ],
             [
              0.6666666666666666,
              "#ed7953"
             ],
             [
              0.7777777777777778,
              "#fb9f3a"
             ],
             [
              0.8888888888888888,
              "#fdca26"
             ],
             [
              1,
              "#f0f921"
             ]
            ],
            "type": "histogram2d"
           }
          ],
          "histogram2dcontour": [
           {
            "colorbar": {
             "outlinewidth": 0,
             "ticks": ""
            },
            "colorscale": [
             [
              0,
              "#0d0887"
             ],
             [
              0.1111111111111111,
              "#46039f"
             ],
             [
              0.2222222222222222,
              "#7201a8"
             ],
             [
              0.3333333333333333,
              "#9c179e"
             ],
             [
              0.4444444444444444,
              "#bd3786"
             ],
             [
              0.5555555555555556,
              "#d8576b"
             ],
             [
              0.6666666666666666,
              "#ed7953"
             ],
             [
              0.7777777777777778,
              "#fb9f3a"
             ],
             [
              0.8888888888888888,
              "#fdca26"
             ],
             [
              1,
              "#f0f921"
             ]
            ],
            "type": "histogram2dcontour"
           }
          ],
          "mesh3d": [
           {
            "colorbar": {
             "outlinewidth": 0,
             "ticks": ""
            },
            "type": "mesh3d"
           }
          ],
          "parcoords": [
           {
            "line": {
             "colorbar": {
              "outlinewidth": 0,
              "ticks": ""
             }
            },
            "type": "parcoords"
           }
          ],
          "pie": [
           {
            "automargin": true,
            "type": "pie"
           }
          ],
          "scatter": [
           {
            "fillpattern": {
             "fillmode": "overlay",
             "size": 10,
             "solidity": 0.2
            },
            "type": "scatter"
           }
          ],
          "scatter3d": [
           {
            "line": {
             "colorbar": {
              "outlinewidth": 0,
              "ticks": ""
             }
            },
            "marker": {
             "colorbar": {
              "outlinewidth": 0,
              "ticks": ""
             }
            },
            "type": "scatter3d"
           }
          ],
          "scattercarpet": [
           {
            "marker": {
             "colorbar": {
              "outlinewidth": 0,
              "ticks": ""
             }
            },
            "type": "scattercarpet"
           }
          ],
          "scattergeo": [
           {
            "marker": {
             "colorbar": {
              "outlinewidth": 0,
              "ticks": ""
             }
            },
            "type": "scattergeo"
           }
          ],
          "scattergl": [
           {
            "marker": {
             "colorbar": {
              "outlinewidth": 0,
              "ticks": ""
             }
            },
            "type": "scattergl"
           }
          ],
          "scattermapbox": [
           {
            "marker": {
             "colorbar": {
              "outlinewidth": 0,
              "ticks": ""
             }
            },
            "type": "scattermapbox"
           }
          ],
          "scatterpolar": [
           {
            "marker": {
             "colorbar": {
              "outlinewidth": 0,
              "ticks": ""
             }
            },
            "type": "scatterpolar"
           }
          ],
          "scatterpolargl": [
           {
            "marker": {
             "colorbar": {
              "outlinewidth": 0,
              "ticks": ""
             }
            },
            "type": "scatterpolargl"
           }
          ],
          "scatterternary": [
           {
            "marker": {
             "colorbar": {
              "outlinewidth": 0,
              "ticks": ""
             }
            },
            "type": "scatterternary"
           }
          ],
          "surface": [
           {
            "colorbar": {
             "outlinewidth": 0,
             "ticks": ""
            },
            "colorscale": [
             [
              0,
              "#0d0887"
             ],
             [
              0.1111111111111111,
              "#46039f"
             ],
             [
              0.2222222222222222,
              "#7201a8"
             ],
             [
              0.3333333333333333,
              "#9c179e"
             ],
             [
              0.4444444444444444,
              "#bd3786"
             ],
             [
              0.5555555555555556,
              "#d8576b"
             ],
             [
              0.6666666666666666,
              "#ed7953"
             ],
             [
              0.7777777777777778,
              "#fb9f3a"
             ],
             [
              0.8888888888888888,
              "#fdca26"
             ],
             [
              1,
              "#f0f921"
             ]
            ],
            "type": "surface"
           }
          ],
          "table": [
           {
            "cells": {
             "fill": {
              "color": "#EBF0F8"
             },
             "line": {
              "color": "white"
             }
            },
            "header": {
             "fill": {
              "color": "#C8D4E3"
             },
             "line": {
              "color": "white"
             }
            },
            "type": "table"
           }
          ]
         },
         "layout": {
          "annotationdefaults": {
           "arrowcolor": "#2a3f5f",
           "arrowhead": 0,
           "arrowwidth": 1
          },
          "autotypenumbers": "strict",
          "coloraxis": {
           "colorbar": {
            "outlinewidth": 0,
            "ticks": ""
           }
          },
          "colorscale": {
           "diverging": [
            [
             0,
             "#8e0152"
            ],
            [
             0.1,
             "#c51b7d"
            ],
            [
             0.2,
             "#de77ae"
            ],
            [
             0.3,
             "#f1b6da"
            ],
            [
             0.4,
             "#fde0ef"
            ],
            [
             0.5,
             "#f7f7f7"
            ],
            [
             0.6,
             "#e6f5d0"
            ],
            [
             0.7,
             "#b8e186"
            ],
            [
             0.8,
             "#7fbc41"
            ],
            [
             0.9,
             "#4d9221"
            ],
            [
             1,
             "#276419"
            ]
           ],
           "sequential": [
            [
             0,
             "#0d0887"
            ],
            [
             0.1111111111111111,
             "#46039f"
            ],
            [
             0.2222222222222222,
             "#7201a8"
            ],
            [
             0.3333333333333333,
             "#9c179e"
            ],
            [
             0.4444444444444444,
             "#bd3786"
            ],
            [
             0.5555555555555556,
             "#d8576b"
            ],
            [
             0.6666666666666666,
             "#ed7953"
            ],
            [
             0.7777777777777778,
             "#fb9f3a"
            ],
            [
             0.8888888888888888,
             "#fdca26"
            ],
            [
             1,
             "#f0f921"
            ]
           ],
           "sequentialminus": [
            [
             0,
             "#0d0887"
            ],
            [
             0.1111111111111111,
             "#46039f"
            ],
            [
             0.2222222222222222,
             "#7201a8"
            ],
            [
             0.3333333333333333,
             "#9c179e"
            ],
            [
             0.4444444444444444,
             "#bd3786"
            ],
            [
             0.5555555555555556,
             "#d8576b"
            ],
            [
             0.6666666666666666,
             "#ed7953"
            ],
            [
             0.7777777777777778,
             "#fb9f3a"
            ],
            [
             0.8888888888888888,
             "#fdca26"
            ],
            [
             1,
             "#f0f921"
            ]
           ]
          },
          "colorway": [
           "#636efa",
           "#EF553B",
           "#00cc96",
           "#ab63fa",
           "#FFA15A",
           "#19d3f3",
           "#FF6692",
           "#B6E880",
           "#FF97FF",
           "#FECB52"
          ],
          "font": {
           "color": "#2a3f5f"
          },
          "geo": {
           "bgcolor": "white",
           "lakecolor": "white",
           "landcolor": "#E5ECF6",
           "showlakes": true,
           "showland": true,
           "subunitcolor": "white"
          },
          "hoverlabel": {
           "align": "left"
          },
          "hovermode": "closest",
          "mapbox": {
           "style": "light"
          },
          "paper_bgcolor": "white",
          "plot_bgcolor": "#E5ECF6",
          "polar": {
           "angularaxis": {
            "gridcolor": "white",
            "linecolor": "white",
            "ticks": ""
           },
           "bgcolor": "#E5ECF6",
           "radialaxis": {
            "gridcolor": "white",
            "linecolor": "white",
            "ticks": ""
           }
          },
          "scene": {
           "xaxis": {
            "backgroundcolor": "#E5ECF6",
            "gridcolor": "white",
            "gridwidth": 2,
            "linecolor": "white",
            "showbackground": true,
            "ticks": "",
            "zerolinecolor": "white"
           },
           "yaxis": {
            "backgroundcolor": "#E5ECF6",
            "gridcolor": "white",
            "gridwidth": 2,
            "linecolor": "white",
            "showbackground": true,
            "ticks": "",
            "zerolinecolor": "white"
           },
           "zaxis": {
            "backgroundcolor": "#E5ECF6",
            "gridcolor": "white",
            "gridwidth": 2,
            "linecolor": "white",
            "showbackground": true,
            "ticks": "",
            "zerolinecolor": "white"
           }
          },
          "shapedefaults": {
           "line": {
            "color": "#2a3f5f"
           }
          },
          "ternary": {
           "aaxis": {
            "gridcolor": "white",
            "linecolor": "white",
            "ticks": ""
           },
           "baxis": {
            "gridcolor": "white",
            "linecolor": "white",
            "ticks": ""
           },
           "bgcolor": "#E5ECF6",
           "caxis": {
            "gridcolor": "white",
            "linecolor": "white",
            "ticks": ""
           }
          },
          "title": {
           "x": 0.05
          },
          "xaxis": {
           "automargin": true,
           "gridcolor": "white",
           "linecolor": "white",
           "ticks": "",
           "title": {
            "standoff": 15
           },
           "zerolinecolor": "white",
           "zerolinewidth": 2
          },
          "yaxis": {
           "automargin": true,
           "gridcolor": "white",
           "linecolor": "white",
           "ticks": "",
           "title": {
            "standoff": 15
           },
           "zerolinecolor": "white",
           "zerolinewidth": 2
          }
         }
        },
        "title": {
         "text": "Age Distribution"
        },
        "xaxis": {
         "anchor": "y",
         "domain": [
          0,
          1
         ],
         "title": {
          "text": "age"
         }
        },
        "yaxis": {
         "anchor": "x",
         "domain": [
          0,
          1
         ],
         "title": {
          "text": "count"
         }
        }
       }
      }
     },
     "metadata": {},
     "output_type": "display_data"
    }
   ],
   "source": [
    "fig = px.histogram(df,x='age', nbins=7, title='Age Distribution')\n",
    "\n",
    "# Show the figure\n",
    "fig.show()"
   ]
  },
  {
   "cell_type": "markdown",
   "metadata": {},
   "source": [
    "**Most people in the data are from the range of 40 to 70.**"
   ]
  },
  {
   "cell_type": "markdown",
   "metadata": {},
   "source": [
    "<h1 style=\"font-family: 'Poppins', sans-serif; font-weight: 700; color: #1c1c1c; background: white; padding: 8px; border-radius: 10px; text-align: left; box-shadow: 0 4px 8px rgba(0, 0, 0, 0.1); letter-spacing: 1px; text-transform: capitalize; font-size: 1rem;\">\n",
    "2.3.2 creating an count plot to check count of male and female using `dataset` and `sex` column<span style=\"color: #333333;\"></span>\n",
    "</h1>\n",
    "\n"
   ]
  },
  {
   "cell_type": "code",
   "execution_count": 59,
   "metadata": {},
   "outputs": [
    {
     "data": {
      "application/vnd.plotly.v1+json": {
       "config": {
        "plotlyServerURL": "https://plot.ly"
       },
       "data": [
        {
         "alignmentgroup": "True",
         "bingroup": "x",
         "hovertemplate": "Region=Cleveland<br>Gender=%{x}<br>count=%{y}<extra></extra>",
         "legendgroup": "Cleveland",
         "marker": {
          "color": "#636efa",
          "pattern": {
           "shape": ""
          }
         },
         "name": "Cleveland",
         "offsetgroup": "Cleveland",
         "orientation": "v",
         "showlegend": true,
         "texttemplate": "%{value}",
         "type": "histogram",
         "x": [
          "Male",
          "Male",
          "Male",
          "Male",
          "Female",
          "Male",
          "Female",
          "Female",
          "Male",
          "Male",
          "Male",
          "Female",
          "Male",
          "Male",
          "Male",
          "Male",
          "Male",
          "Male",
          "Female",
          "Male",
          "Male",
          "Female",
          "Male",
          "Male",
          "Male",
          "Female",
          "Female",
          "Female",
          "Male",
          "Male",
          "Female",
          "Male",
          "Male",
          "Male",
          "Male",
          "Male",
          "Male",
          "Male",
          "Male",
          "Male",
          "Female",
          "Male",
          "Female",
          "Male",
          "Female",
          "Male",
          "Male",
          "Male",
          "Female",
          "Male",
          "Female",
          "Male",
          "Male",
          "Male",
          "Male",
          "Male",
          "Male",
          "Male",
          "Male",
          "Male",
          "Female",
          "Female",
          "Male",
          "Female",
          "Male",
          "Male",
          "Male",
          "Male",
          "Male",
          "Male",
          "Female",
          "Male",
          "Male",
          "Male",
          "Male",
          "Female",
          "Male",
          "Female",
          "Male",
          "Male",
          "Male",
          "Female",
          "Male",
          "Male",
          "Male",
          "Male",
          "Male",
          "Female",
          "Female",
          "Female",
          "Male",
          "Female",
          "Male",
          "Female",
          "Female",
          "Male",
          "Male",
          "Female",
          "Male",
          "Male",
          "Male",
          "Male",
          "Female",
          "Female",
          "Male",
          "Male",
          "Male",
          "Male",
          "Male",
          "Male",
          "Female",
          "Male",
          "Male",
          "Female",
          "Female",
          "Male",
          "Male",
          "Female",
          "Male",
          "Male",
          "Male",
          "Female",
          "Male",
          "Male",
          "Male",
          "Female",
          "Female",
          "Male",
          "Male",
          "Female",
          "Male",
          "Male",
          "Male",
          "Male",
          "Female",
          "Female",
          "Male",
          "Male",
          "Male",
          "Male",
          "Male",
          "Male",
          "Male",
          "Male",
          "Male",
          "Male",
          "Male",
          "Male",
          "Male",
          "Female",
          "Male",
          "Female",
          "Female",
          "Male",
          "Male",
          "Male",
          "Male",
          "Male",
          "Male",
          "Male",
          "Male",
          "Male",
          "Female",
          "Female",
          "Male",
          "Male",
          "Male",
          "Female",
          "Male",
          "Female",
          "Male",
          "Male",
          "Female",
          "Female",
          "Male",
          "Male",
          "Male",
          "Male",
          "Male",
          "Male",
          "Male",
          "Female",
          "Male",
          "Male",
          "Female",
          "Female",
          "Male",
          "Male",
          "Male",
          "Male",
          "Male",
          "Male",
          "Male",
          "Female",
          "Female",
          "Male",
          "Male",
          "Female",
          "Female",
          "Male",
          "Female",
          "Female",
          "Male",
          "Female",
          "Male",
          "Male",
          "Male",
          "Male",
          "Male",
          "Female",
          "Female",
          "Male",
          "Male",
          "Female",
          "Male",
          "Male",
          "Female",
          "Female",
          "Female",
          "Male",
          "Female",
          "Female",
          "Female",
          "Male",
          "Female",
          "Female",
          "Male",
          "Female",
          "Male",
          "Male",
          "Female",
          "Female",
          "Male",
          "Female",
          "Female",
          "Male",
          "Male",
          "Male",
          "Female",
          "Male",
          "Male",
          "Female",
          "Female",
          "Male",
          "Female",
          "Male",
          "Male",
          "Male",
          "Male",
          "Male",
          "Male",
          "Male",
          "Male",
          "Female",
          "Male",
          "Female",
          "Female",
          "Female",
          "Male",
          "Male",
          "Female",
          "Female",
          "Female",
          "Male",
          "Male",
          "Male",
          "Male",
          "Male",
          "Male",
          "Male",
          "Male",
          "Male",
          "Male",
          "Female",
          "Male",
          "Male",
          "Female",
          "Female",
          "Male",
          "Female",
          "Male",
          "Male",
          "Female",
          "Male",
          "Male",
          "Male",
          "Female",
          "Male",
          "Male",
          "Male",
          "Male",
          "Female",
          "Male",
          "Male",
          "Female",
          "Male",
          "Male",
          "Female",
          "Male",
          "Male",
          "Male",
          "Female",
          "Male",
          "Male"
         ],
         "xaxis": "x",
         "yaxis": "y"
        },
        {
         "alignmentgroup": "True",
         "bingroup": "x",
         "hovertemplate": "Region=Hungary<br>Gender=%{x}<br>count=%{y}<extra></extra>",
         "legendgroup": "Hungary",
         "marker": {
          "color": "#EF553B",
          "pattern": {
           "shape": ""
          }
         },
         "name": "Hungary",
         "offsetgroup": "Hungary",
         "orientation": "v",
         "showlegend": true,
         "texttemplate": "%{value}",
         "type": "histogram",
         "x": [
          "Male",
          "Male",
          "Female",
          "Female",
          "Female",
          "Male",
          "Male",
          "Male",
          "Female",
          "Male",
          "Male",
          "Female",
          "Female",
          "Male",
          "Male",
          "Male",
          "Male",
          "Male",
          "Male",
          "Female",
          "Female",
          "Female",
          "Male",
          "Male",
          "Male",
          "Male",
          "Female",
          "Male",
          "Male",
          "Female",
          "Male",
          "Male",
          "Male",
          "Male",
          "Male",
          "Male",
          "Male",
          "Male",
          "Male",
          "Male",
          "Male",
          "Male",
          "Male",
          "Male",
          "Female",
          "Female",
          "Female",
          "Male",
          "Male",
          "Male",
          "Male",
          "Female",
          "Male",
          "Male",
          "Male",
          "Male",
          "Male",
          "Male",
          "Female",
          "Female",
          "Female",
          "Female",
          "Female",
          "Female",
          "Female",
          "Male",
          "Female",
          "Male",
          "Male",
          "Male",
          "Female",
          "Female",
          "Female",
          "Male",
          "Male",
          "Male",
          "Male",
          "Female",
          "Male",
          "Male",
          "Male",
          "Male",
          "Male",
          "Male",
          "Female",
          "Female",
          "Male",
          "Male",
          "Male",
          "Female",
          "Female",
          "Female",
          "Female",
          "Female",
          "Female",
          "Female",
          "Male",
          "Male",
          "Male",
          "Male",
          "Female",
          "Female",
          "Female",
          "Female",
          "Male",
          "Male",
          "Male",
          "Male",
          "Female",
          "Female",
          "Male",
          "Male",
          "Male",
          "Male",
          "Male",
          "Female",
          "Female",
          "Female",
          "Female",
          "Male",
          "Male",
          "Male",
          "Female",
          "Female",
          "Female",
          "Female",
          "Male",
          "Male",
          "Male",
          "Male",
          "Female",
          "Female",
          "Female",
          "Male",
          "Male",
          "Male",
          "Male",
          "Male",
          "Male",
          "Female",
          "Female",
          "Female",
          "Female",
          "Female",
          "Female",
          "Female",
          "Male",
          "Male",
          "Male",
          "Male",
          "Male",
          "Male",
          "Male",
          "Male",
          "Male",
          "Female",
          "Female",
          "Female",
          "Male",
          "Male",
          "Male",
          "Male",
          "Male",
          "Male",
          "Male",
          "Female",
          "Male",
          "Male",
          "Male",
          "Male",
          "Female",
          "Female",
          "Male",
          "Male",
          "Male",
          "Male",
          "Male",
          "Female",
          "Male",
          "Male",
          "Male",
          "Male",
          "Male",
          "Female",
          "Male",
          "Female",
          "Male",
          "Male",
          "Female",
          "Male",
          "Male",
          "Male",
          "Male",
          "Male",
          "Male",
          "Male",
          "Male",
          "Male",
          "Male",
          "Male",
          "Male",
          "Male",
          "Male",
          "Male",
          "Male",
          "Male",
          "Male",
          "Male",
          "Female",
          "Male",
          "Male",
          "Female",
          "Male",
          "Female",
          "Male",
          "Male",
          "Male",
          "Male",
          "Male",
          "Male",
          "Female",
          "Male",
          "Male",
          "Male",
          "Male",
          "Male",
          "Male",
          "Female",
          "Male",
          "Male",
          "Male",
          "Male",
          "Male",
          "Male",
          "Male",
          "Male",
          "Male",
          "Male",
          "Male",
          "Male",
          "Male",
          "Male",
          "Male",
          "Male",
          "Male",
          "Male",
          "Male",
          "Male",
          "Male",
          "Male",
          "Male",
          "Male",
          "Male",
          "Male",
          "Male",
          "Female",
          "Female",
          "Male",
          "Male",
          "Male",
          "Male",
          "Male",
          "Male",
          "Male",
          "Male",
          "Male",
          "Male",
          "Male",
          "Male",
          "Male",
          "Female",
          "Male",
          "Male",
          "Male",
          "Male",
          "Male",
          "Male",
          "Male",
          "Male",
          "Male",
          "Male",
          "Female",
          "Male",
          "Male",
          "Male",
          "Male",
          "Male",
          "Male",
          "Male",
          "Female",
          "Male",
          "Female",
          "Male"
         ],
         "xaxis": "x",
         "yaxis": "y"
        },
        {
         "alignmentgroup": "True",
         "bingroup": "x",
         "hovertemplate": "Region=VA Long Beach<br>Gender=%{x}<br>count=%{y}<extra></extra>",
         "legendgroup": "VA Long Beach",
         "marker": {
          "color": "#00cc96",
          "pattern": {
           "shape": ""
          }
         },
         "name": "VA Long Beach",
         "offsetgroup": "VA Long Beach",
         "orientation": "v",
         "showlegend": true,
         "texttemplate": "%{value}",
         "type": "histogram",
         "x": [
          "Male",
          "Male",
          "Male",
          "Male",
          "Male",
          "Male",
          "Male",
          "Male",
          "Male",
          "Male",
          "Male",
          "Male",
          "Male",
          "Male",
          "Male",
          "Male",
          "Male",
          "Male",
          "Male",
          "Male",
          "Male",
          "Male",
          "Male",
          "Male",
          "Male",
          "Male",
          "Male",
          "Male",
          "Male",
          "Male",
          "Male",
          "Male",
          "Male",
          "Male",
          "Male",
          "Male",
          "Female",
          "Male",
          "Male",
          "Male",
          "Male",
          "Male",
          "Male",
          "Male",
          "Male",
          "Male",
          "Male",
          "Male",
          "Male",
          "Male",
          "Male",
          "Male",
          "Male",
          "Male",
          "Male",
          "Male",
          "Male",
          "Male",
          "Male",
          "Male",
          "Male",
          "Male",
          "Male",
          "Male",
          "Male",
          "Male",
          "Male",
          "Male",
          "Male",
          "Male",
          "Male",
          "Male",
          "Male",
          "Male",
          "Male",
          "Male",
          "Male",
          "Female",
          "Male",
          "Female",
          "Male",
          "Male",
          "Male",
          "Male",
          "Male",
          "Male",
          "Male",
          "Male",
          "Male",
          "Male",
          "Male",
          "Male",
          "Male",
          "Male",
          "Male",
          "Male",
          "Male",
          "Male",
          "Male",
          "Male",
          "Male",
          "Male",
          "Male",
          "Male",
          "Male",
          "Male",
          "Male",
          "Male",
          "Male",
          "Male",
          "Male",
          "Male",
          "Male",
          "Male",
          "Male",
          "Male",
          "Male",
          "Male",
          "Male",
          "Male",
          "Male",
          "Male",
          "Male",
          "Male",
          "Male",
          "Male",
          "Male",
          "Male",
          "Male",
          "Male",
          "Male",
          "Male",
          "Male",
          "Male",
          "Male",
          "Male",
          "Male",
          "Male",
          "Male",
          "Male",
          "Male",
          "Female",
          "Male",
          "Male",
          "Male",
          "Male",
          "Female",
          "Male",
          "Male",
          "Male",
          "Male"
         ],
         "xaxis": "x",
         "yaxis": "y"
        }
       ],
       "layout": {
        "barmode": "group",
        "legend": {
         "title": {
          "text": "Region"
         },
         "tracegroupgap": 0
        },
        "template": {
         "data": {
          "bar": [
           {
            "error_x": {
             "color": "#2a3f5f"
            },
            "error_y": {
             "color": "#2a3f5f"
            },
            "marker": {
             "line": {
              "color": "#E5ECF6",
              "width": 0.5
             },
             "pattern": {
              "fillmode": "overlay",
              "size": 10,
              "solidity": 0.2
             }
            },
            "type": "bar"
           }
          ],
          "barpolar": [
           {
            "marker": {
             "line": {
              "color": "#E5ECF6",
              "width": 0.5
             },
             "pattern": {
              "fillmode": "overlay",
              "size": 10,
              "solidity": 0.2
             }
            },
            "type": "barpolar"
           }
          ],
          "carpet": [
           {
            "aaxis": {
             "endlinecolor": "#2a3f5f",
             "gridcolor": "white",
             "linecolor": "white",
             "minorgridcolor": "white",
             "startlinecolor": "#2a3f5f"
            },
            "baxis": {
             "endlinecolor": "#2a3f5f",
             "gridcolor": "white",
             "linecolor": "white",
             "minorgridcolor": "white",
             "startlinecolor": "#2a3f5f"
            },
            "type": "carpet"
           }
          ],
          "choropleth": [
           {
            "colorbar": {
             "outlinewidth": 0,
             "ticks": ""
            },
            "type": "choropleth"
           }
          ],
          "contour": [
           {
            "colorbar": {
             "outlinewidth": 0,
             "ticks": ""
            },
            "colorscale": [
             [
              0,
              "#0d0887"
             ],
             [
              0.1111111111111111,
              "#46039f"
             ],
             [
              0.2222222222222222,
              "#7201a8"
             ],
             [
              0.3333333333333333,
              "#9c179e"
             ],
             [
              0.4444444444444444,
              "#bd3786"
             ],
             [
              0.5555555555555556,
              "#d8576b"
             ],
             [
              0.6666666666666666,
              "#ed7953"
             ],
             [
              0.7777777777777778,
              "#fb9f3a"
             ],
             [
              0.8888888888888888,
              "#fdca26"
             ],
             [
              1,
              "#f0f921"
             ]
            ],
            "type": "contour"
           }
          ],
          "contourcarpet": [
           {
            "colorbar": {
             "outlinewidth": 0,
             "ticks": ""
            },
            "type": "contourcarpet"
           }
          ],
          "heatmap": [
           {
            "colorbar": {
             "outlinewidth": 0,
             "ticks": ""
            },
            "colorscale": [
             [
              0,
              "#0d0887"
             ],
             [
              0.1111111111111111,
              "#46039f"
             ],
             [
              0.2222222222222222,
              "#7201a8"
             ],
             [
              0.3333333333333333,
              "#9c179e"
             ],
             [
              0.4444444444444444,
              "#bd3786"
             ],
             [
              0.5555555555555556,
              "#d8576b"
             ],
             [
              0.6666666666666666,
              "#ed7953"
             ],
             [
              0.7777777777777778,
              "#fb9f3a"
             ],
             [
              0.8888888888888888,
              "#fdca26"
             ],
             [
              1,
              "#f0f921"
             ]
            ],
            "type": "heatmap"
           }
          ],
          "heatmapgl": [
           {
            "colorbar": {
             "outlinewidth": 0,
             "ticks": ""
            },
            "colorscale": [
             [
              0,
              "#0d0887"
             ],
             [
              0.1111111111111111,
              "#46039f"
             ],
             [
              0.2222222222222222,
              "#7201a8"
             ],
             [
              0.3333333333333333,
              "#9c179e"
             ],
             [
              0.4444444444444444,
              "#bd3786"
             ],
             [
              0.5555555555555556,
              "#d8576b"
             ],
             [
              0.6666666666666666,
              "#ed7953"
             ],
             [
              0.7777777777777778,
              "#fb9f3a"
             ],
             [
              0.8888888888888888,
              "#fdca26"
             ],
             [
              1,
              "#f0f921"
             ]
            ],
            "type": "heatmapgl"
           }
          ],
          "histogram": [
           {
            "marker": {
             "pattern": {
              "fillmode": "overlay",
              "size": 10,
              "solidity": 0.2
             }
            },
            "type": "histogram"
           }
          ],
          "histogram2d": [
           {
            "colorbar": {
             "outlinewidth": 0,
             "ticks": ""
            },
            "colorscale": [
             [
              0,
              "#0d0887"
             ],
             [
              0.1111111111111111,
              "#46039f"
             ],
             [
              0.2222222222222222,
              "#7201a8"
             ],
             [
              0.3333333333333333,
              "#9c179e"
             ],
             [
              0.4444444444444444,
              "#bd3786"
             ],
             [
              0.5555555555555556,
              "#d8576b"
             ],
             [
              0.6666666666666666,
              "#ed7953"
             ],
             [
              0.7777777777777778,
              "#fb9f3a"
             ],
             [
              0.8888888888888888,
              "#fdca26"
             ],
             [
              1,
              "#f0f921"
             ]
            ],
            "type": "histogram2d"
           }
          ],
          "histogram2dcontour": [
           {
            "colorbar": {
             "outlinewidth": 0,
             "ticks": ""
            },
            "colorscale": [
             [
              0,
              "#0d0887"
             ],
             [
              0.1111111111111111,
              "#46039f"
             ],
             [
              0.2222222222222222,
              "#7201a8"
             ],
             [
              0.3333333333333333,
              "#9c179e"
             ],
             [
              0.4444444444444444,
              "#bd3786"
             ],
             [
              0.5555555555555556,
              "#d8576b"
             ],
             [
              0.6666666666666666,
              "#ed7953"
             ],
             [
              0.7777777777777778,
              "#fb9f3a"
             ],
             [
              0.8888888888888888,
              "#fdca26"
             ],
             [
              1,
              "#f0f921"
             ]
            ],
            "type": "histogram2dcontour"
           }
          ],
          "mesh3d": [
           {
            "colorbar": {
             "outlinewidth": 0,
             "ticks": ""
            },
            "type": "mesh3d"
           }
          ],
          "parcoords": [
           {
            "line": {
             "colorbar": {
              "outlinewidth": 0,
              "ticks": ""
             }
            },
            "type": "parcoords"
           }
          ],
          "pie": [
           {
            "automargin": true,
            "type": "pie"
           }
          ],
          "scatter": [
           {
            "fillpattern": {
             "fillmode": "overlay",
             "size": 10,
             "solidity": 0.2
            },
            "type": "scatter"
           }
          ],
          "scatter3d": [
           {
            "line": {
             "colorbar": {
              "outlinewidth": 0,
              "ticks": ""
             }
            },
            "marker": {
             "colorbar": {
              "outlinewidth": 0,
              "ticks": ""
             }
            },
            "type": "scatter3d"
           }
          ],
          "scattercarpet": [
           {
            "marker": {
             "colorbar": {
              "outlinewidth": 0,
              "ticks": ""
             }
            },
            "type": "scattercarpet"
           }
          ],
          "scattergeo": [
           {
            "marker": {
             "colorbar": {
              "outlinewidth": 0,
              "ticks": ""
             }
            },
            "type": "scattergeo"
           }
          ],
          "scattergl": [
           {
            "marker": {
             "colorbar": {
              "outlinewidth": 0,
              "ticks": ""
             }
            },
            "type": "scattergl"
           }
          ],
          "scattermapbox": [
           {
            "marker": {
             "colorbar": {
              "outlinewidth": 0,
              "ticks": ""
             }
            },
            "type": "scattermapbox"
           }
          ],
          "scatterpolar": [
           {
            "marker": {
             "colorbar": {
              "outlinewidth": 0,
              "ticks": ""
             }
            },
            "type": "scatterpolar"
           }
          ],
          "scatterpolargl": [
           {
            "marker": {
             "colorbar": {
              "outlinewidth": 0,
              "ticks": ""
             }
            },
            "type": "scatterpolargl"
           }
          ],
          "scatterternary": [
           {
            "marker": {
             "colorbar": {
              "outlinewidth": 0,
              "ticks": ""
             }
            },
            "type": "scatterternary"
           }
          ],
          "surface": [
           {
            "colorbar": {
             "outlinewidth": 0,
             "ticks": ""
            },
            "colorscale": [
             [
              0,
              "#0d0887"
             ],
             [
              0.1111111111111111,
              "#46039f"
             ],
             [
              0.2222222222222222,
              "#7201a8"
             ],
             [
              0.3333333333333333,
              "#9c179e"
             ],
             [
              0.4444444444444444,
              "#bd3786"
             ],
             [
              0.5555555555555556,
              "#d8576b"
             ],
             [
              0.6666666666666666,
              "#ed7953"
             ],
             [
              0.7777777777777778,
              "#fb9f3a"
             ],
             [
              0.8888888888888888,
              "#fdca26"
             ],
             [
              1,
              "#f0f921"
             ]
            ],
            "type": "surface"
           }
          ],
          "table": [
           {
            "cells": {
             "fill": {
              "color": "#EBF0F8"
             },
             "line": {
              "color": "white"
             }
            },
            "header": {
             "fill": {
              "color": "#C8D4E3"
             },
             "line": {
              "color": "white"
             }
            },
            "type": "table"
           }
          ]
         },
         "layout": {
          "annotationdefaults": {
           "arrowcolor": "#2a3f5f",
           "arrowhead": 0,
           "arrowwidth": 1
          },
          "autotypenumbers": "strict",
          "coloraxis": {
           "colorbar": {
            "outlinewidth": 0,
            "ticks": ""
           }
          },
          "colorscale": {
           "diverging": [
            [
             0,
             "#8e0152"
            ],
            [
             0.1,
             "#c51b7d"
            ],
            [
             0.2,
             "#de77ae"
            ],
            [
             0.3,
             "#f1b6da"
            ],
            [
             0.4,
             "#fde0ef"
            ],
            [
             0.5,
             "#f7f7f7"
            ],
            [
             0.6,
             "#e6f5d0"
            ],
            [
             0.7,
             "#b8e186"
            ],
            [
             0.8,
             "#7fbc41"
            ],
            [
             0.9,
             "#4d9221"
            ],
            [
             1,
             "#276419"
            ]
           ],
           "sequential": [
            [
             0,
             "#0d0887"
            ],
            [
             0.1111111111111111,
             "#46039f"
            ],
            [
             0.2222222222222222,
             "#7201a8"
            ],
            [
             0.3333333333333333,
             "#9c179e"
            ],
            [
             0.4444444444444444,
             "#bd3786"
            ],
            [
             0.5555555555555556,
             "#d8576b"
            ],
            [
             0.6666666666666666,
             "#ed7953"
            ],
            [
             0.7777777777777778,
             "#fb9f3a"
            ],
            [
             0.8888888888888888,
             "#fdca26"
            ],
            [
             1,
             "#f0f921"
            ]
           ],
           "sequentialminus": [
            [
             0,
             "#0d0887"
            ],
            [
             0.1111111111111111,
             "#46039f"
            ],
            [
             0.2222222222222222,
             "#7201a8"
            ],
            [
             0.3333333333333333,
             "#9c179e"
            ],
            [
             0.4444444444444444,
             "#bd3786"
            ],
            [
             0.5555555555555556,
             "#d8576b"
            ],
            [
             0.6666666666666666,
             "#ed7953"
            ],
            [
             0.7777777777777778,
             "#fb9f3a"
            ],
            [
             0.8888888888888888,
             "#fdca26"
            ],
            [
             1,
             "#f0f921"
            ]
           ]
          },
          "colorway": [
           "#636efa",
           "#EF553B",
           "#00cc96",
           "#ab63fa",
           "#FFA15A",
           "#19d3f3",
           "#FF6692",
           "#B6E880",
           "#FF97FF",
           "#FECB52"
          ],
          "font": {
           "color": "#2a3f5f"
          },
          "geo": {
           "bgcolor": "white",
           "lakecolor": "white",
           "landcolor": "#E5ECF6",
           "showlakes": true,
           "showland": true,
           "subunitcolor": "white"
          },
          "hoverlabel": {
           "align": "left"
          },
          "hovermode": "closest",
          "mapbox": {
           "style": "light"
          },
          "paper_bgcolor": "white",
          "plot_bgcolor": "#E5ECF6",
          "polar": {
           "angularaxis": {
            "gridcolor": "white",
            "linecolor": "white",
            "ticks": ""
           },
           "bgcolor": "#E5ECF6",
           "radialaxis": {
            "gridcolor": "white",
            "linecolor": "white",
            "ticks": ""
           }
          },
          "scene": {
           "xaxis": {
            "backgroundcolor": "#E5ECF6",
            "gridcolor": "white",
            "gridwidth": 2,
            "linecolor": "white",
            "showbackground": true,
            "ticks": "",
            "zerolinecolor": "white"
           },
           "yaxis": {
            "backgroundcolor": "#E5ECF6",
            "gridcolor": "white",
            "gridwidth": 2,
            "linecolor": "white",
            "showbackground": true,
            "ticks": "",
            "zerolinecolor": "white"
           },
           "zaxis": {
            "backgroundcolor": "#E5ECF6",
            "gridcolor": "white",
            "gridwidth": 2,
            "linecolor": "white",
            "showbackground": true,
            "ticks": "",
            "zerolinecolor": "white"
           }
          },
          "shapedefaults": {
           "line": {
            "color": "#2a3f5f"
           }
          },
          "ternary": {
           "aaxis": {
            "gridcolor": "white",
            "linecolor": "white",
            "ticks": ""
           },
           "baxis": {
            "gridcolor": "white",
            "linecolor": "white",
            "ticks": ""
           },
           "bgcolor": "#E5ECF6",
           "caxis": {
            "gridcolor": "white",
            "linecolor": "white",
            "ticks": ""
           }
          },
          "title": {
           "x": 0.05
          },
          "xaxis": {
           "automargin": true,
           "gridcolor": "white",
           "linecolor": "white",
           "ticks": "",
           "title": {
            "standoff": 15
           },
           "zerolinecolor": "white",
           "zerolinewidth": 2
          },
          "yaxis": {
           "automargin": true,
           "gridcolor": "white",
           "linecolor": "white",
           "ticks": "",
           "title": {
            "standoff": 15
           },
           "zerolinecolor": "white",
           "zerolinewidth": 2
          }
         }
        },
        "title": {
         "text": "Number of female and males based on region"
        },
        "width": 1000,
        "xaxis": {
         "anchor": "y",
         "domain": [
          0,
          1
         ],
         "title": {
          "text": "Gender"
         }
        },
        "yaxis": {
         "anchor": "x",
         "domain": [
          0,
          1
         ],
         "title": {
          "text": "count"
         }
        }
       }
      }
     },
     "metadata": {},
     "output_type": "display_data"
    }
   ],
   "source": [
    "fig = px.histogram(df, x='sex', color='dataset', barmode='group', title='Number of female and males based on region', \n",
    "                   labels={'sex': 'Gender', 'dataset': 'Region', 'count': 'Number of People'}, \n",
    "                   text_auto=True)\n",
    "\n",
    "# Show the plot\n",
    "fig.update_layout(width=1000)\n",
    "fig.show()"
   ]
  },
  {
   "cell_type": "markdown",
   "metadata": {},
   "source": [
    "**Total males in the dataset are 565, which is significant as heart disease is more prevalent in males and total females are 183**"
   ]
  },
  {
   "cell_type": "code",
   "execution_count": 28,
   "metadata": {},
   "outputs": [
    {
     "data": {
      "text/html": [
       "<div>\n",
       "<style scoped>\n",
       "    .dataframe tbody tr th:only-of-type {\n",
       "        vertical-align: middle;\n",
       "    }\n",
       "\n",
       "    .dataframe tbody tr th {\n",
       "        vertical-align: top;\n",
       "    }\n",
       "\n",
       "    .dataframe thead th {\n",
       "        text-align: right;\n",
       "    }\n",
       "</style>\n",
       "<table border=\"1\" class=\"dataframe\">\n",
       "  <thead>\n",
       "    <tr style=\"text-align: right;\">\n",
       "      <th></th>\n",
       "      <th>age</th>\n",
       "      <th>sex</th>\n",
       "      <th>dataset</th>\n",
       "      <th>cp</th>\n",
       "      <th>trestbps</th>\n",
       "      <th>chol</th>\n",
       "      <th>fbs</th>\n",
       "      <th>restecg</th>\n",
       "      <th>thalch</th>\n",
       "      <th>exang</th>\n",
       "      <th>oldpeak</th>\n",
       "      <th>slope</th>\n",
       "      <th>num</th>\n",
       "      <th>blood_pressure_category</th>\n",
       "      <th>cholesterol_category</th>\n",
       "      <th>heart_rate_category</th>\n",
       "      <th>oldpeak_category</th>\n",
       "    </tr>\n",
       "  </thead>\n",
       "  <tbody>\n",
       "    <tr>\n",
       "      <th>0</th>\n",
       "      <td>63</td>\n",
       "      <td>Male</td>\n",
       "      <td>Cleveland</td>\n",
       "      <td>typical angina</td>\n",
       "      <td>145.0</td>\n",
       "      <td>233.0</td>\n",
       "      <td>True</td>\n",
       "      <td>lv hypertrophy</td>\n",
       "      <td>150.0</td>\n",
       "      <td>False</td>\n",
       "      <td>2.3</td>\n",
       "      <td>downsloping</td>\n",
       "      <td>No disease</td>\n",
       "      <td>Hypertension Stage 2</td>\n",
       "      <td>Borderline High</td>\n",
       "      <td>High</td>\n",
       "      <td>Severe Depression</td>\n",
       "    </tr>\n",
       "    <tr>\n",
       "      <th>1</th>\n",
       "      <td>67</td>\n",
       "      <td>Male</td>\n",
       "      <td>Cleveland</td>\n",
       "      <td>asymptomatic</td>\n",
       "      <td>160.0</td>\n",
       "      <td>286.0</td>\n",
       "      <td>False</td>\n",
       "      <td>lv hypertrophy</td>\n",
       "      <td>108.0</td>\n",
       "      <td>True</td>\n",
       "      <td>1.5</td>\n",
       "      <td>flat</td>\n",
       "      <td>Yes disease</td>\n",
       "      <td>Hypertension Stage 2</td>\n",
       "      <td>High</td>\n",
       "      <td>High</td>\n",
       "      <td>Moderate Depression</td>\n",
       "    </tr>\n",
       "    <tr>\n",
       "      <th>2</th>\n",
       "      <td>67</td>\n",
       "      <td>Male</td>\n",
       "      <td>Cleveland</td>\n",
       "      <td>asymptomatic</td>\n",
       "      <td>120.0</td>\n",
       "      <td>229.0</td>\n",
       "      <td>False</td>\n",
       "      <td>lv hypertrophy</td>\n",
       "      <td>129.0</td>\n",
       "      <td>True</td>\n",
       "      <td>2.6</td>\n",
       "      <td>flat</td>\n",
       "      <td>Yes disease</td>\n",
       "      <td>Normal</td>\n",
       "      <td>Borderline High</td>\n",
       "      <td>High</td>\n",
       "      <td>Severe Depression</td>\n",
       "    </tr>\n",
       "    <tr>\n",
       "      <th>3</th>\n",
       "      <td>37</td>\n",
       "      <td>Male</td>\n",
       "      <td>Cleveland</td>\n",
       "      <td>non-anginal</td>\n",
       "      <td>130.0</td>\n",
       "      <td>250.0</td>\n",
       "      <td>False</td>\n",
       "      <td>normal</td>\n",
       "      <td>187.0</td>\n",
       "      <td>False</td>\n",
       "      <td>3.5</td>\n",
       "      <td>downsloping</td>\n",
       "      <td>No disease</td>\n",
       "      <td>Elevated</td>\n",
       "      <td>High</td>\n",
       "      <td>High</td>\n",
       "      <td>Severe Depression</td>\n",
       "    </tr>\n",
       "    <tr>\n",
       "      <th>4</th>\n",
       "      <td>41</td>\n",
       "      <td>Female</td>\n",
       "      <td>Cleveland</td>\n",
       "      <td>atypical angina</td>\n",
       "      <td>130.0</td>\n",
       "      <td>204.0</td>\n",
       "      <td>False</td>\n",
       "      <td>lv hypertrophy</td>\n",
       "      <td>172.0</td>\n",
       "      <td>False</td>\n",
       "      <td>1.4</td>\n",
       "      <td>upsloping</td>\n",
       "      <td>No disease</td>\n",
       "      <td>Elevated</td>\n",
       "      <td>Borderline High</td>\n",
       "      <td>High</td>\n",
       "      <td>Moderate Depression</td>\n",
       "    </tr>\n",
       "  </tbody>\n",
       "</table>\n",
       "</div>"
      ],
      "text/plain": [
       "   age     sex    dataset               cp  trestbps   chol    fbs  \\\n",
       "0   63    Male  Cleveland   typical angina     145.0  233.0   True   \n",
       "1   67    Male  Cleveland     asymptomatic     160.0  286.0  False   \n",
       "2   67    Male  Cleveland     asymptomatic     120.0  229.0  False   \n",
       "3   37    Male  Cleveland      non-anginal     130.0  250.0  False   \n",
       "4   41  Female  Cleveland  atypical angina     130.0  204.0  False   \n",
       "\n",
       "          restecg  thalch  exang  oldpeak        slope          num  \\\n",
       "0  lv hypertrophy   150.0  False      2.3  downsloping   No disease   \n",
       "1  lv hypertrophy   108.0   True      1.5         flat  Yes disease   \n",
       "2  lv hypertrophy   129.0   True      2.6         flat  Yes disease   \n",
       "3          normal   187.0  False      3.5  downsloping   No disease   \n",
       "4  lv hypertrophy   172.0  False      1.4    upsloping   No disease   \n",
       "\n",
       "  blood_pressure_category cholesterol_category heart_rate_category  \\\n",
       "0    Hypertension Stage 2      Borderline High                High   \n",
       "1    Hypertension Stage 2                 High                High   \n",
       "2                  Normal      Borderline High                High   \n",
       "3                Elevated                 High                High   \n",
       "4                Elevated      Borderline High                High   \n",
       "\n",
       "      oldpeak_category  \n",
       "0    Severe Depression  \n",
       "1  Moderate Depression  \n",
       "2    Severe Depression  \n",
       "3    Severe Depression  \n",
       "4  Moderate Depression  "
      ]
     },
     "execution_count": 28,
     "metadata": {},
     "output_type": "execute_result"
    }
   ],
   "source": [
    "df.head()"
   ]
  },
  {
   "cell_type": "markdown",
   "metadata": {},
   "source": [
    "<h1 style=\"font-family: 'Poppins', sans-serif; font-weight: 700; color: #1c1c1c; background: white; padding: 8px; border-radius: 10px; text-align: left; box-shadow: 0 4px 8px rgba(0, 0, 0, 0.1); letter-spacing: 1px; text-transform: capitalize; font-size: 1rem;\">\n",
    "2.3.3 Creating an age group column based on age to analyze the correlation between age and the prevalence of heart diseases in the num column<span style=\"color: #333333;\"></span>\n",
    "</h1>\n",
    "\n",
    "#### "
   ]
  },
  {
   "cell_type": "code",
   "execution_count": 6,
   "metadata": {},
   "outputs": [],
   "source": [
    "bins = [28, 40, 55, 77]  # Defining your age bins\n",
    "labels = ['Young age', 'Middle age', 'old']  # Labels for bins\n",
    "\n",
    "df['Age Group'] = pd.cut(df['age'], bins=bins, labels=labels, right=True)\n"
   ]
  },
  {
   "cell_type": "markdown",
   "metadata": {},
   "source": [
    "#### Age Group Definitions\n",
    "\n",
    "1. **Young Age**: Individuals aged from 28 to 40 are classified as \"Young Age.\"\n",
    "2. **Middle Age**: Individuals aged from 40 to 55 are classified as \"Middle Age.\"\n",
    "3. **Old Age**: Individuals aged from 55 to 77 are classified as \"Old Age.\"\n"
   ]
  },
  {
   "cell_type": "markdown",
   "metadata": {},
   "source": [
    "* let's assign a meaningful name to the num column"
   ]
  },
  {
   "cell_type": "code",
   "execution_count": 5,
   "metadata": {},
   "outputs": [],
   "source": [
    "df.rename(columns={'num': 'Heart Disease Status'}, inplace=True)"
   ]
  },
  {
   "cell_type": "code",
   "execution_count": 32,
   "metadata": {},
   "outputs": [
    {
     "data": {
      "text/html": [
       "<div>\n",
       "<style scoped>\n",
       "    .dataframe tbody tr th:only-of-type {\n",
       "        vertical-align: middle;\n",
       "    }\n",
       "\n",
       "    .dataframe tbody tr th {\n",
       "        vertical-align: top;\n",
       "    }\n",
       "\n",
       "    .dataframe thead th {\n",
       "        text-align: right;\n",
       "    }\n",
       "</style>\n",
       "<table border=\"1\" class=\"dataframe\">\n",
       "  <thead>\n",
       "    <tr style=\"text-align: right;\">\n",
       "      <th></th>\n",
       "      <th>age</th>\n",
       "      <th>sex</th>\n",
       "      <th>dataset</th>\n",
       "      <th>cp</th>\n",
       "      <th>trestbps</th>\n",
       "      <th>chol</th>\n",
       "      <th>fbs</th>\n",
       "      <th>restecg</th>\n",
       "      <th>thalch</th>\n",
       "      <th>exang</th>\n",
       "      <th>oldpeak</th>\n",
       "      <th>slope</th>\n",
       "      <th>Heart Disease Status</th>\n",
       "      <th>blood_pressure_category</th>\n",
       "      <th>cholesterol_category</th>\n",
       "      <th>heart_rate_category</th>\n",
       "      <th>oldpeak_category</th>\n",
       "      <th>Age Group</th>\n",
       "    </tr>\n",
       "  </thead>\n",
       "  <tbody>\n",
       "    <tr>\n",
       "      <th>0</th>\n",
       "      <td>63</td>\n",
       "      <td>Male</td>\n",
       "      <td>Cleveland</td>\n",
       "      <td>typical angina</td>\n",
       "      <td>145.0</td>\n",
       "      <td>233.0</td>\n",
       "      <td>True</td>\n",
       "      <td>lv hypertrophy</td>\n",
       "      <td>150.0</td>\n",
       "      <td>False</td>\n",
       "      <td>2.3</td>\n",
       "      <td>downsloping</td>\n",
       "      <td>No disease</td>\n",
       "      <td>Hypertension Stage 2</td>\n",
       "      <td>Borderline High</td>\n",
       "      <td>High</td>\n",
       "      <td>Severe Depression</td>\n",
       "      <td>old</td>\n",
       "    </tr>\n",
       "    <tr>\n",
       "      <th>1</th>\n",
       "      <td>67</td>\n",
       "      <td>Male</td>\n",
       "      <td>Cleveland</td>\n",
       "      <td>asymptomatic</td>\n",
       "      <td>160.0</td>\n",
       "      <td>286.0</td>\n",
       "      <td>False</td>\n",
       "      <td>lv hypertrophy</td>\n",
       "      <td>108.0</td>\n",
       "      <td>True</td>\n",
       "      <td>1.5</td>\n",
       "      <td>flat</td>\n",
       "      <td>Yes disease</td>\n",
       "      <td>Hypertension Stage 2</td>\n",
       "      <td>High</td>\n",
       "      <td>High</td>\n",
       "      <td>Moderate Depression</td>\n",
       "      <td>old</td>\n",
       "    </tr>\n",
       "    <tr>\n",
       "      <th>2</th>\n",
       "      <td>67</td>\n",
       "      <td>Male</td>\n",
       "      <td>Cleveland</td>\n",
       "      <td>asymptomatic</td>\n",
       "      <td>120.0</td>\n",
       "      <td>229.0</td>\n",
       "      <td>False</td>\n",
       "      <td>lv hypertrophy</td>\n",
       "      <td>129.0</td>\n",
       "      <td>True</td>\n",
       "      <td>2.6</td>\n",
       "      <td>flat</td>\n",
       "      <td>Yes disease</td>\n",
       "      <td>Normal</td>\n",
       "      <td>Borderline High</td>\n",
       "      <td>High</td>\n",
       "      <td>Severe Depression</td>\n",
       "      <td>old</td>\n",
       "    </tr>\n",
       "    <tr>\n",
       "      <th>3</th>\n",
       "      <td>37</td>\n",
       "      <td>Male</td>\n",
       "      <td>Cleveland</td>\n",
       "      <td>non-anginal</td>\n",
       "      <td>130.0</td>\n",
       "      <td>250.0</td>\n",
       "      <td>False</td>\n",
       "      <td>normal</td>\n",
       "      <td>187.0</td>\n",
       "      <td>False</td>\n",
       "      <td>3.5</td>\n",
       "      <td>downsloping</td>\n",
       "      <td>No disease</td>\n",
       "      <td>Elevated</td>\n",
       "      <td>High</td>\n",
       "      <td>High</td>\n",
       "      <td>Severe Depression</td>\n",
       "      <td>Young age</td>\n",
       "    </tr>\n",
       "    <tr>\n",
       "      <th>4</th>\n",
       "      <td>41</td>\n",
       "      <td>Female</td>\n",
       "      <td>Cleveland</td>\n",
       "      <td>atypical angina</td>\n",
       "      <td>130.0</td>\n",
       "      <td>204.0</td>\n",
       "      <td>False</td>\n",
       "      <td>lv hypertrophy</td>\n",
       "      <td>172.0</td>\n",
       "      <td>False</td>\n",
       "      <td>1.4</td>\n",
       "      <td>upsloping</td>\n",
       "      <td>No disease</td>\n",
       "      <td>Elevated</td>\n",
       "      <td>Borderline High</td>\n",
       "      <td>High</td>\n",
       "      <td>Moderate Depression</td>\n",
       "      <td>Middle age</td>\n",
       "    </tr>\n",
       "  </tbody>\n",
       "</table>\n",
       "</div>"
      ],
      "text/plain": [
       "   age     sex    dataset               cp  trestbps   chol    fbs  \\\n",
       "0   63    Male  Cleveland   typical angina     145.0  233.0   True   \n",
       "1   67    Male  Cleveland     asymptomatic     160.0  286.0  False   \n",
       "2   67    Male  Cleveland     asymptomatic     120.0  229.0  False   \n",
       "3   37    Male  Cleveland      non-anginal     130.0  250.0  False   \n",
       "4   41  Female  Cleveland  atypical angina     130.0  204.0  False   \n",
       "\n",
       "          restecg  thalch  exang  oldpeak        slope Heart Disease Status  \\\n",
       "0  lv hypertrophy   150.0  False      2.3  downsloping           No disease   \n",
       "1  lv hypertrophy   108.0   True      1.5         flat          Yes disease   \n",
       "2  lv hypertrophy   129.0   True      2.6         flat          Yes disease   \n",
       "3          normal   187.0  False      3.5  downsloping           No disease   \n",
       "4  lv hypertrophy   172.0  False      1.4    upsloping           No disease   \n",
       "\n",
       "  blood_pressure_category cholesterol_category heart_rate_category  \\\n",
       "0    Hypertension Stage 2      Borderline High                High   \n",
       "1    Hypertension Stage 2                 High                High   \n",
       "2                  Normal      Borderline High                High   \n",
       "3                Elevated                 High                High   \n",
       "4                Elevated      Borderline High                High   \n",
       "\n",
       "      oldpeak_category   Age Group  \n",
       "0    Severe Depression         old  \n",
       "1  Moderate Depression         old  \n",
       "2    Severe Depression         old  \n",
       "3    Severe Depression   Young age  \n",
       "4  Moderate Depression  Middle age  "
      ]
     },
     "execution_count": 32,
     "metadata": {},
     "output_type": "execute_result"
    }
   ],
   "source": [
    "df.head()"
   ]
  },
  {
   "cell_type": "markdown",
   "metadata": {},
   "source": [
    "**Now lets check the relationship between age_group and heart diseases status column using the contigency table**"
   ]
  },
  {
   "cell_type": "code",
   "execution_count": 35,
   "metadata": {},
   "outputs": [
    {
     "data": {
      "text/html": [
       "<div>\n",
       "<style scoped>\n",
       "    .dataframe tbody tr th:only-of-type {\n",
       "        vertical-align: middle;\n",
       "    }\n",
       "\n",
       "    .dataframe tbody tr th {\n",
       "        vertical-align: top;\n",
       "    }\n",
       "\n",
       "    .dataframe thead th {\n",
       "        text-align: right;\n",
       "    }\n",
       "</style>\n",
       "<table border=\"1\" class=\"dataframe\">\n",
       "  <thead>\n",
       "    <tr style=\"text-align: right;\">\n",
       "      <th>Heart Disease Status</th>\n",
       "      <th>No disease</th>\n",
       "      <th>Yes disease</th>\n",
       "      <th>Total</th>\n",
       "    </tr>\n",
       "    <tr>\n",
       "      <th>Age Group</th>\n",
       "      <th></th>\n",
       "      <th></th>\n",
       "      <th></th>\n",
       "    </tr>\n",
       "  </thead>\n",
       "  <tbody>\n",
       "    <tr>\n",
       "      <th>Young age</th>\n",
       "      <td>59</td>\n",
       "      <td>21</td>\n",
       "      <td>80</td>\n",
       "    </tr>\n",
       "    <tr>\n",
       "      <th>Middle age</th>\n",
       "      <td>225</td>\n",
       "      <td>138</td>\n",
       "      <td>363</td>\n",
       "    </tr>\n",
       "    <tr>\n",
       "      <th>old</th>\n",
       "      <td>106</td>\n",
       "      <td>198</td>\n",
       "      <td>304</td>\n",
       "    </tr>\n",
       "    <tr>\n",
       "      <th>Total</th>\n",
       "      <td>390</td>\n",
       "      <td>357</td>\n",
       "      <td>747</td>\n",
       "    </tr>\n",
       "  </tbody>\n",
       "</table>\n",
       "</div>"
      ],
      "text/plain": [
       "Heart Disease Status  No disease  Yes disease  Total\n",
       "Age Group                                           \n",
       "Young age                     59           21     80\n",
       "Middle age                   225          138    363\n",
       "old                          106          198    304\n",
       "Total                        390          357    747"
      ]
     },
     "execution_count": 35,
     "metadata": {},
     "output_type": "execute_result"
    }
   ],
   "source": [
    "contingency_table = pd.crosstab(df['Age Group'], df['Heart Disease Status'], margins=True, margins_name=\"Total\")\n",
    "contingency_table"
   ]
  },
  {
   "cell_type": "markdown",
   "metadata": {},
   "source": [
    "**Now let's visualize the table**"
   ]
  },
  {
   "cell_type": "code",
   "execution_count": 58,
   "metadata": {},
   "outputs": [
    {
     "data": {
      "application/vnd.plotly.v1+json": {
       "config": {
        "plotlyServerURL": "https://plot.ly"
       },
       "data": [
        {
         "alignmentgroup": "True",
         "hovertemplate": "Heart Disease Status=No Disease<br>Age Group=%{x}<br>Count=%{text}<extra></extra>",
         "legendgroup": "No Disease",
         "marker": {
          "color": "cyan",
          "pattern": {
           "shape": ""
          }
         },
         "name": "No Disease",
         "offsetgroup": "No Disease",
         "orientation": "v",
         "showlegend": true,
         "text": [
          59,
          225,
          106
         ],
         "textposition": "auto",
         "type": "bar",
         "x": [
          "Young Age",
          "Middle Age",
          "Old Age"
         ],
         "xaxis": "x",
         "y": [
          59,
          225,
          106
         ],
         "yaxis": "y"
        },
        {
         "alignmentgroup": "True",
         "hovertemplate": "Heart Disease Status=Yes Disease<br>Age Group=%{x}<br>Count=%{text}<extra></extra>",
         "legendgroup": "Yes Disease",
         "marker": {
          "color": "magenta",
          "pattern": {
           "shape": ""
          }
         },
         "name": "Yes Disease",
         "offsetgroup": "Yes Disease",
         "orientation": "v",
         "showlegend": true,
         "text": [
          21,
          138,
          198
         ],
         "textposition": "auto",
         "type": "bar",
         "x": [
          "Young Age",
          "Middle Age",
          "Old Age"
         ],
         "xaxis": "x",
         "y": [
          21,
          138,
          198
         ],
         "yaxis": "y"
        }
       ],
       "layout": {
        "barmode": "stack",
        "legend": {
         "title": {
          "text": "Heart Disease Status"
         },
         "tracegroupgap": 0
        },
        "template": {
         "data": {
          "bar": [
           {
            "error_x": {
             "color": "#2a3f5f"
            },
            "error_y": {
             "color": "#2a3f5f"
            },
            "marker": {
             "line": {
              "color": "#E5ECF6",
              "width": 0.5
             },
             "pattern": {
              "fillmode": "overlay",
              "size": 10,
              "solidity": 0.2
             }
            },
            "type": "bar"
           }
          ],
          "barpolar": [
           {
            "marker": {
             "line": {
              "color": "#E5ECF6",
              "width": 0.5
             },
             "pattern": {
              "fillmode": "overlay",
              "size": 10,
              "solidity": 0.2
             }
            },
            "type": "barpolar"
           }
          ],
          "carpet": [
           {
            "aaxis": {
             "endlinecolor": "#2a3f5f",
             "gridcolor": "white",
             "linecolor": "white",
             "minorgridcolor": "white",
             "startlinecolor": "#2a3f5f"
            },
            "baxis": {
             "endlinecolor": "#2a3f5f",
             "gridcolor": "white",
             "linecolor": "white",
             "minorgridcolor": "white",
             "startlinecolor": "#2a3f5f"
            },
            "type": "carpet"
           }
          ],
          "choropleth": [
           {
            "colorbar": {
             "outlinewidth": 0,
             "ticks": ""
            },
            "type": "choropleth"
           }
          ],
          "contour": [
           {
            "colorbar": {
             "outlinewidth": 0,
             "ticks": ""
            },
            "colorscale": [
             [
              0,
              "#0d0887"
             ],
             [
              0.1111111111111111,
              "#46039f"
             ],
             [
              0.2222222222222222,
              "#7201a8"
             ],
             [
              0.3333333333333333,
              "#9c179e"
             ],
             [
              0.4444444444444444,
              "#bd3786"
             ],
             [
              0.5555555555555556,
              "#d8576b"
             ],
             [
              0.6666666666666666,
              "#ed7953"
             ],
             [
              0.7777777777777778,
              "#fb9f3a"
             ],
             [
              0.8888888888888888,
              "#fdca26"
             ],
             [
              1,
              "#f0f921"
             ]
            ],
            "type": "contour"
           }
          ],
          "contourcarpet": [
           {
            "colorbar": {
             "outlinewidth": 0,
             "ticks": ""
            },
            "type": "contourcarpet"
           }
          ],
          "heatmap": [
           {
            "colorbar": {
             "outlinewidth": 0,
             "ticks": ""
            },
            "colorscale": [
             [
              0,
              "#0d0887"
             ],
             [
              0.1111111111111111,
              "#46039f"
             ],
             [
              0.2222222222222222,
              "#7201a8"
             ],
             [
              0.3333333333333333,
              "#9c179e"
             ],
             [
              0.4444444444444444,
              "#bd3786"
             ],
             [
              0.5555555555555556,
              "#d8576b"
             ],
             [
              0.6666666666666666,
              "#ed7953"
             ],
             [
              0.7777777777777778,
              "#fb9f3a"
             ],
             [
              0.8888888888888888,
              "#fdca26"
             ],
             [
              1,
              "#f0f921"
             ]
            ],
            "type": "heatmap"
           }
          ],
          "heatmapgl": [
           {
            "colorbar": {
             "outlinewidth": 0,
             "ticks": ""
            },
            "colorscale": [
             [
              0,
              "#0d0887"
             ],
             [
              0.1111111111111111,
              "#46039f"
             ],
             [
              0.2222222222222222,
              "#7201a8"
             ],
             [
              0.3333333333333333,
              "#9c179e"
             ],
             [
              0.4444444444444444,
              "#bd3786"
             ],
             [
              0.5555555555555556,
              "#d8576b"
             ],
             [
              0.6666666666666666,
              "#ed7953"
             ],
             [
              0.7777777777777778,
              "#fb9f3a"
             ],
             [
              0.8888888888888888,
              "#fdca26"
             ],
             [
              1,
              "#f0f921"
             ]
            ],
            "type": "heatmapgl"
           }
          ],
          "histogram": [
           {
            "marker": {
             "pattern": {
              "fillmode": "overlay",
              "size": 10,
              "solidity": 0.2
             }
            },
            "type": "histogram"
           }
          ],
          "histogram2d": [
           {
            "colorbar": {
             "outlinewidth": 0,
             "ticks": ""
            },
            "colorscale": [
             [
              0,
              "#0d0887"
             ],
             [
              0.1111111111111111,
              "#46039f"
             ],
             [
              0.2222222222222222,
              "#7201a8"
             ],
             [
              0.3333333333333333,
              "#9c179e"
             ],
             [
              0.4444444444444444,
              "#bd3786"
             ],
             [
              0.5555555555555556,
              "#d8576b"
             ],
             [
              0.6666666666666666,
              "#ed7953"
             ],
             [
              0.7777777777777778,
              "#fb9f3a"
             ],
             [
              0.8888888888888888,
              "#fdca26"
             ],
             [
              1,
              "#f0f921"
             ]
            ],
            "type": "histogram2d"
           }
          ],
          "histogram2dcontour": [
           {
            "colorbar": {
             "outlinewidth": 0,
             "ticks": ""
            },
            "colorscale": [
             [
              0,
              "#0d0887"
             ],
             [
              0.1111111111111111,
              "#46039f"
             ],
             [
              0.2222222222222222,
              "#7201a8"
             ],
             [
              0.3333333333333333,
              "#9c179e"
             ],
             [
              0.4444444444444444,
              "#bd3786"
             ],
             [
              0.5555555555555556,
              "#d8576b"
             ],
             [
              0.6666666666666666,
              "#ed7953"
             ],
             [
              0.7777777777777778,
              "#fb9f3a"
             ],
             [
              0.8888888888888888,
              "#fdca26"
             ],
             [
              1,
              "#f0f921"
             ]
            ],
            "type": "histogram2dcontour"
           }
          ],
          "mesh3d": [
           {
            "colorbar": {
             "outlinewidth": 0,
             "ticks": ""
            },
            "type": "mesh3d"
           }
          ],
          "parcoords": [
           {
            "line": {
             "colorbar": {
              "outlinewidth": 0,
              "ticks": ""
             }
            },
            "type": "parcoords"
           }
          ],
          "pie": [
           {
            "automargin": true,
            "type": "pie"
           }
          ],
          "scatter": [
           {
            "fillpattern": {
             "fillmode": "overlay",
             "size": 10,
             "solidity": 0.2
            },
            "type": "scatter"
           }
          ],
          "scatter3d": [
           {
            "line": {
             "colorbar": {
              "outlinewidth": 0,
              "ticks": ""
             }
            },
            "marker": {
             "colorbar": {
              "outlinewidth": 0,
              "ticks": ""
             }
            },
            "type": "scatter3d"
           }
          ],
          "scattercarpet": [
           {
            "marker": {
             "colorbar": {
              "outlinewidth": 0,
              "ticks": ""
             }
            },
            "type": "scattercarpet"
           }
          ],
          "scattergeo": [
           {
            "marker": {
             "colorbar": {
              "outlinewidth": 0,
              "ticks": ""
             }
            },
            "type": "scattergeo"
           }
          ],
          "scattergl": [
           {
            "marker": {
             "colorbar": {
              "outlinewidth": 0,
              "ticks": ""
             }
            },
            "type": "scattergl"
           }
          ],
          "scattermapbox": [
           {
            "marker": {
             "colorbar": {
              "outlinewidth": 0,
              "ticks": ""
             }
            },
            "type": "scattermapbox"
           }
          ],
          "scatterpolar": [
           {
            "marker": {
             "colorbar": {
              "outlinewidth": 0,
              "ticks": ""
             }
            },
            "type": "scatterpolar"
           }
          ],
          "scatterpolargl": [
           {
            "marker": {
             "colorbar": {
              "outlinewidth": 0,
              "ticks": ""
             }
            },
            "type": "scatterpolargl"
           }
          ],
          "scatterternary": [
           {
            "marker": {
             "colorbar": {
              "outlinewidth": 0,
              "ticks": ""
             }
            },
            "type": "scatterternary"
           }
          ],
          "surface": [
           {
            "colorbar": {
             "outlinewidth": 0,
             "ticks": ""
            },
            "colorscale": [
             [
              0,
              "#0d0887"
             ],
             [
              0.1111111111111111,
              "#46039f"
             ],
             [
              0.2222222222222222,
              "#7201a8"
             ],
             [
              0.3333333333333333,
              "#9c179e"
             ],
             [
              0.4444444444444444,
              "#bd3786"
             ],
             [
              0.5555555555555556,
              "#d8576b"
             ],
             [
              0.6666666666666666,
              "#ed7953"
             ],
             [
              0.7777777777777778,
              "#fb9f3a"
             ],
             [
              0.8888888888888888,
              "#fdca26"
             ],
             [
              1,
              "#f0f921"
             ]
            ],
            "type": "surface"
           }
          ],
          "table": [
           {
            "cells": {
             "fill": {
              "color": "#EBF0F8"
             },
             "line": {
              "color": "white"
             }
            },
            "header": {
             "fill": {
              "color": "#C8D4E3"
             },
             "line": {
              "color": "white"
             }
            },
            "type": "table"
           }
          ]
         },
         "layout": {
          "annotationdefaults": {
           "arrowcolor": "#2a3f5f",
           "arrowhead": 0,
           "arrowwidth": 1
          },
          "autotypenumbers": "strict",
          "coloraxis": {
           "colorbar": {
            "outlinewidth": 0,
            "ticks": ""
           }
          },
          "colorscale": {
           "diverging": [
            [
             0,
             "#8e0152"
            ],
            [
             0.1,
             "#c51b7d"
            ],
            [
             0.2,
             "#de77ae"
            ],
            [
             0.3,
             "#f1b6da"
            ],
            [
             0.4,
             "#fde0ef"
            ],
            [
             0.5,
             "#f7f7f7"
            ],
            [
             0.6,
             "#e6f5d0"
            ],
            [
             0.7,
             "#b8e186"
            ],
            [
             0.8,
             "#7fbc41"
            ],
            [
             0.9,
             "#4d9221"
            ],
            [
             1,
             "#276419"
            ]
           ],
           "sequential": [
            [
             0,
             "#0d0887"
            ],
            [
             0.1111111111111111,
             "#46039f"
            ],
            [
             0.2222222222222222,
             "#7201a8"
            ],
            [
             0.3333333333333333,
             "#9c179e"
            ],
            [
             0.4444444444444444,
             "#bd3786"
            ],
            [
             0.5555555555555556,
             "#d8576b"
            ],
            [
             0.6666666666666666,
             "#ed7953"
            ],
            [
             0.7777777777777778,
             "#fb9f3a"
            ],
            [
             0.8888888888888888,
             "#fdca26"
            ],
            [
             1,
             "#f0f921"
            ]
           ],
           "sequentialminus": [
            [
             0,
             "#0d0887"
            ],
            [
             0.1111111111111111,
             "#46039f"
            ],
            [
             0.2222222222222222,
             "#7201a8"
            ],
            [
             0.3333333333333333,
             "#9c179e"
            ],
            [
             0.4444444444444444,
             "#bd3786"
            ],
            [
             0.5555555555555556,
             "#d8576b"
            ],
            [
             0.6666666666666666,
             "#ed7953"
            ],
            [
             0.7777777777777778,
             "#fb9f3a"
            ],
            [
             0.8888888888888888,
             "#fdca26"
            ],
            [
             1,
             "#f0f921"
            ]
           ]
          },
          "colorway": [
           "#636efa",
           "#EF553B",
           "#00cc96",
           "#ab63fa",
           "#FFA15A",
           "#19d3f3",
           "#FF6692",
           "#B6E880",
           "#FF97FF",
           "#FECB52"
          ],
          "font": {
           "color": "#2a3f5f"
          },
          "geo": {
           "bgcolor": "white",
           "lakecolor": "white",
           "landcolor": "#E5ECF6",
           "showlakes": true,
           "showland": true,
           "subunitcolor": "white"
          },
          "hoverlabel": {
           "align": "left"
          },
          "hovermode": "closest",
          "mapbox": {
           "style": "light"
          },
          "paper_bgcolor": "white",
          "plot_bgcolor": "#E5ECF6",
          "polar": {
           "angularaxis": {
            "gridcolor": "white",
            "linecolor": "white",
            "ticks": ""
           },
           "bgcolor": "#E5ECF6",
           "radialaxis": {
            "gridcolor": "white",
            "linecolor": "white",
            "ticks": ""
           }
          },
          "scene": {
           "xaxis": {
            "backgroundcolor": "#E5ECF6",
            "gridcolor": "white",
            "gridwidth": 2,
            "linecolor": "white",
            "showbackground": true,
            "ticks": "",
            "zerolinecolor": "white"
           },
           "yaxis": {
            "backgroundcolor": "#E5ECF6",
            "gridcolor": "white",
            "gridwidth": 2,
            "linecolor": "white",
            "showbackground": true,
            "ticks": "",
            "zerolinecolor": "white"
           },
           "zaxis": {
            "backgroundcolor": "#E5ECF6",
            "gridcolor": "white",
            "gridwidth": 2,
            "linecolor": "white",
            "showbackground": true,
            "ticks": "",
            "zerolinecolor": "white"
           }
          },
          "shapedefaults": {
           "line": {
            "color": "#2a3f5f"
           }
          },
          "ternary": {
           "aaxis": {
            "gridcolor": "white",
            "linecolor": "white",
            "ticks": ""
           },
           "baxis": {
            "gridcolor": "white",
            "linecolor": "white",
            "ticks": ""
           },
           "bgcolor": "#E5ECF6",
           "caxis": {
            "gridcolor": "white",
            "linecolor": "white",
            "ticks": ""
           }
          },
          "title": {
           "x": 0.05
          },
          "xaxis": {
           "automargin": true,
           "gridcolor": "white",
           "linecolor": "white",
           "ticks": "",
           "title": {
            "standoff": 15
           },
           "zerolinecolor": "white",
           "zerolinewidth": 2
          },
          "yaxis": {
           "automargin": true,
           "gridcolor": "white",
           "linecolor": "white",
           "ticks": "",
           "title": {
            "standoff": 15
           },
           "zerolinecolor": "white",
           "zerolinewidth": 2
          }
         }
        },
        "title": {
         "text": "Heart Disease Status by Age Group"
        },
        "width": 1000,
        "xaxis": {
         "anchor": "y",
         "domain": [
          0,
          1
         ],
         "title": {
          "text": "Age Group"
         }
        },
        "yaxis": {
         "anchor": "x",
         "domain": [
          0,
          1
         ],
         "title": {
          "text": "Count"
         }
        }
       }
      }
     },
     "metadata": {},
     "output_type": "display_data"
    }
   ],
   "source": [
    "data = {\n",
    "    'Age Group': ['Young Age', 'Middle Age', 'Old Age'],\n",
    "    'No Disease': [59, 225, 106],\n",
    "    'Yes Disease': [21, 138, 198]\n",
    "}\n",
    "\n",
    "contingency_table = pd.DataFrame(data)\n",
    "\n",
    "# Melting the DataFrame for Plotly\n",
    "melted_table = contingency_table.melt(id_vars='Age Group', \n",
    "                                       value_vars=['No Disease', 'Yes Disease'],\n",
    "                                       var_name='Heart Disease Status', \n",
    "                                       value_name='Count')\n",
    "\n",
    "# Creating a stacked bar plot using Plotly\n",
    "fig = px.bar(melted_table, x='Age Group', y='Count', color='Heart Disease Status', \n",
    "             title='Heart Disease Status by Age Group', \n",
    "             labels={'Count': 'Count', 'Age Group': 'Age Group'},\n",
    "             text='Count',\n",
    "             color_discrete_sequence=['cyan', 'magenta'])\n",
    "\n",
    "# Updating layout to show legends for both categories\n",
    "fig.update_layout(barmode='stack')\n",
    "fig.update_layout(width=1000)\n",
    "\n",
    "# Show the plot\n",
    "fig.show()"
   ]
  },
  {
   "cell_type": "markdown",
   "metadata": {},
   "source": [
    "#### Observations:\n",
    "----\n",
    "\n",
    "- **Young Age Group**: \n",
    "  - There are **59** individuals without heart disease and **21** individuals with heart disease.\n",
    "  - This indicates that a smaller percentage of young people are affected by heart disease compared to older age groups.\n",
    "\n",
    "- **Middle Age Group**: \n",
    "  - This group has the highest count of individuals, with **225** without heart disease and **138** with heart disease.\n",
    "  - The prevalence of heart disease is significant in this age group, suggesting that middle-aged individuals are at a higher risk.\n",
    "\n",
    "- **Old Age Group**: \n",
    "  - Among older adults, **106** individuals do not have heart disease while **198** do.\n",
    "  - This indicates that the majority of older adults are affected by heart disease, highlighting the increased vulnerability of this age group.\n",
    "\n",
    "- **Overall Trends**: \n",
    "  - As age increases, the likelihood of having heart disease also increases.\n",
    "  - Young individuals have the lowest incidence of heart disease, while middle-aged and older adults show a concerning rise in prevalence.\n",
    "\n"
   ]
  },
  {
   "cell_type": "markdown",
   "metadata": {},
   "source": [
    "<h1 style=\"font-family: 'Poppins', sans-serif; font-weight: 700; color: #1c1c1c; background: white; padding: 8px; border-radius: 10px; text-align: left; box-shadow: 0 4px 8px rgba(0, 0, 0, 0.1); letter-spacing: 1px; text-transform: capitalize; font-size: 1rem;\">\n",
    "2.3.4 Checking Gender-wise Distribution Related to Heart Diseases presence<span style=\"color: #333333;\"></span>\n",
    "</h1>\n"
   ]
  },
  {
   "cell_type": "code",
   "execution_count": 87,
   "metadata": {},
   "outputs": [
    {
     "data": {
      "text/html": [
       "<div>\n",
       "<style scoped>\n",
       "    .dataframe tbody tr th:only-of-type {\n",
       "        vertical-align: middle;\n",
       "    }\n",
       "\n",
       "    .dataframe tbody tr th {\n",
       "        vertical-align: top;\n",
       "    }\n",
       "\n",
       "    .dataframe thead th {\n",
       "        text-align: right;\n",
       "    }\n",
       "</style>\n",
       "<table border=\"1\" class=\"dataframe\">\n",
       "  <thead>\n",
       "    <tr style=\"text-align: right;\">\n",
       "      <th>Heart Disease Status</th>\n",
       "      <th>No disease</th>\n",
       "      <th>Yes disease</th>\n",
       "      <th>Total</th>\n",
       "    </tr>\n",
       "    <tr>\n",
       "      <th>sex</th>\n",
       "      <th></th>\n",
       "      <th></th>\n",
       "      <th></th>\n",
       "    </tr>\n",
       "  </thead>\n",
       "  <tbody>\n",
       "    <tr>\n",
       "      <th>Female</th>\n",
       "      <td>143</td>\n",
       "      <td>40</td>\n",
       "      <td>183</td>\n",
       "    </tr>\n",
       "    <tr>\n",
       "      <th>Male</th>\n",
       "      <td>248</td>\n",
       "      <td>317</td>\n",
       "      <td>565</td>\n",
       "    </tr>\n",
       "    <tr>\n",
       "      <th>Total</th>\n",
       "      <td>391</td>\n",
       "      <td>357</td>\n",
       "      <td>748</td>\n",
       "    </tr>\n",
       "  </tbody>\n",
       "</table>\n",
       "</div>"
      ],
      "text/plain": [
       "Heart Disease Status  No disease  Yes disease  Total\n",
       "sex                                                 \n",
       "Female                       143           40    183\n",
       "Male                         248          317    565\n",
       "Total                        391          357    748"
      ]
     },
     "execution_count": 87,
     "metadata": {},
     "output_type": "execute_result"
    }
   ],
   "source": [
    "contingency_table = pd.crosstab(df['sex'], df['Heart Disease Status'], margins=True, margins_name=\"Total\")\n",
    "contingency_table"
   ]
  },
  {
   "cell_type": "code",
   "execution_count": 92,
   "metadata": {},
   "outputs": [
    {
     "data": {
      "application/vnd.plotly.v1+json": {
       "config": {
        "plotlyServerURL": "https://plot.ly"
       },
       "data": [
        {
         "alignmentgroup": "True",
         "hovertemplate": "Heart Disease Status=No Disease<br>Sex=%{x}<br>Count=%{text}<extra></extra>",
         "legendgroup": "No Disease",
         "marker": {
          "color": "cyan",
          "pattern": {
           "shape": ""
          }
         },
         "name": "No Disease",
         "offsetgroup": "No Disease",
         "orientation": "v",
         "showlegend": true,
         "text": [
          143,
          248
         ],
         "textposition": "auto",
         "type": "bar",
         "x": [
          "Female",
          "Male"
         ],
         "xaxis": "x",
         "y": [
          143,
          248
         ],
         "yaxis": "y"
        },
        {
         "alignmentgroup": "True",
         "hovertemplate": "Heart Disease Status=Yes Disease<br>Sex=%{x}<br>Count=%{text}<extra></extra>",
         "legendgroup": "Yes Disease",
         "marker": {
          "color": "magenta",
          "pattern": {
           "shape": ""
          }
         },
         "name": "Yes Disease",
         "offsetgroup": "Yes Disease",
         "orientation": "v",
         "showlegend": true,
         "text": [
          40,
          317
         ],
         "textposition": "auto",
         "type": "bar",
         "x": [
          "Female",
          "Male"
         ],
         "xaxis": "x",
         "y": [
          40,
          317
         ],
         "yaxis": "y"
        }
       ],
       "layout": {
        "barmode": "stack",
        "legend": {
         "title": {
          "text": "Heart Disease Status"
         },
         "tracegroupgap": 0
        },
        "template": {
         "data": {
          "bar": [
           {
            "error_x": {
             "color": "#2a3f5f"
            },
            "error_y": {
             "color": "#2a3f5f"
            },
            "marker": {
             "line": {
              "color": "#E5ECF6",
              "width": 0.5
             },
             "pattern": {
              "fillmode": "overlay",
              "size": 10,
              "solidity": 0.2
             }
            },
            "type": "bar"
           }
          ],
          "barpolar": [
           {
            "marker": {
             "line": {
              "color": "#E5ECF6",
              "width": 0.5
             },
             "pattern": {
              "fillmode": "overlay",
              "size": 10,
              "solidity": 0.2
             }
            },
            "type": "barpolar"
           }
          ],
          "carpet": [
           {
            "aaxis": {
             "endlinecolor": "#2a3f5f",
             "gridcolor": "white",
             "linecolor": "white",
             "minorgridcolor": "white",
             "startlinecolor": "#2a3f5f"
            },
            "baxis": {
             "endlinecolor": "#2a3f5f",
             "gridcolor": "white",
             "linecolor": "white",
             "minorgridcolor": "white",
             "startlinecolor": "#2a3f5f"
            },
            "type": "carpet"
           }
          ],
          "choropleth": [
           {
            "colorbar": {
             "outlinewidth": 0,
             "ticks": ""
            },
            "type": "choropleth"
           }
          ],
          "contour": [
           {
            "colorbar": {
             "outlinewidth": 0,
             "ticks": ""
            },
            "colorscale": [
             [
              0,
              "#0d0887"
             ],
             [
              0.1111111111111111,
              "#46039f"
             ],
             [
              0.2222222222222222,
              "#7201a8"
             ],
             [
              0.3333333333333333,
              "#9c179e"
             ],
             [
              0.4444444444444444,
              "#bd3786"
             ],
             [
              0.5555555555555556,
              "#d8576b"
             ],
             [
              0.6666666666666666,
              "#ed7953"
             ],
             [
              0.7777777777777778,
              "#fb9f3a"
             ],
             [
              0.8888888888888888,
              "#fdca26"
             ],
             [
              1,
              "#f0f921"
             ]
            ],
            "type": "contour"
           }
          ],
          "contourcarpet": [
           {
            "colorbar": {
             "outlinewidth": 0,
             "ticks": ""
            },
            "type": "contourcarpet"
           }
          ],
          "heatmap": [
           {
            "colorbar": {
             "outlinewidth": 0,
             "ticks": ""
            },
            "colorscale": [
             [
              0,
              "#0d0887"
             ],
             [
              0.1111111111111111,
              "#46039f"
             ],
             [
              0.2222222222222222,
              "#7201a8"
             ],
             [
              0.3333333333333333,
              "#9c179e"
             ],
             [
              0.4444444444444444,
              "#bd3786"
             ],
             [
              0.5555555555555556,
              "#d8576b"
             ],
             [
              0.6666666666666666,
              "#ed7953"
             ],
             [
              0.7777777777777778,
              "#fb9f3a"
             ],
             [
              0.8888888888888888,
              "#fdca26"
             ],
             [
              1,
              "#f0f921"
             ]
            ],
            "type": "heatmap"
           }
          ],
          "heatmapgl": [
           {
            "colorbar": {
             "outlinewidth": 0,
             "ticks": ""
            },
            "colorscale": [
             [
              0,
              "#0d0887"
             ],
             [
              0.1111111111111111,
              "#46039f"
             ],
             [
              0.2222222222222222,
              "#7201a8"
             ],
             [
              0.3333333333333333,
              "#9c179e"
             ],
             [
              0.4444444444444444,
              "#bd3786"
             ],
             [
              0.5555555555555556,
              "#d8576b"
             ],
             [
              0.6666666666666666,
              "#ed7953"
             ],
             [
              0.7777777777777778,
              "#fb9f3a"
             ],
             [
              0.8888888888888888,
              "#fdca26"
             ],
             [
              1,
              "#f0f921"
             ]
            ],
            "type": "heatmapgl"
           }
          ],
          "histogram": [
           {
            "marker": {
             "pattern": {
              "fillmode": "overlay",
              "size": 10,
              "solidity": 0.2
             }
            },
            "type": "histogram"
           }
          ],
          "histogram2d": [
           {
            "colorbar": {
             "outlinewidth": 0,
             "ticks": ""
            },
            "colorscale": [
             [
              0,
              "#0d0887"
             ],
             [
              0.1111111111111111,
              "#46039f"
             ],
             [
              0.2222222222222222,
              "#7201a8"
             ],
             [
              0.3333333333333333,
              "#9c179e"
             ],
             [
              0.4444444444444444,
              "#bd3786"
             ],
             [
              0.5555555555555556,
              "#d8576b"
             ],
             [
              0.6666666666666666,
              "#ed7953"
             ],
             [
              0.7777777777777778,
              "#fb9f3a"
             ],
             [
              0.8888888888888888,
              "#fdca26"
             ],
             [
              1,
              "#f0f921"
             ]
            ],
            "type": "histogram2d"
           }
          ],
          "histogram2dcontour": [
           {
            "colorbar": {
             "outlinewidth": 0,
             "ticks": ""
            },
            "colorscale": [
             [
              0,
              "#0d0887"
             ],
             [
              0.1111111111111111,
              "#46039f"
             ],
             [
              0.2222222222222222,
              "#7201a8"
             ],
             [
              0.3333333333333333,
              "#9c179e"
             ],
             [
              0.4444444444444444,
              "#bd3786"
             ],
             [
              0.5555555555555556,
              "#d8576b"
             ],
             [
              0.6666666666666666,
              "#ed7953"
             ],
             [
              0.7777777777777778,
              "#fb9f3a"
             ],
             [
              0.8888888888888888,
              "#fdca26"
             ],
             [
              1,
              "#f0f921"
             ]
            ],
            "type": "histogram2dcontour"
           }
          ],
          "mesh3d": [
           {
            "colorbar": {
             "outlinewidth": 0,
             "ticks": ""
            },
            "type": "mesh3d"
           }
          ],
          "parcoords": [
           {
            "line": {
             "colorbar": {
              "outlinewidth": 0,
              "ticks": ""
             }
            },
            "type": "parcoords"
           }
          ],
          "pie": [
           {
            "automargin": true,
            "type": "pie"
           }
          ],
          "scatter": [
           {
            "fillpattern": {
             "fillmode": "overlay",
             "size": 10,
             "solidity": 0.2
            },
            "type": "scatter"
           }
          ],
          "scatter3d": [
           {
            "line": {
             "colorbar": {
              "outlinewidth": 0,
              "ticks": ""
             }
            },
            "marker": {
             "colorbar": {
              "outlinewidth": 0,
              "ticks": ""
             }
            },
            "type": "scatter3d"
           }
          ],
          "scattercarpet": [
           {
            "marker": {
             "colorbar": {
              "outlinewidth": 0,
              "ticks": ""
             }
            },
            "type": "scattercarpet"
           }
          ],
          "scattergeo": [
           {
            "marker": {
             "colorbar": {
              "outlinewidth": 0,
              "ticks": ""
             }
            },
            "type": "scattergeo"
           }
          ],
          "scattergl": [
           {
            "marker": {
             "colorbar": {
              "outlinewidth": 0,
              "ticks": ""
             }
            },
            "type": "scattergl"
           }
          ],
          "scattermapbox": [
           {
            "marker": {
             "colorbar": {
              "outlinewidth": 0,
              "ticks": ""
             }
            },
            "type": "scattermapbox"
           }
          ],
          "scatterpolar": [
           {
            "marker": {
             "colorbar": {
              "outlinewidth": 0,
              "ticks": ""
             }
            },
            "type": "scatterpolar"
           }
          ],
          "scatterpolargl": [
           {
            "marker": {
             "colorbar": {
              "outlinewidth": 0,
              "ticks": ""
             }
            },
            "type": "scatterpolargl"
           }
          ],
          "scatterternary": [
           {
            "marker": {
             "colorbar": {
              "outlinewidth": 0,
              "ticks": ""
             }
            },
            "type": "scatterternary"
           }
          ],
          "surface": [
           {
            "colorbar": {
             "outlinewidth": 0,
             "ticks": ""
            },
            "colorscale": [
             [
              0,
              "#0d0887"
             ],
             [
              0.1111111111111111,
              "#46039f"
             ],
             [
              0.2222222222222222,
              "#7201a8"
             ],
             [
              0.3333333333333333,
              "#9c179e"
             ],
             [
              0.4444444444444444,
              "#bd3786"
             ],
             [
              0.5555555555555556,
              "#d8576b"
             ],
             [
              0.6666666666666666,
              "#ed7953"
             ],
             [
              0.7777777777777778,
              "#fb9f3a"
             ],
             [
              0.8888888888888888,
              "#fdca26"
             ],
             [
              1,
              "#f0f921"
             ]
            ],
            "type": "surface"
           }
          ],
          "table": [
           {
            "cells": {
             "fill": {
              "color": "#EBF0F8"
             },
             "line": {
              "color": "white"
             }
            },
            "header": {
             "fill": {
              "color": "#C8D4E3"
             },
             "line": {
              "color": "white"
             }
            },
            "type": "table"
           }
          ]
         },
         "layout": {
          "annotationdefaults": {
           "arrowcolor": "#2a3f5f",
           "arrowhead": 0,
           "arrowwidth": 1
          },
          "autotypenumbers": "strict",
          "coloraxis": {
           "colorbar": {
            "outlinewidth": 0,
            "ticks": ""
           }
          },
          "colorscale": {
           "diverging": [
            [
             0,
             "#8e0152"
            ],
            [
             0.1,
             "#c51b7d"
            ],
            [
             0.2,
             "#de77ae"
            ],
            [
             0.3,
             "#f1b6da"
            ],
            [
             0.4,
             "#fde0ef"
            ],
            [
             0.5,
             "#f7f7f7"
            ],
            [
             0.6,
             "#e6f5d0"
            ],
            [
             0.7,
             "#b8e186"
            ],
            [
             0.8,
             "#7fbc41"
            ],
            [
             0.9,
             "#4d9221"
            ],
            [
             1,
             "#276419"
            ]
           ],
           "sequential": [
            [
             0,
             "#0d0887"
            ],
            [
             0.1111111111111111,
             "#46039f"
            ],
            [
             0.2222222222222222,
             "#7201a8"
            ],
            [
             0.3333333333333333,
             "#9c179e"
            ],
            [
             0.4444444444444444,
             "#bd3786"
            ],
            [
             0.5555555555555556,
             "#d8576b"
            ],
            [
             0.6666666666666666,
             "#ed7953"
            ],
            [
             0.7777777777777778,
             "#fb9f3a"
            ],
            [
             0.8888888888888888,
             "#fdca26"
            ],
            [
             1,
             "#f0f921"
            ]
           ],
           "sequentialminus": [
            [
             0,
             "#0d0887"
            ],
            [
             0.1111111111111111,
             "#46039f"
            ],
            [
             0.2222222222222222,
             "#7201a8"
            ],
            [
             0.3333333333333333,
             "#9c179e"
            ],
            [
             0.4444444444444444,
             "#bd3786"
            ],
            [
             0.5555555555555556,
             "#d8576b"
            ],
            [
             0.6666666666666666,
             "#ed7953"
            ],
            [
             0.7777777777777778,
             "#fb9f3a"
            ],
            [
             0.8888888888888888,
             "#fdca26"
            ],
            [
             1,
             "#f0f921"
            ]
           ]
          },
          "colorway": [
           "#636efa",
           "#EF553B",
           "#00cc96",
           "#ab63fa",
           "#FFA15A",
           "#19d3f3",
           "#FF6692",
           "#B6E880",
           "#FF97FF",
           "#FECB52"
          ],
          "font": {
           "color": "#2a3f5f"
          },
          "geo": {
           "bgcolor": "white",
           "lakecolor": "white",
           "landcolor": "#E5ECF6",
           "showlakes": true,
           "showland": true,
           "subunitcolor": "white"
          },
          "hoverlabel": {
           "align": "left"
          },
          "hovermode": "closest",
          "mapbox": {
           "style": "light"
          },
          "paper_bgcolor": "white",
          "plot_bgcolor": "#E5ECF6",
          "polar": {
           "angularaxis": {
            "gridcolor": "white",
            "linecolor": "white",
            "ticks": ""
           },
           "bgcolor": "#E5ECF6",
           "radialaxis": {
            "gridcolor": "white",
            "linecolor": "white",
            "ticks": ""
           }
          },
          "scene": {
           "xaxis": {
            "backgroundcolor": "#E5ECF6",
            "gridcolor": "white",
            "gridwidth": 2,
            "linecolor": "white",
            "showbackground": true,
            "ticks": "",
            "zerolinecolor": "white"
           },
           "yaxis": {
            "backgroundcolor": "#E5ECF6",
            "gridcolor": "white",
            "gridwidth": 2,
            "linecolor": "white",
            "showbackground": true,
            "ticks": "",
            "zerolinecolor": "white"
           },
           "zaxis": {
            "backgroundcolor": "#E5ECF6",
            "gridcolor": "white",
            "gridwidth": 2,
            "linecolor": "white",
            "showbackground": true,
            "ticks": "",
            "zerolinecolor": "white"
           }
          },
          "shapedefaults": {
           "line": {
            "color": "#2a3f5f"
           }
          },
          "ternary": {
           "aaxis": {
            "gridcolor": "white",
            "linecolor": "white",
            "ticks": ""
           },
           "baxis": {
            "gridcolor": "white",
            "linecolor": "white",
            "ticks": ""
           },
           "bgcolor": "#E5ECF6",
           "caxis": {
            "gridcolor": "white",
            "linecolor": "white",
            "ticks": ""
           }
          },
          "title": {
           "x": 0.05
          },
          "xaxis": {
           "automargin": true,
           "gridcolor": "white",
           "linecolor": "white",
           "ticks": "",
           "title": {
            "standoff": 15
           },
           "zerolinecolor": "white",
           "zerolinewidth": 2
          },
          "yaxis": {
           "automargin": true,
           "gridcolor": "white",
           "linecolor": "white",
           "ticks": "",
           "title": {
            "standoff": 15
           },
           "zerolinecolor": "white",
           "zerolinewidth": 2
          }
         }
        },
        "title": {
         "text": "Heart Disease Status by Sex"
        },
        "width": 1000,
        "xaxis": {
         "anchor": "y",
         "domain": [
          0,
          1
         ],
         "title": {
          "text": "Sex"
         }
        },
        "yaxis": {
         "anchor": "x",
         "domain": [
          0,
          1
         ],
         "title": {
          "text": "Count"
         }
        }
       }
      }
     },
     "metadata": {},
     "output_type": "display_data"
    }
   ],
   "source": [
    "# Data for heart disease status by sex\n",
    "data = {\n",
    "    'Sex': ['Female', 'Female', 'Male', 'Male'],\n",
    "    'Heart Disease Status': ['No Disease', 'Yes Disease', 'No Disease', 'Yes Disease'],\n",
    "    'Count': [143, 40, 248, 317]\n",
    "}\n",
    "\n",
    "# Creating a DataFrame for the heart disease data\n",
    "contingency_table_sex = pd.DataFrame(data)\n",
    "\n",
    "# Creating a stacked bar plot using Plotly\n",
    "fig = px.bar(contingency_table_sex, x='Sex', y='Count', color='Heart Disease Status', \n",
    "             title='Heart Disease Status by Sex', \n",
    "             labels={'Count': 'Count', 'Sex': 'Sex'},\n",
    "             text='Count',\n",
    "             color_discrete_sequence=['cyan', 'magenta'])\n",
    "\n",
    "# Updating layout to show legends for both categories\n",
    "fig.update_layout(barmode='stack')\n",
    "fig.update_layout(width=1000)\n",
    "\n",
    "# Show the plot\n",
    "fig.show()\n"
   ]
  },
  {
   "cell_type": "markdown",
   "metadata": {},
   "source": [
    "### Observations:\n",
    "----\n",
    "- **Female:**\n",
    "  - No Disease: 143\n",
    "  - Yes Disease: 40\n",
    "  - Total: 183\n",
    "\n",
    "- **Male:**\n",
    "  - No Disease: 248\n",
    "  - Yes Disease: 317\n",
    "  - Total: 565\n",
    "\n",
    "- **Overall:**\n",
    "  - No Disease: 391\n",
    "  - Yes Disease: 357\n",
    "  - Total: 748\n",
    "\n",
    "#### Summary:\n",
    "Males have a significantly higher prevalence of heart disease (317 cases) compared to females (40 cases).\n"
   ]
  },
  {
   "cell_type": "markdown",
   "metadata": {},
   "source": [
    "<h1 style=\"font-family: 'Poppins', sans-serif; font-weight: 700; color: #1c1c1c; background: white; padding: 8px; border-radius: 10px; text-align: left; box-shadow: 0 4px 8px rgba(0, 0, 0, 0.1); letter-spacing: 1px; text-transform: capitalize; font-size: 1rem;\">\n",
    "2.3.5 Checking if certain chest pain types are more likely to be associated with heart disease<span style=\"color: #333333;\"></span>\n",
    "</h1>"
   ]
  },
  {
   "cell_type": "code",
   "execution_count": 95,
   "metadata": {},
   "outputs": [
    {
     "data": {
      "text/html": [
       "<div>\n",
       "<style scoped>\n",
       "    .dataframe tbody tr th:only-of-type {\n",
       "        vertical-align: middle;\n",
       "    }\n",
       "\n",
       "    .dataframe tbody tr th {\n",
       "        vertical-align: top;\n",
       "    }\n",
       "\n",
       "    .dataframe thead th {\n",
       "        text-align: right;\n",
       "    }\n",
       "</style>\n",
       "<table border=\"1\" class=\"dataframe\">\n",
       "  <thead>\n",
       "    <tr style=\"text-align: right;\">\n",
       "      <th>Heart Disease Status</th>\n",
       "      <th>No disease</th>\n",
       "      <th>Yes disease</th>\n",
       "      <th>Total</th>\n",
       "    </tr>\n",
       "    <tr>\n",
       "      <th>cp</th>\n",
       "      <th></th>\n",
       "      <th></th>\n",
       "      <th></th>\n",
       "    </tr>\n",
       "  </thead>\n",
       "  <tbody>\n",
       "    <tr>\n",
       "      <th>asymptomatic</th>\n",
       "      <td>96</td>\n",
       "      <td>274</td>\n",
       "      <td>370</td>\n",
       "    </tr>\n",
       "    <tr>\n",
       "      <th>atypical angina</th>\n",
       "      <td>146</td>\n",
       "      <td>21</td>\n",
       "      <td>167</td>\n",
       "    </tr>\n",
       "    <tr>\n",
       "      <th>non-anginal</th>\n",
       "      <td>123</td>\n",
       "      <td>47</td>\n",
       "      <td>170</td>\n",
       "    </tr>\n",
       "    <tr>\n",
       "      <th>typical angina</th>\n",
       "      <td>26</td>\n",
       "      <td>15</td>\n",
       "      <td>41</td>\n",
       "    </tr>\n",
       "    <tr>\n",
       "      <th>Total</th>\n",
       "      <td>391</td>\n",
       "      <td>357</td>\n",
       "      <td>748</td>\n",
       "    </tr>\n",
       "  </tbody>\n",
       "</table>\n",
       "</div>"
      ],
      "text/plain": [
       "Heart Disease Status  No disease  Yes disease  Total\n",
       "cp                                                  \n",
       "asymptomatic                  96          274    370\n",
       "atypical angina              146           21    167\n",
       "non-anginal                  123           47    170\n",
       "typical angina                26           15     41\n",
       "Total                        391          357    748"
      ]
     },
     "execution_count": 95,
     "metadata": {},
     "output_type": "execute_result"
    }
   ],
   "source": [
    "contingency_table = pd.crosstab(df['cp'], df['Heart Disease Status'], margins=True, margins_name=\"Total\")\n",
    "contingency_table"
   ]
  },
  {
   "cell_type": "code",
   "execution_count": 104,
   "metadata": {},
   "outputs": [
    {
     "data": {
      "application/vnd.plotly.v1+json": {
       "config": {
        "plotlyServerURL": "https://plot.ly"
       },
       "data": [
        {
         "customdata": [
          [
           "Asymptomatic"
          ],
          [
           "Atypical Angina"
          ],
          [
           "Non-Anginal"
          ],
          [
           "Typical Angina"
          ],
          [
           "Asymptomatic"
          ],
          [
           "Atypical Angina"
          ],
          [
           "Non-Anginal"
          ],
          [
           "Typical Angina"
          ]
         ],
         "domain": {
          "x": [
           0,
           1
          ],
          "y": [
           0,
           1
          ]
         },
         "hovertemplate": "Chest Pain Type=%{customdata[0]}<br>Count=%{value}<extra></extra>",
         "labels": [
          "Asymptomatic",
          "Atypical Angina",
          "Non-Anginal",
          "Typical Angina",
          "Asymptomatic",
          "Atypical Angina",
          "Non-Anginal",
          "Typical Angina"
         ],
         "legendgroup": "",
         "marker": {
          "colors": [
           "#8FBC8F",
           "#F4A460",
           "#FFD700",
           "#CD5C5C",
           "#8FBC8F",
           "#F4A460",
           "#FFD700",
           "#CD5C5C"
          ]
         },
         "name": "",
         "showlegend": true,
         "type": "pie",
         "values": [
          96,
          146,
          123,
          26,
          274,
          21,
          47,
          15
         ]
        }
       ],
       "layout": {
        "legend": {
         "tracegroupgap": 0
        },
        "piecolorway": [
         "#8FBC8F",
         "#F4A460",
         "#FFD700",
         "#CD5C5C"
        ],
        "template": {
         "data": {
          "bar": [
           {
            "error_x": {
             "color": "#2a3f5f"
            },
            "error_y": {
             "color": "#2a3f5f"
            },
            "marker": {
             "line": {
              "color": "#E5ECF6",
              "width": 0.5
             },
             "pattern": {
              "fillmode": "overlay",
              "size": 10,
              "solidity": 0.2
             }
            },
            "type": "bar"
           }
          ],
          "barpolar": [
           {
            "marker": {
             "line": {
              "color": "#E5ECF6",
              "width": 0.5
             },
             "pattern": {
              "fillmode": "overlay",
              "size": 10,
              "solidity": 0.2
             }
            },
            "type": "barpolar"
           }
          ],
          "carpet": [
           {
            "aaxis": {
             "endlinecolor": "#2a3f5f",
             "gridcolor": "white",
             "linecolor": "white",
             "minorgridcolor": "white",
             "startlinecolor": "#2a3f5f"
            },
            "baxis": {
             "endlinecolor": "#2a3f5f",
             "gridcolor": "white",
             "linecolor": "white",
             "minorgridcolor": "white",
             "startlinecolor": "#2a3f5f"
            },
            "type": "carpet"
           }
          ],
          "choropleth": [
           {
            "colorbar": {
             "outlinewidth": 0,
             "ticks": ""
            },
            "type": "choropleth"
           }
          ],
          "contour": [
           {
            "colorbar": {
             "outlinewidth": 0,
             "ticks": ""
            },
            "colorscale": [
             [
              0,
              "#0d0887"
             ],
             [
              0.1111111111111111,
              "#46039f"
             ],
             [
              0.2222222222222222,
              "#7201a8"
             ],
             [
              0.3333333333333333,
              "#9c179e"
             ],
             [
              0.4444444444444444,
              "#bd3786"
             ],
             [
              0.5555555555555556,
              "#d8576b"
             ],
             [
              0.6666666666666666,
              "#ed7953"
             ],
             [
              0.7777777777777778,
              "#fb9f3a"
             ],
             [
              0.8888888888888888,
              "#fdca26"
             ],
             [
              1,
              "#f0f921"
             ]
            ],
            "type": "contour"
           }
          ],
          "contourcarpet": [
           {
            "colorbar": {
             "outlinewidth": 0,
             "ticks": ""
            },
            "type": "contourcarpet"
           }
          ],
          "heatmap": [
           {
            "colorbar": {
             "outlinewidth": 0,
             "ticks": ""
            },
            "colorscale": [
             [
              0,
              "#0d0887"
             ],
             [
              0.1111111111111111,
              "#46039f"
             ],
             [
              0.2222222222222222,
              "#7201a8"
             ],
             [
              0.3333333333333333,
              "#9c179e"
             ],
             [
              0.4444444444444444,
              "#bd3786"
             ],
             [
              0.5555555555555556,
              "#d8576b"
             ],
             [
              0.6666666666666666,
              "#ed7953"
             ],
             [
              0.7777777777777778,
              "#fb9f3a"
             ],
             [
              0.8888888888888888,
              "#fdca26"
             ],
             [
              1,
              "#f0f921"
             ]
            ],
            "type": "heatmap"
           }
          ],
          "heatmapgl": [
           {
            "colorbar": {
             "outlinewidth": 0,
             "ticks": ""
            },
            "colorscale": [
             [
              0,
              "#0d0887"
             ],
             [
              0.1111111111111111,
              "#46039f"
             ],
             [
              0.2222222222222222,
              "#7201a8"
             ],
             [
              0.3333333333333333,
              "#9c179e"
             ],
             [
              0.4444444444444444,
              "#bd3786"
             ],
             [
              0.5555555555555556,
              "#d8576b"
             ],
             [
              0.6666666666666666,
              "#ed7953"
             ],
             [
              0.7777777777777778,
              "#fb9f3a"
             ],
             [
              0.8888888888888888,
              "#fdca26"
             ],
             [
              1,
              "#f0f921"
             ]
            ],
            "type": "heatmapgl"
           }
          ],
          "histogram": [
           {
            "marker": {
             "pattern": {
              "fillmode": "overlay",
              "size": 10,
              "solidity": 0.2
             }
            },
            "type": "histogram"
           }
          ],
          "histogram2d": [
           {
            "colorbar": {
             "outlinewidth": 0,
             "ticks": ""
            },
            "colorscale": [
             [
              0,
              "#0d0887"
             ],
             [
              0.1111111111111111,
              "#46039f"
             ],
             [
              0.2222222222222222,
              "#7201a8"
             ],
             [
              0.3333333333333333,
              "#9c179e"
             ],
             [
              0.4444444444444444,
              "#bd3786"
             ],
             [
              0.5555555555555556,
              "#d8576b"
             ],
             [
              0.6666666666666666,
              "#ed7953"
             ],
             [
              0.7777777777777778,
              "#fb9f3a"
             ],
             [
              0.8888888888888888,
              "#fdca26"
             ],
             [
              1,
              "#f0f921"
             ]
            ],
            "type": "histogram2d"
           }
          ],
          "histogram2dcontour": [
           {
            "colorbar": {
             "outlinewidth": 0,
             "ticks": ""
            },
            "colorscale": [
             [
              0,
              "#0d0887"
             ],
             [
              0.1111111111111111,
              "#46039f"
             ],
             [
              0.2222222222222222,
              "#7201a8"
             ],
             [
              0.3333333333333333,
              "#9c179e"
             ],
             [
              0.4444444444444444,
              "#bd3786"
             ],
             [
              0.5555555555555556,
              "#d8576b"
             ],
             [
              0.6666666666666666,
              "#ed7953"
             ],
             [
              0.7777777777777778,
              "#fb9f3a"
             ],
             [
              0.8888888888888888,
              "#fdca26"
             ],
             [
              1,
              "#f0f921"
             ]
            ],
            "type": "histogram2dcontour"
           }
          ],
          "mesh3d": [
           {
            "colorbar": {
             "outlinewidth": 0,
             "ticks": ""
            },
            "type": "mesh3d"
           }
          ],
          "parcoords": [
           {
            "line": {
             "colorbar": {
              "outlinewidth": 0,
              "ticks": ""
             }
            },
            "type": "parcoords"
           }
          ],
          "pie": [
           {
            "automargin": true,
            "type": "pie"
           }
          ],
          "scatter": [
           {
            "fillpattern": {
             "fillmode": "overlay",
             "size": 10,
             "solidity": 0.2
            },
            "type": "scatter"
           }
          ],
          "scatter3d": [
           {
            "line": {
             "colorbar": {
              "outlinewidth": 0,
              "ticks": ""
             }
            },
            "marker": {
             "colorbar": {
              "outlinewidth": 0,
              "ticks": ""
             }
            },
            "type": "scatter3d"
           }
          ],
          "scattercarpet": [
           {
            "marker": {
             "colorbar": {
              "outlinewidth": 0,
              "ticks": ""
             }
            },
            "type": "scattercarpet"
           }
          ],
          "scattergeo": [
           {
            "marker": {
             "colorbar": {
              "outlinewidth": 0,
              "ticks": ""
             }
            },
            "type": "scattergeo"
           }
          ],
          "scattergl": [
           {
            "marker": {
             "colorbar": {
              "outlinewidth": 0,
              "ticks": ""
             }
            },
            "type": "scattergl"
           }
          ],
          "scattermapbox": [
           {
            "marker": {
             "colorbar": {
              "outlinewidth": 0,
              "ticks": ""
             }
            },
            "type": "scattermapbox"
           }
          ],
          "scatterpolar": [
           {
            "marker": {
             "colorbar": {
              "outlinewidth": 0,
              "ticks": ""
             }
            },
            "type": "scatterpolar"
           }
          ],
          "scatterpolargl": [
           {
            "marker": {
             "colorbar": {
              "outlinewidth": 0,
              "ticks": ""
             }
            },
            "type": "scatterpolargl"
           }
          ],
          "scatterternary": [
           {
            "marker": {
             "colorbar": {
              "outlinewidth": 0,
              "ticks": ""
             }
            },
            "type": "scatterternary"
           }
          ],
          "surface": [
           {
            "colorbar": {
             "outlinewidth": 0,
             "ticks": ""
            },
            "colorscale": [
             [
              0,
              "#0d0887"
             ],
             [
              0.1111111111111111,
              "#46039f"
             ],
             [
              0.2222222222222222,
              "#7201a8"
             ],
             [
              0.3333333333333333,
              "#9c179e"
             ],
             [
              0.4444444444444444,
              "#bd3786"
             ],
             [
              0.5555555555555556,
              "#d8576b"
             ],
             [
              0.6666666666666666,
              "#ed7953"
             ],
             [
              0.7777777777777778,
              "#fb9f3a"
             ],
             [
              0.8888888888888888,
              "#fdca26"
             ],
             [
              1,
              "#f0f921"
             ]
            ],
            "type": "surface"
           }
          ],
          "table": [
           {
            "cells": {
             "fill": {
              "color": "#EBF0F8"
             },
             "line": {
              "color": "white"
             }
            },
            "header": {
             "fill": {
              "color": "#C8D4E3"
             },
             "line": {
              "color": "white"
             }
            },
            "type": "table"
           }
          ]
         },
         "layout": {
          "annotationdefaults": {
           "arrowcolor": "#2a3f5f",
           "arrowhead": 0,
           "arrowwidth": 1
          },
          "autotypenumbers": "strict",
          "coloraxis": {
           "colorbar": {
            "outlinewidth": 0,
            "ticks": ""
           }
          },
          "colorscale": {
           "diverging": [
            [
             0,
             "#8e0152"
            ],
            [
             0.1,
             "#c51b7d"
            ],
            [
             0.2,
             "#de77ae"
            ],
            [
             0.3,
             "#f1b6da"
            ],
            [
             0.4,
             "#fde0ef"
            ],
            [
             0.5,
             "#f7f7f7"
            ],
            [
             0.6,
             "#e6f5d0"
            ],
            [
             0.7,
             "#b8e186"
            ],
            [
             0.8,
             "#7fbc41"
            ],
            [
             0.9,
             "#4d9221"
            ],
            [
             1,
             "#276419"
            ]
           ],
           "sequential": [
            [
             0,
             "#0d0887"
            ],
            [
             0.1111111111111111,
             "#46039f"
            ],
            [
             0.2222222222222222,
             "#7201a8"
            ],
            [
             0.3333333333333333,
             "#9c179e"
            ],
            [
             0.4444444444444444,
             "#bd3786"
            ],
            [
             0.5555555555555556,
             "#d8576b"
            ],
            [
             0.6666666666666666,
             "#ed7953"
            ],
            [
             0.7777777777777778,
             "#fb9f3a"
            ],
            [
             0.8888888888888888,
             "#fdca26"
            ],
            [
             1,
             "#f0f921"
            ]
           ],
           "sequentialminus": [
            [
             0,
             "#0d0887"
            ],
            [
             0.1111111111111111,
             "#46039f"
            ],
            [
             0.2222222222222222,
             "#7201a8"
            ],
            [
             0.3333333333333333,
             "#9c179e"
            ],
            [
             0.4444444444444444,
             "#bd3786"
            ],
            [
             0.5555555555555556,
             "#d8576b"
            ],
            [
             0.6666666666666666,
             "#ed7953"
            ],
            [
             0.7777777777777778,
             "#fb9f3a"
            ],
            [
             0.8888888888888888,
             "#fdca26"
            ],
            [
             1,
             "#f0f921"
            ]
           ]
          },
          "colorway": [
           "#636efa",
           "#EF553B",
           "#00cc96",
           "#ab63fa",
           "#FFA15A",
           "#19d3f3",
           "#FF6692",
           "#B6E880",
           "#FF97FF",
           "#FECB52"
          ],
          "font": {
           "color": "#2a3f5f"
          },
          "geo": {
           "bgcolor": "white",
           "lakecolor": "white",
           "landcolor": "#E5ECF6",
           "showlakes": true,
           "showland": true,
           "subunitcolor": "white"
          },
          "hoverlabel": {
           "align": "left"
          },
          "hovermode": "closest",
          "mapbox": {
           "style": "light"
          },
          "paper_bgcolor": "white",
          "plot_bgcolor": "#E5ECF6",
          "polar": {
           "angularaxis": {
            "gridcolor": "white",
            "linecolor": "white",
            "ticks": ""
           },
           "bgcolor": "#E5ECF6",
           "radialaxis": {
            "gridcolor": "white",
            "linecolor": "white",
            "ticks": ""
           }
          },
          "scene": {
           "xaxis": {
            "backgroundcolor": "#E5ECF6",
            "gridcolor": "white",
            "gridwidth": 2,
            "linecolor": "white",
            "showbackground": true,
            "ticks": "",
            "zerolinecolor": "white"
           },
           "yaxis": {
            "backgroundcolor": "#E5ECF6",
            "gridcolor": "white",
            "gridwidth": 2,
            "linecolor": "white",
            "showbackground": true,
            "ticks": "",
            "zerolinecolor": "white"
           },
           "zaxis": {
            "backgroundcolor": "#E5ECF6",
            "gridcolor": "white",
            "gridwidth": 2,
            "linecolor": "white",
            "showbackground": true,
            "ticks": "",
            "zerolinecolor": "white"
           }
          },
          "shapedefaults": {
           "line": {
            "color": "#2a3f5f"
           }
          },
          "ternary": {
           "aaxis": {
            "gridcolor": "white",
            "linecolor": "white",
            "ticks": ""
           },
           "baxis": {
            "gridcolor": "white",
            "linecolor": "white",
            "ticks": ""
           },
           "bgcolor": "#E5ECF6",
           "caxis": {
            "gridcolor": "white",
            "linecolor": "white",
            "ticks": ""
           }
          },
          "title": {
           "x": 0.05
          },
          "xaxis": {
           "automargin": true,
           "gridcolor": "white",
           "linecolor": "white",
           "ticks": "",
           "title": {
            "standoff": 15
           },
           "zerolinecolor": "white",
           "zerolinewidth": 2
          },
          "yaxis": {
           "automargin": true,
           "gridcolor": "white",
           "linecolor": "white",
           "ticks": "",
           "title": {
            "standoff": 15
           },
           "zerolinecolor": "white",
           "zerolinewidth": 2
          }
         }
        },
        "title": {
         "text": "Heart Disease Status by Chest Pain Type"
        },
        "width": 1000
       }
      }
     },
     "metadata": {},
     "output_type": "display_data"
    }
   ],
   "source": [
    "# Creating a pie chart using Plotly\n",
    "# Data for chest pain types and heart disease status\n",
    "data = {\n",
    "    'Chest Pain Type': ['Asymptomatic', 'Atypical Angina', 'Non-Anginal', 'Typical Angina'],\n",
    "    'No Disease': [96, 146, 123, 26],\n",
    "    'Yes Disease': [274, 21, 47, 15]\n",
    "}\n",
    "\n",
    "# Creating a DataFrame\n",
    "contingency_table_cp = pd.DataFrame(data)\n",
    "\n",
    "# Melting the DataFrame for Plotly\n",
    "melted_table_cp = contingency_table_cp.melt(id_vars='Chest Pain Type', \n",
    "                                              value_vars=['No Disease', 'Yes Disease'],\n",
    "                                              var_name='Heart Disease Status', \n",
    "                                              value_name='Count')\n",
    "\n",
    "# Creating a pie chart using Plotly with distinct colors for each chest pain type\n",
    "fig = px.pie(melted_table_cp, names='Chest Pain Type', values='Count', \n",
    "             color='Chest Pain Type',\n",
    "             title='Heart Disease Status by Chest Pain Type',\n",
    "             color_discrete_sequence=['#8FBC8F', '#F4A460', '#FFD700', '#CD5C5C'])  # Assigning  unique colors\n",
    "\n",
    "# Show the plot\n",
    "fig.update_layout(width=1000)\n",
    "fig.show()\n"
   ]
  },
  {
   "cell_type": "markdown",
   "metadata": {},
   "source": [
    "### Observations on Heart Disease Status by Chest Pain Type\n",
    "\n",
    "The analysis of heart disease status based on different types of chest pain reveals the following insights:\n",
    "\n",
    "1. **Asymptomatic:** \n",
    "   - **No Disease:** 96 \n",
    "   - **Yes Disease:** 274 \n",
    "   - This category shows a high prevalence of heart disease, with a significant number of individuals being asymptomatic but still diagnosed with heart disease.\n",
    "\n",
    "2. **Atypical Angina:** \n",
    "   - **No Disease:** 146 \n",
    "   - **Yes Disease:** 21 \n",
    "   - In this group, there is a much lower occurrence of heart disease compared to asymptomatic individuals, suggesting that atypical angina may be associated with a better prognosis.\n",
    "\n",
    "3. **Non-Anginal Pain:** \n",
    "   - **No Disease:** 123 \n",
    "   - **Yes Disease:** 47 \n",
    "   - This group indicates a moderate prevalence of heart disease, showing that non-anginal pain can still be linked to heart disease, though not as strongly as in asymptomatic patients.\n",
    "\n",
    "4. **Typical Angina:** \n",
    "   - **No Disease:** 26 \n",
    "   - **Yes Disease:** 15 \n",
    "   - This category has the lowest number of individuals with heart disease, indicating that typical angina may not be as strong an indicator of heart disease in this dataset.\n",
    "\n",
    "### Conclusion\n",
    "The data suggests that individuals classified as asymptomatic have the highest risk for heart disease, while those with atypical angina show the least. This highlights the importance of thorough medical evaluation and monitoring for heart disease, even in patients who present with non-specific symptoms or no symptoms at all.\n"
   ]
  },
  {
   "cell_type": "markdown",
   "metadata": {},
   "source": [
    "<h1 style=\"font-family: 'Poppins', sans-serif; font-weight: 700; color: #1c1c1c; background: white; padding: 8px; border-radius: 10px; text-align: left; box-shadow: 0 4px 8px rgba(0, 0, 0, 0.1); letter-spacing: 1px; text-transform: capitalize; font-size: 1rem;\">\n",
    "2.3.6 Creating a correlation matrix to check relationships between different numeric variables <span style=\"color: #333333;\"></span>\n",
    "</h1>\n",
    "\n",
    "#### "
   ]
  },
  {
   "cell_type": "code",
   "execution_count": 13,
   "metadata": {},
   "outputs": [
    {
     "data": {
      "text/html": [
       "<div>\n",
       "<style scoped>\n",
       "    .dataframe tbody tr th:only-of-type {\n",
       "        vertical-align: middle;\n",
       "    }\n",
       "\n",
       "    .dataframe tbody tr th {\n",
       "        vertical-align: top;\n",
       "    }\n",
       "\n",
       "    .dataframe thead th {\n",
       "        text-align: right;\n",
       "    }\n",
       "</style>\n",
       "<table border=\"1\" class=\"dataframe\">\n",
       "  <thead>\n",
       "    <tr style=\"text-align: right;\">\n",
       "      <th></th>\n",
       "      <th>age</th>\n",
       "      <th>trestbps</th>\n",
       "      <th>chol</th>\n",
       "      <th>thalch</th>\n",
       "      <th>oldpeak</th>\n",
       "    </tr>\n",
       "  </thead>\n",
       "  <tbody>\n",
       "    <tr>\n",
       "      <th>age</th>\n",
       "      <td>1.000000</td>\n",
       "      <td>0.237060</td>\n",
       "      <td>0.085305</td>\n",
       "      <td>-0.354196</td>\n",
       "      <td>0.270804</td>\n",
       "    </tr>\n",
       "    <tr>\n",
       "      <th>trestbps</th>\n",
       "      <td>0.237060</td>\n",
       "      <td>1.000000</td>\n",
       "      <td>0.082185</td>\n",
       "      <td>-0.114337</td>\n",
       "      <td>0.193110</td>\n",
       "    </tr>\n",
       "    <tr>\n",
       "      <th>chol</th>\n",
       "      <td>0.085305</td>\n",
       "      <td>0.082185</td>\n",
       "      <td>1.000000</td>\n",
       "      <td>-0.039611</td>\n",
       "      <td>0.053981</td>\n",
       "    </tr>\n",
       "    <tr>\n",
       "      <th>thalch</th>\n",
       "      <td>-0.354196</td>\n",
       "      <td>-0.114337</td>\n",
       "      <td>-0.039611</td>\n",
       "      <td>1.000000</td>\n",
       "      <td>-0.247487</td>\n",
       "    </tr>\n",
       "    <tr>\n",
       "      <th>oldpeak</th>\n",
       "      <td>0.270804</td>\n",
       "      <td>0.193110</td>\n",
       "      <td>0.053981</td>\n",
       "      <td>-0.247487</td>\n",
       "      <td>1.000000</td>\n",
       "    </tr>\n",
       "  </tbody>\n",
       "</table>\n",
       "</div>"
      ],
      "text/plain": [
       "               age  trestbps      chol    thalch   oldpeak\n",
       "age       1.000000  0.237060  0.085305 -0.354196  0.270804\n",
       "trestbps  0.237060  1.000000  0.082185 -0.114337  0.193110\n",
       "chol      0.085305  0.082185  1.000000 -0.039611  0.053981\n",
       "thalch   -0.354196 -0.114337 -0.039611  1.000000 -0.247487\n",
       "oldpeak   0.270804  0.193110  0.053981 -0.247487  1.000000"
      ]
     },
     "execution_count": 13,
     "metadata": {},
     "output_type": "execute_result"
    }
   ],
   "source": [
    "numeric_df = df.select_dtypes(include=['int64', 'float64'])\n",
    "\n",
    "# Calculating the correlation matrix\n",
    "correlation_matrix = numeric_df.corr()\n",
    "correlation_matrix"
   ]
  },
  {
   "cell_type": "code",
   "execution_count": 15,
   "metadata": {},
   "outputs": [
    {
     "data": {
      "image/png": "[encoded data removed]",
      "text/plain": [
       "<Figure size 1000x800 with 2 Axes>"
      ]
     },
     "metadata": {},
     "output_type": "display_data"
    }
   ],
   "source": [
    "# Creating the correlation matrix\n",
    "data = {\n",
    "    'age': [1.0, 0.237060, 0.085305, -0.354196, 0.270804],\n",
    "    'trestbps': [0.237060, 1.0, 0.082185, -0.114337, 0.193110],\n",
    "    'chol': [0.085305, 0.082185, 1.0, -0.039611, 0.053981],\n",
    "    'thalch': [-0.354196, -0.114337, -0.039611, 1.0, -0.247487],\n",
    "    'oldpeak': [0.270804, 0.193110, 0.053981, -0.247487, 1.0]\n",
    "}\n",
    "\n",
    "# Creating a DataFrame\n",
    "correlation_matrix = pd.DataFrame(data, index=['age', 'trestbps', 'chol', 'thalch', 'oldpeak'])\n",
    "\n",
    "# Creating a heatmap\n",
    "plt.figure(figsize=(10, 8))  # Adjusting the figure size as needed\n",
    "sns.heatmap(correlation_matrix, annot=True, fmt='.2f', cmap='viridis', \n",
    "            cbar_kws={'label': 'Correlation Coefficient'}, \n",
    "            square=True, linewidths=0.5)\n",
    "\n",
    "# Updating title and labels\n",
    "plt.title('Correlation Heatmap of Heart Disease Indicators')\n",
    "plt.xlabel('Variables')\n",
    "plt.ylabel('Variables')\n",
    "\n",
    "# Show the plot\n",
    "plt.show()\n",
    "\n"
   ]
  },
  {
   "cell_type": "markdown",
   "metadata": {},
   "source": [
    "### Observations:\n",
    "----\n",
    "#### Correlation Heatmap Interpretation\n",
    "\n",
    "In the heatmap, **darker colors indicate stronger correlations**, while lighter colors represent weaker correlations.\n",
    "\n",
    "#### Key Relationships:\n",
    "\n",
    "1. **Age and Thalch**:\n",
    "   - **Correlation**: **-0.35**\n",
    "   - **Interpretation**: As age increases, the maximum heart rate tends to decrease. This suggests that older individuals may have lower exercise capacity.\n",
    "\n",
    "2. **Age and Oldpeak**:\n",
    "   - **Correlation**: **0.27**\n",
    "   - **Interpretation**: Older individuals may experience higher ST depression during exercise, indicating greater cardiac stress.\n",
    "\n",
    "3. **Trestbps and Oldpeak**:\n",
    "   - **Correlation**: **0.19**\n",
    "   - **Interpretation**: Higher resting blood pressure is moderately associated with increased ST depression, suggesting that individuals with higher blood pressure may experience more cardiac stress during exercise.\n",
    "\n",
    "4. **Thalch and Oldpeak**:\n",
    "   - **Correlation**: **-0.25**\n",
    "   - **Interpretation**: Higher maximum heart rates are associated with lower ST depression, indicating that better exercise performance may correlate with reduced cardiac stress.\n",
    "\n",
    "### Summary of Color Indicators:\n",
    "- **High Positive Correlation (close to +1)**: Strong direct relationship (e.g., both variables increase together).\n",
    "- **High Negative Correlation (close to -1)**: Strong inverse relationship (e.g., one variable increases while the other decreases).\n",
    "- **Close to 0**: Little to no linear relationship between the variables.\n"
   ]
  },
  {
   "cell_type": "markdown",
   "metadata": {},
   "source": [
    "<h1 style=\"font-family: 'Poppins', sans-serif; font-weight: 700; color: #1c1c1c; background: white; padding: 8px; border-radius: 10px; text-align: left; box-shadow: 0 4px 8px rgba(0, 0, 0, 0.1); letter-spacing: 1px; text-transform: capitalize; font-size: 1rem;\">\n",
    "2.3.7 Now, let's check the relationship between age and resting blood pressure while considering gender to verify the correlation matrix.<span style=\"color: #333333;\"></span>\n",
    "</h1>\n",
    "\n",
    "### \n"
   ]
  },
  {
   "cell_type": "code",
   "execution_count": 17,
   "metadata": {},
   "outputs": [
    {
     "data": {
      "application/vnd.plotly.v1+json": {
       "config": {
        "plotlyServerURL": "https://plot.ly"
       },
       "data": [
        {
         "customdata": [
          [
           233,
           "typical angina"
          ],
          [
           286,
           "asymptomatic"
          ],
          [
           229,
           "asymptomatic"
          ],
          [
           250,
           "non-anginal"
          ],
          [
           236,
           "atypical angina"
          ],
          [
           254,
           "asymptomatic"
          ],
          [
           203,
           "asymptomatic"
          ],
          [
           192,
           "asymptomatic"
          ],
          [
           256,
           "non-anginal"
          ],
          [
           263,
           "atypical angina"
          ],
          [
           199,
           "non-anginal"
          ],
          [
           168,
           "non-anginal"
          ],
          [
           229,
           "atypical angina"
          ],
          [
           239,
           "asymptomatic"
          ],
          [
           266,
           "atypical angina"
          ],
          [
           211,
           "typical angina"
          ],
          [
           284,
           "atypical angina"
          ],
          [
           224,
           "non-anginal"
          ],
          [
           206,
           "asymptomatic"
          ],
          [
           247,
           "asymptomatic"
          ],
          [
           167,
           "asymptomatic"
          ],
          [
           230,
           "asymptomatic"
          ],
          [
           335,
           "non-anginal"
          ],
          [
           234,
           "asymptomatic"
          ],
          [
           233,
           "non-anginal"
          ],
          [
           226,
           "asymptomatic"
          ],
          [
           177,
           "asymptomatic"
          ],
          [
           276,
           "asymptomatic"
          ],
          [
           353,
           "asymptomatic"
          ],
          [
           243,
           "non-anginal"
          ],
          [
           199,
           "typical angina"
          ],
          [
           212,
           "non-anginal"
          ],
          [
           230,
           "non-anginal"
          ],
          [
           175,
           "non-anginal"
          ],
          [
           243,
           "asymptomatic"
          ],
          [
           197,
           "non-anginal"
          ],
          [
           177,
           "asymptomatic"
          ],
          [
           290,
           "asymptomatic"
          ],
          [
           219,
           "atypical angina"
          ],
          [
           253,
           "asymptomatic"
          ],
          [
           266,
           "asymptomatic"
          ],
          [
           233,
           "non-anginal"
          ],
          [
           172,
           "asymptomatic"
          ],
          [
           273,
           "non-anginal"
          ],
          [
           213,
           "typical angina"
          ],
          [
           216,
           "asymptomatic"
          ],
          [
           188,
           "asymptomatic"
          ],
          [
           282,
           "asymptomatic"
          ],
          [
           185,
           "non-anginal"
          ],
          [
           232,
           "non-anginal"
          ],
          [
           326,
           "asymptomatic"
          ],
          [
           231,
           "non-anginal"
          ],
          [
           254,
           "asymptomatic"
          ],
          [
           267,
           "asymptomatic"
          ],
          [
           248,
           "asymptomatic"
          ],
          [
           197,
           "asymptomatic"
          ],
          [
           258,
           "asymptomatic"
          ],
          [
           245,
           "atypical angina"
          ],
          [
           270,
           "asymptomatic"
          ],
          [
           208,
           "asymptomatic"
          ],
          [
           321,
           "non-anginal"
          ],
          [
           274,
           "non-anginal"
          ],
          [
           325,
           "atypical angina"
          ],
          [
           235,
           "non-anginal"
          ],
          [
           257,
           "non-anginal"
          ],
          [
           302,
           "asymptomatic"
          ],
          [
           231,
           "non-anginal"
          ],
          [
           255,
           "asymptomatic"
          ],
          [
           239,
           "asymptomatic"
          ],
          [
           201,
           "atypical angina"
          ],
          [
           222,
           "asymptomatic"
          ],
          [
           260,
           "asymptomatic"
          ],
          [
           182,
           "typical angina"
          ],
          [
           188,
           "non-anginal"
          ],
          [
           309,
           "atypical angina"
          ],
          [
           177,
           "asymptomatic"
          ],
          [
           229,
           "non-anginal"
          ],
          [
           260,
           "asymptomatic"
          ],
          [
           219,
           "asymptomatic"
          ],
          [
           249,
           "asymptomatic"
          ],
          [
           186,
           "typical angina"
          ],
          [
           203,
           "atypical angina"
          ],
          [
           211,
           "non-anginal"
          ],
          [
           330,
           "asymptomatic"
          ],
          [
           254,
           "asymptomatic"
          ],
          [
           256,
           "asymptomatic"
          ],
          [
           222,
           "non-anginal"
          ],
          [
           217,
           "asymptomatic"
          ],
          [
           282,
           "typical angina"
          ],
          [
           239,
           "asymptomatic"
          ],
          [
           220,
           "atypical angina"
          ],
          [
           258,
           "non-anginal"
          ],
          [
           227,
           "non-anginal"
          ],
          [
           204,
           "atypical angina"
          ],
          [
           261,
           "asymptomatic"
          ],
          [
           174,
           "asymptomatic"
          ],
          [
           281,
           "atypical angina"
          ],
          [
           198,
           "asymptomatic"
          ],
          [
           245,
           "non-anginal"
          ],
          [
           221,
           "atypical angina"
          ],
          [
           288,
           "typical angina"
          ],
          [
           205,
           "atypical angina"
          ],
          [
           309,
           "non-anginal"
          ],
          [
           240,
           "non-anginal"
          ],
          [
           243,
           "non-anginal"
          ],
          [
           289,
           "asymptomatic"
          ],
          [
           250,
           "non-anginal"
          ],
          [
           308,
           "atypical angina"
          ],
          [
           298,
           "typical angina"
          ],
          [
           289,
           "asymptomatic"
          ],
          [
           246,
           "asymptomatic"
          ],
          [
           322,
           "asymptomatic"
          ],
          [
           299,
           "asymptomatic"
          ],
          [
           300,
           "asymptomatic"
          ],
          [
           293,
           "asymptomatic"
          ],
          [
           277,
           "non-anginal"
          ],
          [
           197,
           "atypical angina"
          ],
          [
           304,
           "asymptomatic"
          ],
          [
           255,
           "non-anginal"
          ],
          [
           207,
           "asymptomatic"
          ],
          [
           223,
           "non-anginal"
          ],
          [
           282,
           "asymptomatic"
          ],
          [
           269,
           "non-anginal"
          ],
          [
           226,
           "asymptomatic"
          ],
          [
           212,
           "asymptomatic"
          ],
          [
           274,
           "asymptomatic"
          ],
          [
           233,
           "asymptomatic"
          ],
          [
           184,
           "asymptomatic"
          ],
          [
           315,
           "non-anginal"
          ],
          [
           246,
           "non-anginal"
          ],
          [
           274,
           "asymptomatic"
          ],
          [
           244,
           "typical angina"
          ],
          [
           270,
           "typical angina"
          ],
          [
           240,
           "non-anginal"
          ],
          [
           246,
           "atypical angina"
          ],
          [
           283,
           "atypical angina"
          ],
          [
           254,
           "non-anginal"
          ],
          [
           196,
           "non-anginal"
          ],
          [
           298,
           "asymptomatic"
          ],
          [
           247,
           "asymptomatic"
          ],
          [
           299,
           "asymptomatic"
          ],
          [
           234,
           "typical angina"
          ],
          [
           273,
           "typical angina"
          ],
          [
           126,
           "non-anginal"
          ],
          [
           211,
           "asymptomatic"
          ],
          [
           309,
           "asymptomatic"
          ],
          [
           259,
           "asymptomatic"
          ],
          [
           200,
           "asymptomatic"
          ],
          [
           262,
           "atypical angina"
          ],
          [
           231,
           "typical angina"
          ],
          [
           214,
           "non-anginal"
          ],
          [
           230,
           "asymptomatic"
          ],
          [
           193,
           "typical angina"
          ],
          [
           271,
           "asymptomatic"
          ],
          [
           282,
           "asymptomatic"
          ],
          [
           204,
           "asymptomatic"
          ],
          [
           206,
           "asymptomatic"
          ],
          [
           212,
           "asymptomatic"
          ],
          [
           149,
           "non-anginal"
          ],
          [
           286,
           "asymptomatic"
          ],
          [
           283,
           "asymptomatic"
          ],
          [
           249,
           "asymptomatic"
          ],
          [
           295,
           "atypical angina"
          ],
          [
           235,
           "atypical angina"
          ],
          [
           234,
           "typical angina"
          ],
          [
           237,
           "asymptomatic"
          ],
          [
           234,
           "asymptomatic"
          ],
          [
           275,
           "asymptomatic"
          ],
          [
           212,
           "asymptomatic"
          ],
          [
           208,
           "atypical angina"
          ],
          [
           201,
           "asymptomatic"
          ],
          [
           218,
           "asymptomatic"
          ],
          [
           263,
           "asymptomatic"
          ],
          [
           303,
           "asymptomatic"
          ],
          [
           245,
           "atypical angina"
          ],
          [
           261,
           "atypical angina"
          ],
          [
           226,
           "non-anginal"
          ],
          [
           166,
           "asymptomatic"
          ],
          [
           315,
           "asymptomatic"
          ],
          [
           204,
           "asymptomatic"
          ],
          [
           218,
           "non-anginal"
          ],
          [
           223,
           "asymptomatic"
          ],
          [
           180,
           "non-anginal"
          ],
          [
           207,
           "asymptomatic"
          ],
          [
           228,
           "asymptomatic"
          ],
          [
           311,
           "asymptomatic"
          ],
          [
           204,
           "typical angina"
          ],
          [
           227,
           "typical angina"
          ],
          [
           232,
           "atypical angina"
          ],
          [
           335,
           "asymptomatic"
          ],
          [
           253,
           "non-anginal"
          ],
          [
           192,
           "atypical angina"
          ],
          [
           203,
           "asymptomatic"
          ],
          [
           318,
           "asymptomatic"
          ],
          [
           220,
           "atypical angina"
          ],
          [
           221,
           "atypical angina"
          ],
          [
           240,
           "atypical angina"
          ],
          [
           212,
           "non-anginal"
          ],
          [
           169,
           "asymptomatic"
          ],
          [
           187,
           "asymptomatic"
          ],
          [
           157,
           "atypical angina"
          ],
          [
           176,
           "asymptomatic"
          ],
          [
           264,
           "typical angina"
          ],
          [
           193,
           "asymptomatic"
          ],
          [
           131,
           "asymptomatic"
          ],
          [
           175,
           "non-anginal"
          ],
          [
           132,
           "atypical angina"
          ],
          [
           243,
           "atypical angina"
          ],
          [
           199.1303370786517,
           "atypical angina"
          ],
          [
           225,
           "atypical angina"
          ],
          [
           254,
           "atypical angina"
          ],
          [
           298,
           "non-anginal"
          ],
          [
           214,
           "atypical angina"
          ],
          [
           220,
           "atypical angina"
          ],
          [
           308,
           "atypical angina"
          ],
          [
           264,
           "atypical angina"
          ],
          [
           166,
           "atypical angina"
          ],
          [
           340,
           "non-anginal"
          ],
          [
           209,
           "non-anginal"
          ],
          [
           160,
           "non-anginal"
          ],
          [
           283,
           "atypical angina"
          ],
          [
           194,
           "non-anginal"
          ],
          [
           223,
           "asymptomatic"
          ],
          [
           315,
           "asymptomatic"
          ],
          [
           297,
           "atypical angina"
          ],
          [
           292,
           "non-anginal"
          ],
          [
           199.1303370786517,
           "atypical angina"
          ],
          [
           200,
           "atypical angina"
          ],
          [
           204,
           "atypical angina"
          ],
          [
           199.1303370786517,
           "atypical angina"
          ],
          [
           241,
           "atypical angina"
          ],
          [
           339,
           "non-anginal"
          ],
          [
           147,
           "non-anginal"
          ],
          [
           273,
           "asymptomatic"
          ],
          [
           307,
           "asymptomatic"
          ],
          [
           275,
           "atypical angina"
          ],
          [
           289,
           "atypical angina"
          ],
          [
           215,
           "non-anginal"
          ],
          [
           281,
           "non-anginal"
          ],
          [
           199.1303370786517,
           "non-anginal"
          ],
          [
           291,
           "atypical angina"
          ],
          [
           295,
           "atypical angina"
          ],
          [
           269,
           "atypical angina"
          ],
          [
           250,
           "asymptomatic"
          ],
          [
           196,
           "atypical angina"
          ],
          [
           198,
           "atypical angina"
          ],
          [
           268,
           "atypical angina"
          ],
          [
           228,
           "non-anginal"
          ],
          [
           147,
           "non-anginal"
          ],
          [
           358,
           "asymptomatic"
          ],
          [
           207,
           "atypical angina"
          ],
          [
           184,
           "atypical angina"
          ],
          [
           215,
           "atypical angina"
          ],
          [
           412,
           "asymptomatic"
          ],
          [
           224,
           "atypical angina"
          ],
          [
           199.1303370786517,
           "non-anginal"
          ],
          [
           225,
           "asymptomatic"
          ],
          [
           224,
           "asymptomatic"
          ],
          [
           275,
           "atypical angina"
          ],
          [
           230,
           "non-anginal"
          ],
          [
           163,
           "non-anginal"
          ],
          [
           238,
           "asymptomatic"
          ],
          [
           240,
           "asymptomatic"
          ],
          [
           280,
           "asymptomatic"
          ],
          [
           249,
           "typical angina"
          ],
          [
           263,
           "atypical angina"
          ],
          [
           276,
           "asymptomatic"
          ],
          [
           199.1303370786517,
           "atypical angina"
          ],
          [
           245,
           "atypical angina"
          ],
          [
           238,
           "atypical angina"
          ],
          [
           211,
           "non-anginal"
          ],
          [
           253,
           "atypical angina"
          ],
          [
           187,
           "non-anginal"
          ],
          [
           297,
           "asymptomatic"
          ],
          [
           199.1303370786517,
           "asymptomatic"
          ],
          [
           168,
           "atypical angina"
          ],
          [
           216,
           "atypical angina"
          ],
          [
           209,
           "atypical angina"
          ],
          [
           129,
           "asymptomatic"
          ],
          [
           215,
           "asymptomatic"
          ],
          [
           188,
           "atypical angina"
          ],
          [
           224,
           "atypical angina"
          ],
          [
           179,
           "asymptomatic"
          ],
          [
           284,
           "atypical angina"
          ],
          [
           100,
           "atypical angina"
          ],
          [
           196,
           "atypical angina"
          ],
          [
           259,
           "non-anginal"
          ],
          [
           199.1303370786517,
           "atypical angina"
          ],
          [
           320,
           "atypical angina"
          ],
          [
           195,
           "non-anginal"
          ],
          [
           260,
           "asymptomatic"
          ],
          [
           182,
           "asymptomatic"
          ],
          [
           243,
           "asymptomatic"
          ],
          [
           171,
           "typical angina"
          ],
          [
           208,
           "atypical angina"
          ],
          [
           238,
           "atypical angina"
          ],
          [
           246,
           "atypical angina"
          ],
          [
           195,
           "atypical angina"
          ],
          [
           305,
           "atypical angina"
          ],
          [
           217,
           "non-anginal"
          ],
          [
           199.1303370786517,
           "non-anginal"
          ],
          [
           365,
           "asymptomatic"
          ],
          [
           256,
           "atypical angina"
          ],
          [
           196,
           "atypical angina"
          ],
          [
           326,
           "atypical angina"
          ],
          [
           277,
           "non-anginal"
          ],
          [
           220,
           "non-anginal"
          ],
          [
           270,
           "asymptomatic"
          ],
          [
           229,
           "asymptomatic"
          ],
          [
           184,
           "atypical angina"
          ],
          [
           199.1303370786517,
           "non-anginal"
          ],
          [
           276,
           "non-anginal"
          ],
          [
           85,
           "asymptomatic"
          ],
          [
           260,
           "atypical angina"
          ],
          [
           230,
           "atypical angina"
          ],
          [
           251,
           "atypical angina"
          ],
          [
           179,
           "non-anginal"
          ],
          [
           222,
           "asymptomatic"
          ],
          [
           287,
           "atypical angina"
          ],
          [
           318,
           "non-anginal"
          ],
          [
           213,
           "non-anginal"
          ],
          [
           199.1303370786517,
           "asymptomatic"
          ],
          [
           246,
           "non-anginal"
          ],
          [
           292,
           "asymptomatic"
          ],
          [
           271,
           "atypical angina"
          ],
          [
           270,
           "asymptomatic"
          ],
          [
           156,
           "typical angina"
          ],
          [
           257,
           "atypical angina"
          ],
          [
           267,
           "atypical angina"
          ],
          [
           207,
           "asymptomatic"
          ],
          [
           196,
           "asymptomatic"
          ],
          [
           282,
           "asymptomatic"
          ],
          [
           117,
           "asymptomatic"
          ],
          [
           466,
           "asymptomatic"
          ],
          [
           289,
           "asymptomatic"
          ],
          [
           237,
           "asymptomatic"
          ],
          [
           247,
           "asymptomatic"
          ],
          [
           202,
           "asymptomatic"
          ],
          [
           186,
           "asymptomatic"
          ],
          [
           277,
           "asymptomatic"
          ],
          [
           193,
           "non-anginal"
          ],
          [
           226,
           "asymptomatic"
          ],
          [
           263,
           "asymptomatic"
          ],
          [
           260,
           "asymptomatic"
          ],
          [
           268,
           "asymptomatic"
          ],
          [
           265,
           "non-anginal"
          ],
          [
           206,
           "asymptomatic"
          ],
          [
           264,
           "asymptomatic"
          ],
          [
           225,
           "asymptomatic"
          ],
          [
           216,
           "asymptomatic"
          ],
          [
           224,
           "asymptomatic"
          ],
          [
           201,
           "asymptomatic"
          ],
          [
           265,
           "atypical angina"
          ],
          [
           213,
           "non-anginal"
          ],
          [
           248,
           "asymptomatic"
          ],
          [
           223,
           "asymptomatic"
          ],
          [
           306,
           "asymptomatic"
          ],
          [
           529,
           "asymptomatic"
          ],
          [
           199.1303370786517,
           "asymptomatic"
          ],
          [
           280,
           "asymptomatic"
          ],
          [
           291,
           "typical angina"
          ],
          [
           219,
           "asymptomatic"
          ],
          [
           231,
           "asymptomatic"
          ],
          [
           222,
           "asymptomatic"
          ],
          [
           275,
           "asymptomatic"
          ],
          [
           193,
           "asymptomatic"
          ],
          [
           329,
           "asymptomatic"
          ],
          [
           355,
           "asymptomatic"
          ],
          [
           233,
           "asymptomatic"
          ],
          [
           182,
           "asymptomatic"
          ],
          [
           199.1303370786517,
           "asymptomatic"
          ],
          [
           246,
           "asymptomatic"
          ],
          [
           237,
           "non-anginal"
          ],
          [
           242,
           "asymptomatic"
          ],
          [
           603,
           "asymptomatic"
          ],
          [
           199.1303370786517,
           "asymptomatic"
          ],
          [
           198,
           "asymptomatic"
          ],
          [
           268,
           "asymptomatic"
          ],
          [
           213,
           "asymptomatic"
          ],
          [
           255,
           "asymptomatic"
          ],
          [
           211,
           "non-anginal"
          ],
          [
           263,
           "asymptomatic"
          ],
          [
           172,
           "asymptomatic"
          ],
          [
           175,
           "asymptomatic"
          ],
          [
           288,
           "atypical angina"
          ],
          [
           290,
           "asymptomatic"
          ],
          [
           272,
           "typical angina"
          ],
          [
           341,
           "asymptomatic"
          ],
          [
           234,
           "asymptomatic"
          ],
          [
           160,
           "non-anginal"
          ],
          [
           342,
           "asymptomatic"
          ],
          [
           298,
           "asymptomatic"
          ],
          [
           404,
           "asymptomatic"
          ],
          [
           246,
           "asymptomatic"
          ],
          [
           518,
           "non-anginal"
          ],
          [
           285,
           "asymptomatic"
          ],
          [
           216,
           "asymptomatic"
          ],
          [
           295,
           "typical angina"
          ],
          [
           292,
           "atypical angina"
          ],
          [
           248,
           "asymptomatic"
          ],
          [
           230,
           "asymptomatic"
          ],
          [
           388,
           "asymptomatic"
          ],
          [
           164,
           "atypical angina"
          ],
          [
           199.1303370786517,
           "asymptomatic"
          ],
          [
           264,
           "asymptomatic"
          ],
          [
           263,
           "asymptomatic"
          ],
          [
           199.1303370786517,
           "asymptomatic"
          ],
          [
           336,
           "asymptomatic"
          ],
          [
           288,
           "asymptomatic"
          ],
          [
           491,
           "asymptomatic"
          ],
          [
           291,
           "asymptomatic"
          ],
          [
           212,
           "asymptomatic"
          ],
          [
           222,
           "asymptomatic"
          ],
          [
           231,
           "asymptomatic"
          ],
          [
           341,
           "asymptomatic"
          ],
          [
           266,
           "asymptomatic"
          ],
          [
           331,
           "asymptomatic"
          ],
          [
           342,
           "asymptomatic"
          ],
          [
           275,
           "asymptomatic"
          ],
          [
           260,
           "asymptomatic"
          ],
          [
           209,
           "asymptomatic"
          ],
          [
           218,
           "asymptomatic"
          ],
          [
           228,
           "asymptomatic"
          ],
          [
           213,
           "non-anginal"
          ],
          [
           236,
           "asymptomatic"
          ],
          [
           267,
           "atypical angina"
          ],
          [
           166,
           "atypical angina"
          ],
          [
           220,
           "asymptomatic"
          ],
          [
           177,
           "asymptomatic"
          ],
          [
           236,
           "asymptomatic"
          ],
          [
           186,
           "asymptomatic"
          ],
          [
           100,
           "asymptomatic"
          ],
          [
           228,
           "non-anginal"
          ],
          [
           171,
           "asymptomatic"
          ],
          [
           230,
           "asymptomatic"
          ],
          [
           281,
           "asymptomatic"
          ],
          [
           203,
           "asymptomatic"
          ],
          [
           277,
           "asymptomatic"
          ],
          [
           233,
           "asymptomatic"
          ],
          [
           240,
           "non-anginal"
          ],
          [
           153,
           "asymptomatic"
          ],
          [
           224,
           "atypical angina"
          ],
          [
           316,
           "non-anginal"
          ],
          [
           218,
           "asymptomatic"
          ],
          [
           311,
           "asymptomatic"
          ],
          [
           270,
           "typical angina"
          ],
          [
           217,
           "atypical angina"
          ],
          [
           214,
           "atypical angina"
          ],
          [
           214,
           "asymptomatic"
          ],
          [
           252,
           "typical angina"
          ],
          [
           220,
           "asymptomatic"
          ],
          [
           214,
           "non-anginal"
          ],
          [
           203,
           "asymptomatic"
          ],
          [
           339,
           "non-anginal"
          ],
          [
           216,
           "asymptomatic"
          ],
          [
           458,
           "asymptomatic"
          ],
          [
           241,
           "asymptomatic"
          ],
          [
           384,
           "asymptomatic"
          ],
          [
           297,
           "asymptomatic"
          ],
          [
           248,
           "asymptomatic"
          ],
          [
           308,
           "asymptomatic"
          ],
          [
           208,
           "asymptomatic"
          ],
          [
           227,
           "asymptomatic"
          ],
          [
           210,
           "asymptomatic"
          ],
          [
           245,
           "non-anginal"
          ],
          [
           225,
           "asymptomatic"
          ],
          [
           240,
           "non-anginal"
          ],
          [
           198,
           "asymptomatic"
          ],
          [
           195,
           "asymptomatic"
          ],
          [
           267,
           "asymptomatic"
          ],
          [
           161,
           "non-anginal"
          ],
          [
           258,
           "typical angina"
          ],
          [
           195,
           "non-anginal"
          ],
          [
           235,
           "asymptomatic"
          ],
          [
           305,
           "asymptomatic"
          ],
          [
           223,
           "asymptomatic"
          ],
          [
           282,
           "asymptomatic"
          ],
          [
           349,
           "asymptomatic"
          ],
          [
           199.1303370786517,
           "asymptomatic"
          ],
          [
           160,
           "asymptomatic"
          ],
          [
           236,
           "non-anginal"
          ],
          [
           312,
           "asymptomatic"
          ],
          [
           283,
           "atypical angina"
          ],
          [
           142,
           "non-anginal"
          ],
          [
           211,
           "asymptomatic"
          ],
          [
           218,
           "asymptomatic"
          ],
          [
           306,
           "asymptomatic"
          ],
          [
           186,
           "asymptomatic"
          ],
          [
           252,
           "asymptomatic"
          ],
          [
           222,
           "asymptomatic"
          ],
          [
           258,
           "asymptomatic"
          ],
          [
           202,
           "asymptomatic"
          ],
          [
           197,
           "asymptomatic"
          ],
          [
           204,
           "non-anginal"
          ],
          [
           199.1303370786517,
           "non-anginal"
          ],
          [
           192,
           "asymptomatic"
          ],
          [
           272,
           "asymptomatic"
          ],
          [
           220,
           "non-anginal"
          ],
          [
           200,
           "typical angina"
          ],
          [
           261,
           "asymptomatic"
          ],
          [
           181,
           "typical angina"
          ],
          [
           260,
           "asymptomatic"
          ],
          [
           220,
           "non-anginal"
          ],
          [
           221,
           "non-anginal"
          ],
          [
           216,
           "typical angina"
          ],
          [
           175,
           "non-anginal"
          ],
          [
           219,
           "non-anginal"
          ],
          [
           310,
           "asymptomatic"
          ],
          [
           208,
           "non-anginal"
          ],
          [
           232,
           "non-anginal"
          ],
          [
           273,
           "asymptomatic"
          ],
          [
           203,
           "non-anginal"
          ],
          [
           182,
           "atypical angina"
          ],
          [
           274,
           "asymptomatic"
          ],
          [
           204,
           "asymptomatic"
          ],
          [
           270,
           "asymptomatic"
          ],
          [
           292,
           "asymptomatic"
          ],
          [
           171,
           "asymptomatic"
          ],
          [
           221,
           "asymptomatic"
          ],
          [
           289,
           "asymptomatic"
          ],
          [
           217,
           "asymptomatic"
          ],
          [
           223,
           "asymptomatic"
          ],
          [
           199.1303370786517,
           "asymptomatic"
          ],
          [
           193,
           "asymptomatic"
          ],
          [
           199.1303370786517,
           "asymptomatic"
          ],
          [
           210,
           "asymptomatic"
          ],
          [
           282,
           "asymptomatic"
          ],
          [
           170,
           "asymptomatic"
          ],
          [
           369,
           "asymptomatic"
          ],
          [
           173,
           "asymptomatic"
          ],
          [
           289,
           "asymptomatic"
          ],
          [
           199.1303370786517,
           "asymptomatic"
          ],
          [
           199.1303370786517,
           "asymptomatic"
          ],
          [
           216,
           "asymptomatic"
          ],
          [
           271,
           "non-anginal"
          ],
          [
           244,
           "asymptomatic"
          ],
          [
           285,
           "atypical angina"
          ],
          [
           243,
           "asymptomatic"
          ],
          [
           240,
           "non-anginal"
          ],
          [
           219,
           "asymptomatic"
          ],
          [
           237,
           "non-anginal"
          ],
          [
           165,
           "atypical angina"
          ],
          [
           213,
           "asymptomatic"
          ],
          [
           287,
           "asymptomatic"
          ],
          [
           258,
           "asymptomatic"
          ],
          [
           256,
           "asymptomatic"
          ],
          [
           186,
           "asymptomatic"
          ],
          [
           264,
           "asymptomatic"
          ],
          [
           199.1303370786517,
           "non-anginal"
          ],
          [
           226,
           "asymptomatic"
          ],
          [
           203,
           "asymptomatic"
          ],
          [
           207,
           "asymptomatic"
          ],
          [
           284,
           "non-anginal"
          ],
          [
           337,
           "non-anginal"
          ],
          [
           219,
           "non-anginal"
          ],
          [
           310,
           "asymptomatic"
          ],
          [
           254,
           "non-anginal"
          ],
          [
           254,
           "asymptomatic"
          ],
          [
           300,
           "asymptomatic"
          ],
          [
           170,
           "asymptomatic"
          ],
          [
           310,
           "asymptomatic"
          ],
          [
           139,
           "typical angina"
          ],
          [
           223,
           "asymptomatic"
          ],
          [
           385,
           "asymptomatic"
          ],
          [
           254,
           "atypical angina"
          ]
         ],
         "hovertemplate": "Sex=Male<br>Age=%{x}<br>Resting Blood Pressure=%{y}<br>chol=%{customdata[0]}<br>cp=%{customdata[1]}<extra></extra>",
         "legendgroup": "Male",
         "marker": {
          "color": "#636efa",
          "symbol": "circle"
         },
         "mode": "markers",
         "name": "Male",
         "orientation": "v",
         "showlegend": true,
         "type": "scatter",
         "x": [
          63,
          67,
          67,
          37,
          56,
          63,
          53,
          57,
          56,
          44,
          52,
          57,
          48,
          54,
          49,
          64,
          58,
          58,
          60,
          43,
          40,
          60,
          64,
          59,
          44,
          42,
          43,
          57,
          55,
          61,
          40,
          59,
          58,
          51,
          50,
          53,
          65,
          44,
          44,
          60,
          54,
          50,
          41,
          54,
          51,
          58,
          54,
          60,
          60,
          54,
          59,
          46,
          67,
          62,
          65,
          44,
          60,
          48,
          58,
          45,
          39,
          68,
          52,
          44,
          47,
          66,
          62,
          52,
          59,
          52,
          48,
          45,
          34,
          49,
          54,
          59,
          57,
          61,
          39,
          56,
          52,
          41,
          58,
          63,
          65,
          48,
          51,
          55,
          65,
          54,
          44,
          54,
          51,
          29,
          51,
          70,
          62,
          35,
          51,
          59,
          59,
          52,
          64,
          58,
          47,
          57,
          41,
          45,
          52,
          55,
          64,
          70,
          51,
          58,
          60,
          68,
          46,
          77,
          48,
          57,
          52,
          35,
          70,
          53,
          64,
          57,
          52,
          56,
          43,
          53,
          48,
          42,
          59,
          42,
          66,
          54,
          69,
          50,
          51,
          43,
          67,
          69,
          59,
          57,
          43,
          45,
          58,
          50,
          55,
          38,
          41,
          52,
          56,
          59,
          53,
          47,
          54,
          66,
          49,
          54,
          56,
          46,
          42,
          41,
          61,
          67,
          58,
          47,
          52,
          62,
          57,
          58,
          64,
          43,
          70,
          57,
          44,
          61,
          42,
          52,
          59,
          40,
          42,
          61,
          66,
          46,
          59,
          64,
          57,
          57,
          47,
          35,
          61,
          58,
          58,
          56,
          56,
          67,
          44,
          63,
          41,
          59,
          45,
          68,
          57,
          38,
          28,
          29,
          29,
          32,
          32,
          33,
          34,
          34,
          35,
          35,
          36,
          36,
          36,
          36,
          37,
          37,
          37,
          37,
          38,
          38,
          39,
          39,
          39,
          39,
          39,
          39,
          39,
          39,
          39,
          40,
          40,
          40,
          40,
          40,
          41,
          41,
          41,
          41,
          42,
          42,
          42,
          42,
          42,
          42,
          43,
          44,
          44,
          44,
          45,
          45,
          45,
          45,
          46,
          46,
          46,
          46,
          46,
          46,
          47,
          47,
          47,
          48,
          48,
          48,
          48,
          49,
          49,
          49,
          49,
          50,
          50,
          50,
          50,
          50,
          51,
          51,
          51,
          52,
          52,
          52,
          52,
          53,
          53,
          53,
          53,
          53,
          53,
          54,
          54,
          54,
          54,
          54,
          54,
          54,
          54,
          54,
          55,
          55,
          55,
          55,
          55,
          55,
          55,
          56,
          56,
          56,
          56,
          57,
          58,
          58,
          58,
          58,
          59,
          59,
          59,
          59,
          60,
          61,
          62,
          31,
          34,
          35,
          36,
          37,
          38,
          38,
          38,
          40,
          41,
          41,
          43,
          46,
          46,
          46,
          47,
          47,
          48,
          48,
          48,
          49,
          49,
          50,
          52,
          54,
          54,
          55,
          57,
          58,
          60,
          63,
          65,
          32,
          38,
          39,
          43,
          45,
          46,
          46,
          48,
          48,
          48,
          48,
          50,
          52,
          52,
          53,
          54,
          54,
          54,
          54,
          54,
          55,
          56,
          57,
          58,
          58,
          41,
          43,
          44,
          44,
          46,
          49,
          49,
          51,
          52,
          52,
          52,
          52,
          53,
          53,
          54,
          55,
          55,
          55,
          56,
          56,
          58,
          59,
          59,
          65,
          66,
          41,
          43,
          44,
          47,
          49,
          49,
          50,
          50,
          52,
          52,
          56,
          65,
          63,
          44,
          60,
          55,
          66,
          65,
          60,
          56,
          62,
          63,
          46,
          60,
          56,
          55,
          77,
          63,
          60,
          58,
          57,
          59,
          42,
          62,
          56,
          60,
          51,
          57,
          67,
          63,
          55,
          57,
          65,
          54,
          72,
          75,
          51,
          60,
          58,
          61,
          67,
          62,
          65,
          63,
          69,
          51,
          62,
          55,
          75,
          40,
          58,
          60,
          63,
          35,
          62,
          68,
          65,
          63,
          64,
          61,
          50,
          59,
          55,
          45,
          65,
          61,
          49,
          72,
          50,
          64,
          55,
          63,
          59,
          74,
          54,
          57,
          62,
          76,
          70,
          48,
          48,
          61,
          66,
          68,
          55,
          62,
          71,
          74,
          53,
          58,
          75,
          56,
          58,
          64,
          54,
          54,
          59,
          55,
          57,
          61,
          41,
          71,
          38,
          55,
          56,
          69,
          64,
          72,
          69,
          56,
          62,
          67,
          57,
          69,
          51,
          48,
          69,
          69,
          64,
          57,
          53,
          37,
          67,
          74,
          63,
          58,
          61,
          64,
          58,
          60,
          57,
          55,
          55,
          56,
          57,
          61,
          61,
          58,
          74,
          68,
          62,
          53,
          62,
          46,
          62,
          55,
          58,
          62
         ],
         "xaxis": "x",
         "y": [
          145,
          160,
          120,
          130,
          120,
          130,
          140,
          140,
          130,
          120,
          172,
          150,
          110,
          140,
          130,
          110,
          120,
          132,
          130,
          150,
          110,
          117,
          140,
          135,
          130,
          140,
          120,
          150,
          132,
          150,
          140,
          150,
          112,
          110,
          150,
          130,
          120,
          112,
          130,
          130,
          124,
          140,
          110,
          125,
          125,
          128,
          120,
          145,
          140,
          150,
          170,
          150,
          125,
          120,
          110,
          110,
          125,
          130,
          150,
          104,
          140,
          180,
          120,
          140,
          138,
          120,
          130,
          128,
          110,
          134,
          122,
          115,
          118,
          120,
          108,
          140,
          128,
          120,
          118,
          125,
          118,
          135,
          140,
          130,
          135,
          130,
          100,
          140,
          138,
          110,
          120,
          120,
          94,
          130,
          140,
          145,
          120,
          120,
          125,
          140,
          170,
          128,
          125,
          105,
          108,
          165,
          112,
          128,
          152,
          160,
          120,
          130,
          140,
          125,
          140,
          118,
          101,
          125,
          124,
          132,
          138,
          126,
          160,
          142,
          145,
          152,
          108,
          132,
          130,
          130,
          124,
          148,
          178,
          120,
          160,
          192,
          140,
          129,
          140,
          132,
          100,
          160,
          160,
          150,
          110,
          142,
          128,
          144,
          130,
          120,
          130,
          112,
          120,
          138,
          123,
          112,
          110,
          112,
          118,
          122,
          130,
          120,
          120,
          110,
          134,
          120,
          100,
          110,
          125,
          128,
          110,
          146,
          128,
          115,
          156,
          124,
          120,
          138,
          136,
          128,
          126,
          152,
          130,
          140,
          160,
          140,
          134,
          170,
          154,
          110,
          130,
          122,
          148,
          114,
          125,
          130,
          120,
          152,
          120,
          140,
          120,
          164,
          110,
          144,
          130,
          138,
          130,
          120,
          140,
          110,
          125,
          120,
          150,
          98,
          120,
          150,
          120,
          112,
          130,
          150,
          130,
          130,
          120,
          130,
          140,
          145,
          120,
          120,
          120,
          130,
          190,
          120,
          160,
          110,
          130,
          130,
          140,
          130,
          130,
          140,
          120,
          120,
          125,
          112,
          120,
          120,
          150,
          120,
          160,
          140,
          142,
          120,
          130,
          150,
          140,
          135,
          120,
          140,
          140,
          120,
          150,
          110,
          110,
          180,
          110,
          160,
          140,
          100,
          130,
          140,
          110,
          100,
          140,
          120,
          140,
          120,
          140,
          170,
          140,
          150,
          125,
          130,
          130,
          120,
          140,
          160,
          140,
          120,
          140,
          120,
          124,
          130,
          140,
          120,
          110,
          120,
          120,
          160,
          160,
          120,
          150,
          150,
          120,
          140,
          145,
          110,
          120,
          120,
          140,
          130,
          130,
          130,
          120,
          140,
          130,
          130,
          140,
          135,
          140,
          130,
          180,
          140,
          120,
          125,
          140,
          120,
          140,
          110,
          120,
          140,
          110,
          120,
          92,
          120,
          110,
          120,
          150,
          110,
          118,
          120,
          140,
          150,
          106,
          120,
          160,
          115,
          130,
          145,
          130,
          125,
          125,
          140,
          140,
          130,
          100,
          150,
          140,
          118,
          110,
          110,
          120,
          130,
          120,
          130,
          122,
          160,
          160,
          160,
          130,
          120,
          170,
          120,
          120,
          130,
          130,
          140,
          200,
          140,
          150,
          150,
          160,
          130,
          130,
          120,
          150,
          130,
          140,
          130,
          140,
          135,
          112,
          130,
          140,
          160,
          145,
          180,
          140,
          140,
          160,
          145,
          150,
          170,
          136,
          130,
          140,
          170,
          140,
          120,
          140,
          135,
          160,
          128,
          150,
          140,
          140,
          140,
          160,
          155,
          130,
          140,
          130,
          132,
          142,
          110,
          150,
          160,
          126,
          120,
          170,
          110,
          130,
          120,
          132.1324041811847,
          124,
          160,
          132.1324041811847,
          132.1324041811847,
          132.1324041811847,
          122,
          134,
          152,
          124,
          132.1324041811847,
          132.1324041811847,
          130,
          142,
          132.1324041811847,
          110,
          140,
          132.1324041811847,
          136,
          120,
          170,
          132.1324041811847,
          142,
          132,
          146,
          160,
          135,
          136,
          130,
          140,
          132.1324041811847,
          158,
          132.1324041811847,
          136,
          106,
          110,
          132.1324041811847,
          160,
          132.1324041811847,
          112,
          150,
          150,
          96,
          130,
          120,
          144,
          124,
          150,
          132.1324041811847,
          132.1324041811847,
          132.1324041811847,
          132.1324041811847,
          132.1324041811847,
          132.1324041811847,
          132.1324041811847,
          116,
          110,
          125,
          150,
          130,
          110,
          132.1324041811847,
          104,
          170,
          132.1324041811847,
          132,
          142,
          112,
          132.1324041811847,
          172,
          120,
          132.1324041811847,
          132.1324041811847,
          155,
          150,
          160,
          132.1324041811847,
          132.1324041811847,
          134,
          132.1324041811847,
          132.1324041811847,
          140,
          132.1324041811847,
          144,
          132.1324041811847,
          150,
          130,
          110,
          158,
          128,
          132.1324041811847,
          150,
          160,
          132.1324041811847,
          132.1324041811847,
          132.1324041811847,
          132.1324041811847,
          156,
          132.1324041811847,
          132.1324041811847,
          140,
          122,
          132.1324041811847,
          132.1324041811847,
          180,
          124,
          118,
          140,
          140,
          132.1324041811847,
          100,
          190,
          130,
          160,
          130,
          122,
          132.1324041811847,
          120,
          130,
          130,
          132.1324041811847,
          120,
          150,
          155,
          134,
          160,
          144,
          158,
          134,
          132.1324041811847,
          122,
          132.1324041811847,
          120
         ],
         "yaxis": "y"
        },
        {
         "hovertemplate": "<b>OLS trendline</b><br>trestbps = 0.377794 * age + 112.892<br>R<sup>2</sup>=0.046423<br><br>Sex=Male<br>Age=%{x}<br>Resting Blood Pressure=%{y} <b>(trend)</b><extra></extra>",
         "legendgroup": "Male",
         "marker": {
          "color": "#636efa",
          "symbol": "circle"
         },
         "mode": "lines",
         "name": "Male",
         "showlegend": false,
         "type": "scatter",
         "x": [
          28,
          29,
          29,
          29,
          31,
          32,
          32,
          32,
          33,
          34,
          34,
          34,
          34,
          35,
          35,
          35,
          35,
          35,
          35,
          35,
          36,
          36,
          36,
          36,
          36,
          37,
          37,
          37,
          37,
          37,
          37,
          37,
          38,
          38,
          38,
          38,
          38,
          38,
          38,
          38,
          38,
          39,
          39,
          39,
          39,
          39,
          39,
          39,
          39,
          39,
          39,
          39,
          39,
          40,
          40,
          40,
          40,
          40,
          40,
          40,
          40,
          40,
          40,
          41,
          41,
          41,
          41,
          41,
          41,
          41,
          41,
          41,
          41,
          41,
          41,
          41,
          41,
          41,
          42,
          42,
          42,
          42,
          42,
          42,
          42,
          42,
          42,
          42,
          42,
          42,
          42,
          43,
          43,
          43,
          43,
          43,
          43,
          43,
          43,
          43,
          43,
          43,
          44,
          44,
          44,
          44,
          44,
          44,
          44,
          44,
          44,
          44,
          44,
          44,
          44,
          44,
          44,
          44,
          45,
          45,
          45,
          45,
          45,
          45,
          45,
          45,
          45,
          45,
          45,
          46,
          46,
          46,
          46,
          46,
          46,
          46,
          46,
          46,
          46,
          46,
          46,
          46,
          46,
          46,
          46,
          46,
          46,
          47,
          47,
          47,
          47,
          47,
          47,
          47,
          47,
          47,
          47,
          47,
          48,
          48,
          48,
          48,
          48,
          48,
          48,
          48,
          48,
          48,
          48,
          48,
          48,
          48,
          48,
          48,
          48,
          48,
          48,
          48,
          49,
          49,
          49,
          49,
          49,
          49,
          49,
          49,
          49,
          49,
          49,
          49,
          49,
          49,
          50,
          50,
          50,
          50,
          50,
          50,
          50,
          50,
          50,
          50,
          50,
          50,
          50,
          50,
          50,
          51,
          51,
          51,
          51,
          51,
          51,
          51,
          51,
          51,
          51,
          51,
          51,
          51,
          51,
          51,
          51,
          52,
          52,
          52,
          52,
          52,
          52,
          52,
          52,
          52,
          52,
          52,
          52,
          52,
          52,
          52,
          52,
          52,
          52,
          52,
          52,
          52,
          52,
          52,
          52,
          52,
          53,
          53,
          53,
          53,
          53,
          53,
          53,
          53,
          53,
          53,
          53,
          53,
          53,
          53,
          53,
          53,
          53,
          54,
          54,
          54,
          54,
          54,
          54,
          54,
          54,
          54,
          54,
          54,
          54,
          54,
          54,
          54,
          54,
          54,
          54,
          54,
          54,
          54,
          54,
          54,
          54,
          54,
          54,
          54,
          54,
          54,
          54,
          54,
          54,
          55,
          55,
          55,
          55,
          55,
          55,
          55,
          55,
          55,
          55,
          55,
          55,
          55,
          55,
          55,
          55,
          55,
          55,
          55,
          55,
          55,
          55,
          55,
          55,
          55,
          55,
          55,
          55,
          56,
          56,
          56,
          56,
          56,
          56,
          56,
          56,
          56,
          56,
          56,
          56,
          56,
          56,
          56,
          56,
          56,
          56,
          56,
          56,
          56,
          56,
          56,
          57,
          57,
          57,
          57,
          57,
          57,
          57,
          57,
          57,
          57,
          57,
          57,
          57,
          57,
          57,
          57,
          57,
          57,
          57,
          57,
          57,
          57,
          57,
          57,
          57,
          58,
          58,
          58,
          58,
          58,
          58,
          58,
          58,
          58,
          58,
          58,
          58,
          58,
          58,
          58,
          58,
          58,
          58,
          58,
          58,
          58,
          58,
          58,
          58,
          58,
          58,
          58,
          58,
          58,
          58,
          59,
          59,
          59,
          59,
          59,
          59,
          59,
          59,
          59,
          59,
          59,
          59,
          59,
          59,
          59,
          59,
          59,
          59,
          59,
          59,
          59,
          59,
          59,
          60,
          60,
          60,
          60,
          60,
          60,
          60,
          60,
          60,
          60,
          60,
          60,
          60,
          60,
          60,
          60,
          60,
          61,
          61,
          61,
          61,
          61,
          61,
          61,
          61,
          61,
          61,
          61,
          61,
          61,
          61,
          61,
          62,
          62,
          62,
          62,
          62,
          62,
          62,
          62,
          62,
          62,
          62,
          62,
          62,
          62,
          62,
          62,
          62,
          63,
          63,
          63,
          63,
          63,
          63,
          63,
          63,
          63,
          63,
          63,
          63,
          63,
          63,
          64,
          64,
          64,
          64,
          64,
          64,
          64,
          64,
          64,
          64,
          64,
          64,
          64,
          65,
          65,
          65,
          65,
          65,
          65,
          65,
          65,
          65,
          65,
          65,
          65,
          66,
          66,
          66,
          66,
          66,
          66,
          66,
          67,
          67,
          67,
          67,
          67,
          67,
          67,
          67,
          67,
          67,
          68,
          68,
          68,
          68,
          68,
          68,
          69,
          69,
          69,
          69,
          69,
          69,
          69,
          69,
          70,
          70,
          70,
          70,
          70,
          71,
          71,
          72,
          72,
          72,
          74,
          74,
          74,
          74,
          75,
          75,
          75,
          76,
          77,
          77
         ],
         "xaxis": "x",
         "y": [
          123.470462877509,
          123.84825725743292,
          123.84825725743292,
          123.84825725743292,
          124.60384601728077,
          124.9816403972047,
          124.9816403972047,
          124.9816403972047,
          125.35943477712863,
          125.73722915705255,
          125.73722915705255,
          125.73722915705255,
          125.73722915705255,
          126.11502353697648,
          126.11502353697648,
          126.11502353697648,
          126.11502353697648,
          126.11502353697648,
          126.11502353697648,
          126.11502353697648,
          126.4928179169004,
          126.4928179169004,
          126.4928179169004,
          126.4928179169004,
          126.4928179169004,
          126.87061229682435,
          126.87061229682435,
          126.87061229682435,
          126.87061229682435,
          126.87061229682435,
          126.87061229682435,
          126.87061229682435,
          127.24840667674827,
          127.24840667674827,
          127.24840667674827,
          127.24840667674827,
          127.24840667674827,
          127.24840667674827,
          127.24840667674827,
          127.24840667674827,
          127.24840667674827,
          127.6262010566722,
          127.6262010566722,
          127.6262010566722,
          127.6262010566722,
          127.6262010566722,
          127.6262010566722,
          127.6262010566722,
          127.6262010566722,
          127.6262010566722,
          127.6262010566722,
          127.6262010566722,
          127.6262010566722,
          128.00399543659614,
          128.00399543659614,
          128.00399543659614,
          128.00399543659614,
          128.00399543659614,
          128.00399543659614,
          128.00399543659614,
          128.00399543659614,
          128.00399543659614,
          128.00399543659614,
          128.38178981652007,
          128.38178981652007,
          128.38178981652007,
          128.38178981652007,
          128.38178981652007,
          128.38178981652007,
          128.38178981652007,
          128.38178981652007,
          128.38178981652007,
          128.38178981652007,
          128.38178981652007,
          128.38178981652007,
          128.38178981652007,
          128.38178981652007,
          128.38178981652007,
          128.759584196444,
          128.759584196444,
          128.759584196444,
          128.759584196444,
          128.759584196444,
          128.759584196444,
          128.759584196444,
          128.759584196444,
          128.759584196444,
          128.759584196444,
          128.759584196444,
          128.759584196444,
          128.759584196444,
          129.13737857636792,
          129.13737857636792,
          129.13737857636792,
          129.13737857636792,
          129.13737857636792,
          129.13737857636792,
          129.13737857636792,
          129.13737857636792,
          129.13737857636792,
          129.13737857636792,
          129.13737857636792,
          129.51517295629185,
          129.51517295629185,
          129.51517295629185,
          129.51517295629185,
          129.51517295629185,
          129.51517295629185,
          129.51517295629185,
          129.51517295629185,
          129.51517295629185,
          129.51517295629185,
          129.51517295629185,
          129.51517295629185,
          129.51517295629185,
          129.51517295629185,
          129.51517295629185,
          129.51517295629185,
          129.89296733621578,
          129.89296733621578,
          129.89296733621578,
          129.89296733621578,
          129.89296733621578,
          129.89296733621578,
          129.89296733621578,
          129.89296733621578,
          129.89296733621578,
          129.89296733621578,
          129.89296733621578,
          130.2707617161397,
          130.2707617161397,
          130.2707617161397,
          130.2707617161397,
          130.2707617161397,
          130.2707617161397,
          130.2707617161397,
          130.2707617161397,
          130.2707617161397,
          130.2707617161397,
          130.2707617161397,
          130.2707617161397,
          130.2707617161397,
          130.2707617161397,
          130.2707617161397,
          130.2707617161397,
          130.2707617161397,
          130.2707617161397,
          130.64855609606363,
          130.64855609606363,
          130.64855609606363,
          130.64855609606363,
          130.64855609606363,
          130.64855609606363,
          130.64855609606363,
          130.64855609606363,
          130.64855609606363,
          130.64855609606363,
          130.64855609606363,
          131.02635047598756,
          131.02635047598756,
          131.02635047598756,
          131.02635047598756,
          131.02635047598756,
          131.02635047598756,
          131.02635047598756,
          131.02635047598756,
          131.02635047598756,
          131.02635047598756,
          131.02635047598756,
          131.02635047598756,
          131.02635047598756,
          131.02635047598756,
          131.02635047598756,
          131.02635047598756,
          131.02635047598756,
          131.02635047598756,
          131.02635047598756,
          131.02635047598756,
          131.40414485591148,
          131.40414485591148,
          131.40414485591148,
          131.40414485591148,
          131.40414485591148,
          131.40414485591148,
          131.40414485591148,
          131.40414485591148,
          131.40414485591148,
          131.40414485591148,
          131.40414485591148,
          131.40414485591148,
          131.40414485591148,
          131.40414485591148,
          131.7819392358354,
          131.7819392358354,
          131.7819392358354,
          131.7819392358354,
          131.7819392358354,
          131.7819392358354,
          131.7819392358354,
          131.7819392358354,
          131.7819392358354,
          131.7819392358354,
          131.7819392358354,
          131.7819392358354,
          131.7819392358354,
          131.7819392358354,
          131.7819392358354,
          132.15973361575934,
          132.15973361575934,
          132.15973361575934,
          132.15973361575934,
          132.15973361575934,
          132.15973361575934,
          132.15973361575934,
          132.15973361575934,
          132.15973361575934,
          132.15973361575934,
          132.15973361575934,
          132.15973361575934,
          132.15973361575934,
          132.15973361575934,
          132.15973361575934,
          132.15973361575934,
          132.53752799568326,
          132.53752799568326,
          132.53752799568326,
          132.53752799568326,
          132.53752799568326,
          132.53752799568326,
          132.53752799568326,
          132.53752799568326,
          132.53752799568326,
          132.53752799568326,
          132.53752799568326,
          132.53752799568326,
          132.53752799568326,
          132.53752799568326,
          132.53752799568326,
          132.53752799568326,
          132.53752799568326,
          132.53752799568326,
          132.53752799568326,
          132.53752799568326,
          132.53752799568326,
          132.53752799568326,
          132.53752799568326,
          132.53752799568326,
          132.53752799568326,
          132.9153223756072,
          132.9153223756072,
          132.9153223756072,
          132.9153223756072,
          132.9153223756072,
          132.9153223756072,
          132.9153223756072,
          132.9153223756072,
          132.9153223756072,
          132.9153223756072,
          132.9153223756072,
          132.9153223756072,
          132.9153223756072,
          132.9153223756072,
          132.9153223756072,
          132.9153223756072,
          132.9153223756072,
          133.29311675553112,
          133.29311675553112,
          133.29311675553112,
          133.29311675553112,
          133.29311675553112,
          133.29311675553112,
          133.29311675553112,
          133.29311675553112,
          133.29311675553112,
          133.29311675553112,
          133.29311675553112,
          133.29311675553112,
          133.29311675553112,
          133.29311675553112,
          133.29311675553112,
          133.29311675553112,
          133.29311675553112,
          133.29311675553112,
          133.29311675553112,
          133.29311675553112,
          133.29311675553112,
          133.29311675553112,
          133.29311675553112,
          133.29311675553112,
          133.29311675553112,
          133.29311675553112,
          133.29311675553112,
          133.29311675553112,
          133.29311675553112,
          133.29311675553112,
          133.29311675553112,
          133.29311675553112,
          133.67091113545507,
          133.67091113545507,
          133.67091113545507,
          133.67091113545507,
          133.67091113545507,
          133.67091113545507,
          133.67091113545507,
          133.67091113545507,
          133.67091113545507,
          133.67091113545507,
          133.67091113545507,
          133.67091113545507,
          133.67091113545507,
          133.67091113545507,
          133.67091113545507,
          133.67091113545507,
          133.67091113545507,
          133.67091113545507,
          133.67091113545507,
          133.67091113545507,
          133.67091113545507,
          133.67091113545507,
          133.67091113545507,
          133.67091113545507,
          133.67091113545507,
          133.67091113545507,
          133.67091113545507,
          133.67091113545507,
          134.04870551537897,
          134.04870551537897,
          134.04870551537897,
          134.04870551537897,
          134.04870551537897,
          134.04870551537897,
          134.04870551537897,
          134.04870551537897,
          134.04870551537897,
          134.04870551537897,
          134.04870551537897,
          134.04870551537897,
          134.04870551537897,
          134.04870551537897,
          134.04870551537897,
          134.04870551537897,
          134.04870551537897,
          134.04870551537897,
          134.04870551537897,
          134.04870551537897,
          134.04870551537897,
          134.04870551537897,
          134.04870551537897,
          134.42649989530292,
          134.42649989530292,
          134.42649989530292,
          134.42649989530292,
          134.42649989530292,
          134.42649989530292,
          134.42649989530292,
          134.42649989530292,
          134.42649989530292,
          134.42649989530292,
          134.42649989530292,
          134.42649989530292,
          134.42649989530292,
          134.42649989530292,
          134.42649989530292,
          134.42649989530292,
          134.42649989530292,
          134.42649989530292,
          134.42649989530292,
          134.42649989530292,
          134.42649989530292,
          134.42649989530292,
          134.42649989530292,
          134.42649989530292,
          134.42649989530292,
          134.80429427522685,
          134.80429427522685,
          134.80429427522685,
          134.80429427522685,
          134.80429427522685,
          134.80429427522685,
          134.80429427522685,
          134.80429427522685,
          134.80429427522685,
          134.80429427522685,
          134.80429427522685,
          134.80429427522685,
          134.80429427522685,
          134.80429427522685,
          134.80429427522685,
          134.80429427522685,
          134.80429427522685,
          134.80429427522685,
          134.80429427522685,
          134.80429427522685,
          134.80429427522685,
          134.80429427522685,
          134.80429427522685,
          134.80429427522685,
          134.80429427522685,
          134.80429427522685,
          134.80429427522685,
          134.80429427522685,
          134.80429427522685,
          134.80429427522685,
          135.18208865515078,
          135.18208865515078,
          135.18208865515078,
          135.18208865515078,
          135.18208865515078,
          135.18208865515078,
          135.18208865515078,
          135.18208865515078,
          135.18208865515078,
          135.18208865515078,
          135.18208865515078,
          135.18208865515078,
          135.18208865515078,
          135.18208865515078,
          135.18208865515078,
          135.18208865515078,
          135.18208865515078,
          135.18208865515078,
          135.18208865515078,
          135.18208865515078,
          135.18208865515078,
          135.18208865515078,
          135.18208865515078,
          135.5598830350747,
          135.5598830350747,
          135.5598830350747,
          135.5598830350747,
          135.5598830350747,
          135.5598830350747,
          135.5598830350747,
          135.5598830350747,
          135.5598830350747,
          135.5598830350747,
          135.5598830350747,
          135.5598830350747,
          135.5598830350747,
          135.5598830350747,
          135.5598830350747,
          135.5598830350747,
          135.5598830350747,
          135.93767741499863,
          135.93767741499863,
          135.93767741499863,
          135.93767741499863,
          135.93767741499863,
          135.93767741499863,
          135.93767741499863,
          135.93767741499863,
          135.93767741499863,
          135.93767741499863,
          135.93767741499863,
          135.93767741499863,
          135.93767741499863,
          135.93767741499863,
          135.93767741499863,
          136.31547179492256,
          136.31547179492256,
          136.31547179492256,
          136.31547179492256,
          136.31547179492256,
          136.31547179492256,
          136.31547179492256,
          136.31547179492256,
          136.31547179492256,
          136.31547179492256,
          136.31547179492256,
          136.31547179492256,
          136.31547179492256,
          136.31547179492256,
          136.31547179492256,
          136.31547179492256,
          136.31547179492256,
          136.69326617484649,
          136.69326617484649,
          136.69326617484649,
          136.69326617484649,
          136.69326617484649,
          136.69326617484649,
          136.69326617484649,
          136.69326617484649,
          136.69326617484649,
          136.69326617484649,
          136.69326617484649,
          136.69326617484649,
          136.69326617484649,
          136.69326617484649,
          137.0710605547704,
          137.0710605547704,
          137.0710605547704,
          137.0710605547704,
          137.0710605547704,
          137.0710605547704,
          137.0710605547704,
          137.0710605547704,
          137.0710605547704,
          137.0710605547704,
          137.0710605547704,
          137.0710605547704,
          137.0710605547704,
          137.44885493469434,
          137.44885493469434,
          137.44885493469434,
          137.44885493469434,
          137.44885493469434,
          137.44885493469434,
          137.44885493469434,
          137.44885493469434,
          137.44885493469434,
          137.44885493469434,
          137.44885493469434,
          137.44885493469434,
          137.82664931461827,
          137.82664931461827,
          137.82664931461827,
          137.82664931461827,
          137.82664931461827,
          137.82664931461827,
          137.82664931461827,
          138.2044436945422,
          138.2044436945422,
          138.2044436945422,
          138.2044436945422,
          138.2044436945422,
          138.2044436945422,
          138.2044436945422,
          138.2044436945422,
          138.2044436945422,
          138.2044436945422,
          138.58223807446612,
          138.58223807446612,
          138.58223807446612,
          138.58223807446612,
          138.58223807446612,
          138.58223807446612,
          138.96003245439005,
          138.96003245439005,
          138.96003245439005,
          138.96003245439005,
          138.96003245439005,
          138.96003245439005,
          138.96003245439005,
          138.96003245439005,
          139.33782683431397,
          139.33782683431397,
          139.33782683431397,
          139.33782683431397,
          139.33782683431397,
          139.7156212142379,
          139.7156212142379,
          140.09341559416185,
          140.09341559416185,
          140.09341559416185,
          140.8490043540097,
          140.8490043540097,
          140.8490043540097,
          140.8490043540097,
          141.22679873393363,
          141.22679873393363,
          141.22679873393363,
          141.60459311385756,
          141.9823874937815,
          141.9823874937815
         ],
         "yaxis": "y"
        },
        {
         "customdata": [
          [
           204,
           "atypical angina"
          ],
          [
           268,
           "asymptomatic"
          ],
          [
           354,
           "asymptomatic"
          ],
          [
           294,
           "atypical angina"
          ],
          [
           275,
           "non-anginal"
          ],
          [
           283,
           "typical angina"
          ],
          [
           219,
           "non-anginal"
          ],
          [
           340,
           "non-anginal"
          ],
          [
           226,
           "typical angina"
          ],
          [
           239,
           "typical angina"
          ],
          [
           225,
           "asymptomatic"
          ],
          [
           302,
           "atypical angina"
          ],
          [
           330,
           "asymptomatic"
          ],
          [
           417,
           "non-anginal"
          ],
          [
           198,
           "atypical angina"
          ],
          [
           305,
           "asymptomatic"
          ],
          [
           177,
           "non-anginal"
          ],
          [
           304,
           "non-anginal"
          ],
          [
           269,
           "non-anginal"
          ],
          [
           360,
           "non-anginal"
          ],
          [
           308,
           "non-anginal"
          ],
          [
           264,
           "asymptomatic"
          ],
          [
           216,
           "non-anginal"
          ],
          [
           234,
           "asymptomatic"
          ],
          [
           256,
           "non-anginal"
          ],
          [
           164,
           "asymptomatic"
          ],
          [
           141,
           "non-anginal"
          ],
          [
           252,
           "non-anginal"
          ],
          [
           258,
           "asymptomatic"
          ],
          [
           303,
           "asymptomatic"
          ],
          [
           265,
           "non-anginal"
          ],
          [
           307,
           "asymptomatic"
          ],
          [
           341,
           "asymptomatic"
          ],
          [
           263,
           "non-anginal"
          ],
          [
           183,
           "asymptomatic"
          ],
          [
           407,
           "asymptomatic"
          ],
          [
           234,
           "atypical angina"
          ],
          [
           288,
           "asymptomatic"
          ],
          [
           209,
           "asymptomatic"
          ],
          [
           213,
           "non-anginal"
          ],
          [
           250,
           "atypical angina"
          ],
          [
           318,
           "non-anginal"
          ],
          [
           265,
           "asymptomatic"
          ],
          [
           564,
           "non-anginal"
          ],
          [
           214,
           "non-anginal"
          ],
          [
           248,
           "asymptomatic"
          ],
          [
           288,
           "atypical angina"
          ],
          [
           160,
           "atypical angina"
          ],
          [
           249,
           "asymptomatic"
          ],
          [
           394,
           "asymptomatic"
          ],
          [
           409,
           "asymptomatic"
          ],
          [
           305,
           "asymptomatic"
          ],
          [
           195,
           "atypical angina"
          ],
          [
           294,
           "asymptomatic"
          ],
          [
           211,
           "non-anginal"
          ],
          [
           236,
           "asymptomatic"
          ],
          [
           244,
           "atypical angina"
          ],
          [
           254,
           "asymptomatic"
          ],
          [
           325,
           "asymptomatic"
          ],
          [
           313,
           "non-anginal"
          ],
          [
           244,
           "asymptomatic"
          ],
          [
           215,
           "non-anginal"
          ],
          [
           228,
           "asymptomatic"
          ],
          [
           204,
           "atypical angina"
          ],
          [
           243,
           "asymptomatic"
          ],
          [
           303,
           "asymptomatic"
          ],
          [
           268,
           "non-anginal"
          ],
          [
           267,
           "non-anginal"
          ],
          [
           199,
           "non-anginal"
          ],
          [
           269,
           "asymptomatic"
          ],
          [
           210,
           "atypical angina"
          ],
          [
           277,
           "non-anginal"
          ],
          [
           196,
           "non-anginal"
          ],
          [
           327,
           "asymptomatic"
          ],
          [
           269,
           "atypical angina"
          ],
          [
           201,
           "non-anginal"
          ],
          [
           271,
           "atypical angina"
          ],
          [
           306,
           "atypical angina"
          ],
          [
           269,
           "asymptomatic"
          ],
          [
           178,
           "non-anginal"
          ],
          [
           295,
           "non-anginal"
          ],
          [
           209,
           "non-anginal"
          ],
          [
           223,
           "asymptomatic"
          ],
          [
           197,
           "non-anginal"
          ],
          [
           242,
           "non-anginal"
          ],
          [
           319,
           "atypical angina"
          ],
          [
           240,
           "typical angina"
          ],
          [
           149,
           "asymptomatic"
          ],
          [
           278,
           "non-anginal"
          ],
          [
           220,
           "non-anginal"
          ],
          [
           197,
           "asymptomatic"
          ],
          [
           205,
           "asymptomatic"
          ],
          [
           225,
           "asymptomatic"
          ],
          [
           342,
           "atypical angina"
          ],
          [
           197,
           "asymptomatic"
          ],
          [
           241,
           "asymptomatic"
          ],
          [
           236,
           "atypical angina"
          ],
          [
           237,
           "typical angina"
          ],
          [
           219,
           "atypical angina"
          ],
          [
           198,
           "atypical angina"
          ],
          [
           161,
           "atypical angina"
          ],
          [
           160,
           "typical angina"
          ],
          [
           167,
           "asymptomatic"
          ],
          [
           260,
           "atypical angina"
          ],
          [
           211,
           "non-anginal"
          ],
          [
           173,
           "asymptomatic"
          ],
          [
           275,
           "atypical angina"
          ],
          [
           182,
           "non-anginal"
          ],
          [
           250,
           "atypical angina"
          ],
          [
           184,
           "atypical angina"
          ],
          [
           245,
           "atypical angina"
          ],
          [
           211,
           "non-anginal"
          ],
          [
           223,
           "typical angina"
          ],
          [
           201,
           "atypical angina"
          ],
          [
           215,
           "atypical angina"
          ],
          [
           249,
           "atypical angina"
          ],
          [
           266,
           "atypical angina"
          ],
          [
           186,
           "atypical angina"
          ],
          [
           199.1303370786517,
           "non-anginal"
          ],
          [
           218,
           "asymptomatic"
          ],
          [
           237,
           "atypical angina"
          ],
          [
           199.1303370786517,
           "atypical angina"
          ],
          [
           297,
           "asymptomatic"
          ],
          [
           238,
           "asymptomatic"
          ],
          [
           257,
           "atypical angina"
          ],
          [
           199.1303370786517,
           "non-anginal"
          ],
          [
           308,
           "atypical angina"
          ],
          [
           199.1303370786517,
           "atypical angina"
          ],
          [
           284,
           "atypical angina"
          ],
          [
           195,
           "non-anginal"
          ],
          [
           163,
           "asymptomatic"
          ],
          [
           254,
           "asymptomatic"
          ],
          [
           227,
           "asymptomatic"
          ],
          [
           199.1303370786517,
           "atypical angina"
          ],
          [
           199.1303370786517,
           "atypical angina"
          ],
          [
           201,
           "atypical angina"
          ],
          [
           207,
           "non-anginal"
          ],
          [
           202,
           "atypical angina"
          ],
          [
           328,
           "asymptomatic"
          ],
          [
           194,
           "atypical angina"
          ],
          [
           190,
           "non-anginal"
          ],
          [
           220,
           "non-anginal"
          ],
          [
           200,
           "non-anginal"
          ],
          [
           210,
           "atypical angina"
          ],
          [
           199.1303370786517,
           "atypical angina"
          ],
          [
           272,
           "non-anginal"
          ],
          [
           180,
           "asymptomatic"
          ],
          [
           468,
           "atypical angina"
          ],
          [
           216,
           "atypical angina"
          ],
          [
           274,
           "non-anginal"
          ],
          [
           221,
           "atypical angina"
          ],
          [
           230,
           "atypical angina"
          ],
          [
           273,
           "atypical angina"
          ],
          [
           253,
           "atypical angina"
          ],
          [
           309,
           "atypical angina"
          ],
          [
           230,
           "atypical angina"
          ],
          [
           312,
           "atypical angina"
          ],
          [
           344,
           "atypical angina"
          ],
          [
           320,
           "atypical angina"
          ],
          [
           394,
           "atypical angina"
          ],
          [
           219,
           "non-anginal"
          ],
          [
           308,
           "typical angina"
          ],
          [
           347,
           "asymptomatic"
          ],
          [
           188,
           "atypical angina"
          ],
          [
           294,
           "asymptomatic"
          ],
          [
           193,
           "typical angina"
          ],
          [
           246,
           "asymptomatic"
          ],
          [
           180,
           "non-anginal"
          ],
          [
           288,
           "non-anginal"
          ],
          [
           303,
           "asymptomatic"
          ],
          [
           338,
           "asymptomatic"
          ],
          [
           392,
           "asymptomatic"
          ],
          [
           248,
           "non-anginal"
          ],
          [
           214,
           "asymptomatic"
          ],
          [
           279,
           "atypical angina"
          ],
          [
           205,
           "asymptomatic"
          ],
          [
           294,
           "non-anginal"
          ],
          [
           393,
           "atypical angina"
          ],
          [
           276,
           "asymptomatic"
          ],
          [
           274,
           "asymptomatic"
          ],
          [
           298,
           "atypical angina"
          ],
          [
           258,
           "asymptomatic"
          ],
          [
           333,
           "asymptomatic"
          ]
         ],
         "hovertemplate": "Sex=Female<br>Age=%{x}<br>Resting Blood Pressure=%{y}<br>chol=%{customdata[0]}<br>cp=%{customdata[1]}<extra></extra>",
         "legendgroup": "Female",
         "marker": {
          "color": "#EF553B",
          "symbol": "circle"
         },
         "mode": "markers",
         "name": "Female",
         "orientation": "v",
         "showlegend": true,
         "type": "scatter",
         "x": [
          41,
          62,
          57,
          56,
          48,
          58,
          50,
          58,
          66,
          69,
          65,
          71,
          61,
          65,
          41,
          51,
          46,
          54,
          65,
          65,
          51,
          53,
          53,
          53,
          51,
          62,
          44,
          63,
          60,
          57,
          71,
          61,
          43,
          62,
          35,
          63,
          45,
          56,
          62,
          43,
          55,
          60,
          42,
          67,
          54,
          58,
          54,
          45,
          59,
          62,
          56,
          60,
          63,
          62,
          68,
          45,
          50,
          50,
          64,
          64,
          62,
          37,
          66,
          46,
          46,
          64,
          41,
          54,
          39,
          63,
          34,
          67,
          52,
          55,
          74,
          54,
          49,
          41,
          49,
          60,
          51,
          42,
          67,
          76,
          44,
          58,
          60,
          71,
          66,
          39,
          58,
          55,
          58,
          55,
          63,
          57,
          57,
          30,
          31,
          32,
          34,
          35,
          35,
          37,
          37,
          37,
          38,
          39,
          41,
          41,
          41,
          42,
          43,
          43,
          43,
          43,
          43,
          43,
          43,
          44,
          45,
          45,
          45,
          46,
          47,
          47,
          48,
          48,
          48,
          48,
          48,
          48,
          48,
          49,
          49,
          49,
          49,
          50,
          50,
          51,
          51,
          51,
          51,
          52,
          52,
          52,
          52,
          53,
          53,
          53,
          54,
          54,
          54,
          54,
          54,
          54,
          54,
          55,
          55,
          55,
          56,
          57,
          57,
          59,
          61,
          62,
          33,
          49,
          50,
          51,
          59,
          40,
          47,
          48,
          56,
          47,
          54,
          58,
          64,
          54,
          61,
          51,
          54
         ],
         "xaxis": "x",
         "y": [
          130,
          140,
          120,
          140,
          130,
          150,
          120,
          120,
          150,
          140,
          150,
          160,
          130,
          140,
          105,
          130,
          142,
          135,
          155,
          160,
          140,
          130,
          128,
          138,
          130,
          160,
          108,
          135,
          150,
          128,
          110,
          145,
          132,
          130,
          138,
          150,
          130,
          200,
          124,
          122,
          135,
          102,
          102,
          115,
          110,
          100,
          132,
          112,
          174,
          140,
          134,
          158,
          140,
          138,
          120,
          138,
          120,
          110,
          180,
          140,
          150,
          120,
          178,
          105,
          138,
          130,
          112,
          108,
          94,
          108,
          118,
          152,
          136,
          180,
          120,
          160,
          134,
          126,
          130,
          120,
          120,
          120,
          106,
          140,
          118,
          136,
          150,
          112,
          146,
          138,
          130,
          128,
          170,
          132,
          124,
          140,
          130,
          170,
          100,
          105,
          130,
          120,
          140,
          120,
          130,
          130,
          120,
          110,
          110,
          125,
          130,
          115,
          100,
          120,
          120,
          120,
          120,
          150,
          150,
          120,
          130,
          180,
          132,
          130,
          140,
          130,
          132.1324041811847,
          120,
          120,
          120,
          108,
          120,
          150,
          110,
          110,
          124,
          130,
          110,
          120,
          160,
          110,
          130,
          150,
          120,
          140,
          125,
          130,
          113,
          140,
          120,
          120,
          120,
          120,
          130,
          140,
          150,
          160,
          110,
          122,
          130,
          130,
          130,
          180,
          130,
          130,
          160,
          100,
          160,
          140,
          160,
          130,
          150,
          135,
          138,
          120,
          120,
          130,
          180,
          142,
          138,
          140,
          114,
          127
         ],
         "yaxis": "y"
        },
        {
         "hovertemplate": "<b>OLS trendline</b><br>trestbps = 0.593157 * age + 100.902<br>R<sup>2</sup>=0.088178<br><br>Sex=Female<br>Age=%{x}<br>Resting Blood Pressure=%{y} <b>(trend)</b><extra></extra>",
         "legendgroup": "Female",
         "marker": {
          "color": "#EF553B",
          "symbol": "circle"
         },
         "mode": "lines",
         "name": "Female",
         "showlegend": false,
         "type": "scatter",
         "x": [
          30,
          31,
          32,
          33,
          34,
          34,
          35,
          35,
          35,
          37,
          37,
          37,
          37,
          38,
          39,
          39,
          39,
          40,
          41,
          41,
          41,
          41,
          41,
          41,
          41,
          42,
          42,
          42,
          43,
          43,
          43,
          43,
          43,
          43,
          43,
          43,
          43,
          44,
          44,
          44,
          45,
          45,
          45,
          45,
          45,
          45,
          46,
          46,
          46,
          46,
          47,
          47,
          47,
          47,
          48,
          48,
          48,
          48,
          48,
          48,
          48,
          48,
          48,
          49,
          49,
          49,
          49,
          49,
          49,
          49,
          50,
          50,
          50,
          50,
          50,
          50,
          51,
          51,
          51,
          51,
          51,
          51,
          51,
          51,
          51,
          51,
          52,
          52,
          52,
          52,
          52,
          53,
          53,
          53,
          53,
          53,
          53,
          54,
          54,
          54,
          54,
          54,
          54,
          54,
          54,
          54,
          54,
          54,
          54,
          54,
          54,
          54,
          55,
          55,
          55,
          55,
          55,
          55,
          55,
          56,
          56,
          56,
          56,
          56,
          57,
          57,
          57,
          57,
          57,
          57,
          58,
          58,
          58,
          58,
          58,
          58,
          58,
          59,
          59,
          59,
          60,
          60,
          60,
          60,
          60,
          61,
          61,
          61,
          61,
          62,
          62,
          62,
          62,
          62,
          62,
          62,
          62,
          63,
          63,
          63,
          63,
          63,
          64,
          64,
          64,
          64,
          65,
          65,
          65,
          65,
          66,
          66,
          66,
          67,
          67,
          67,
          68,
          69,
          71,
          71,
          71,
          74,
          76
         ],
         "xaxis": "x",
         "y": [
          118.69676756082187,
          119.2899244813813,
          119.88308140194076,
          120.4762383225002,
          121.06939524305963,
          121.06939524305963,
          121.66255216361908,
          121.66255216361908,
          121.66255216361908,
          122.84886600473797,
          122.84886600473797,
          122.84886600473797,
          122.84886600473797,
          123.44202292529741,
          124.03517984585685,
          124.03517984585685,
          124.03517984585685,
          124.62833676641628,
          125.22149368697573,
          125.22149368697573,
          125.22149368697573,
          125.22149368697573,
          125.22149368697573,
          125.22149368697573,
          125.22149368697573,
          125.81465060753519,
          125.81465060753519,
          125.81465060753519,
          126.40780752809462,
          126.40780752809462,
          126.40780752809462,
          126.40780752809462,
          126.40780752809462,
          126.40780752809462,
          126.40780752809462,
          126.40780752809462,
          126.40780752809462,
          127.00096444865406,
          127.00096444865406,
          127.00096444865406,
          127.5941213692135,
          127.5941213692135,
          127.5941213692135,
          127.5941213692135,
          127.5941213692135,
          127.5941213692135,
          128.18727828977296,
          128.18727828977296,
          128.18727828977296,
          128.18727828977296,
          128.7804352103324,
          128.7804352103324,
          128.7804352103324,
          128.7804352103324,
          129.37359213089184,
          129.37359213089184,
          129.37359213089184,
          129.37359213089184,
          129.37359213089184,
          129.37359213089184,
          129.37359213089184,
          129.37359213089184,
          129.37359213089184,
          129.96674905145127,
          129.96674905145127,
          129.96674905145127,
          129.96674905145127,
          129.96674905145127,
          129.96674905145127,
          129.96674905145127,
          130.5599059720107,
          130.5599059720107,
          130.5599059720107,
          130.5599059720107,
          130.5599059720107,
          130.5599059720107,
          131.15306289257018,
          131.15306289257018,
          131.15306289257018,
          131.15306289257018,
          131.15306289257018,
          131.15306289257018,
          131.15306289257018,
          131.15306289257018,
          131.15306289257018,
          131.15306289257018,
          131.7462198131296,
          131.7462198131296,
          131.7462198131296,
          131.7462198131296,
          131.7462198131296,
          132.33937673368905,
          132.33937673368905,
          132.33937673368905,
          132.33937673368905,
          132.33937673368905,
          132.33937673368905,
          132.9325336542485,
          132.9325336542485,
          132.9325336542485,
          132.9325336542485,
          132.9325336542485,
          132.9325336542485,
          132.9325336542485,
          132.9325336542485,
          132.9325336542485,
          132.9325336542485,
          132.9325336542485,
          132.9325336542485,
          132.9325336542485,
          132.9325336542485,
          132.9325336542485,
          133.52569057480792,
          133.52569057480792,
          133.52569057480792,
          133.52569057480792,
          133.52569057480792,
          133.52569057480792,
          133.52569057480792,
          134.1188474953674,
          134.1188474953674,
          134.1188474953674,
          134.1188474953674,
          134.1188474953674,
          134.71200441592683,
          134.71200441592683,
          134.71200441592683,
          134.71200441592683,
          134.71200441592683,
          134.71200441592683,
          135.30516133648626,
          135.30516133648626,
          135.30516133648626,
          135.30516133648626,
          135.30516133648626,
          135.30516133648626,
          135.30516133648626,
          135.8983182570457,
          135.8983182570457,
          135.8983182570457,
          136.49147517760514,
          136.49147517760514,
          136.49147517760514,
          136.49147517760514,
          136.49147517760514,
          137.0846320981646,
          137.0846320981646,
          137.0846320981646,
          137.0846320981646,
          137.677789018724,
          137.677789018724,
          137.677789018724,
          137.677789018724,
          137.677789018724,
          137.677789018724,
          137.677789018724,
          137.677789018724,
          138.27094593928348,
          138.27094593928348,
          138.27094593928348,
          138.27094593928348,
          138.27094593928348,
          138.86410285984292,
          138.86410285984292,
          138.86410285984292,
          138.86410285984292,
          139.45725978040235,
          139.45725978040235,
          139.45725978040235,
          139.45725978040235,
          140.05041670096182,
          140.05041670096182,
          140.05041670096182,
          140.64357362152123,
          140.64357362152123,
          140.64357362152123,
          141.2367305420807,
          141.82988746264013,
          143.016201303759,
          143.016201303759,
          143.016201303759,
          144.79567206543734,
          145.98198590655622
         ],
         "yaxis": "y"
        }
       ],
       "layout": {
        "legend": {
         "title": {
          "text": "Sex"
         },
         "tracegroupgap": 0
        },
        "template": {
         "data": {
          "bar": [
           {
            "error_x": {
             "color": "#2a3f5f"
            },
            "error_y": {
             "color": "#2a3f5f"
            },
            "marker": {
             "line": {
              "color": "#E5ECF6",
              "width": 0.5
             },
             "pattern": {
              "fillmode": "overlay",
              "size": 10,
              "solidity": 0.2
             }
            },
            "type": "bar"
           }
          ],
          "barpolar": [
           {
            "marker": {
             "line": {
              "color": "#E5ECF6",
              "width": 0.5
             },
             "pattern": {
              "fillmode": "overlay",
              "size": 10,
              "solidity": 0.2
             }
            },
            "type": "barpolar"
           }
          ],
          "carpet": [
           {
            "aaxis": {
             "endlinecolor": "#2a3f5f",
             "gridcolor": "white",
             "linecolor": "white",
             "minorgridcolor": "white",
             "startlinecolor": "#2a3f5f"
            },
            "baxis": {
             "endlinecolor": "#2a3f5f",
             "gridcolor": "white",
             "linecolor": "white",
             "minorgridcolor": "white",
             "startlinecolor": "#2a3f5f"
            },
            "type": "carpet"
           }
          ],
          "choropleth": [
           {
            "colorbar": {
             "outlinewidth": 0,
             "ticks": ""
            },
            "type": "choropleth"
           }
          ],
          "contour": [
           {
            "colorbar": {
             "outlinewidth": 0,
             "ticks": ""
            },
            "colorscale": [
             [
              0,
              "#0d0887"
             ],
             [
              0.1111111111111111,
              "#46039f"
             ],
             [
              0.2222222222222222,
              "#7201a8"
             ],
             [
              0.3333333333333333,
              "#9c179e"
             ],
             [
              0.4444444444444444,
              "#bd3786"
             ],
             [
              0.5555555555555556,
              "#d8576b"
             ],
             [
              0.6666666666666666,
              "#ed7953"
             ],
             [
              0.7777777777777778,
              "#fb9f3a"
             ],
             [
              0.8888888888888888,
              "#fdca26"
             ],
             [
              1,
              "#f0f921"
             ]
            ],
            "type": "contour"
           }
          ],
          "contourcarpet": [
           {
            "colorbar": {
             "outlinewidth": 0,
             "ticks": ""
            },
            "type": "contourcarpet"
           }
          ],
          "heatmap": [
           {
            "colorbar": {
             "outlinewidth": 0,
             "ticks": ""
            },
            "colorscale": [
             [
              0,
              "#0d0887"
             ],
             [
              0.1111111111111111,
              "#46039f"
             ],
             [
              0.2222222222222222,
              "#7201a8"
             ],
             [
              0.3333333333333333,
              "#9c179e"
             ],
             [
              0.4444444444444444,
              "#bd3786"
             ],
             [
              0.5555555555555556,
              "#d8576b"
             ],
             [
              0.6666666666666666,
              "#ed7953"
             ],
             [
              0.7777777777777778,
              "#fb9f3a"
             ],
             [
              0.8888888888888888,
              "#fdca26"
             ],
             [
              1,
              "#f0f921"
             ]
            ],
            "type": "heatmap"
           }
          ],
          "heatmapgl": [
           {
            "colorbar": {
             "outlinewidth": 0,
             "ticks": ""
            },
            "colorscale": [
             [
              0,
              "#0d0887"
             ],
             [
              0.1111111111111111,
              "#46039f"
             ],
             [
              0.2222222222222222,
              "#7201a8"
             ],
             [
              0.3333333333333333,
              "#9c179e"
             ],
             [
              0.4444444444444444,
              "#bd3786"
             ],
             [
              0.5555555555555556,
              "#d8576b"
             ],
             [
              0.6666666666666666,
              "#ed7953"
             ],
             [
              0.7777777777777778,
              "#fb9f3a"
             ],
             [
              0.8888888888888888,
              "#fdca26"
             ],
             [
              1,
              "#f0f921"
             ]
            ],
            "type": "heatmapgl"
           }
          ],
          "histogram": [
           {
            "marker": {
             "pattern": {
              "fillmode": "overlay",
              "size": 10,
              "solidity": 0.2
             }
            },
            "type": "histogram"
           }
          ],
          "histogram2d": [
           {
            "colorbar": {
             "outlinewidth": 0,
             "ticks": ""
            },
            "colorscale": [
             [
              0,
              "#0d0887"
             ],
             [
              0.1111111111111111,
              "#46039f"
             ],
             [
              0.2222222222222222,
              "#7201a8"
             ],
             [
              0.3333333333333333,
              "#9c179e"
             ],
             [
              0.4444444444444444,
              "#bd3786"
             ],
             [
              0.5555555555555556,
              "#d8576b"
             ],
             [
              0.6666666666666666,
              "#ed7953"
             ],
             [
              0.7777777777777778,
              "#fb9f3a"
             ],
             [
              0.8888888888888888,
              "#fdca26"
             ],
             [
              1,
              "#f0f921"
             ]
            ],
            "type": "histogram2d"
           }
          ],
          "histogram2dcontour": [
           {
            "colorbar": {
             "outlinewidth": 0,
             "ticks": ""
            },
            "colorscale": [
             [
              0,
              "#0d0887"
             ],
             [
              0.1111111111111111,
              "#46039f"
             ],
             [
              0.2222222222222222,
              "#7201a8"
             ],
             [
              0.3333333333333333,
              "#9c179e"
             ],
             [
              0.4444444444444444,
              "#bd3786"
             ],
             [
              0.5555555555555556,
              "#d8576b"
             ],
             [
              0.6666666666666666,
              "#ed7953"
             ],
             [
              0.7777777777777778,
              "#fb9f3a"
             ],
             [
              0.8888888888888888,
              "#fdca26"
             ],
             [
              1,
              "#f0f921"
             ]
            ],
            "type": "histogram2dcontour"
           }
          ],
          "mesh3d": [
           {
            "colorbar": {
             "outlinewidth": 0,
             "ticks": ""
            },
            "type": "mesh3d"
           }
          ],
          "parcoords": [
           {
            "line": {
             "colorbar": {
              "outlinewidth": 0,
              "ticks": ""
             }
            },
            "type": "parcoords"
           }
          ],
          "pie": [
           {
            "automargin": true,
            "type": "pie"
           }
          ],
          "scatter": [
           {
            "fillpattern": {
             "fillmode": "overlay",
             "size": 10,
             "solidity": 0.2
            },
            "type": "scatter"
           }
          ],
          "scatter3d": [
           {
            "line": {
             "colorbar": {
              "outlinewidth": 0,
              "ticks": ""
             }
            },
            "marker": {
             "colorbar": {
              "outlinewidth": 0,
              "ticks": ""
             }
            },
            "type": "scatter3d"
           }
          ],
          "scattercarpet": [
           {
            "marker": {
             "colorbar": {
              "outlinewidth": 0,
              "ticks": ""
             }
            },
            "type": "scattercarpet"
           }
          ],
          "scattergeo": [
           {
            "marker": {
             "colorbar": {
              "outlinewidth": 0,
              "ticks": ""
             }
            },
            "type": "scattergeo"
           }
          ],
          "scattergl": [
           {
            "marker": {
             "colorbar": {
              "outlinewidth": 0,
              "ticks": ""
             }
            },
            "type": "scattergl"
           }
          ],
          "scattermapbox": [
           {
            "marker": {
             "colorbar": {
              "outlinewidth": 0,
              "ticks": ""
             }
            },
            "type": "scattermapbox"
           }
          ],
          "scatterpolar": [
           {
            "marker": {
             "colorbar": {
              "outlinewidth": 0,
              "ticks": ""
             }
            },
            "type": "scatterpolar"
           }
          ],
          "scatterpolargl": [
           {
            "marker": {
             "colorbar": {
              "outlinewidth": 0,
              "ticks": ""
             }
            },
            "type": "scatterpolargl"
           }
          ],
          "scatterternary": [
           {
            "marker": {
             "colorbar": {
              "outlinewidth": 0,
              "ticks": ""
             }
            },
            "type": "scatterternary"
           }
          ],
          "surface": [
           {
            "colorbar": {
             "outlinewidth": 0,
             "ticks": ""
            },
            "colorscale": [
             [
              0,
              "#0d0887"
             ],
             [
              0.1111111111111111,
              "#46039f"
             ],
             [
              0.2222222222222222,
              "#7201a8"
             ],
             [
              0.3333333333333333,
              "#9c179e"
             ],
             [
              0.4444444444444444,
              "#bd3786"
             ],
             [
              0.5555555555555556,
              "#d8576b"
             ],
             [
              0.6666666666666666,
              "#ed7953"
             ],
             [
              0.7777777777777778,
              "#fb9f3a"
             ],
             [
              0.8888888888888888,
              "#fdca26"
             ],
             [
              1,
              "#f0f921"
             ]
            ],
            "type": "surface"
           }
          ],
          "table": [
           {
            "cells": {
             "fill": {
              "color": "#EBF0F8"
             },
             "line": {
              "color": "white"
             }
            },
            "header": {
             "fill": {
              "color": "#C8D4E3"
             },
             "line": {
              "color": "white"
             }
            },
            "type": "table"
           }
          ]
         },
         "layout": {
          "annotationdefaults": {
           "arrowcolor": "#2a3f5f",
           "arrowhead": 0,
           "arrowwidth": 1
          },
          "autotypenumbers": "strict",
          "coloraxis": {
           "colorbar": {
            "outlinewidth": 0,
            "ticks": ""
           }
          },
          "colorscale": {
           "diverging": [
            [
             0,
             "#8e0152"
            ],
            [
             0.1,
             "#c51b7d"
            ],
            [
             0.2,
             "#de77ae"
            ],
            [
             0.3,
             "#f1b6da"
            ],
            [
             0.4,
             "#fde0ef"
            ],
            [
             0.5,
             "#f7f7f7"
            ],
            [
             0.6,
             "#e6f5d0"
            ],
            [
             0.7,
             "#b8e186"
            ],
            [
             0.8,
             "#7fbc41"
            ],
            [
             0.9,
             "#4d9221"
            ],
            [
             1,
             "#276419"
            ]
           ],
           "sequential": [
            [
             0,
             "#0d0887"
            ],
            [
             0.1111111111111111,
             "#46039f"
            ],
            [
             0.2222222222222222,
             "#7201a8"
            ],
            [
             0.3333333333333333,
             "#9c179e"
            ],
            [
             0.4444444444444444,
             "#bd3786"
            ],
            [
             0.5555555555555556,
             "#d8576b"
            ],
            [
             0.6666666666666666,
             "#ed7953"
            ],
            [
             0.7777777777777778,
             "#fb9f3a"
            ],
            [
             0.8888888888888888,
             "#fdca26"
            ],
            [
             1,
             "#f0f921"
            ]
           ],
           "sequentialminus": [
            [
             0,
             "#0d0887"
            ],
            [
             0.1111111111111111,
             "#46039f"
            ],
            [
             0.2222222222222222,
             "#7201a8"
            ],
            [
             0.3333333333333333,
             "#9c179e"
            ],
            [
             0.4444444444444444,
             "#bd3786"
            ],
            [
             0.5555555555555556,
             "#d8576b"
            ],
            [
             0.6666666666666666,
             "#ed7953"
            ],
            [
             0.7777777777777778,
             "#fb9f3a"
            ],
            [
             0.8888888888888888,
             "#fdca26"
            ],
            [
             1,
             "#f0f921"
            ]
           ]
          },
          "colorway": [
           "#636efa",
           "#EF553B",
           "#00cc96",
           "#ab63fa",
           "#FFA15A",
           "#19d3f3",
           "#FF6692",
           "#B6E880",
           "#FF97FF",
           "#FECB52"
          ],
          "font": {
           "color": "#2a3f5f"
          },
          "geo": {
           "bgcolor": "white",
           "lakecolor": "white",
           "landcolor": "#E5ECF6",
           "showlakes": true,
           "showland": true,
           "subunitcolor": "white"
          },
          "hoverlabel": {
           "align": "left"
          },
          "hovermode": "closest",
          "mapbox": {
           "style": "light"
          },
          "paper_bgcolor": "white",
          "plot_bgcolor": "#E5ECF6",
          "polar": {
           "angularaxis": {
            "gridcolor": "white",
            "linecolor": "white",
            "ticks": ""
           },
           "bgcolor": "#E5ECF6",
           "radialaxis": {
            "gridcolor": "white",
            "linecolor": "white",
            "ticks": ""
           }
          },
          "scene": {
           "xaxis": {
            "backgroundcolor": "#E5ECF6",
            "gridcolor": "white",
            "gridwidth": 2,
            "linecolor": "white",
            "showbackground": true,
            "ticks": "",
            "zerolinecolor": "white"
           },
           "yaxis": {
            "backgroundcolor": "#E5ECF6",
            "gridcolor": "white",
            "gridwidth": 2,
            "linecolor": "white",
            "showbackground": true,
            "ticks": "",
            "zerolinecolor": "white"
           },
           "zaxis": {
            "backgroundcolor": "#E5ECF6",
            "gridcolor": "white",
            "gridwidth": 2,
            "linecolor": "white",
            "showbackground": true,
            "ticks": "",
            "zerolinecolor": "white"
           }
          },
          "shapedefaults": {
           "line": {
            "color": "#2a3f5f"
           }
          },
          "ternary": {
           "aaxis": {
            "gridcolor": "white",
            "linecolor": "white",
            "ticks": ""
           },
           "baxis": {
            "gridcolor": "white",
            "linecolor": "white",
            "ticks": ""
           },
           "bgcolor": "#E5ECF6",
           "caxis": {
            "gridcolor": "white",
            "linecolor": "white",
            "ticks": ""
           }
          },
          "title": {
           "x": 0.05
          },
          "xaxis": {
           "automargin": true,
           "gridcolor": "white",
           "linecolor": "white",
           "ticks": "",
           "title": {
            "standoff": 15
           },
           "zerolinecolor": "white",
           "zerolinewidth": 2
          },
          "yaxis": {
           "automargin": true,
           "gridcolor": "white",
           "linecolor": "white",
           "ticks": "",
           "title": {
            "standoff": 15
           },
           "zerolinecolor": "white",
           "zerolinewidth": 2
          }
         }
        },
        "title": {
         "text": "Relationship Between Age and Resting Blood Pressure with Trendline, Differentiated by Sex"
        },
        "xaxis": {
         "anchor": "y",
         "domain": [
          0,
          1
         ],
         "title": {
          "text": "Age"
         }
        },
        "yaxis": {
         "anchor": "x",
         "domain": [
          0,
          1
         ],
         "title": {
          "text": "Resting Blood Pressure"
         }
        }
       }
      }
     },
     "metadata": {},
     "output_type": "display_data"
    }
   ],
   "source": [
    "fig_age_vs_bp = px.scatter(df, x='age', y='trestbps', color='sex',\n",
    "                           labels={'age': 'Age', 'trestbps': 'Resting Blood Pressure', 'sex': 'Sex'},\n",
    "                           title='Relationship Between Age and Resting Blood Pressure with Trendline, Differentiated by Sex',\n",
    "                           hover_data=['chol', '', 'trestbps'],\n",
    "                           trendline='ols')  # Adding trendline\n",
    "\n",
    "fig_age_vs_bp.show()\n"
   ]
  },
  {
   "cell_type": "markdown",
   "metadata": {},
   "source": [
    "**The plot shows that as age increases, both resting blood pressure and cholesterol levels tend to rise. This could be one of the reasons why middle-aged and older individuals may have a higher risk of heart disease.**"
   ]
  },
  {
   "cell_type": "markdown",
   "metadata": {},
   "source": [
    "<h1 style=\"font-family: 'Poppins', sans-serif; font-weight: 700; color: #1c1c1c; background: white; padding: 8px; border-radius: 10px; text-align: left; box-shadow: 0 4px 8px rgba(0, 0, 0, 0.1); letter-spacing: 1px; text-transform: capitalize; font-size: 1rem;\">\n",
    "2.3.8 Checking Relationship Between Age, Maximum Heart Rate Achieved (Thalch)<span style=\"color: #333333;\"></span>\n",
    "</h1>\n"
   ]
  },
  {
   "cell_type": "code",
   "execution_count": 21,
   "metadata": {},
   "outputs": [
    {
     "data": {
      "application/vnd.plotly.v1+json": {
       "config": {
        "plotlyServerURL": "https://plot.ly"
       },
       "data": [
        {
         "hovertemplate": "Age=%{x}<br>thalch=%{y}<extra></extra>",
         "legendgroup": "",
         "marker": {
          "color": "#636efa",
          "symbol": "circle"
         },
         "mode": "markers",
         "name": "",
         "orientation": "v",
         "showlegend": false,
         "type": "scatter",
         "x": [
          63,
          67,
          67,
          37,
          41,
          56,
          62,
          57,
          63,
          53,
          57,
          56,
          56,
          44,
          52,
          57,
          48,
          54,
          48,
          49,
          64,
          58,
          58,
          58,
          60,
          50,
          58,
          66,
          43,
          40,
          69,
          60,
          64,
          59,
          44,
          42,
          43,
          57,
          55,
          61,
          65,
          40,
          71,
          59,
          61,
          58,
          51,
          50,
          65,
          53,
          41,
          65,
          44,
          44,
          60,
          54,
          50,
          41,
          54,
          51,
          51,
          46,
          58,
          54,
          54,
          60,
          60,
          54,
          59,
          46,
          65,
          67,
          62,
          65,
          44,
          65,
          60,
          51,
          48,
          58,
          45,
          53,
          39,
          68,
          52,
          44,
          47,
          53,
          53,
          51,
          66,
          62,
          62,
          44,
          63,
          52,
          59,
          60,
          52,
          48,
          45,
          34,
          57,
          71,
          49,
          54,
          59,
          57,
          61,
          39,
          61,
          56,
          52,
          43,
          62,
          41,
          58,
          35,
          63,
          65,
          48,
          63,
          51,
          55,
          65,
          45,
          56,
          54,
          44,
          62,
          54,
          51,
          29,
          51,
          43,
          55,
          70,
          62,
          35,
          51,
          59,
          59,
          52,
          64,
          58,
          47,
          57,
          41,
          45,
          60,
          52,
          42,
          67,
          55,
          64,
          70,
          51,
          58,
          60,
          68,
          46,
          77,
          54,
          58,
          48,
          57,
          52,
          54,
          35,
          45,
          70,
          53,
          59,
          62,
          64,
          57,
          52,
          56,
          43,
          53,
          48,
          56,
          42,
          59,
          60,
          63,
          42,
          66,
          54,
          69,
          50,
          51,
          43,
          62,
          68,
          67,
          69,
          45,
          50,
          59,
          50,
          64,
          57,
          64,
          43,
          45,
          58,
          50,
          55,
          62,
          37,
          38,
          41,
          66,
          52,
          56,
          46,
          46,
          64,
          59,
          41,
          54,
          39,
          53,
          63,
          34,
          47,
          67,
          54,
          66,
          52,
          55,
          49,
          74,
          54,
          54,
          56,
          46,
          49,
          42,
          41,
          41,
          49,
          61,
          60,
          67,
          58,
          47,
          52,
          62,
          57,
          58,
          64,
          51,
          43,
          42,
          67,
          76,
          70,
          57,
          44,
          58,
          60,
          44,
          61,
          42,
          52,
          59,
          40,
          42,
          61,
          66,
          46,
          71,
          59,
          64,
          66,
          39,
          57,
          58,
          57,
          47,
          55,
          35,
          61,
          58,
          58,
          58,
          56,
          56,
          67,
          55,
          44,
          63,
          63,
          41,
          59,
          57,
          45,
          68,
          57,
          57,
          38,
          28,
          29,
          29,
          30,
          31,
          32,
          32,
          32,
          33,
          34,
          34,
          34,
          35,
          35,
          35,
          35,
          36,
          36,
          36,
          36,
          37,
          37,
          37,
          37,
          37,
          37,
          37,
          38,
          38,
          38,
          39,
          39,
          39,
          39,
          39,
          39,
          39,
          39,
          39,
          39,
          40,
          40,
          40,
          40,
          40,
          41,
          41,
          41,
          41,
          41,
          41,
          41,
          42,
          42,
          42,
          42,
          42,
          42,
          42,
          43,
          43,
          43,
          43,
          43,
          43,
          43,
          43,
          44,
          44,
          44,
          44,
          45,
          45,
          45,
          45,
          45,
          45,
          45,
          46,
          46,
          46,
          46,
          46,
          46,
          46,
          47,
          47,
          47,
          47,
          47,
          48,
          48,
          48,
          48,
          48,
          48,
          48,
          48,
          48,
          48,
          48,
          49,
          49,
          49,
          49,
          49,
          49,
          49,
          49,
          50,
          50,
          50,
          50,
          50,
          50,
          50,
          51,
          51,
          51,
          51,
          51,
          51,
          51,
          52,
          52,
          52,
          52,
          52,
          52,
          52,
          52,
          53,
          53,
          53,
          53,
          53,
          53,
          53,
          53,
          53,
          54,
          54,
          54,
          54,
          54,
          54,
          54,
          54,
          54,
          54,
          54,
          54,
          54,
          54,
          54,
          54,
          55,
          55,
          55,
          55,
          55,
          55,
          55,
          55,
          55,
          55,
          56,
          56,
          56,
          56,
          56,
          57,
          57,
          57,
          58,
          58,
          58,
          58,
          59,
          59,
          59,
          59,
          59,
          60,
          61,
          61,
          62,
          62,
          31,
          33,
          34,
          35,
          36,
          37,
          38,
          38,
          38,
          40,
          41,
          41,
          43,
          46,
          46,
          46,
          47,
          47,
          48,
          48,
          48,
          49,
          49,
          49,
          50,
          50,
          51,
          52,
          54,
          54,
          55,
          57,
          58,
          59,
          60,
          63,
          65,
          32,
          38,
          39,
          40,
          43,
          45,
          46,
          46,
          48,
          48,
          48,
          48,
          50,
          52,
          52,
          53,
          54,
          54,
          54,
          54,
          54,
          55,
          56,
          57,
          58,
          58,
          41,
          43,
          44,
          44,
          46,
          47,
          48,
          49,
          49,
          51,
          52,
          52,
          52,
          52,
          53,
          53,
          54,
          55,
          55,
          55,
          56,
          56,
          56,
          58,
          59,
          59,
          65,
          66,
          41,
          43,
          44,
          47,
          47,
          49,
          49,
          50,
          50,
          52,
          52,
          54,
          56,
          58,
          65,
          63,
          44,
          60,
          55,
          66,
          65,
          60,
          56,
          62,
          63,
          46,
          60,
          56,
          55,
          77,
          63,
          60,
          58,
          57,
          59,
          42,
          62,
          56,
          60,
          51,
          57,
          67,
          63,
          55,
          57,
          65,
          54,
          72,
          75,
          51,
          60,
          64,
          58,
          61,
          67,
          62,
          65,
          63,
          69,
          51,
          62,
          55,
          75,
          40,
          58,
          60,
          63,
          35,
          62,
          68,
          65,
          63,
          64,
          61,
          50,
          59,
          55,
          45,
          65,
          61,
          49,
          72,
          50,
          64,
          55,
          63,
          59,
          74,
          54,
          57,
          62,
          76,
          54,
          70,
          61,
          48,
          48,
          61,
          66,
          68,
          55,
          62,
          71,
          74,
          53,
          58,
          75,
          56,
          58,
          64,
          54,
          54,
          59,
          55,
          57,
          61,
          41,
          71,
          38,
          55,
          56,
          69,
          64,
          72,
          69,
          56,
          62,
          67,
          57,
          69,
          51,
          48,
          69,
          69,
          64,
          57,
          53,
          37,
          67,
          74,
          63,
          58,
          61,
          64,
          58,
          60,
          57,
          55,
          55,
          56,
          57,
          61,
          61,
          58,
          74,
          68,
          51,
          62,
          53,
          62,
          46,
          54,
          62,
          55,
          58,
          62
         ],
         "xaxis": "x",
         "y": [
          150,
          108,
          129,
          187,
          172,
          178,
          160,
          163,
          147,
          155,
          148,
          153,
          142,
          173,
          162,
          174,
          168,
          160,
          139,
          171,
          144,
          162,
          160,
          173,
          132,
          158,
          172,
          114,
          171,
          114,
          151,
          160,
          158,
          161,
          179,
          178,
          120,
          112,
          132,
          137,
          114,
          178,
          162,
          157,
          169,
          165,
          123,
          128,
          157,
          152,
          168,
          140,
          153,
          188,
          144,
          109,
          163,
          158,
          152,
          125,
          142,
          160,
          131,
          170,
          113,
          142,
          155,
          165,
          140,
          147,
          148,
          163,
          99,
          158,
          177,
          151,
          141,
          142,
          180,
          111,
          148,
          143,
          182,
          150,
          172,
          180,
          156,
          115,
          160,
          149,
          151,
          145,
          146,
          175,
          172,
          161,
          142,
          157,
          158,
          186,
          185,
          174,
          159,
          130,
          139,
          156,
          162,
          150,
          140,
          140,
          146,
          144,
          190,
          136,
          97,
          132,
          165,
          182,
          132,
          127,
          150,
          154,
          143,
          111,
          174,
          175,
          133,
          126,
          170,
          163,
          147,
          154,
          202,
          186,
          165,
          161,
          125,
          103,
          130,
          166,
          164,
          159,
          184,
          131,
          154,
          152,
          124,
          179,
          170,
          160,
          178,
          122,
          160,
          145,
          96,
          109,
          173,
          171,
          170,
          151,
          156,
          162,
          158,
          122,
          175,
          168,
          169,
          159,
          156,
          138,
          112,
          111,
          143,
          157,
          132,
          88,
          147,
          105,
          162,
          173,
          166,
          150,
          178,
          145,
          161,
          179,
          194,
          120,
          195,
          146,
          163,
          122,
          143,
          106,
          115,
          125,
          131,
          152,
          162,
          125,
          159,
          154,
          173,
          133,
          161,
          147,
          130,
          126,
          155,
          154,
          170,
          182,
          168,
          165,
          160,
          162,
          172,
          152,
          122,
          182,
          172,
          167,
          179,
          95,
          169,
          192,
          143,
          172,
          108,
          132,
          169,
          117,
          126,
          121,
          163,
          116,
          103,
          144,
          162,
          162,
          153,
          163,
          163,
          145,
          96,
          71,
          156,
          118,
          168,
          140,
          126,
          105,
          105,
          157,
          181,
          173,
          142,
          116,
          143,
          141,
          149,
          152,
          171,
          169,
          125,
          125,
          156,
          134,
          181,
          150,
          138,
          138,
          120,
          125,
          162,
          155,
          152,
          152,
          164,
          131,
          143,
          179,
          130,
          174,
          161,
          140,
          146,
          144,
          163,
          169,
          150,
          166,
          144,
          144,
          136,
          182,
          90,
          123,
          132,
          141,
          115,
          174,
          173,
          185,
          160,
          170,
          170,
          150,
          165,
          184,
          155,
          185,
          190,
          168,
          150,
          185,
          150,
          180,
          168,
          180,
          184,
          178,
          172,
          130,
          142,
          184,
          98,
          150,
          168,
          158,
          129,
          150,
          130,
          180,
          146,
          160,
          145,
          120,
          106,
          170,
          160,
          132,
          140,
          150,
          172,
          138,
          167,
          188,
          142,
          180,
          150,
          160,
          170,
          144,
          142,
          137,
          150,
          155,
          136,
          152,
          146,
          170,
          142,
          165,
          175,
          176,
          118,
          154,
          175,
          138,
          115,
          142,
          135,
          170,
          170,
          180,
          144,
          122,
          110,
          140,
          144,
          90,
          165,
          150,
          116,
          140,
          140,
          120,
          135,
          145,
          150,
          174,
          125,
          137.5456647398844,
          148,
          120,
          125,
          175,
          110,
          130,
          100,
          160,
          118,
          138,
          160,
          160,
          164,
          135,
          174,
          172,
          132,
          130,
          145,
          110,
          160,
          170,
          116,
          135,
          140,
          170,
          120,
          160,
          120,
          145,
          150,
          100,
          148,
          140,
          139,
          140,
          118,
          138,
          165,
          170,
          127,
          142,
          130,
          132,
          162,
          140,
          112,
          148,
          155,
          138,
          140,
          150,
          155,
          140,
          130,
          130,
          137,
          142,
          154,
          110,
          130,
          175,
          137,
          122,
          134,
          160,
          155,
          150,
          137,
          150,
          155,
          160,
          134,
          140,
          110,
          164,
          100,
          114,
          128,
          140,
          98,
          126,
          140,
          150,
          110,
          160,
          100,
          124,
          150,
          120,
          100,
          140,
          135,
          120,
          115,
          116,
          152,
          153,
          150,
          180,
          140,
          160,
          130,
          166,
          170,
          134,
          152,
          170,
          138,
          130,
          150,
          124,
          125,
          145,
          98,
          110,
          115,
          103,
          156,
          175,
          170,
          140,
          150,
          150,
          120,
          140,
          122,
          130,
          145,
          140,
          130,
          125,
          115,
          87,
          130,
          150,
          150,
          130,
          155,
          130,
          115,
          112,
          150,
          102,
          92,
          99,
          121,
          150,
          126,
          116,
          150,
          91,
          125,
          118,
          142,
          128,
          125,
          92,
          92,
          140,
          130,
          120,
          150,
          100,
          175,
          170,
          108,
          120,
          140,
          150,
          96,
          110,
          124,
          82,
          130,
          120,
          105,
          136,
          143,
          96,
          150,
          124,
          122,
          99,
          125,
          119,
          112,
          94,
          118,
          135,
          135,
          98,
          158,
          96,
          122,
          140,
          125,
          134,
          94,
          100,
          150,
          110,
          115,
          112,
          127,
          140,
          149,
          99,
          105,
          157,
          140,
          86,
          84,
          125,
          140,
          120,
          137.5456647398844,
          110,
          105,
          137.5456647398844,
          137.5456647398844,
          137.5456647398844,
          117,
          160,
          97,
          161,
          137.5456647398844,
          137.5456647398844,
          148,
          125,
          137.5456647398844,
          180,
          144,
          137.5456647398844,
          140,
          102,
          108,
          137.5456647398844,
          110,
          140,
          69,
          148,
          130,
          130,
          140,
          138,
          140,
          137.5456647398844,
          112,
          137.5456647398844,
          112,
          80,
          110,
          137.5456647398844,
          88,
          137.5456647398844,
          150,
          132,
          120,
          121,
          128,
          135,
          120,
          117,
          150,
          137.5456647398844,
          137.5456647398844,
          137.5456647398844,
          137.5456647398844,
          137.5456647398844,
          137.5456647398844,
          137.5456647398844,
          102,
          140,
          135,
          130,
          112,
          100,
          137.5456647398844,
          120,
          105,
          129,
          120,
          137.5456647398844,
          162,
          100,
          140,
          137.5456647398844,
          73,
          86,
          137.5456647398844,
          137.5456647398844,
          160,
          118,
          112,
          137.5456647398844,
          137.5456647398844,
          102,
          137.5456647398844,
          137.5456647398844,
          154,
          137.5456647398844,
          160,
          137.5456647398844,
          128,
          115,
          105,
          110,
          119,
          137.5456647398844,
          135,
          130,
          137.5456647398844,
          137.5456647398844,
          120,
          137.5456647398844,
          119,
          137.5456647398844,
          137.5456647398844,
          159,
          84,
          137.5456647398844,
          137.5456647398844,
          120,
          122,
          165,
          122,
          94,
          137.5456647398844,
          110,
          150,
          130,
          113,
          140,
          100,
          137.5456647398844,
          127,
          98,
          96,
          137.5456647398844,
          98,
          118,
          112,
          151,
          96,
          108,
          128,
          138,
          126,
          154,
          137.5456647398844,
          100,
          137.5456647398844,
          93
         ],
         "yaxis": "y"
        },
        {
         "hovertemplate": "<b>OLS trendline</b><br>thalch = -0.899843 * age + 188.469<br>R<sup>2</sup>=0.125455<br><br>Age=%{x}<br>thalch=%{y} <b>(trend)</b><extra></extra>",
         "legendgroup": "",
         "marker": {
          "color": "#636efa",
          "symbol": "circle"
         },
         "mode": "lines",
         "name": "",
         "showlegend": false,
         "type": "scatter",
         "x": [
          28,
          29,
          29,
          29,
          30,
          31,
          31,
          32,
          32,
          32,
          32,
          33,
          33,
          34,
          34,
          34,
          34,
          34,
          34,
          35,
          35,
          35,
          35,
          35,
          35,
          35,
          35,
          35,
          35,
          36,
          36,
          36,
          36,
          36,
          37,
          37,
          37,
          37,
          37,
          37,
          37,
          37,
          37,
          37,
          37,
          38,
          38,
          38,
          38,
          38,
          38,
          38,
          38,
          38,
          38,
          39,
          39,
          39,
          39,
          39,
          39,
          39,
          39,
          39,
          39,
          39,
          39,
          39,
          39,
          39,
          40,
          40,
          40,
          40,
          40,
          40,
          40,
          40,
          40,
          40,
          40,
          41,
          41,
          41,
          41,
          41,
          41,
          41,
          41,
          41,
          41,
          41,
          41,
          41,
          41,
          41,
          41,
          41,
          41,
          41,
          41,
          41,
          41,
          42,
          42,
          42,
          42,
          42,
          42,
          42,
          42,
          42,
          42,
          42,
          42,
          42,
          42,
          42,
          42,
          43,
          43,
          43,
          43,
          43,
          43,
          43,
          43,
          43,
          43,
          43,
          43,
          43,
          43,
          43,
          43,
          43,
          43,
          43,
          43,
          44,
          44,
          44,
          44,
          44,
          44,
          44,
          44,
          44,
          44,
          44,
          44,
          44,
          44,
          44,
          44,
          44,
          44,
          44,
          45,
          45,
          45,
          45,
          45,
          45,
          45,
          45,
          45,
          45,
          45,
          45,
          45,
          45,
          45,
          45,
          45,
          46,
          46,
          46,
          46,
          46,
          46,
          46,
          46,
          46,
          46,
          46,
          46,
          46,
          46,
          46,
          46,
          46,
          46,
          46,
          46,
          46,
          46,
          47,
          47,
          47,
          47,
          47,
          47,
          47,
          47,
          47,
          47,
          47,
          47,
          47,
          47,
          47,
          48,
          48,
          48,
          48,
          48,
          48,
          48,
          48,
          48,
          48,
          48,
          48,
          48,
          48,
          48,
          48,
          48,
          48,
          48,
          48,
          48,
          48,
          48,
          48,
          48,
          48,
          48,
          48,
          48,
          49,
          49,
          49,
          49,
          49,
          49,
          49,
          49,
          49,
          49,
          49,
          49,
          49,
          49,
          49,
          49,
          49,
          49,
          49,
          49,
          49,
          50,
          50,
          50,
          50,
          50,
          50,
          50,
          50,
          50,
          50,
          50,
          50,
          50,
          50,
          50,
          50,
          50,
          50,
          50,
          50,
          50,
          51,
          51,
          51,
          51,
          51,
          51,
          51,
          51,
          51,
          51,
          51,
          51,
          51,
          51,
          51,
          51,
          51,
          51,
          51,
          51,
          51,
          51,
          51,
          51,
          51,
          51,
          52,
          52,
          52,
          52,
          52,
          52,
          52,
          52,
          52,
          52,
          52,
          52,
          52,
          52,
          52,
          52,
          52,
          52,
          52,
          52,
          52,
          52,
          52,
          52,
          52,
          52,
          52,
          52,
          52,
          52,
          53,
          53,
          53,
          53,
          53,
          53,
          53,
          53,
          53,
          53,
          53,
          53,
          53,
          53,
          53,
          53,
          53,
          53,
          53,
          53,
          53,
          53,
          53,
          54,
          54,
          54,
          54,
          54,
          54,
          54,
          54,
          54,
          54,
          54,
          54,
          54,
          54,
          54,
          54,
          54,
          54,
          54,
          54,
          54,
          54,
          54,
          54,
          54,
          54,
          54,
          54,
          54,
          54,
          54,
          54,
          54,
          54,
          54,
          54,
          54,
          54,
          54,
          54,
          54,
          54,
          54,
          54,
          54,
          54,
          54,
          55,
          55,
          55,
          55,
          55,
          55,
          55,
          55,
          55,
          55,
          55,
          55,
          55,
          55,
          55,
          55,
          55,
          55,
          55,
          55,
          55,
          55,
          55,
          55,
          55,
          55,
          55,
          55,
          55,
          55,
          55,
          55,
          55,
          55,
          55,
          56,
          56,
          56,
          56,
          56,
          56,
          56,
          56,
          56,
          56,
          56,
          56,
          56,
          56,
          56,
          56,
          56,
          56,
          56,
          56,
          56,
          56,
          56,
          56,
          56,
          56,
          56,
          56,
          57,
          57,
          57,
          57,
          57,
          57,
          57,
          57,
          57,
          57,
          57,
          57,
          57,
          57,
          57,
          57,
          57,
          57,
          57,
          57,
          57,
          57,
          57,
          57,
          57,
          57,
          57,
          57,
          57,
          57,
          57,
          58,
          58,
          58,
          58,
          58,
          58,
          58,
          58,
          58,
          58,
          58,
          58,
          58,
          58,
          58,
          58,
          58,
          58,
          58,
          58,
          58,
          58,
          58,
          58,
          58,
          58,
          58,
          58,
          58,
          58,
          58,
          58,
          58,
          58,
          58,
          58,
          58,
          59,
          59,
          59,
          59,
          59,
          59,
          59,
          59,
          59,
          59,
          59,
          59,
          59,
          59,
          59,
          59,
          59,
          59,
          59,
          59,
          59,
          59,
          59,
          59,
          59,
          59,
          60,
          60,
          60,
          60,
          60,
          60,
          60,
          60,
          60,
          60,
          60,
          60,
          60,
          60,
          60,
          60,
          60,
          60,
          60,
          60,
          60,
          60,
          61,
          61,
          61,
          61,
          61,
          61,
          61,
          61,
          61,
          61,
          61,
          61,
          61,
          61,
          61,
          61,
          61,
          61,
          61,
          62,
          62,
          62,
          62,
          62,
          62,
          62,
          62,
          62,
          62,
          62,
          62,
          62,
          62,
          62,
          62,
          62,
          62,
          62,
          62,
          62,
          62,
          62,
          62,
          62,
          63,
          63,
          63,
          63,
          63,
          63,
          63,
          63,
          63,
          63,
          63,
          63,
          63,
          63,
          63,
          63,
          63,
          63,
          63,
          64,
          64,
          64,
          64,
          64,
          64,
          64,
          64,
          64,
          64,
          64,
          64,
          64,
          64,
          64,
          64,
          64,
          65,
          65,
          65,
          65,
          65,
          65,
          65,
          65,
          65,
          65,
          65,
          65,
          65,
          65,
          65,
          65,
          66,
          66,
          66,
          66,
          66,
          66,
          66,
          66,
          66,
          66,
          67,
          67,
          67,
          67,
          67,
          67,
          67,
          67,
          67,
          67,
          67,
          67,
          67,
          68,
          68,
          68,
          68,
          68,
          68,
          68,
          69,
          69,
          69,
          69,
          69,
          69,
          69,
          69,
          69,
          70,
          70,
          70,
          70,
          70,
          71,
          71,
          71,
          71,
          71,
          72,
          72,
          72,
          74,
          74,
          74,
          74,
          74,
          75,
          75,
          75,
          76,
          76,
          77,
          77
         ],
         "xaxis": "x",
         "y": [
          163.27317730978586,
          162.37333409727714,
          162.37333409727714,
          162.37333409727714,
          161.4734908847684,
          160.57364767225968,
          160.57364767225968,
          159.67380445975095,
          159.67380445975095,
          159.67380445975095,
          159.67380445975095,
          158.77396124724223,
          158.77396124724223,
          157.8741180347335,
          157.8741180347335,
          157.8741180347335,
          157.8741180347335,
          157.8741180347335,
          157.8741180347335,
          156.97427482222477,
          156.97427482222477,
          156.97427482222477,
          156.97427482222477,
          156.97427482222477,
          156.97427482222477,
          156.97427482222477,
          156.97427482222477,
          156.97427482222477,
          156.97427482222477,
          156.07443160971604,
          156.07443160971604,
          156.07443160971604,
          156.07443160971604,
          156.07443160971604,
          155.17458839720734,
          155.17458839720734,
          155.17458839720734,
          155.17458839720734,
          155.17458839720734,
          155.17458839720734,
          155.17458839720734,
          155.17458839720734,
          155.17458839720734,
          155.17458839720734,
          155.17458839720734,
          154.2747451846986,
          154.2747451846986,
          154.2747451846986,
          154.2747451846986,
          154.2747451846986,
          154.2747451846986,
          154.2747451846986,
          154.2747451846986,
          154.2747451846986,
          154.2747451846986,
          153.3749019721899,
          153.3749019721899,
          153.3749019721899,
          153.3749019721899,
          153.3749019721899,
          153.3749019721899,
          153.3749019721899,
          153.3749019721899,
          153.3749019721899,
          153.3749019721899,
          153.3749019721899,
          153.3749019721899,
          153.3749019721899,
          153.3749019721899,
          153.3749019721899,
          152.47505875968116,
          152.47505875968116,
          152.47505875968116,
          152.47505875968116,
          152.47505875968116,
          152.47505875968116,
          152.47505875968116,
          152.47505875968116,
          152.47505875968116,
          152.47505875968116,
          152.47505875968116,
          151.57521554717243,
          151.57521554717243,
          151.57521554717243,
          151.57521554717243,
          151.57521554717243,
          151.57521554717243,
          151.57521554717243,
          151.57521554717243,
          151.57521554717243,
          151.57521554717243,
          151.57521554717243,
          151.57521554717243,
          151.57521554717243,
          151.57521554717243,
          151.57521554717243,
          151.57521554717243,
          151.57521554717243,
          151.57521554717243,
          151.57521554717243,
          151.57521554717243,
          151.57521554717243,
          151.57521554717243,
          150.6753723346637,
          150.6753723346637,
          150.6753723346637,
          150.6753723346637,
          150.6753723346637,
          150.6753723346637,
          150.6753723346637,
          150.6753723346637,
          150.6753723346637,
          150.6753723346637,
          150.6753723346637,
          150.6753723346637,
          150.6753723346637,
          150.6753723346637,
          150.6753723346637,
          150.6753723346637,
          149.77552912215498,
          149.77552912215498,
          149.77552912215498,
          149.77552912215498,
          149.77552912215498,
          149.77552912215498,
          149.77552912215498,
          149.77552912215498,
          149.77552912215498,
          149.77552912215498,
          149.77552912215498,
          149.77552912215498,
          149.77552912215498,
          149.77552912215498,
          149.77552912215498,
          149.77552912215498,
          149.77552912215498,
          149.77552912215498,
          149.77552912215498,
          149.77552912215498,
          148.87568590964625,
          148.87568590964625,
          148.87568590964625,
          148.87568590964625,
          148.87568590964625,
          148.87568590964625,
          148.87568590964625,
          148.87568590964625,
          148.87568590964625,
          148.87568590964625,
          148.87568590964625,
          148.87568590964625,
          148.87568590964625,
          148.87568590964625,
          148.87568590964625,
          148.87568590964625,
          148.87568590964625,
          148.87568590964625,
          148.87568590964625,
          147.97584269713752,
          147.97584269713752,
          147.97584269713752,
          147.97584269713752,
          147.97584269713752,
          147.97584269713752,
          147.97584269713752,
          147.97584269713752,
          147.97584269713752,
          147.97584269713752,
          147.97584269713752,
          147.97584269713752,
          147.97584269713752,
          147.97584269713752,
          147.97584269713752,
          147.97584269713752,
          147.97584269713752,
          147.0759994846288,
          147.0759994846288,
          147.0759994846288,
          147.0759994846288,
          147.0759994846288,
          147.0759994846288,
          147.0759994846288,
          147.0759994846288,
          147.0759994846288,
          147.0759994846288,
          147.0759994846288,
          147.0759994846288,
          147.0759994846288,
          147.0759994846288,
          147.0759994846288,
          147.0759994846288,
          147.0759994846288,
          147.0759994846288,
          147.0759994846288,
          147.0759994846288,
          147.0759994846288,
          147.0759994846288,
          146.17615627212007,
          146.17615627212007,
          146.17615627212007,
          146.17615627212007,
          146.17615627212007,
          146.17615627212007,
          146.17615627212007,
          146.17615627212007,
          146.17615627212007,
          146.17615627212007,
          146.17615627212007,
          146.17615627212007,
          146.17615627212007,
          146.17615627212007,
          146.17615627212007,
          145.27631305961134,
          145.27631305961134,
          145.27631305961134,
          145.27631305961134,
          145.27631305961134,
          145.27631305961134,
          145.27631305961134,
          145.27631305961134,
          145.27631305961134,
          145.27631305961134,
          145.27631305961134,
          145.27631305961134,
          145.27631305961134,
          145.27631305961134,
          145.27631305961134,
          145.27631305961134,
          145.27631305961134,
          145.27631305961134,
          145.27631305961134,
          145.27631305961134,
          145.27631305961134,
          145.27631305961134,
          145.27631305961134,
          145.27631305961134,
          145.27631305961134,
          145.27631305961134,
          145.27631305961134,
          145.27631305961134,
          145.27631305961134,
          144.3764698471026,
          144.3764698471026,
          144.3764698471026,
          144.3764698471026,
          144.3764698471026,
          144.3764698471026,
          144.3764698471026,
          144.3764698471026,
          144.3764698471026,
          144.3764698471026,
          144.3764698471026,
          144.3764698471026,
          144.3764698471026,
          144.3764698471026,
          144.3764698471026,
          144.3764698471026,
          144.3764698471026,
          144.3764698471026,
          144.3764698471026,
          144.3764698471026,
          144.3764698471026,
          143.47662663459388,
          143.47662663459388,
          143.47662663459388,
          143.47662663459388,
          143.47662663459388,
          143.47662663459388,
          143.47662663459388,
          143.47662663459388,
          143.47662663459388,
          143.47662663459388,
          143.47662663459388,
          143.47662663459388,
          143.47662663459388,
          143.47662663459388,
          143.47662663459388,
          143.47662663459388,
          143.47662663459388,
          143.47662663459388,
          143.47662663459388,
          143.47662663459388,
          143.47662663459388,
          142.57678342208516,
          142.57678342208516,
          142.57678342208516,
          142.57678342208516,
          142.57678342208516,
          142.57678342208516,
          142.57678342208516,
          142.57678342208516,
          142.57678342208516,
          142.57678342208516,
          142.57678342208516,
          142.57678342208516,
          142.57678342208516,
          142.57678342208516,
          142.57678342208516,
          142.57678342208516,
          142.57678342208516,
          142.57678342208516,
          142.57678342208516,
          142.57678342208516,
          142.57678342208516,
          142.57678342208516,
          142.57678342208516,
          142.57678342208516,
          142.57678342208516,
          142.57678342208516,
          141.67694020957646,
          141.67694020957646,
          141.67694020957646,
          141.67694020957646,
          141.67694020957646,
          141.67694020957646,
          141.67694020957646,
          141.67694020957646,
          141.67694020957646,
          141.67694020957646,
          141.67694020957646,
          141.67694020957646,
          141.67694020957646,
          141.67694020957646,
          141.67694020957646,
          141.67694020957646,
          141.67694020957646,
          141.67694020957646,
          141.67694020957646,
          141.67694020957646,
          141.67694020957646,
          141.67694020957646,
          141.67694020957646,
          141.67694020957646,
          141.67694020957646,
          141.67694020957646,
          141.67694020957646,
          141.67694020957646,
          141.67694020957646,
          141.67694020957646,
          140.7770969970677,
          140.7770969970677,
          140.7770969970677,
          140.7770969970677,
          140.7770969970677,
          140.7770969970677,
          140.7770969970677,
          140.7770969970677,
          140.7770969970677,
          140.7770969970677,
          140.7770969970677,
          140.7770969970677,
          140.7770969970677,
          140.7770969970677,
          140.7770969970677,
          140.7770969970677,
          140.7770969970677,
          140.7770969970677,
          140.7770969970677,
          140.7770969970677,
          140.7770969970677,
          140.7770969970677,
          140.7770969970677,
          139.877253784559,
          139.877253784559,
          139.877253784559,
          139.877253784559,
          139.877253784559,
          139.877253784559,
          139.877253784559,
          139.877253784559,
          139.877253784559,
          139.877253784559,
          139.877253784559,
          139.877253784559,
          139.877253784559,
          139.877253784559,
          139.877253784559,
          139.877253784559,
          139.877253784559,
          139.877253784559,
          139.877253784559,
          139.877253784559,
          139.877253784559,
          139.877253784559,
          139.877253784559,
          139.877253784559,
          139.877253784559,
          139.877253784559,
          139.877253784559,
          139.877253784559,
          139.877253784559,
          139.877253784559,
          139.877253784559,
          139.877253784559,
          139.877253784559,
          139.877253784559,
          139.877253784559,
          139.877253784559,
          139.877253784559,
          139.877253784559,
          139.877253784559,
          139.877253784559,
          139.877253784559,
          139.877253784559,
          139.877253784559,
          139.877253784559,
          139.877253784559,
          139.877253784559,
          139.877253784559,
          138.97741057205027,
          138.97741057205027,
          138.97741057205027,
          138.97741057205027,
          138.97741057205027,
          138.97741057205027,
          138.97741057205027,
          138.97741057205027,
          138.97741057205027,
          138.97741057205027,
          138.97741057205027,
          138.97741057205027,
          138.97741057205027,
          138.97741057205027,
          138.97741057205027,
          138.97741057205027,
          138.97741057205027,
          138.97741057205027,
          138.97741057205027,
          138.97741057205027,
          138.97741057205027,
          138.97741057205027,
          138.97741057205027,
          138.97741057205027,
          138.97741057205027,
          138.97741057205027,
          138.97741057205027,
          138.97741057205027,
          138.97741057205027,
          138.97741057205027,
          138.97741057205027,
          138.97741057205027,
          138.97741057205027,
          138.97741057205027,
          138.97741057205027,
          138.07756735954155,
          138.07756735954155,
          138.07756735954155,
          138.07756735954155,
          138.07756735954155,
          138.07756735954155,
          138.07756735954155,
          138.07756735954155,
          138.07756735954155,
          138.07756735954155,
          138.07756735954155,
          138.07756735954155,
          138.07756735954155,
          138.07756735954155,
          138.07756735954155,
          138.07756735954155,
          138.07756735954155,
          138.07756735954155,
          138.07756735954155,
          138.07756735954155,
          138.07756735954155,
          138.07756735954155,
          138.07756735954155,
          138.07756735954155,
          138.07756735954155,
          138.07756735954155,
          138.07756735954155,
          138.07756735954155,
          137.17772414703282,
          137.17772414703282,
          137.17772414703282,
          137.17772414703282,
          137.17772414703282,
          137.17772414703282,
          137.17772414703282,
          137.17772414703282,
          137.17772414703282,
          137.17772414703282,
          137.17772414703282,
          137.17772414703282,
          137.17772414703282,
          137.17772414703282,
          137.17772414703282,
          137.17772414703282,
          137.17772414703282,
          137.17772414703282,
          137.17772414703282,
          137.17772414703282,
          137.17772414703282,
          137.17772414703282,
          137.17772414703282,
          137.17772414703282,
          137.17772414703282,
          137.17772414703282,
          137.17772414703282,
          137.17772414703282,
          137.17772414703282,
          137.17772414703282,
          137.17772414703282,
          136.2778809345241,
          136.2778809345241,
          136.2778809345241,
          136.2778809345241,
          136.2778809345241,
          136.2778809345241,
          136.2778809345241,
          136.2778809345241,
          136.2778809345241,
          136.2778809345241,
          136.2778809345241,
          136.2778809345241,
          136.2778809345241,
          136.2778809345241,
          136.2778809345241,
          136.2778809345241,
          136.2778809345241,
          136.2778809345241,
          136.2778809345241,
          136.2778809345241,
          136.2778809345241,
          136.2778809345241,
          136.2778809345241,
          136.2778809345241,
          136.2778809345241,
          136.2778809345241,
          136.2778809345241,
          136.2778809345241,
          136.2778809345241,
          136.2778809345241,
          136.2778809345241,
          136.2778809345241,
          136.2778809345241,
          136.2778809345241,
          136.2778809345241,
          136.2778809345241,
          136.2778809345241,
          135.37803772201536,
          135.37803772201536,
          135.37803772201536,
          135.37803772201536,
          135.37803772201536,
          135.37803772201536,
          135.37803772201536,
          135.37803772201536,
          135.37803772201536,
          135.37803772201536,
          135.37803772201536,
          135.37803772201536,
          135.37803772201536,
          135.37803772201536,
          135.37803772201536,
          135.37803772201536,
          135.37803772201536,
          135.37803772201536,
          135.37803772201536,
          135.37803772201536,
          135.37803772201536,
          135.37803772201536,
          135.37803772201536,
          135.37803772201536,
          135.37803772201536,
          135.37803772201536,
          134.47819450950664,
          134.47819450950664,
          134.47819450950664,
          134.47819450950664,
          134.47819450950664,
          134.47819450950664,
          134.47819450950664,
          134.47819450950664,
          134.47819450950664,
          134.47819450950664,
          134.47819450950664,
          134.47819450950664,
          134.47819450950664,
          134.47819450950664,
          134.47819450950664,
          134.47819450950664,
          134.47819450950664,
          134.47819450950664,
          134.47819450950664,
          134.47819450950664,
          134.47819450950664,
          134.47819450950664,
          133.5783512969979,
          133.5783512969979,
          133.5783512969979,
          133.5783512969979,
          133.5783512969979,
          133.5783512969979,
          133.5783512969979,
          133.5783512969979,
          133.5783512969979,
          133.5783512969979,
          133.5783512969979,
          133.5783512969979,
          133.5783512969979,
          133.5783512969979,
          133.5783512969979,
          133.5783512969979,
          133.5783512969979,
          133.5783512969979,
          133.5783512969979,
          132.67850808448918,
          132.67850808448918,
          132.67850808448918,
          132.67850808448918,
          132.67850808448918,
          132.67850808448918,
          132.67850808448918,
          132.67850808448918,
          132.67850808448918,
          132.67850808448918,
          132.67850808448918,
          132.67850808448918,
          132.67850808448918,
          132.67850808448918,
          132.67850808448918,
          132.67850808448918,
          132.67850808448918,
          132.67850808448918,
          132.67850808448918,
          132.67850808448918,
          132.67850808448918,
          132.67850808448918,
          132.67850808448918,
          132.67850808448918,
          132.67850808448918,
          131.77866487198045,
          131.77866487198045,
          131.77866487198045,
          131.77866487198045,
          131.77866487198045,
          131.77866487198045,
          131.77866487198045,
          131.77866487198045,
          131.77866487198045,
          131.77866487198045,
          131.77866487198045,
          131.77866487198045,
          131.77866487198045,
          131.77866487198045,
          131.77866487198045,
          131.77866487198045,
          131.77866487198045,
          131.77866487198045,
          131.77866487198045,
          130.87882165947173,
          130.87882165947173,
          130.87882165947173,
          130.87882165947173,
          130.87882165947173,
          130.87882165947173,
          130.87882165947173,
          130.87882165947173,
          130.87882165947173,
          130.87882165947173,
          130.87882165947173,
          130.87882165947173,
          130.87882165947173,
          130.87882165947173,
          130.87882165947173,
          130.87882165947173,
          130.87882165947173,
          129.978978446963,
          129.978978446963,
          129.978978446963,
          129.978978446963,
          129.978978446963,
          129.978978446963,
          129.978978446963,
          129.978978446963,
          129.978978446963,
          129.978978446963,
          129.978978446963,
          129.978978446963,
          129.978978446963,
          129.978978446963,
          129.978978446963,
          129.978978446963,
          129.07913523445427,
          129.07913523445427,
          129.07913523445427,
          129.07913523445427,
          129.07913523445427,
          129.07913523445427,
          129.07913523445427,
          129.07913523445427,
          129.07913523445427,
          129.07913523445427,
          128.17929202194557,
          128.17929202194557,
          128.17929202194557,
          128.17929202194557,
          128.17929202194557,
          128.17929202194557,
          128.17929202194557,
          128.17929202194557,
          128.17929202194557,
          128.17929202194557,
          128.17929202194557,
          128.17929202194557,
          128.17929202194557,
          127.27944880943683,
          127.27944880943683,
          127.27944880943683,
          127.27944880943683,
          127.27944880943683,
          127.27944880943683,
          127.27944880943683,
          126.3796055969281,
          126.3796055969281,
          126.3796055969281,
          126.3796055969281,
          126.3796055969281,
          126.3796055969281,
          126.3796055969281,
          126.3796055969281,
          126.3796055969281,
          125.47976238441939,
          125.47976238441939,
          125.47976238441939,
          125.47976238441939,
          125.47976238441939,
          124.57991917191066,
          124.57991917191066,
          124.57991917191066,
          124.57991917191066,
          124.57991917191066,
          123.68007595940193,
          123.68007595940193,
          123.68007595940193,
          121.88038953438448,
          121.88038953438448,
          121.88038953438448,
          121.88038953438448,
          121.88038953438448,
          120.98054632187575,
          120.98054632187575,
          120.98054632187575,
          120.08070310936702,
          120.08070310936702,
          119.1808598968583,
          119.1808598968583
         ],
         "yaxis": "y"
        }
       ],
       "layout": {
        "legend": {
         "tracegroupgap": 0
        },
        "template": {
         "data": {
          "bar": [
           {
            "error_x": {
             "color": "#2a3f5f"
            },
            "error_y": {
             "color": "#2a3f5f"
            },
            "marker": {
             "line": {
              "color": "#E5ECF6",
              "width": 0.5
             },
             "pattern": {
              "fillmode": "overlay",
              "size": 10,
              "solidity": 0.2
             }
            },
            "type": "bar"
           }
          ],
          "barpolar": [
           {
            "marker": {
             "line": {
              "color": "#E5ECF6",
              "width": 0.5
             },
             "pattern": {
              "fillmode": "overlay",
              "size": 10,
              "solidity": 0.2
             }
            },
            "type": "barpolar"
           }
          ],
          "carpet": [
           {
            "aaxis": {
             "endlinecolor": "#2a3f5f",
             "gridcolor": "white",
             "linecolor": "white",
             "minorgridcolor": "white",
             "startlinecolor": "#2a3f5f"
            },
            "baxis": {
             "endlinecolor": "#2a3f5f",
             "gridcolor": "white",
             "linecolor": "white",
             "minorgridcolor": "white",
             "startlinecolor": "#2a3f5f"
            },
            "type": "carpet"
           }
          ],
          "choropleth": [
           {
            "colorbar": {
             "outlinewidth": 0,
             "ticks": ""
            },
            "type": "choropleth"
           }
          ],
          "contour": [
           {
            "colorbar": {
             "outlinewidth": 0,
             "ticks": ""
            },
            "colorscale": [
             [
              0,
              "#0d0887"
             ],
             [
              0.1111111111111111,
              "#46039f"
             ],
             [
              0.2222222222222222,
              "#7201a8"
             ],
             [
              0.3333333333333333,
              "#9c179e"
             ],
             [
              0.4444444444444444,
              "#bd3786"
             ],
             [
              0.5555555555555556,
              "#d8576b"
             ],
             [
              0.6666666666666666,
              "#ed7953"
             ],
             [
              0.7777777777777778,
              "#fb9f3a"
             ],
             [
              0.8888888888888888,
              "#fdca26"
             ],
             [
              1,
              "#f0f921"
             ]
            ],
            "type": "contour"
           }
          ],
          "contourcarpet": [
           {
            "colorbar": {
             "outlinewidth": 0,
             "ticks": ""
            },
            "type": "contourcarpet"
           }
          ],
          "heatmap": [
           {
            "colorbar": {
             "outlinewidth": 0,
             "ticks": ""
            },
            "colorscale": [
             [
              0,
              "#0d0887"
             ],
             [
              0.1111111111111111,
              "#46039f"
             ],
             [
              0.2222222222222222,
              "#7201a8"
             ],
             [
              0.3333333333333333,
              "#9c179e"
             ],
             [
              0.4444444444444444,
              "#bd3786"
             ],
             [
              0.5555555555555556,
              "#d8576b"
             ],
             [
              0.6666666666666666,
              "#ed7953"
             ],
             [
              0.7777777777777778,
              "#fb9f3a"
             ],
             [
              0.8888888888888888,
              "#fdca26"
             ],
             [
              1,
              "#f0f921"
             ]
            ],
            "type": "heatmap"
           }
          ],
          "heatmapgl": [
           {
            "colorbar": {
             "outlinewidth": 0,
             "ticks": ""
            },
            "colorscale": [
             [
              0,
              "#0d0887"
             ],
             [
              0.1111111111111111,
              "#46039f"
             ],
             [
              0.2222222222222222,
              "#7201a8"
             ],
             [
              0.3333333333333333,
              "#9c179e"
             ],
             [
              0.4444444444444444,
              "#bd3786"
             ],
             [
              0.5555555555555556,
              "#d8576b"
             ],
             [
              0.6666666666666666,
              "#ed7953"
             ],
             [
              0.7777777777777778,
              "#fb9f3a"
             ],
             [
              0.8888888888888888,
              "#fdca26"
             ],
             [
              1,
              "#f0f921"
             ]
            ],
            "type": "heatmapgl"
           }
          ],
          "histogram": [
           {
            "marker": {
             "pattern": {
              "fillmode": "overlay",
              "size": 10,
              "solidity": 0.2
             }
            },
            "type": "histogram"
           }
          ],
          "histogram2d": [
           {
            "colorbar": {
             "outlinewidth": 0,
             "ticks": ""
            },
            "colorscale": [
             [
              0,
              "#0d0887"
             ],
             [
              0.1111111111111111,
              "#46039f"
             ],
             [
              0.2222222222222222,
              "#7201a8"
             ],
             [
              0.3333333333333333,
              "#9c179e"
             ],
             [
              0.4444444444444444,
              "#bd3786"
             ],
             [
              0.5555555555555556,
              "#d8576b"
             ],
             [
              0.6666666666666666,
              "#ed7953"
             ],
             [
              0.7777777777777778,
              "#fb9f3a"
             ],
             [
              0.8888888888888888,
              "#fdca26"
             ],
             [
              1,
              "#f0f921"
             ]
            ],
            "type": "histogram2d"
           }
          ],
          "histogram2dcontour": [
           {
            "colorbar": {
             "outlinewidth": 0,
             "ticks": ""
            },
            "colorscale": [
             [
              0,
              "#0d0887"
             ],
             [
              0.1111111111111111,
              "#46039f"
             ],
             [
              0.2222222222222222,
              "#7201a8"
             ],
             [
              0.3333333333333333,
              "#9c179e"
             ],
             [
              0.4444444444444444,
              "#bd3786"
             ],
             [
              0.5555555555555556,
              "#d8576b"
             ],
             [
              0.6666666666666666,
              "#ed7953"
             ],
             [
              0.7777777777777778,
              "#fb9f3a"
             ],
             [
              0.8888888888888888,
              "#fdca26"
             ],
             [
              1,
              "#f0f921"
             ]
            ],
            "type": "histogram2dcontour"
           }
          ],
          "mesh3d": [
           {
            "colorbar": {
             "outlinewidth": 0,
             "ticks": ""
            },
            "type": "mesh3d"
           }
          ],
          "parcoords": [
           {
            "line": {
             "colorbar": {
              "outlinewidth": 0,
              "ticks": ""
             }
            },
            "type": "parcoords"
           }
          ],
          "pie": [
           {
            "automargin": true,
            "type": "pie"
           }
          ],
          "scatter": [
           {
            "fillpattern": {
             "fillmode": "overlay",
             "size": 10,
             "solidity": 0.2
            },
            "type": "scatter"
           }
          ],
          "scatter3d": [
           {
            "line": {
             "colorbar": {
              "outlinewidth": 0,
              "ticks": ""
             }
            },
            "marker": {
             "colorbar": {
              "outlinewidth": 0,
              "ticks": ""
             }
            },
            "type": "scatter3d"
           }
          ],
          "scattercarpet": [
           {
            "marker": {
             "colorbar": {
              "outlinewidth": 0,
              "ticks": ""
             }
            },
            "type": "scattercarpet"
           }
          ],
          "scattergeo": [
           {
            "marker": {
             "colorbar": {
              "outlinewidth": 0,
              "ticks": ""
             }
            },
            "type": "scattergeo"
           }
          ],
          "scattergl": [
           {
            "marker": {
             "colorbar": {
              "outlinewidth": 0,
              "ticks": ""
             }
            },
            "type": "scattergl"
           }
          ],
          "scattermapbox": [
           {
            "marker": {
             "colorbar": {
              "outlinewidth": 0,
              "ticks": ""
             }
            },
            "type": "scattermapbox"
           }
          ],
          "scatterpolar": [
           {
            "marker": {
             "colorbar": {
              "outlinewidth": 0,
              "ticks": ""
             }
            },
            "type": "scatterpolar"
           }
          ],
          "scatterpolargl": [
           {
            "marker": {
             "colorbar": {
              "outlinewidth": 0,
              "ticks": ""
             }
            },
            "type": "scatterpolargl"
           }
          ],
          "scatterternary": [
           {
            "marker": {
             "colorbar": {
              "outlinewidth": 0,
              "ticks": ""
             }
            },
            "type": "scatterternary"
           }
          ],
          "surface": [
           {
            "colorbar": {
             "outlinewidth": 0,
             "ticks": ""
            },
            "colorscale": [
             [
              0,
              "#0d0887"
             ],
             [
              0.1111111111111111,
              "#46039f"
             ],
             [
              0.2222222222222222,
              "#7201a8"
             ],
             [
              0.3333333333333333,
              "#9c179e"
             ],
             [
              0.4444444444444444,
              "#bd3786"
             ],
             [
              0.5555555555555556,
              "#d8576b"
             ],
             [
              0.6666666666666666,
              "#ed7953"
             ],
             [
              0.7777777777777778,
              "#fb9f3a"
             ],
             [
              0.8888888888888888,
              "#fdca26"
             ],
             [
              1,
              "#f0f921"
             ]
            ],
            "type": "surface"
           }
          ],
          "table": [
           {
            "cells": {
             "fill": {
              "color": "#EBF0F8"
             },
             "line": {
              "color": "white"
             }
            },
            "header": {
             "fill": {
              "color": "#C8D4E3"
             },
             "line": {
              "color": "white"
             }
            },
            "type": "table"
           }
          ]
         },
         "layout": {
          "annotationdefaults": {
           "arrowcolor": "#2a3f5f",
           "arrowhead": 0,
           "arrowwidth": 1
          },
          "autotypenumbers": "strict",
          "coloraxis": {
           "colorbar": {
            "outlinewidth": 0,
            "ticks": ""
           }
          },
          "colorscale": {
           "diverging": [
            [
             0,
             "#8e0152"
            ],
            [
             0.1,
             "#c51b7d"
            ],
            [
             0.2,
             "#de77ae"
            ],
            [
             0.3,
             "#f1b6da"
            ],
            [
             0.4,
             "#fde0ef"
            ],
            [
             0.5,
             "#f7f7f7"
            ],
            [
             0.6,
             "#e6f5d0"
            ],
            [
             0.7,
             "#b8e186"
            ],
            [
             0.8,
             "#7fbc41"
            ],
            [
             0.9,
             "#4d9221"
            ],
            [
             1,
             "#276419"
            ]
           ],
           "sequential": [
            [
             0,
             "#0d0887"
            ],
            [
             0.1111111111111111,
             "#46039f"
            ],
            [
             0.2222222222222222,
             "#7201a8"
            ],
            [
             0.3333333333333333,
             "#9c179e"
            ],
            [
             0.4444444444444444,
             "#bd3786"
            ],
            [
             0.5555555555555556,
             "#d8576b"
            ],
            [
             0.6666666666666666,
             "#ed7953"
            ],
            [
             0.7777777777777778,
             "#fb9f3a"
            ],
            [
             0.8888888888888888,
             "#fdca26"
            ],
            [
             1,
             "#f0f921"
            ]
           ],
           "sequentialminus": [
            [
             0,
             "#0d0887"
            ],
            [
             0.1111111111111111,
             "#46039f"
            ],
            [
             0.2222222222222222,
             "#7201a8"
            ],
            [
             0.3333333333333333,
             "#9c179e"
            ],
            [
             0.4444444444444444,
             "#bd3786"
            ],
            [
             0.5555555555555556,
             "#d8576b"
            ],
            [
             0.6666666666666666,
             "#ed7953"
            ],
            [
             0.7777777777777778,
             "#fb9f3a"
            ],
            [
             0.8888888888888888,
             "#fdca26"
            ],
            [
             1,
             "#f0f921"
            ]
           ]
          },
          "colorway": [
           "#636efa",
           "#EF553B",
           "#00cc96",
           "#ab63fa",
           "#FFA15A",
           "#19d3f3",
           "#FF6692",
           "#B6E880",
           "#FF97FF",
           "#FECB52"
          ],
          "font": {
           "color": "#2a3f5f"
          },
          "geo": {
           "bgcolor": "white",
           "lakecolor": "white",
           "landcolor": "#E5ECF6",
           "showlakes": true,
           "showland": true,
           "subunitcolor": "white"
          },
          "hoverlabel": {
           "align": "left"
          },
          "hovermode": "closest",
          "mapbox": {
           "style": "light"
          },
          "paper_bgcolor": "white",
          "plot_bgcolor": "#E5ECF6",
          "polar": {
           "angularaxis": {
            "gridcolor": "white",
            "linecolor": "white",
            "ticks": ""
           },
           "bgcolor": "#E5ECF6",
           "radialaxis": {
            "gridcolor": "white",
            "linecolor": "white",
            "ticks": ""
           }
          },
          "scene": {
           "xaxis": {
            "backgroundcolor": "#E5ECF6",
            "gridcolor": "white",
            "gridwidth": 2,
            "linecolor": "white",
            "showbackground": true,
            "ticks": "",
            "zerolinecolor": "white"
           },
           "yaxis": {
            "backgroundcolor": "#E5ECF6",
            "gridcolor": "white",
            "gridwidth": 2,
            "linecolor": "white",
            "showbackground": true,
            "ticks": "",
            "zerolinecolor": "white"
           },
           "zaxis": {
            "backgroundcolor": "#E5ECF6",
            "gridcolor": "white",
            "gridwidth": 2,
            "linecolor": "white",
            "showbackground": true,
            "ticks": "",
            "zerolinecolor": "white"
           }
          },
          "shapedefaults": {
           "line": {
            "color": "#2a3f5f"
           }
          },
          "ternary": {
           "aaxis": {
            "gridcolor": "white",
            "linecolor": "white",
            "ticks": ""
           },
           "baxis": {
            "gridcolor": "white",
            "linecolor": "white",
            "ticks": ""
           },
           "bgcolor": "#E5ECF6",
           "caxis": {
            "gridcolor": "white",
            "linecolor": "white",
            "ticks": ""
           }
          },
          "title": {
           "x": 0.05
          },
          "xaxis": {
           "automargin": true,
           "gridcolor": "white",
           "linecolor": "white",
           "ticks": "",
           "title": {
            "standoff": 15
           },
           "zerolinecolor": "white",
           "zerolinewidth": 2
          },
          "yaxis": {
           "automargin": true,
           "gridcolor": "white",
           "linecolor": "white",
           "ticks": "",
           "title": {
            "standoff": 15
           },
           "zerolinecolor": "white",
           "zerolinewidth": 2
          }
         }
        },
        "title": {
         "text": "Checking Relationship Between Age and Maximum Heart Rate Achieved (Thalch)"
        },
        "xaxis": {
         "anchor": "y",
         "domain": [
          0,
          1
         ],
         "title": {
          "text": "Age"
         }
        },
        "yaxis": {
         "anchor": "x",
         "domain": [
          0,
          1
         ],
         "title": {
          "text": "thalch"
         }
        }
       }
      }
     },
     "metadata": {},
     "output_type": "display_data"
    }
   ],
   "source": [
    "# Scatter plot for Age vs Maximum Heart Rate (Thalch)\n",
    "fig = px.scatter(df, x='age', \n",
    "                 y=(df['thalch']),  \n",
    "                 labels={'age': 'Age', 'y': 'Maximum Heart Rate Achieved'},\n",
    "                 title='Checking Relationship Between Age and Maximum Heart Rate Achieved (Thalch)',trendline='ols'\n",
    ")\n",
    "\n",
    "fig.show()\n"
   ]
  },
  {
   "cell_type": "markdown",
   "metadata": {},
   "source": [
    "**The plot shows that as age increases, the maximum heart rate (thalch) values tend to decrease. This indicates potential concerns related to cardiovascular fitness and health, suggesting that older individuals may experience reduced heart efficiency and increased risk of heart-related issues.**"
   ]
  },
  {
   "cell_type": "markdown",
   "metadata": {},
   "source": [
    "<h1 style=\"font-family: 'Poppins', sans-serif; font-weight: 700; color: #1c1c1c; background: white; padding: 8px; border-radius: 10px; text-align: left; box-shadow: 0 4px 8px rgba(0, 0, 0, 0.1); letter-spacing: 1px; text-transform: capitalize; font-size: 1rem;\">\n",
    "2.3.9 Analyzing  whether lower or higher resting blood pressure are more associated with heart disease using `blood_pressures_category` and `Heart Disease Status` column<span style=\"color: #333333;\"></span>\n",
    "</h1>\n",
    "\n",
    "\n"
   ]
  },
  {
   "cell_type": "code",
   "execution_count": 34,
   "metadata": {},
   "outputs": [
    {
     "data": {
      "application/vnd.plotly.v1+json": {
       "config": {
        "plotlyServerURL": "https://plot.ly"
       },
       "data": [
        {
         "alignmentgroup": "True",
         "hovertemplate": "Heart Disease Status=No disease<br>blood_pressure_category=%{x}<br>Count=%{y}<extra></extra>",
         "legendgroup": "No disease",
         "marker": {
          "color": "#636efa",
          "pattern": {
           "shape": ""
          }
         },
         "name": "No disease",
         "offsetgroup": "No disease",
         "orientation": "v",
         "showlegend": true,
         "textposition": "auto",
         "type": "bar",
         "x": [
          "Elevated",
          "Hypertension Stage 1",
          "Hypertension Stage 2",
          "Normal"
         ],
         "xaxis": "x",
         "y": [
          91,
          92,
          64,
          144
         ],
         "yaxis": "y"
        },
        {
         "alignmentgroup": "True",
         "hovertemplate": "Heart Disease Status=Yes disease<br>blood_pressure_category=%{x}<br>Count=%{y}<extra></extra>",
         "legendgroup": "Yes disease",
         "marker": {
          "color": "#EF553B",
          "pattern": {
           "shape": ""
          }
         },
         "name": "Yes disease",
         "offsetgroup": "Yes disease",
         "orientation": "v",
         "showlegend": true,
         "textposition": "auto",
         "type": "bar",
         "x": [
          "Elevated",
          "Hypertension Stage 1",
          "Hypertension Stage 2",
          "Normal"
         ],
         "xaxis": "x",
         "y": [
          73,
          98,
          104,
          82
         ],
         "yaxis": "y"
        }
       ],
       "layout": {
        "barmode": "relative",
        "legend": {
         "title": {
          "text": "Heart Disease Status"
         },
         "tracegroupgap": 0
        },
        "template": {
         "data": {
          "bar": [
           {
            "error_x": {
             "color": "#2a3f5f"
            },
            "error_y": {
             "color": "#2a3f5f"
            },
            "marker": {
             "line": {
              "color": "#E5ECF6",
              "width": 0.5
             },
             "pattern": {
              "fillmode": "overlay",
              "size": 10,
              "solidity": 0.2
             }
            },
            "type": "bar"
           }
          ],
          "barpolar": [
           {
            "marker": {
             "line": {
              "color": "#E5ECF6",
              "width": 0.5
             },
             "pattern": {
              "fillmode": "overlay",
              "size": 10,
              "solidity": 0.2
             }
            },
            "type": "barpolar"
           }
          ],
          "carpet": [
           {
            "aaxis": {
             "endlinecolor": "#2a3f5f",
             "gridcolor": "white",
             "linecolor": "white",
             "minorgridcolor": "white",
             "startlinecolor": "#2a3f5f"
            },
            "baxis": {
             "endlinecolor": "#2a3f5f",
             "gridcolor": "white",
             "linecolor": "white",
             "minorgridcolor": "white",
             "startlinecolor": "#2a3f5f"
            },
            "type": "carpet"
           }
          ],
          "choropleth": [
           {
            "colorbar": {
             "outlinewidth": 0,
             "ticks": ""
            },
            "type": "choropleth"
           }
          ],
          "contour": [
           {
            "colorbar": {
             "outlinewidth": 0,
             "ticks": ""
            },
            "colorscale": [
             [
              0,
              "#0d0887"
             ],
             [
              0.1111111111111111,
              "#46039f"
             ],
             [
              0.2222222222222222,
              "#7201a8"
             ],
             [
              0.3333333333333333,
              "#9c179e"
             ],
             [
              0.4444444444444444,
              "#bd3786"
             ],
             [
              0.5555555555555556,
              "#d8576b"
             ],
             [
              0.6666666666666666,
              "#ed7953"
             ],
             [
              0.7777777777777778,
              "#fb9f3a"
             ],
             [
              0.8888888888888888,
              "#fdca26"
             ],
             [
              1,
              "#f0f921"
             ]
            ],
            "type": "contour"
           }
          ],
          "contourcarpet": [
           {
            "colorbar": {
             "outlinewidth": 0,
             "ticks": ""
            },
            "type": "contourcarpet"
           }
          ],
          "heatmap": [
           {
            "colorbar": {
             "outlinewidth": 0,
             "ticks": ""
            },
            "colorscale": [
             [
              0,
              "#0d0887"
             ],
             [
              0.1111111111111111,
              "#46039f"
             ],
             [
              0.2222222222222222,
              "#7201a8"
             ],
             [
              0.3333333333333333,
              "#9c179e"
             ],
             [
              0.4444444444444444,
              "#bd3786"
             ],
             [
              0.5555555555555556,
              "#d8576b"
             ],
             [
              0.6666666666666666,
              "#ed7953"
             ],
             [
              0.7777777777777778,
              "#fb9f3a"
             ],
             [
              0.8888888888888888,
              "#fdca26"
             ],
             [
              1,
              "#f0f921"
             ]
            ],
            "type": "heatmap"
           }
          ],
          "heatmapgl": [
           {
            "colorbar": {
             "outlinewidth": 0,
             "ticks": ""
            },
            "colorscale": [
             [
              0,
              "#0d0887"
             ],
             [
              0.1111111111111111,
              "#46039f"
             ],
             [
              0.2222222222222222,
              "#7201a8"
             ],
             [
              0.3333333333333333,
              "#9c179e"
             ],
             [
              0.4444444444444444,
              "#bd3786"
             ],
             [
              0.5555555555555556,
              "#d8576b"
             ],
             [
              0.6666666666666666,
              "#ed7953"
             ],
             [
              0.7777777777777778,
              "#fb9f3a"
             ],
             [
              0.8888888888888888,
              "#fdca26"
             ],
             [
              1,
              "#f0f921"
             ]
            ],
            "type": "heatmapgl"
           }
          ],
          "histogram": [
           {
            "marker": {
             "pattern": {
              "fillmode": "overlay",
              "size": 10,
              "solidity": 0.2
             }
            },
            "type": "histogram"
           }
          ],
          "histogram2d": [
           {
            "colorbar": {
             "outlinewidth": 0,
             "ticks": ""
            },
            "colorscale": [
             [
              0,
              "#0d0887"
             ],
             [
              0.1111111111111111,
              "#46039f"
             ],
             [
              0.2222222222222222,
              "#7201a8"
             ],
             [
              0.3333333333333333,
              "#9c179e"
             ],
             [
              0.4444444444444444,
              "#bd3786"
             ],
             [
              0.5555555555555556,
              "#d8576b"
             ],
             [
              0.6666666666666666,
              "#ed7953"
             ],
             [
              0.7777777777777778,
              "#fb9f3a"
             ],
             [
              0.8888888888888888,
              "#fdca26"
             ],
             [
              1,
              "#f0f921"
             ]
            ],
            "type": "histogram2d"
           }
          ],
          "histogram2dcontour": [
           {
            "colorbar": {
             "outlinewidth": 0,
             "ticks": ""
            },
            "colorscale": [
             [
              0,
              "#0d0887"
             ],
             [
              0.1111111111111111,
              "#46039f"
             ],
             [
              0.2222222222222222,
              "#7201a8"
             ],
             [
              0.3333333333333333,
              "#9c179e"
             ],
             [
              0.4444444444444444,
              "#bd3786"
             ],
             [
              0.5555555555555556,
              "#d8576b"
             ],
             [
              0.6666666666666666,
              "#ed7953"
             ],
             [
              0.7777777777777778,
              "#fb9f3a"
             ],
             [
              0.8888888888888888,
              "#fdca26"
             ],
             [
              1,
              "#f0f921"
             ]
            ],
            "type": "histogram2dcontour"
           }
          ],
          "mesh3d": [
           {
            "colorbar": {
             "outlinewidth": 0,
             "ticks": ""
            },
            "type": "mesh3d"
           }
          ],
          "parcoords": [
           {
            "line": {
             "colorbar": {
              "outlinewidth": 0,
              "ticks": ""
             }
            },
            "type": "parcoords"
           }
          ],
          "pie": [
           {
            "automargin": true,
            "type": "pie"
           }
          ],
          "scatter": [
           {
            "fillpattern": {
             "fillmode": "overlay",
             "size": 10,
             "solidity": 0.2
            },
            "type": "scatter"
           }
          ],
          "scatter3d": [
           {
            "line": {
             "colorbar": {
              "outlinewidth": 0,
              "ticks": ""
             }
            },
            "marker": {
             "colorbar": {
              "outlinewidth": 0,
              "ticks": ""
             }
            },
            "type": "scatter3d"
           }
          ],
          "scattercarpet": [
           {
            "marker": {
             "colorbar": {
              "outlinewidth": 0,
              "ticks": ""
             }
            },
            "type": "scattercarpet"
           }
          ],
          "scattergeo": [
           {
            "marker": {
             "colorbar": {
              "outlinewidth": 0,
              "ticks": ""
             }
            },
            "type": "scattergeo"
           }
          ],
          "scattergl": [
           {
            "marker": {
             "colorbar": {
              "outlinewidth": 0,
              "ticks": ""
             }
            },
            "type": "scattergl"
           }
          ],
          "scattermapbox": [
           {
            "marker": {
             "colorbar": {
              "outlinewidth": 0,
              "ticks": ""
             }
            },
            "type": "scattermapbox"
           }
          ],
          "scatterpolar": [
           {
            "marker": {
             "colorbar": {
              "outlinewidth": 0,
              "ticks": ""
             }
            },
            "type": "scatterpolar"
           }
          ],
          "scatterpolargl": [
           {
            "marker": {
             "colorbar": {
              "outlinewidth": 0,
              "ticks": ""
             }
            },
            "type": "scatterpolargl"
           }
          ],
          "scatterternary": [
           {
            "marker": {
             "colorbar": {
              "outlinewidth": 0,
              "ticks": ""
             }
            },
            "type": "scatterternary"
           }
          ],
          "surface": [
           {
            "colorbar": {
             "outlinewidth": 0,
             "ticks": ""
            },
            "colorscale": [
             [
              0,
              "#0d0887"
             ],
             [
              0.1111111111111111,
              "#46039f"
             ],
             [
              0.2222222222222222,
              "#7201a8"
             ],
             [
              0.3333333333333333,
              "#9c179e"
             ],
             [
              0.4444444444444444,
              "#bd3786"
             ],
             [
              0.5555555555555556,
              "#d8576b"
             ],
             [
              0.6666666666666666,
              "#ed7953"
             ],
             [
              0.7777777777777778,
              "#fb9f3a"
             ],
             [
              0.8888888888888888,
              "#fdca26"
             ],
             [
              1,
              "#f0f921"
             ]
            ],
            "type": "surface"
           }
          ],
          "table": [
           {
            "cells": {
             "fill": {
              "color": "#EBF0F8"
             },
             "line": {
              "color": "white"
             }
            },
            "header": {
             "fill": {
              "color": "#C8D4E3"
             },
             "line": {
              "color": "white"
             }
            },
            "type": "table"
           }
          ]
         },
         "layout": {
          "annotationdefaults": {
           "arrowcolor": "#2a3f5f",
           "arrowhead": 0,
           "arrowwidth": 1
          },
          "autotypenumbers": "strict",
          "coloraxis": {
           "colorbar": {
            "outlinewidth": 0,
            "ticks": ""
           }
          },
          "colorscale": {
           "diverging": [
            [
             0,
             "#8e0152"
            ],
            [
             0.1,
             "#c51b7d"
            ],
            [
             0.2,
             "#de77ae"
            ],
            [
             0.3,
             "#f1b6da"
            ],
            [
             0.4,
             "#fde0ef"
            ],
            [
             0.5,
             "#f7f7f7"
            ],
            [
             0.6,
             "#e6f5d0"
            ],
            [
             0.7,
             "#b8e186"
            ],
            [
             0.8,
             "#7fbc41"
            ],
            [
             0.9,
             "#4d9221"
            ],
            [
             1,
             "#276419"
            ]
           ],
           "sequential": [
            [
             0,
             "#0d0887"
            ],
            [
             0.1111111111111111,
             "#46039f"
            ],
            [
             0.2222222222222222,
             "#7201a8"
            ],
            [
             0.3333333333333333,
             "#9c179e"
            ],
            [
             0.4444444444444444,
             "#bd3786"
            ],
            [
             0.5555555555555556,
             "#d8576b"
            ],
            [
             0.6666666666666666,
             "#ed7953"
            ],
            [
             0.7777777777777778,
             "#fb9f3a"
            ],
            [
             0.8888888888888888,
             "#fdca26"
            ],
            [
             1,
             "#f0f921"
            ]
           ],
           "sequentialminus": [
            [
             0,
             "#0d0887"
            ],
            [
             0.1111111111111111,
             "#46039f"
            ],
            [
             0.2222222222222222,
             "#7201a8"
            ],
            [
             0.3333333333333333,
             "#9c179e"
            ],
            [
             0.4444444444444444,
             "#bd3786"
            ],
            [
             0.5555555555555556,
             "#d8576b"
            ],
            [
             0.6666666666666666,
             "#ed7953"
            ],
            [
             0.7777777777777778,
             "#fb9f3a"
            ],
            [
             0.8888888888888888,
             "#fdca26"
            ],
            [
             1,
             "#f0f921"
            ]
           ]
          },
          "colorway": [
           "#636efa",
           "#EF553B",
           "#00cc96",
           "#ab63fa",
           "#FFA15A",
           "#19d3f3",
           "#FF6692",
           "#B6E880",
           "#FF97FF",
           "#FECB52"
          ],
          "font": {
           "color": "#2a3f5f"
          },
          "geo": {
           "bgcolor": "white",
           "lakecolor": "white",
           "landcolor": "#E5ECF6",
           "showlakes": true,
           "showland": true,
           "subunitcolor": "white"
          },
          "hoverlabel": {
           "align": "left"
          },
          "hovermode": "closest",
          "mapbox": {
           "style": "light"
          },
          "paper_bgcolor": "white",
          "plot_bgcolor": "#E5ECF6",
          "polar": {
           "angularaxis": {
            "gridcolor": "white",
            "linecolor": "white",
            "ticks": ""
           },
           "bgcolor": "#E5ECF6",
           "radialaxis": {
            "gridcolor": "white",
            "linecolor": "white",
            "ticks": ""
           }
          },
          "scene": {
           "xaxis": {
            "backgroundcolor": "#E5ECF6",
            "gridcolor": "white",
            "gridwidth": 2,
            "linecolor": "white",
            "showbackground": true,
            "ticks": "",
            "zerolinecolor": "white"
           },
           "yaxis": {
            "backgroundcolor": "#E5ECF6",
            "gridcolor": "white",
            "gridwidth": 2,
            "linecolor": "white",
            "showbackground": true,
            "ticks": "",
            "zerolinecolor": "white"
           },
           "zaxis": {
            "backgroundcolor": "#E5ECF6",
            "gridcolor": "white",
            "gridwidth": 2,
            "linecolor": "white",
            "showbackground": true,
            "ticks": "",
            "zerolinecolor": "white"
           }
          },
          "shapedefaults": {
           "line": {
            "color": "#2a3f5f"
           }
          },
          "ternary": {
           "aaxis": {
            "gridcolor": "white",
            "linecolor": "white",
            "ticks": ""
           },
           "baxis": {
            "gridcolor": "white",
            "linecolor": "white",
            "ticks": ""
           },
           "bgcolor": "#E5ECF6",
           "caxis": {
            "gridcolor": "white",
            "linecolor": "white",
            "ticks": ""
           }
          },
          "title": {
           "x": 0.05
          },
          "xaxis": {
           "automargin": true,
           "gridcolor": "white",
           "linecolor": "white",
           "ticks": "",
           "title": {
            "standoff": 15
           },
           "zerolinecolor": "white",
           "zerolinewidth": 2
          },
          "yaxis": {
           "automargin": true,
           "gridcolor": "white",
           "linecolor": "white",
           "ticks": "",
           "title": {
            "standoff": 15
           },
           "zerolinecolor": "white",
           "zerolinewidth": 2
          }
         }
        },
        "title": {
         "text": "Association Between Blood Pressure Categories and Heart Disease Status"
        },
        "width": 1000,
        "xaxis": {
         "anchor": "y",
         "domain": [
          0,
          1
         ],
         "title": {
          "text": "blood_pressure_category"
         }
        },
        "yaxis": {
         "anchor": "x",
         "domain": [
          0,
          1
         ],
         "title": {
          "text": "Count"
         }
        }
       }
      }
     },
     "metadata": {},
     "output_type": "display_data"
    }
   ],
   "source": [
    "# Creating a count of heart disease status for each blood pressure category\n",
    "bp_analysis = df.groupby(['blood_pressure_category', 'Heart Disease Status']).size().reset_index(name='count')\n",
    "\n",
    "# Creating a bar plot to visualize the relationship\n",
    "fig = px.bar(bp_analysis, x='blood_pressure_category', y='count', color='Heart Disease Status',\n",
    "             labels={'blood_pressures_category': 'Blood Pressure Category', 'count': 'Count'},\n",
    "             title='Association Between Blood Pressure Categories and Heart Disease Status')\n",
    "fig.update_layout(width=1000)\n",
    "\n",
    "fig.show()\n"
   ]
  },
  {
   "cell_type": "markdown",
   "metadata": {},
   "source": [
    "**The plot shows that when individuals have blood pressure in hypertension stage 1 or 2, they have a higher risk of developing heart disease.**\n"
   ]
  },
  {
   "cell_type": "markdown",
   "metadata": {},
   "source": [
    "<h1 style=\"font-family: 'Poppins', sans-serif; font-weight: 700; color: #1c1c1c; background: white; padding: 8px; border-radius: 10px; text-align: left; box-shadow: 0 4px 8px rgba(0, 0, 0, 0.1); letter-spacing: 1px; text-transform: capitalize; font-size: 1rem;\">\n",
    "2.3.10 Identifying Heart Disease Risk in Individuals with Hypertension, High Cholesterol, Elevated Heart Rate, and Severe Depression using `Blood Pressure Categories, Cholesterol Level Categories, Heart Rate Categories, and Oldpeak Categories columns.`<span style=\"color: #333333;\"></span>\n",
    "</h1>\n",
    "\n",
    "\n",
    "###\n",
    "\n",
    "We are filtering the dataset to identify individuals with:\n",
    "- Hypertension Stage 1 or Stage 2\n",
    "- High cholesterol\n",
    "- High heart rate\n",
    "- Severe depression in oldpeak\n",
    "\n",
    "We will then count how many of these individuals have heart disease to assess the risk associated with these health conditions.\n"
   ]
  },
  {
   "cell_type": "code",
   "execution_count": 38,
   "metadata": {},
   "outputs": [
    {
     "data": {
      "text/html": [
       "<div>\n",
       "<style scoped>\n",
       "    .dataframe tbody tr th:only-of-type {\n",
       "        vertical-align: middle;\n",
       "    }\n",
       "\n",
       "    .dataframe tbody tr th {\n",
       "        vertical-align: top;\n",
       "    }\n",
       "\n",
       "    .dataframe thead th {\n",
       "        text-align: right;\n",
       "    }\n",
       "</style>\n",
       "<table border=\"1\" class=\"dataframe\">\n",
       "  <thead>\n",
       "    <tr style=\"text-align: right;\">\n",
       "      <th></th>\n",
       "      <th>Heart Disease Status</th>\n",
       "      <th>Count</th>\n",
       "    </tr>\n",
       "  </thead>\n",
       "  <tbody>\n",
       "    <tr>\n",
       "      <th>0</th>\n",
       "      <td>Yes disease</td>\n",
       "      <td>23</td>\n",
       "    </tr>\n",
       "    <tr>\n",
       "      <th>1</th>\n",
       "      <td>No disease</td>\n",
       "      <td>1</td>\n",
       "    </tr>\n",
       "  </tbody>\n",
       "</table>\n",
       "</div>"
      ],
      "text/plain": [
       "  Heart Disease Status  Count\n",
       "0          Yes disease     23\n",
       "1           No disease      1"
      ]
     },
     "execution_count": 38,
     "metadata": {},
     "output_type": "execute_result"
    }
   ],
   "source": [
    "# Filtering based on the specified conditions for both hypertension stages\n",
    "filtered_df = df[\n",
    "    ((df['blood_pressure_category'] == 'Hypertension Stage 1') | \n",
    "     (df['blood_pressure_category'] == 'Hypertension Stage 2')) &\n",
    "    (df['cholesterol_category'] == 'High') &\n",
    "    (df['heart_rate_category'] == 'High') &\n",
    "    (df['oldpeak_category'] == 'Severe Depression')\n",
    "]\n",
    "\n",
    "# Counting the occurrences of heart disease status in the filtered DataFrame\n",
    "heart_disease_count = filtered_df['Heart Disease Status'].value_counts().reset_index()\n",
    "heart_disease_count.columns = ['Heart Disease Status', 'Count']\n",
    "\n",
    "# Displaying the result\n",
    "heart_disease_count\n"
   ]
  },
  {
   "cell_type": "markdown",
   "metadata": {},
   "source": [
    "### Observations:\n",
    "---\n",
    "\n",
    "The analysis reveals the following:\n",
    "\n",
    "- **Yes disease**: 23 individuals with heart disease fall under the specified criteria (Hypertension Stage 1 or 2, high cholesterol, high heart rate, and severe depression in oldpeak).\n",
    "- **No disease**: Only 1 individual does not have heart disease under these conditions.\n",
    "\n",
    "This indicates a strong correlation between high blood pressure, high cholesterol, high heart rate, and severe depression in oldpeak, suggesting that individuals fitting these criteria are significantly more likely to have heart disease. The data highlights the importance of monitoring these health indicators to assess heart disease risk effectively.\n"
   ]
  },
  {
   "cell_type": "markdown",
   "metadata": {},
   "source": [
    "<h1 style=\"font-family: 'Poppins', sans-serif; font-weight: 700; color: #1c1c1c; background: #f7f7f7; padding: 20px; border-radius: 12px; text-align: center; box-shadow: 0 4px 12px rgba(0, 0, 0, 0.1); letter-spacing: 1px; text-transform: capitalize; font-size: 2rem; margin-top: 30px;\">\n",
    "The End! Thank you for Reading.\n",
    "</h1><h1 style=\"font-family: 'Poppins', sans-serif; font-weight: 700; color: #1c1c1c; background: #f7f7f7; padding: 15px; border-radius: 12px; text-align: center; box-shadow: 0 4px 12px rgba(0, 0, 0, 0.1); letter-spacing: 1px; text-transform: capitalize; font-size: 1.5rem; margin-top: 30px;\">\n",
    "I Hope you found this project insightful and informative.\n",
    "</h1>\n"
   ]
  }
 ],
 "metadata": {
  "kernelspec": {
   "display_name": "TF_GPU",
   "language": "python",
   "name": "python3"
  },
  "language_info": {
   "codemirror_mode": {
    "name": "ipython",
    "version": 3
   },
   "file_extension": ".py",
   "mimetype": "text/x-python",
   "name": "python",
   "nbconvert_exporter": "python",
   "pygments_lexer": "ipython3",
   "version": "3.9.19"
  }
 },
 "nbformat": 4,
 "nbformat_minor": 2
}
