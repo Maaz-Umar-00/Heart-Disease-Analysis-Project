{
 "cells": [
  {
   "cell_type": "markdown",
   "metadata": {},
   "source": [
    "<h1 style=\"font-family: 'Poppins', sans-serif; font-weight: 700; color: #1c1c1c; background: white; padding: 15px; border-radius: 10px; text-align: center; box-shadow: 0 4px 8px rgba(0, 0, 0, 0.5); letter-spacing: 1px; text-transform: capitalize; font-size: 1.5rem;\">\n",
    "  Project Title: <span style=\"color: #333333;\">Heart disease analysis</span>\n",
    "</h1>\n"
   ]
  },
  {
   "cell_type": "markdown",
   "metadata": {},
   "source": [
    "<h1 style=\"font-family: 'Poppins', sans-serif; font-weight: 700; color: #1c1c1c; background: white; padding: 20px; border-radius: 15px; text-align: center; box-shadow: 0 4px 8px rgba(0, 0, 0, 0.1); letter-spacing: 1px; text-transform: capitalize; font-size: 1.5rem;\">\n",
    "  <span style=\"color: #1c1c1c; font-size: 2rem;\">👨‍💻</span> \n",
    "  Author: <span style=\"color: #333333;\">Maaz Umar</span><br>\n",
    "  <a href=\"https://github.com/Maaz-Umar-00\" style=\"color: #333333; text-decoration: none; font-size: 0.9rem;\">GitHub</a> |\n",
    "  <a href=\"https://www.linkedin.com/in/maaz-umar-178090307/\" style=\"color: #333333; text-decoration: none; font-size: 0.9rem;\">LinkedIn</a> |\n",
    "  <a href=\"mailto:maazumar2005@email.com\" style=\"color: #555555; text-decoration: none; font-size: 0.9rem;\">Email</a>\n",
    "\n",
    "</h1>\n"
   ]
  },
  {
   "cell_type": "markdown",
   "metadata": {},
   "source": [
    "<img src=\"./Heart_pic.webp\" alt=\"Mitron Bank\" style=\"width: 600px; display: block; margin: 0 auto;\" />\n"
   ]
  },
  {
   "cell_type": "markdown",
   "metadata": {},
   "source": [
    "<h1 style=\"font-family: 'Poppins', sans-serif; font-weight: 700; color: #1c1c1c; background: white; padding: 15px; border-radius: 10px; text-align: center; box-shadow: 0 4px 8px rgba(0, 0, 0, 0.5); letter-spacing: 1px; text-transform: capitalize; font-size: 1.5rem;\">\n",
    "  Meta-Data(About Dataset) <span style=\"color: #333333;\"></span>\n",
    "</h1>\n",
    "\n",
    "\n",
    "\n",
    "This multivariate dataset includes 16 attributes such as age, sex, chest pain type, blood pressure, cholesterol, and others. Despite having 76 attributes, studies typically use this subset. The Cleveland database is commonly used for predicting heart disease based on these attributes and for gaining insights to better understand the condition.\n",
    "\n",
    "<h1 style=\"font-family: 'Poppins', sans-serif; font-weight: 700; color: #1c1c1c; background: white; padding: 10px; border-radius: 10px; text-align: left; box-shadow: 0 4px 8px rgba(0, 0, 0, 0.1); letter-spacing: 1px; text-transform: capitalize; font-size: 1.2rem;\">\n",
    "  Columns description: <span style=\"color: #333333;\"></span>\n",
    "</h1>\n",
    "\n",
    "* `id:` A unique identifier assigned to each patient. It helps to distinguish between different patients but doesn't provide any medical information.\n",
    "* `age:` The patient's age in years. Age is a key factor in assessing heart disease risk, as older individuals generally have a higher risk.\n",
    "* `dataset:` The place or source of the study or data collection. This might be useful for understanding geographic variations in the data.\n",
    "* `sex:` The patient's gender (Male or Female). Gender can influence the likelihood of developing heart disease, with different risks associated with each gender.\n",
    "* `cp (chest pain type):` Indicates the type of chest pain experienced by the patient:\n",
    "  - 1: Typical angina - pain due to heart disease.\n",
    "  - 2: Atypical angina - pain not necessarily related to heart disease.\n",
    "  - 3: Non-anginal pain - pain not related to the heart.\n",
    "  - 4: Asymptomatic - no chest pain experienced.\n",
    "* `trestbps:` Resting blood pressure (in mm Hg) measured when the patient is admitted to the hospital. High blood pressure is a known risk factor for heart disease.\n",
    "* `chol:` Serum cholesterol level (in mg/dl). High cholesterol levels can increase the risk of heart disease.\n",
    "* `fbs:` Indicates whether the patient's fasting blood sugar level is greater than 120 mg/dl (True or False). High fasting blood sugar can be a sign of diabetes, which is a risk factor for heart disease.\n",
    "* `restecg:` Resting electrocardiographic results:\n",
    "  - 1: Normal heart activity.\n",
    "  - 2: ST-T wave abnormality, which can indicate heart issues.\n",
    "  - 3: Left ventricular hypertrophy, an enlargement of the heart's left ventricle.\n",
    "* `thalach:` Maximum heart rate achieved during exercise. A higher heart rate can indicate better cardiovascular fitness, but extremely high or low rates can be a concern.\n",
    "* `exang:` Exercise-induced angina (True or False). Indicates whether exercise triggers chest pain, which can be a sign of heart disease.\n",
    "* `oldpeak:` ST depression caused by exercise relative to rest. ST depression can be a sign of heart disease.\n",
    "* `slope:` The slope of the peak exercise ST segment:\n",
    "  - 1: Upsloping - indicates better exercise tolerance.\n",
    "  - 2: Flat - can be normal or indicative of heart issues.\n",
    "  - 3: Downsloping - often associated with heart disease.\n",
    "* `ca:` Number of major vessels (0-3) colored by fluoroscopy. More vessels colored indicates more significant coronary artery disease.\n",
    "* `thal:` Thalassemia status.\n",
    "* `num:` Indicates whether heart disease is present:\n",
    "  - 0: No heart disease.\n",
    "  - 1: 1, 2, and 4 indicate varying levels of disease presence.\n",
    "\n"
   ]
  },
  {
   "cell_type": "markdown",
   "metadata": {},
   "source": [
    "<h1 style=\"font-family: 'Poppins', sans-serif; font-weight: 700; color: #1c1c1c; background: white; padding: 10px; border-radius: 10px; text-align: left; box-shadow: 0 4px 8px rgba(0, 0, 0, 0.1); letter-spacing: 1px; text-transform: capitalize; font-size: 1.2rem;\">\n",
    "  Project Aim: <span style=\"color: #333333;\"></span>\n",
    "</h1>\n",
    "\n",
    "\n",
    "The aim of this project is to perform data analysis on the heart disease dataset to understand key factors that may influence the risk of heart disease.The focus will be on the following:\n",
    "\n",
    "* Understanding the distribution of patient demographics like age and gender.\n",
    "* Identifying risk factors associated with heart disease, such as high cholesterol, blood pressure, and chest pain types.\n",
    "* Comparing the presence of heart disease across different subgroups, including age ranges, gender, and other medical attributes.\n",
    "* Visualizing relationships between variables like cholesterol levels, blood pressure, and heart disease to provide insights into patient health.\n",
    "* `The ultimate goal is to provide meaningful insights from the dataset that could be useful for understanding heart disease risk.` \n",
    "\n",
    "\n",
    "<h1 style=\"font-family: 'Poppins', sans-serif; font-weight: 700; color: #1c1c1c; background: white; padding: 10px; border-radius: 10px; text-align: left; box-shadow: 0 4px 8px rgba(0, 0, 0, 0.1); letter-spacing: 1px; text-transform: capitalize; font-size: 1.2rem;\">\n",
    "Key Findings: <span style=\"color: #333333;\"></span>\n",
    "</h1>\n",
    "\n",
    "* Most people in the dataset are between the `ages of 40 and 70.`\n",
    "* There are` 565 males` in the dataset, which is significant since heart disease is more prevalent in males. The total number of `females is 183`.\n",
    "* `Middle-aged` and` older` individuals have the` highest rates of heart disease`, which is expected, as the likelihood of developing heart disease increases with age.\n",
    "* Heart disease is significantly more prevalent in` males, with 317 cases, compared to 40 cases in females.`\n",
    "* Most people exhibit asymptomatic chest `pain`, yet they are still diagnosed with heart disease. This underscores the importance of thorough medical evaluations and monitoring, even for patients with non-specific or no symptoms at all.\n",
    "* It was found that as `age increases, both resting blood pressure and cholesterol levels tend to rise.` This could be one of the reasons why `middle-aged and older individuals have a higher risk of heart disease.`\n",
    "* As age increases, maximum heart rate (thalch) values tend to decrease. This suggests potential concerns related to` cardiovascular fitness and health`, indicating that older individuals may experience reduced heart efficiency and a higher risk of heart-related issues.\n",
    "* `The final and most important finding was a strong correlation between` high blood pressure, high cholesterol, elevated heart rate, and severe depression in the oldpeak variable. This suggests that individuals with these characteristics are significantly more likely to have heart disease. The data emphasizes the importance of monitoring these health indicators to effectively assess heart disease risk.\n"
   ]
  },
  {
   "cell_type": "markdown",
   "metadata": {},
   "source": [
    "<h1 style=\"font-family: 'Poppins', sans-serif; font-weight: 700; color: #1c1c1c; background: white; padding: 15px; border-radius: 10px; text-align: left; box-shadow: 0 4px 8px rgba(0, 0, 0, 0.1); letter-spacing: 1px; text-transform: capitalize; font-size: 1.5rem;\">\n",
    "  1. Importing Libraries <span style=\"color: #333333;\"></span>\n",
    "</h1>\n",
    "\n",
    "Let's start the project by importing all the libraries that we will need in this project.\n"
   ]
  },
  {
   "cell_type": "code",
   "execution_count": 1,
   "metadata": {},
   "outputs": [],
   "source": [
    "# import libraries\n",
    "\n",
    "# 1. to handle the data\n",
    "import pandas as pd\n",
    "import numpy as np\n",
    "\n",
    "# to visualize the dataset\n",
    "import matplotlib.pyplot as plt\n",
    "import seaborn as sns\n",
    "import plotly.express as px\n",
    "\n",
    "# To preprocess the data and scales the data\n",
    "from sklearn.preprocessing import StandardScaler, MinMaxScaler, LabelEncoder\n",
    "\n",
    "# for imputation of missing values\n",
    "from sklearn.impute import SimpleImputer, KNNImputer\n",
    "from sklearn.experimental import enable_iterative_imputer\n",
    "from sklearn.impute import IterativeImputer\n",
    "\n",
    "# For little bit of  machine learning\n",
    "from sklearn.linear_model import LinearRegression\n",
    "\n",
    "# ignore warnings   \n",
    "import warnings\n",
    "warnings.filterwarnings('ignore')"
   ]
  },
  {
   "cell_type": "markdown",
   "metadata": {},
   "source": [
    "<h1 style=\"font-family: 'Poppins', sans-serif; font-weight: 700; color: #1c1c1c; background: white; padding: 10px; border-radius: 10px; text-align: left; box-shadow: 0 4px 8px rgba(0, 0, 0, 0.1); letter-spacing: 1px; text-transform: capitalize; font-size: 1.2rem;\">\n",
    "  1.1 Loading the dataset using pandas library <span style=\"color: #333333;\"></span>\n",
    "</h1>"
   ]
  },
  {
   "cell_type": "code",
   "execution_count": 2,
   "metadata": {},
   "outputs": [
    {
     "data": {
      "text/html": [
       "<div>\n",
       "<style scoped>\n",
       "    .dataframe tbody tr th:only-of-type {\n",
       "        vertical-align: middle;\n",
       "    }\n",
       "\n",
       "    .dataframe tbody tr th {\n",
       "        vertical-align: top;\n",
       "    }\n",
       "\n",
       "    .dataframe thead th {\n",
       "        text-align: right;\n",
       "    }\n",
       "</style>\n",
       "<table border=\"1\" class=\"dataframe\">\n",
       "  <thead>\n",
       "    <tr style=\"text-align: right;\">\n",
       "      <th></th>\n",
       "      <th>id</th>\n",
       "      <th>age</th>\n",
       "      <th>sex</th>\n",
       "      <th>dataset</th>\n",
       "      <th>cp</th>\n",
       "      <th>trestbps</th>\n",
       "      <th>chol</th>\n",
       "      <th>fbs</th>\n",
       "      <th>restecg</th>\n",
       "      <th>thalch</th>\n",
       "      <th>exang</th>\n",
       "      <th>oldpeak</th>\n",
       "      <th>slope</th>\n",
       "      <th>ca</th>\n",
       "      <th>thal</th>\n",
       "      <th>num</th>\n",
       "    </tr>\n",
       "  </thead>\n",
       "  <tbody>\n",
       "    <tr>\n",
       "      <th>0</th>\n",
       "      <td>1</td>\n",
       "      <td>63</td>\n",
       "      <td>Male</td>\n",
       "      <td>Cleveland</td>\n",
       "      <td>typical angina</td>\n",
       "      <td>145.0</td>\n",
       "      <td>233.0</td>\n",
       "      <td>True</td>\n",
       "      <td>lv hypertrophy</td>\n",
       "      <td>150.0</td>\n",
       "      <td>False</td>\n",
       "      <td>2.3</td>\n",
       "      <td>downsloping</td>\n",
       "      <td>0.0</td>\n",
       "      <td>fixed defect</td>\n",
       "      <td>0</td>\n",
       "    </tr>\n",
       "    <tr>\n",
       "      <th>1</th>\n",
       "      <td>2</td>\n",
       "      <td>67</td>\n",
       "      <td>Male</td>\n",
       "      <td>Cleveland</td>\n",
       "      <td>asymptomatic</td>\n",
       "      <td>160.0</td>\n",
       "      <td>286.0</td>\n",
       "      <td>False</td>\n",
       "      <td>lv hypertrophy</td>\n",
       "      <td>108.0</td>\n",
       "      <td>True</td>\n",
       "      <td>1.5</td>\n",
       "      <td>flat</td>\n",
       "      <td>3.0</td>\n",
       "      <td>normal</td>\n",
       "      <td>2</td>\n",
       "    </tr>\n",
       "    <tr>\n",
       "      <th>2</th>\n",
       "      <td>3</td>\n",
       "      <td>67</td>\n",
       "      <td>Male</td>\n",
       "      <td>Cleveland</td>\n",
       "      <td>asymptomatic</td>\n",
       "      <td>120.0</td>\n",
       "      <td>229.0</td>\n",
       "      <td>False</td>\n",
       "      <td>lv hypertrophy</td>\n",
       "      <td>129.0</td>\n",
       "      <td>True</td>\n",
       "      <td>2.6</td>\n",
       "      <td>flat</td>\n",
       "      <td>2.0</td>\n",
       "      <td>reversable defect</td>\n",
       "      <td>1</td>\n",
       "    </tr>\n",
       "    <tr>\n",
       "      <th>3</th>\n",
       "      <td>4</td>\n",
       "      <td>37</td>\n",
       "      <td>Male</td>\n",
       "      <td>Cleveland</td>\n",
       "      <td>non-anginal</td>\n",
       "      <td>130.0</td>\n",
       "      <td>250.0</td>\n",
       "      <td>False</td>\n",
       "      <td>normal</td>\n",
       "      <td>187.0</td>\n",
       "      <td>False</td>\n",
       "      <td>3.5</td>\n",
       "      <td>downsloping</td>\n",
       "      <td>0.0</td>\n",
       "      <td>normal</td>\n",
       "      <td>0</td>\n",
       "    </tr>\n",
       "    <tr>\n",
       "      <th>4</th>\n",
       "      <td>5</td>\n",
       "      <td>41</td>\n",
       "      <td>Female</td>\n",
       "      <td>Cleveland</td>\n",
       "      <td>atypical angina</td>\n",
       "      <td>130.0</td>\n",
       "      <td>204.0</td>\n",
       "      <td>False</td>\n",
       "      <td>lv hypertrophy</td>\n",
       "      <td>172.0</td>\n",
       "      <td>False</td>\n",
       "      <td>1.4</td>\n",
       "      <td>upsloping</td>\n",
       "      <td>0.0</td>\n",
       "      <td>normal</td>\n",
       "      <td>0</td>\n",
       "    </tr>\n",
       "  </tbody>\n",
       "</table>\n",
       "</div>"
      ],
      "text/plain": [
       "   id  age     sex    dataset               cp  trestbps   chol    fbs  \\\n",
       "0   1   63    Male  Cleveland   typical angina     145.0  233.0   True   \n",
       "1   2   67    Male  Cleveland     asymptomatic     160.0  286.0  False   \n",
       "2   3   67    Male  Cleveland     asymptomatic     120.0  229.0  False   \n",
       "3   4   37    Male  Cleveland      non-anginal     130.0  250.0  False   \n",
       "4   5   41  Female  Cleveland  atypical angina     130.0  204.0  False   \n",
       "\n",
       "          restecg  thalch  exang  oldpeak        slope   ca  \\\n",
       "0  lv hypertrophy   150.0  False      2.3  downsloping  0.0   \n",
       "1  lv hypertrophy   108.0   True      1.5         flat  3.0   \n",
       "2  lv hypertrophy   129.0   True      2.6         flat  2.0   \n",
       "3          normal   187.0  False      3.5  downsloping  0.0   \n",
       "4  lv hypertrophy   172.0  False      1.4    upsloping  0.0   \n",
       "\n",
       "                thal  num  \n",
       "0       fixed defect    0  \n",
       "1             normal    2  \n",
       "2  reversable defect    1  \n",
       "3             normal    0  \n",
       "4             normal    0  "
      ]
     },
     "execution_count": 2,
     "metadata": {},
     "output_type": "execute_result"
    }
   ],
   "source": [
    "# loading the data from csv file placed locally in our pc\n",
    "df = pd.read_csv('heart_disease_uci.csv')\n",
    "\n",
    "# printing the first 5 rows of the dataframe\n",
    "df.head()"
   ]
  },
  {
   "cell_type": "markdown",
   "metadata": {},
   "source": [
    "<h1 style=\"font-family: 'Poppins', sans-serif; font-weight: 700; color: #1c1c1c; background: white; padding: 10px; border-radius: 10px; text-align: left; box-shadow: 0 4px 8px rgba(0, 0, 0, 0.1); letter-spacing: 1px; text-transform: capitalize; font-size: 1.2rem;\">\n",
    " 1.2 Checking total number of columns and rows <span style=\"color: #333333;\"></span>\n",
    "</h1>"
   ]
  },
  {
   "cell_type": "code",
   "execution_count": 3,
   "metadata": {},
   "outputs": [
    {
     "name": "stdout",
     "output_type": "stream",
     "text": [
      "Total number of rows are  920\n",
      "Total number of columns  are  16\n"
     ]
    }
   ],
   "source": [
    "print(\"Total number of rows are \",df.shape[0])\n",
    "print(\"Total number of columns  are \",df.shape[1])"
   ]
  },
  {
   "cell_type": "markdown",
   "metadata": {},
   "source": [
    "<h1 style=\"font-family: 'Poppins', sans-serif; font-weight: 700; color: #1c1c1c; background: white; padding: 10px; border-radius: 10px; text-align: left; box-shadow: 0 4px 8px rgba(0, 0, 0, 0.1); letter-spacing: 1px; text-transform: capitalize; font-size: 1.2rem;\">\n",
    "1.3 Checking basic info and statistics of the data <span style=\"color: #333333;\"></span>\n",
    "</h1>"
   ]
  },
  {
   "cell_type": "code",
   "execution_count": 4,
   "metadata": {},
   "outputs": [
    {
     "name": "stdout",
     "output_type": "stream",
     "text": [
      "<class 'pandas.core.frame.DataFrame'>\n",
      "RangeIndex: 920 entries, 0 to 919\n",
      "Data columns (total 16 columns):\n",
      " #   Column    Non-Null Count  Dtype  \n",
      "---  ------    --------------  -----  \n",
      " 0   id        920 non-null    int64  \n",
      " 1   age       920 non-null    int64  \n",
      " 2   sex       920 non-null    object \n",
      " 3   dataset   920 non-null    object \n",
      " 4   cp        920 non-null    object \n",
      " 5   trestbps  861 non-null    float64\n",
      " 6   chol      890 non-null    float64\n",
      " 7   fbs       830 non-null    object \n",
      " 8   restecg   918 non-null    object \n",
      " 9   thalch    865 non-null    float64\n",
      " 10  exang     865 non-null    object \n",
      " 11  oldpeak   858 non-null    float64\n",
      " 12  slope     611 non-null    object \n",
      " 13  ca        309 non-null    float64\n",
      " 14  thal      434 non-null    object \n",
      " 15  num       920 non-null    int64  \n",
      "dtypes: float64(5), int64(3), object(8)\n",
      "memory usage: 115.1+ KB\n"
     ]
    }
   ],
   "source": [
    "df.info()"
   ]
  },
  {
   "cell_type": "code",
   "execution_count": 5,
   "metadata": {},
   "outputs": [
    {
     "data": {
      "text/html": [
       "<div>\n",
       "<style scoped>\n",
       "    .dataframe tbody tr th:only-of-type {\n",
       "        vertical-align: middle;\n",
       "    }\n",
       "\n",
       "    .dataframe tbody tr th {\n",
       "        vertical-align: top;\n",
       "    }\n",
       "\n",
       "    .dataframe thead th {\n",
       "        text-align: right;\n",
       "    }\n",
       "</style>\n",
       "<table border=\"1\" class=\"dataframe\">\n",
       "  <thead>\n",
       "    <tr style=\"text-align: right;\">\n",
       "      <th></th>\n",
       "      <th>id</th>\n",
       "      <th>age</th>\n",
       "      <th>trestbps</th>\n",
       "      <th>chol</th>\n",
       "      <th>thalch</th>\n",
       "      <th>oldpeak</th>\n",
       "      <th>ca</th>\n",
       "      <th>num</th>\n",
       "    </tr>\n",
       "  </thead>\n",
       "  <tbody>\n",
       "    <tr>\n",
       "      <th>count</th>\n",
       "      <td>920.000000</td>\n",
       "      <td>920.000000</td>\n",
       "      <td>861.000000</td>\n",
       "      <td>890.000000</td>\n",
       "      <td>865.000000</td>\n",
       "      <td>858.000000</td>\n",
       "      <td>309.000000</td>\n",
       "      <td>920.000000</td>\n",
       "    </tr>\n",
       "    <tr>\n",
       "      <th>mean</th>\n",
       "      <td>460.500000</td>\n",
       "      <td>53.510870</td>\n",
       "      <td>132.132404</td>\n",
       "      <td>199.130337</td>\n",
       "      <td>137.545665</td>\n",
       "      <td>0.878788</td>\n",
       "      <td>0.676375</td>\n",
       "      <td>0.995652</td>\n",
       "    </tr>\n",
       "    <tr>\n",
       "      <th>std</th>\n",
       "      <td>265.725422</td>\n",
       "      <td>9.424685</td>\n",
       "      <td>19.066070</td>\n",
       "      <td>110.780810</td>\n",
       "      <td>25.926276</td>\n",
       "      <td>1.091226</td>\n",
       "      <td>0.935653</td>\n",
       "      <td>1.142693</td>\n",
       "    </tr>\n",
       "    <tr>\n",
       "      <th>min</th>\n",
       "      <td>1.000000</td>\n",
       "      <td>28.000000</td>\n",
       "      <td>0.000000</td>\n",
       "      <td>0.000000</td>\n",
       "      <td>60.000000</td>\n",
       "      <td>-2.600000</td>\n",
       "      <td>0.000000</td>\n",
       "      <td>0.000000</td>\n",
       "    </tr>\n",
       "    <tr>\n",
       "      <th>25%</th>\n",
       "      <td>230.750000</td>\n",
       "      <td>47.000000</td>\n",
       "      <td>120.000000</td>\n",
       "      <td>175.000000</td>\n",
       "      <td>120.000000</td>\n",
       "      <td>0.000000</td>\n",
       "      <td>0.000000</td>\n",
       "      <td>0.000000</td>\n",
       "    </tr>\n",
       "    <tr>\n",
       "      <th>50%</th>\n",
       "      <td>460.500000</td>\n",
       "      <td>54.000000</td>\n",
       "      <td>130.000000</td>\n",
       "      <td>223.000000</td>\n",
       "      <td>140.000000</td>\n",
       "      <td>0.500000</td>\n",
       "      <td>0.000000</td>\n",
       "      <td>1.000000</td>\n",
       "    </tr>\n",
       "    <tr>\n",
       "      <th>75%</th>\n",
       "      <td>690.250000</td>\n",
       "      <td>60.000000</td>\n",
       "      <td>140.000000</td>\n",
       "      <td>268.000000</td>\n",
       "      <td>157.000000</td>\n",
       "      <td>1.500000</td>\n",
       "      <td>1.000000</td>\n",
       "      <td>2.000000</td>\n",
       "    </tr>\n",
       "    <tr>\n",
       "      <th>max</th>\n",
       "      <td>920.000000</td>\n",
       "      <td>77.000000</td>\n",
       "      <td>200.000000</td>\n",
       "      <td>603.000000</td>\n",
       "      <td>202.000000</td>\n",
       "      <td>6.200000</td>\n",
       "      <td>3.000000</td>\n",
       "      <td>4.000000</td>\n",
       "    </tr>\n",
       "  </tbody>\n",
       "</table>\n",
       "</div>"
      ],
      "text/plain": [
       "               id         age    trestbps        chol      thalch     oldpeak  \\\n",
       "count  920.000000  920.000000  861.000000  890.000000  865.000000  858.000000   \n",
       "mean   460.500000   53.510870  132.132404  199.130337  137.545665    0.878788   \n",
       "std    265.725422    9.424685   19.066070  110.780810   25.926276    1.091226   \n",
       "min      1.000000   28.000000    0.000000    0.000000   60.000000   -2.600000   \n",
       "25%    230.750000   47.000000  120.000000  175.000000  120.000000    0.000000   \n",
       "50%    460.500000   54.000000  130.000000  223.000000  140.000000    0.500000   \n",
       "75%    690.250000   60.000000  140.000000  268.000000  157.000000    1.500000   \n",
       "max    920.000000   77.000000  200.000000  603.000000  202.000000    6.200000   \n",
       "\n",
       "               ca         num  \n",
       "count  309.000000  920.000000  \n",
       "mean     0.676375    0.995652  \n",
       "std      0.935653    1.142693  \n",
       "min      0.000000    0.000000  \n",
       "25%      0.000000    0.000000  \n",
       "50%      0.000000    1.000000  \n",
       "75%      1.000000    2.000000  \n",
       "max      3.000000    4.000000  "
      ]
     },
     "execution_count": 5,
     "metadata": {},
     "output_type": "execute_result"
    }
   ],
   "source": [
    "df.describe()"
   ]
  },
  {
   "cell_type": "markdown",
   "metadata": {},
   "source": [
    "# **Observations**\n",
    "---\n",
    "\n",
    "1. There are **920 rows** and **16 columns** in the dataset.\n",
    "2. The columns in the dataset are:\n",
    "   - `'id', 'age', 'sex', 'dataset', 'cp', 'trestbps', 'chol', 'fbs', 'restecg', \n",
    "      'thalch', 'exang', 'oldpeak', 'slope', 'ca', 'thal', 'num'`\n",
    "3. Some columns have missing values, and we will explore these missing values in detail later in this notebook.\n",
    "   - For example, `trestbps` has **861 non-null** values, `chol` has **890 non-null** values, `ca` has only **309 non-null** values, etc.\n",
    "4. After using the `describe()` function, the following summary statistics were observed:\n",
    "   - The minimum value for `age` is **28**, and the maximum is **77**.\n",
    "   - The average resting blood pressure (`trestbps`) is **132.13 mm Hg**, with a minimum of **0** and a maximum of **200 mm Hg**.\n",
    "   - The average cholesterol (`chol`) level is **199.13 mg/dl**, with a minimum of **0** and a maximum of **603 mg/dl**.\n",
    "   - The average maximum heart rate (`thalch`) is **137.55 bpm**, with a minimum of **60 bpm** and a maximum of **202 bpm**.\n",
    "   - The `oldpeak` values (ST depression induced by exercise) range from **-2.6** to **6.2**.\n",
    " \n"
   ]
  },
  {
   "cell_type": "markdown",
   "metadata": {},
   "source": [
    "<h1 style=\"font-family: 'Poppins', sans-serif; font-weight: 700; color: #1c1c1c; background: white; padding: 15px; border-radius: 10px; text-align: left; box-shadow: 0 4px 8px rgba(0, 0, 0, 0.1); letter-spacing: 1px; text-transform: capitalize; font-size: 1.5rem;\">\n",
    "2. Before proceeding with further analysis on the `dataset` we will first clean the dataset. Data cleaning is essential to ensure that we are working with accurate and complete data. <span style=\"color: #333333;\"></span>\n",
    "</h1>\n",
    "\n"
   ]
  },
  {
   "cell_type": "markdown",
   "metadata": {},
   "source": [
    "<h1 style=\"font-family: 'Poppins', sans-serif; font-weight: 700; color: #1c1c1c; background: white; padding: 10px; border-radius: 10px; text-align: left; box-shadow: 0 4px 8px rgba(0, 0, 0, 0.1); letter-spacing: 1px; text-transform: capitalize; font-size: 1.2rem;\">\n",
    " 2.1 First, check if the data types are correct before proceeding further.. <span style=\"color: #333333;\"></span>\n",
    "</h1>\n"
   ]
  },
  {
   "cell_type": "code",
   "execution_count": 6,
   "metadata": {},
   "outputs": [
    {
     "data": {
      "text/plain": [
       "id            int64\n",
       "age           int64\n",
       "sex          object\n",
       "dataset      object\n",
       "cp           object\n",
       "trestbps    float64\n",
       "chol        float64\n",
       "fbs          object\n",
       "restecg      object\n",
       "thalch      float64\n",
       "exang        object\n",
       "oldpeak     float64\n",
       "slope        object\n",
       "ca          float64\n",
       "thal         object\n",
       "num           int64\n",
       "dtype: object"
      ]
     },
     "execution_count": 6,
     "metadata": {},
     "output_type": "execute_result"
    }
   ],
   "source": [
    "df.dtypes"
   ]
  },
  {
   "cell_type": "markdown",
   "metadata": {},
   "source": [
    "- All data types are correct; let's move on to the next step. If any issues arise, we'll address them then"
   ]
  },
  {
   "cell_type": "markdown",
   "metadata": {},
   "source": [
    "<h1 style=\"font-family: 'Poppins', sans-serif; font-weight: 700; color: #1c1c1c; background: white; padding: 10px; border-radius: 10px; text-align: left; box-shadow: 0 4px 8px rgba(0, 0, 0, 0.1); letter-spacing: 1px; text-transform: capitalize; font-size: 1.2rem;\">\n",
    "2.2 Now,Checking for missing values <span style=\"color: #333333;\"></span>\n",
    "</h1>\n",
    "\n",
    "\n",
    "### \n"
   ]
  },
  {
   "cell_type": "code",
   "execution_count": 3,
   "metadata": {},
   "outputs": [
    {
     "name": "stdout",
     "output_type": "stream",
     "text": [
      "Percentage of missing values\n",
      "ca          66.41\n",
      "thal        52.83\n",
      "slope       33.59\n",
      "fbs          9.78\n",
      "oldpeak      6.74\n",
      "trestbps     6.41\n",
      "thalch       5.98\n",
      "exang        5.98\n",
      "chol         3.26\n",
      "restecg      0.22\n",
      "id           0.00\n",
      "age          0.00\n",
      "sex          0.00\n",
      "dataset      0.00\n",
      "cp           0.00\n",
      "num          0.00\n",
      "dtype: float64\n"
     ]
    }
   ],
   "source": [
    "missing_percentage = round((df.isnull().sum() / len(df) * 100), 2).sort_values(ascending=False)\n",
    "print(f'Percentage of missing values')\n",
    "print(missing_percentage)"
   ]
  },
  {
   "cell_type": "markdown",
   "metadata": {},
   "source": [
    "- Visualizing the null values\n"
   ]
  },
  {
   "cell_type": "code",
   "execution_count": 6,
   "metadata": {},
   "outputs": [
    {
     "data": {
      "image/png": "[encoded data removed]",
      "text/plain": [
       "<IPython.core.display.Image object>"
      ]
     },
     "metadata": {},
     "output_type": "display_data"
    }
   ],
   "source": [
    "import plotly.express as px\n",
    "import os \n",
    "from IPython.display import Image, display\n",
    "\n",
    "# Calculating the percentage of missing values for each column\n",
    "missing_percentage = df.isnull().mean() * 100\n",
    "\n",
    "# Converting to DataFrame for plotting\n",
    "missing_percentage_df = missing_percentage.reset_index()\n",
    "missing_percentage_df.columns = ['Column', 'Missing Percentage']\n",
    "\n",
    "# Creating the bar plot\n",
    "fig = px.bar(missing_percentage_df, x='Column', y='Missing Percentage', title='Missing Values Percentage by Column')\n",
    "\n",
    "# Updating layout with height, title formatting, axis titles, and width\n",
    "fig.update_layout(\n",
    "    height=600,  \n",
    "    width=1200,  \n",
    "    title={\n",
    "        'text': 'Missing Values Percentage by Column',\n",
    "        'font': {'size': 24, 'family': 'Arial'}, \n",
    "        'x': 0.5,  \n",
    "        'xanchor': 'center'\n",
    "    },\n",
    "    xaxis_title='Columns',\n",
    "    yaxis_title='Percentage (%)'\n",
    ")\n",
    "\n",
    "# Adding labels to the bars\n",
    "fig.update_traces(\n",
    "    text=missing_percentage_df['Missing Percentage'], \n",
    "    texttemplate='%{text:.2f}%', \n",
    "    textposition='outside'\n",
    ")\n",
    "\n",
    "file_path = \"graph/missing_values_percentage.png\"\n",
    "fig.write_image(file_path)\n",
    "\n",
    "# Show the saved image in the notebook as a static image\n",
    "display(Image(file_path))"
   ]
  },
  {
   "cell_type": "markdown",
   "metadata": {},
   "source": [
    "- The high percentage of missing values in the `ca 66.41`and `thal 52.41` columns is significant enough to potentially impact the quality and reliability of our analysis. Therefore, we will drop these columns to ensure that our analysis is based on more reliable data.\n",
    "- For the remaining columns with lower missing value percentages, we will proceed with imputation to handle any missing values:"
   ]
  },
  {
   "cell_type": "markdown",
   "metadata": {},
   "source": [
    "- `Dropping ca and thal column`"
   ]
  },
  {
   "cell_type": "code",
   "execution_count": 9,
   "metadata": {},
   "outputs": [],
   "source": [
    "# Droping columns with high missing values\n",
    "df.drop(columns=['ca', 'thal'], inplace=True)\n"
   ]
  },
  {
   "cell_type": "markdown",
   "metadata": {},
   "source": [
    "- `Imputing missing values using mean for numerical column and mode for categorical columns and for slope column i will use an Machine Learning model.`"
   ]
  },
  {
   "cell_type": "code",
   "execution_count": 10,
   "metadata": {},
   "outputs": [],
   "source": [
    "# List of numerical columns to impute with mean\n",
    "numerical_columns = ['oldpeak', 'trestbps', 'thalch', 'chol']\n",
    "\n",
    "# List of categorical columns to impute with mode\n",
    "categorical_columns = ['fbs', 'exang','restecg']\n",
    "\n",
    "# Imputing numerical columns with mean\n",
    "num_imputer = SimpleImputer(strategy='mean')\n",
    "df[numerical_columns] = num_imputer.fit_transform(df[numerical_columns])\n",
    "\n",
    "# Imputing categorical columns with mode\n",
    "cat_imputer = SimpleImputer(strategy='most_frequent')\n",
    "df[categorical_columns] = cat_imputer.fit_transform(df[categorical_columns])"
   ]
  },
  {
   "cell_type": "markdown",
   "metadata": {},
   "source": [
    "* Lets Used an `K-Neirest-Neighbour Machine learning Algorithim` to impute missing values in `slope column`."
   ]
  },
  {
   "cell_type": "code",
   "execution_count": 11,
   "metadata": {},
   "outputs": [
    {
     "name": "stdout",
     "output_type": "stream",
     "text": [
      "slope\n",
      "upsloping      512\n",
      "flat           345\n",
      "downsloping     63\n",
      "Name: count, dtype: int64\n"
     ]
    }
   ],
   "source": [
    "\n",
    "\n",
    "# Step 1: Manually mapping categorical values to numerical values\n",
    "slope_mapping = {'flat': 0, 'upsloping': 1, 'downsloping': 2}\n",
    "df['slope_mapped'] = df['slope'].map(slope_mapping)\n",
    "\n",
    "# Step 2: Replacing NaN with np.nan for the KNN Imputer\n",
    "df['slope_mapped'] = df['slope_mapped'].replace(np.nan, np.nan)\n",
    "\n",
    "# Step 3: Initializing and apply KNN Imputer\n",
    "knn_imputer = KNNImputer(n_neighbors=3)\n",
    "df[['slope_mapped']] = knn_imputer.fit_transform(df[['slope_mapped']])\n",
    "\n",
    "# Step 4: Maping the numerical values back to the original categories\n",
    "reverse_mapping = {0: 'flat', 1: 'upsloping', 2: 'downsloping'}\n",
    "df['slope'] = df['slope_mapped'].round().map(reverse_mapping)\n",
    "\n",
    "# Step 5: Droping the mapped column because it's no longer needed\n",
    "df.drop(columns=['slope_mapped'], inplace=True)\n",
    "\n",
    "# Verifing the imputation worked\n",
    "print(df['slope'].value_counts(dropna=False))\n"
   ]
  },
  {
   "cell_type": "markdown",
   "metadata": {},
   "source": [
    "* `Now Verifying the data`"
   ]
  },
  {
   "cell_type": "code",
   "execution_count": 12,
   "metadata": {},
   "outputs": [
    {
     "data": {
      "text/plain": [
       "id          0\n",
       "age         0\n",
       "sex         0\n",
       "dataset     0\n",
       "cp          0\n",
       "trestbps    0\n",
       "chol        0\n",
       "fbs         0\n",
       "restecg     0\n",
       "thalch      0\n",
       "exang       0\n",
       "oldpeak     0\n",
       "slope       0\n",
       "num         0\n",
       "dtype: int64"
      ]
     },
     "execution_count": 12,
     "metadata": {},
     "output_type": "execute_result"
    }
   ],
   "source": [
    "df.isnull().sum()"
   ]
  },
  {
   "cell_type": "markdown",
   "metadata": {},
   "source": [
    "### Summary of Actions Taken for Missing Values\n",
    "---\n",
    "1. `Dropped Columns:` We removed the ca and thal columns due to their high percentage of missing values.\n",
    "\n",
    "2. `Imputed Missing Values:`\\\n",
    "**`Numerical Columns: `Replaced missing values with the` mean.`**\\\n",
    "**`Categorical Columns:` Replaced missing values with the `mode.`**\n",
    "\n",
    "3. `Machine Learning Imputation for slope:` Used the `K-Nearest Neighbors (KNN)imputer` to fill missing values, leveraging its ability to predict missing entries based on similar data points."
   ]
  },
  {
   "cell_type": "markdown",
   "metadata": {},
   "source": [
    "<h1 style=\"font-family: 'Poppins', sans-serif; font-weight: 700; color: #1c1c1c; background: white; padding: 10px; border-radius: 10px; text-align: left; box-shadow: 0 4px 8px rgba(0, 0, 0, 0.1); letter-spacing: 1px; text-transform: capitalize; font-size: 1.2rem;\">\n",
    "2.3 Checking for outliers and incorrect values <span style=\"color: #333333;\"></span>\n",
    "</h1>\n",
    "\n"
   ]
  },
  {
   "cell_type": "code",
   "execution_count": 8,
   "metadata": {},
   "outputs": [
    {
     "data": {
      "image/png": "[encoded data removed]",
      "text/plain": [
       "<IPython.core.display.Image object>"
      ]
     },
     "metadata": {},
     "output_type": "display_data"
    },
    {
     "data": {
      "image/png": "[encoded data removed]",
      "text/plain": [
       "<IPython.core.display.Image object>"
      ]
     },
     "metadata": {},
     "output_type": "display_data"
    },
    {
     "data": {
      "image/png": "[encoded data removed]",
      "text/plain": [
       "<IPython.core.display.Image object>"
      ]
     },
     "metadata": {},
     "output_type": "display_data"
    },
    {
     "data": {
      "image/png": "[encoded data removed]",
      "text/plain": [
       "<IPython.core.display.Image object>"
      ]
     },
     "metadata": {},
     "output_type": "display_data"
    },
    {
     "data": {
      "image/png": "[encoded data removed]",
      "text/plain": [
       "<IPython.core.display.Image object>"
      ]
     },
     "metadata": {},
     "output_type": "display_data"
    }
   ],
   "source": [
    "import plotly.io as pio\n",
    "# Dictionary to map columns to descriptive titles and axis names\n",
    "descriptive_titles = {\n",
    "    'chol': {'title': 'Cholesterol Level', 'yaxis': 'Cholesterol (mg/dL)', 'xaxis': 'Index'},\n",
    "    'trestbps': {'title': 'Resting Blood Pressure', 'yaxis': 'Blood Pressure (mm Hg)', 'xaxis': 'Index'},\n",
    "    'age': {'title': 'Age of Patient', 'yaxis': 'Age (Years)', 'xaxis': 'Index'},\n",
    "    'thalch': {'title': 'Maximum Heart Rate', 'yaxis': 'Heart Rate (bpm)', 'xaxis': 'Index'},\n",
    "    'oldpeak': {'title': 'Depression Induced by Exercise', 'yaxis': 'Oldpeak (Depression Level)', 'xaxis': 'Index'}\n",
    "}\n",
    "\n",
    "# List of specific columns to visualize\n",
    "columns_to_plot = ['chol', 'trestbps', 'age', 'thalch', 'oldpeak']\n",
    "\n",
    "# Visualizing outliers using box plots for each specified column\n",
    "for column in columns_to_plot:\n",
    "    fig = px.box(df, y=column, title=descriptive_titles[column]['title'])\n",
    "    fig.update_layout(\n",
    "        yaxis_title=descriptive_titles[column]['yaxis'],\n",
    "        xaxis_title=descriptive_titles[column]['xaxis'],\n",
    "        title={'text': descriptive_titles[column]['title'], 'x': 0.5, 'xanchor': 'center'}\n",
    "    )\n",
    "    filename = os.path.join('graph', f'{column}_boxplot.png')\n",
    "    pio.write_image(fig, filename)\n",
    "    \n",
    "    # Display the image in the notebook\n",
    "    display(Image(filename=filename))\n",
    "\n",
    "\n"
   ]
  },
  {
   "cell_type": "markdown",
   "metadata": {},
   "source": [
    "* Dropping rows where cholestrol level and resting blood pressure level is 0"
   ]
  },
  {
   "cell_type": "code",
   "execution_count": 13,
   "metadata": {},
   "outputs": [
    {
     "name": "stdout",
     "output_type": "stream",
     "text": [
      "Data after dropping rows with zero values: (748, 14)\n"
     ]
    }
   ],
   "source": [
    "# Droping rows where cholesterol level is 0\n",
    "df = df[df['chol'] != 0]\n",
    "\n",
    "# Droping rows where resting blood pressure is 0\n",
    "df = df[df['trestbps'] != 0]\n",
    "\n",
    "# Printing the shape of the cleaned data\n",
    "print(\"Data after dropping rows with zero values:\", df.shape)\n"
   ]
  },
  {
   "cell_type": "markdown",
   "metadata": {},
   "source": [
    "## Observations:\n",
    "----\n",
    "After analyzing the plots, we found that in these two columns:\n",
    "\n",
    "##### Cholesterol Level (chol):\n",
    "* Min: 0 mg/dL\n",
    "* Max: 603 mg/dL\n",
    "##### Resting Blood Pressure (trestbps):\n",
    "* Min: 0 mm Hg\n",
    "* Max: 200 mm Hg\n",
    "So We are dropped zero values because it is `biologically impossible.`\n",
    "\n",
    "* Cholesterol: 0 mg/dL is `biologically impossible.`\n",
    "* Blood Pressure: 0 mm Hg is also `medically impossible.`\n",
    "\n",
    "`All other columns show no anomalies or outliers, ensuring data integrity for the analysis.`\n",
    "\n",
    "\n",
    "\n",
    "\n",
    "\n",
    "\n"
   ]
  },
  {
   "cell_type": "markdown",
   "metadata": {},
   "source": [
    "<h1 style=\"font-family: 'Poppins', sans-serif; font-weight: 700; color: #1c1c1c; background: white; padding: 10px; border-radius: 10px; text-align: left; box-shadow: 0 4px 8px rgba(0, 0, 0, 0.1); letter-spacing: 1px; text-transform: capitalize; font-size: 1.2rem;\">\n",
    "2.4 Feature Engineering <span style=\"color: #333333;\"></span>\n",
    "</h1>\n"
   ]
  },
  {
   "cell_type": "code",
   "execution_count": 14,
   "metadata": {},
   "outputs": [
    {
     "data": {
      "text/html": [
       "<div>\n",
       "<style scoped>\n",
       "    .dataframe tbody tr th:only-of-type {\n",
       "        vertical-align: middle;\n",
       "    }\n",
       "\n",
       "    .dataframe tbody tr th {\n",
       "        vertical-align: top;\n",
       "    }\n",
       "\n",
       "    .dataframe thead th {\n",
       "        text-align: right;\n",
       "    }\n",
       "</style>\n",
       "<table border=\"1\" class=\"dataframe\">\n",
       "  <thead>\n",
       "    <tr style=\"text-align: right;\">\n",
       "      <th></th>\n",
       "      <th>id</th>\n",
       "      <th>age</th>\n",
       "      <th>sex</th>\n",
       "      <th>dataset</th>\n",
       "      <th>cp</th>\n",
       "      <th>trestbps</th>\n",
       "      <th>chol</th>\n",
       "      <th>fbs</th>\n",
       "      <th>restecg</th>\n",
       "      <th>thalch</th>\n",
       "      <th>exang</th>\n",
       "      <th>oldpeak</th>\n",
       "      <th>slope</th>\n",
       "      <th>num</th>\n",
       "    </tr>\n",
       "  </thead>\n",
       "  <tbody>\n",
       "    <tr>\n",
       "      <th>0</th>\n",
       "      <td>1</td>\n",
       "      <td>63</td>\n",
       "      <td>Male</td>\n",
       "      <td>Cleveland</td>\n",
       "      <td>typical angina</td>\n",
       "      <td>145.0</td>\n",
       "      <td>233.0</td>\n",
       "      <td>True</td>\n",
       "      <td>lv hypertrophy</td>\n",
       "      <td>150.0</td>\n",
       "      <td>False</td>\n",
       "      <td>2.3</td>\n",
       "      <td>downsloping</td>\n",
       "      <td>0</td>\n",
       "    </tr>\n",
       "    <tr>\n",
       "      <th>1</th>\n",
       "      <td>2</td>\n",
       "      <td>67</td>\n",
       "      <td>Male</td>\n",
       "      <td>Cleveland</td>\n",
       "      <td>asymptomatic</td>\n",
       "      <td>160.0</td>\n",
       "      <td>286.0</td>\n",
       "      <td>False</td>\n",
       "      <td>lv hypertrophy</td>\n",
       "      <td>108.0</td>\n",
       "      <td>True</td>\n",
       "      <td>1.5</td>\n",
       "      <td>flat</td>\n",
       "      <td>2</td>\n",
       "    </tr>\n",
       "    <tr>\n",
       "      <th>2</th>\n",
       "      <td>3</td>\n",
       "      <td>67</td>\n",
       "      <td>Male</td>\n",
       "      <td>Cleveland</td>\n",
       "      <td>asymptomatic</td>\n",
       "      <td>120.0</td>\n",
       "      <td>229.0</td>\n",
       "      <td>False</td>\n",
       "      <td>lv hypertrophy</td>\n",
       "      <td>129.0</td>\n",
       "      <td>True</td>\n",
       "      <td>2.6</td>\n",
       "      <td>flat</td>\n",
       "      <td>1</td>\n",
       "    </tr>\n",
       "    <tr>\n",
       "      <th>3</th>\n",
       "      <td>4</td>\n",
       "      <td>37</td>\n",
       "      <td>Male</td>\n",
       "      <td>Cleveland</td>\n",
       "      <td>non-anginal</td>\n",
       "      <td>130.0</td>\n",
       "      <td>250.0</td>\n",
       "      <td>False</td>\n",
       "      <td>normal</td>\n",
       "      <td>187.0</td>\n",
       "      <td>False</td>\n",
       "      <td>3.5</td>\n",
       "      <td>downsloping</td>\n",
       "      <td>0</td>\n",
       "    </tr>\n",
       "    <tr>\n",
       "      <th>4</th>\n",
       "      <td>5</td>\n",
       "      <td>41</td>\n",
       "      <td>Female</td>\n",
       "      <td>Cleveland</td>\n",
       "      <td>atypical angina</td>\n",
       "      <td>130.0</td>\n",
       "      <td>204.0</td>\n",
       "      <td>False</td>\n",
       "      <td>lv hypertrophy</td>\n",
       "      <td>172.0</td>\n",
       "      <td>False</td>\n",
       "      <td>1.4</td>\n",
       "      <td>upsloping</td>\n",
       "      <td>0</td>\n",
       "    </tr>\n",
       "  </tbody>\n",
       "</table>\n",
       "</div>"
      ],
      "text/plain": [
       "   id  age     sex    dataset               cp  trestbps   chol    fbs  \\\n",
       "0   1   63    Male  Cleveland   typical angina     145.0  233.0   True   \n",
       "1   2   67    Male  Cleveland     asymptomatic     160.0  286.0  False   \n",
       "2   3   67    Male  Cleveland     asymptomatic     120.0  229.0  False   \n",
       "3   4   37    Male  Cleveland      non-anginal     130.0  250.0  False   \n",
       "4   5   41  Female  Cleveland  atypical angina     130.0  204.0  False   \n",
       "\n",
       "          restecg  thalch  exang  oldpeak        slope  num  \n",
       "0  lv hypertrophy   150.0  False      2.3  downsloping    0  \n",
       "1  lv hypertrophy   108.0   True      1.5         flat    2  \n",
       "2  lv hypertrophy   129.0   True      2.6         flat    1  \n",
       "3          normal   187.0  False      3.5  downsloping    0  \n",
       "4  lv hypertrophy   172.0  False      1.4    upsloping    0  "
      ]
     },
     "execution_count": 14,
     "metadata": {},
     "output_type": "execute_result"
    }
   ],
   "source": [
    "df.head()"
   ]
  },
  {
   "cell_type": "markdown",
   "metadata": {},
   "source": [
    "<h1 style=\"font-family: 'Poppins', sans-serif; font-weight: 700; color: #1c1c1c; background: white; padding: 8px; border-radius: 10px; text-align: left; box-shadow: 0 4px 8px rgba(0, 0, 0, 0.1); letter-spacing: 1px; text-transform: capitalize; font-size: 1rem;\">\n",
    "2.4.1 Creating New Features Based on Ranges of `Resting Blood Pressure (trestbps)` to Enhance Our Analysis. <span style=\"color: #333333;\"></span>\n",
    "</h1>\n",
    "\n",
    "* Normal: 90–120 mm Hg\n",
    "* Elevated: 120–130 mm Hg\n",
    "* Hypertension Stage 1: 130–140 mm Hg\n",
    "* Hypertension Stage 2: >140 mm Hg"
   ]
  },
  {
   "cell_type": "code",
   "execution_count": 15,
   "metadata": {},
   "outputs": [],
   "source": [
    "def categorize_blood_pressure(value):\n",
    "    if value < 90:\n",
    "        return 'Low'\n",
    "    elif 90 <= value <= 120:\n",
    "        return 'Normal'\n",
    "    elif 120 < value <= 130:\n",
    "        return 'Elevated'\n",
    "    elif 130 < value <= 140:\n",
    "        return 'Hypertension Stage 1'\n",
    "    else:\n",
    "        return 'Hypertension Stage 2'\n",
    "\n",
    "df['blood_pressure_category'] = df['trestbps'].apply(categorize_blood_pressure)\n"
   ]
  },
  {
   "cell_type": "markdown",
   "metadata": {},
   "source": [
    "* Now doing the same things for `cholestorl level(chol)`,`Heart rate Zones(thalch)` and `oldpeak`."
   ]
  },
  {
   "cell_type": "code",
   "execution_count": 16,
   "metadata": {},
   "outputs": [],
   "source": [
    "def categorize_cholesterol(value):\n",
    "    if value < 200:\n",
    "        return 'Normal'\n",
    "    elif 200 <= value < 240:\n",
    "        return 'Borderline High'\n",
    "    else:\n",
    "        return 'High'\n",
    "\n",
    "df['cholesterol_category'] = df['chol'].apply(categorize_cholesterol)\n",
    "\n",
    "def categorize_heart_rate(value):\n",
    "    if value < 60:\n",
    "        return 'Low'\n",
    "    elif 60 <= value <= 100:\n",
    "        return 'Moderate'\n",
    "    else:\n",
    "        return 'High'\n",
    "\n",
    "df['heart_rate_category'] = df['thalch'].apply(categorize_heart_rate)\n",
    "\n",
    "def categorize_oldpeak(value):\n",
    "    if value == 0:\n",
    "        return 'No Depression'\n",
    "    elif 0 < value <= 1:\n",
    "        return 'Mild Depression'\n",
    "    elif 1 < value <= 2:\n",
    "        return 'Moderate Depression'\n",
    "    else:\n",
    "        return 'Severe Depression'\n",
    "\n",
    "df['oldpeak_category'] = df['oldpeak'].apply(categorize_oldpeak)\n",
    "\n"
   ]
  },
  {
   "cell_type": "code",
   "execution_count": 17,
   "metadata": {},
   "outputs": [
    {
     "data": {
      "text/html": [
       "<div>\n",
       "<style scoped>\n",
       "    .dataframe tbody tr th:only-of-type {\n",
       "        vertical-align: middle;\n",
       "    }\n",
       "\n",
       "    .dataframe tbody tr th {\n",
       "        vertical-align: top;\n",
       "    }\n",
       "\n",
       "    .dataframe thead th {\n",
       "        text-align: right;\n",
       "    }\n",
       "</style>\n",
       "<table border=\"1\" class=\"dataframe\">\n",
       "  <thead>\n",
       "    <tr style=\"text-align: right;\">\n",
       "      <th></th>\n",
       "      <th>id</th>\n",
       "      <th>age</th>\n",
       "      <th>sex</th>\n",
       "      <th>dataset</th>\n",
       "      <th>cp</th>\n",
       "      <th>trestbps</th>\n",
       "      <th>chol</th>\n",
       "      <th>fbs</th>\n",
       "      <th>restecg</th>\n",
       "      <th>thalch</th>\n",
       "      <th>exang</th>\n",
       "      <th>oldpeak</th>\n",
       "      <th>slope</th>\n",
       "      <th>num</th>\n",
       "      <th>blood_pressure_category</th>\n",
       "      <th>cholesterol_category</th>\n",
       "      <th>heart_rate_category</th>\n",
       "      <th>oldpeak_category</th>\n",
       "    </tr>\n",
       "  </thead>\n",
       "  <tbody>\n",
       "    <tr>\n",
       "      <th>0</th>\n",
       "      <td>1</td>\n",
       "      <td>63</td>\n",
       "      <td>Male</td>\n",
       "      <td>Cleveland</td>\n",
       "      <td>typical angina</td>\n",
       "      <td>145.0</td>\n",
       "      <td>233.0</td>\n",
       "      <td>True</td>\n",
       "      <td>lv hypertrophy</td>\n",
       "      <td>150.0</td>\n",
       "      <td>False</td>\n",
       "      <td>2.3</td>\n",
       "      <td>downsloping</td>\n",
       "      <td>0</td>\n",
       "      <td>Hypertension Stage 2</td>\n",
       "      <td>Borderline High</td>\n",
       "      <td>High</td>\n",
       "      <td>Severe Depression</td>\n",
       "    </tr>\n",
       "    <tr>\n",
       "      <th>1</th>\n",
       "      <td>2</td>\n",
       "      <td>67</td>\n",
       "      <td>Male</td>\n",
       "      <td>Cleveland</td>\n",
       "      <td>asymptomatic</td>\n",
       "      <td>160.0</td>\n",
       "      <td>286.0</td>\n",
       "      <td>False</td>\n",
       "      <td>lv hypertrophy</td>\n",
       "      <td>108.0</td>\n",
       "      <td>True</td>\n",
       "      <td>1.5</td>\n",
       "      <td>flat</td>\n",
       "      <td>2</td>\n",
       "      <td>Hypertension Stage 2</td>\n",
       "      <td>High</td>\n",
       "      <td>High</td>\n",
       "      <td>Moderate Depression</td>\n",
       "    </tr>\n",
       "    <tr>\n",
       "      <th>2</th>\n",
       "      <td>3</td>\n",
       "      <td>67</td>\n",
       "      <td>Male</td>\n",
       "      <td>Cleveland</td>\n",
       "      <td>asymptomatic</td>\n",
       "      <td>120.0</td>\n",
       "      <td>229.0</td>\n",
       "      <td>False</td>\n",
       "      <td>lv hypertrophy</td>\n",
       "      <td>129.0</td>\n",
       "      <td>True</td>\n",
       "      <td>2.6</td>\n",
       "      <td>flat</td>\n",
       "      <td>1</td>\n",
       "      <td>Normal</td>\n",
       "      <td>Borderline High</td>\n",
       "      <td>High</td>\n",
       "      <td>Severe Depression</td>\n",
       "    </tr>\n",
       "    <tr>\n",
       "      <th>3</th>\n",
       "      <td>4</td>\n",
       "      <td>37</td>\n",
       "      <td>Male</td>\n",
       "      <td>Cleveland</td>\n",
       "      <td>non-anginal</td>\n",
       "      <td>130.0</td>\n",
       "      <td>250.0</td>\n",
       "      <td>False</td>\n",
       "      <td>normal</td>\n",
       "      <td>187.0</td>\n",
       "      <td>False</td>\n",
       "      <td>3.5</td>\n",
       "      <td>downsloping</td>\n",
       "      <td>0</td>\n",
       "      <td>Elevated</td>\n",
       "      <td>High</td>\n",
       "      <td>High</td>\n",
       "      <td>Severe Depression</td>\n",
       "    </tr>\n",
       "    <tr>\n",
       "      <th>4</th>\n",
       "      <td>5</td>\n",
       "      <td>41</td>\n",
       "      <td>Female</td>\n",
       "      <td>Cleveland</td>\n",
       "      <td>atypical angina</td>\n",
       "      <td>130.0</td>\n",
       "      <td>204.0</td>\n",
       "      <td>False</td>\n",
       "      <td>lv hypertrophy</td>\n",
       "      <td>172.0</td>\n",
       "      <td>False</td>\n",
       "      <td>1.4</td>\n",
       "      <td>upsloping</td>\n",
       "      <td>0</td>\n",
       "      <td>Elevated</td>\n",
       "      <td>Borderline High</td>\n",
       "      <td>High</td>\n",
       "      <td>Moderate Depression</td>\n",
       "    </tr>\n",
       "  </tbody>\n",
       "</table>\n",
       "</div>"
      ],
      "text/plain": [
       "   id  age     sex    dataset               cp  trestbps   chol    fbs  \\\n",
       "0   1   63    Male  Cleveland   typical angina     145.0  233.0   True   \n",
       "1   2   67    Male  Cleveland     asymptomatic     160.0  286.0  False   \n",
       "2   3   67    Male  Cleveland     asymptomatic     120.0  229.0  False   \n",
       "3   4   37    Male  Cleveland      non-anginal     130.0  250.0  False   \n",
       "4   5   41  Female  Cleveland  atypical angina     130.0  204.0  False   \n",
       "\n",
       "          restecg  thalch  exang  oldpeak        slope  num  \\\n",
       "0  lv hypertrophy   150.0  False      2.3  downsloping    0   \n",
       "1  lv hypertrophy   108.0   True      1.5         flat    2   \n",
       "2  lv hypertrophy   129.0   True      2.6         flat    1   \n",
       "3          normal   187.0  False      3.5  downsloping    0   \n",
       "4  lv hypertrophy   172.0  False      1.4    upsloping    0   \n",
       "\n",
       "  blood_pressure_category cholesterol_category heart_rate_category  \\\n",
       "0    Hypertension Stage 2      Borderline High                High   \n",
       "1    Hypertension Stage 2                 High                High   \n",
       "2                  Normal      Borderline High                High   \n",
       "3                Elevated                 High                High   \n",
       "4                Elevated      Borderline High                High   \n",
       "\n",
       "      oldpeak_category  \n",
       "0    Severe Depression  \n",
       "1  Moderate Depression  \n",
       "2    Severe Depression  \n",
       "3    Severe Depression  \n",
       "4  Moderate Depression  "
      ]
     },
     "execution_count": 17,
     "metadata": {},
     "output_type": "execute_result"
    }
   ],
   "source": [
    "df.head()"
   ]
  },
  {
   "cell_type": "markdown",
   "metadata": {},
   "source": [
    "## Summary of Steps in Feature Engineering:\n",
    "\n",
    "#### 1. Blood Pressure Categories (`trestbps`)\n",
    "- **Normal**: 90–120 mm Hg\n",
    "- **Elevated**: 120–130 mm Hg\n",
    "- **Hypertension Stage 1**: 130–140 mm Hg\n",
    "- **Hypertension Stage 2**: >140 mm Hg\n",
    "#### 2. Cholesterol Levels (`chol`)\n",
    "- **Normal**: < 200 mg/dL\n",
    "- **Borderline High**: 200–239 mg/dL\n",
    "- **High**: ≥ 240 mg/dL\n",
    "#### 3. Heart Rate Zones (`thalch`)\n",
    "- **Low**: < 60 bpm\n",
    "- **Moderate**: 60–100 bpm\n",
    "- **High**: > 100 bpm\n",
    "#### 4. Oldpeak Interpretation (`oldpeak`)\n",
    "- **No Depression**: 0\n",
    "- **Mild**: 0–1\n",
    "- **Moderate**: 1–2\n",
    "- **Severe**: > 2\n",
    "##### Summary of New Features\n",
    "- `blood_pressure_category`\n",
    "- `cholesterol_category`\n",
    "- `heart_rate_category`\n",
    "- `oldpeak_category`\n",
    "\n",
    "These features enhance the analysis of heart disease risk.\n"
   ]
  },
  {
   "cell_type": "markdown",
   "metadata": {},
   "source": [
    "<h1 style=\"font-family: 'Poppins', sans-serif; font-weight: 700; color: #1c1c1c; background: white; padding: 8px; border-radius: 10px; text-align: left; box-shadow: 0 4px 8px rgba(0, 0, 0, 0.1); letter-spacing: 1px; text-transform: capitalize; font-size: 1rem;\">\n",
    "2.4.2 I Have checked  the unique values in the num column, which include 0, 1, 2, and 4.<span style=\"color: #333333;\"></span>\n",
    "</h1>\n",
    "\n",
    "* 0 means \"No disease.\"\n",
    "* 1, 2, and 4 indicate varying levels of disease presence.\n",
    "* I will assign values based on these conditions: if a value is 0, I will write \"No disease.\" If a value is greater than 0, I will write \"Yes, disease present.\""
   ]
  },
  {
   "cell_type": "code",
   "execution_count": 18,
   "metadata": {},
   "outputs": [],
   "source": [
    "df['num'] = df['num'].apply(lambda x: 'No disease' if x == 0 else 'Yes disease')"
   ]
  },
  {
   "cell_type": "markdown",
   "metadata": {},
   "source": [
    "<h1 style=\"font-family: 'Poppins', sans-serif; font-weight: 700; color: #1c1c1c; background: #f7f7f7; padding: 20px; border-radius: 12px; text-align: center; box-shadow: 0 4px 12px rgba(0, 0, 0, 0.1); letter-spacing: 1px; text-transform: capitalize; font-size: 2rem; margin-top: 30px;\">\n",
    "The End! Thank you for Reading.\n",
    "</h1><h1 style=\"font-family: 'Poppins', sans-serif; font-weight: 700; color: #1c1c1c; background: #f7f7f7; padding: 15px; border-radius: 12px; text-align: center; box-shadow: 0 4px 12px rgba(0, 0, 0, 0.1); letter-spacing: 1px; text-transform: capitalize; font-size: 1.5rem; margin-top: 30px;\">\n",
    "I Hope you found this project insightful and informative.\n",
    "</h1>"
   ]
  }
 ],
 "metadata": {
  "kernelspec": {
   "display_name": "TF_GPU",
   "language": "python",
   "name": "python3"
  },
  "language_info": {
   "codemirror_mode": {
    "name": "ipython",
    "version": 3
   },
   "file_extension": ".py",
   "mimetype": "text/x-python",
   "name": "python",
   "nbconvert_exporter": "python",
   "pygments_lexer": "ipython3",
   "version": "3.9.19"
  }
 },
 "nbformat": 4,
 "nbformat_minor": 2
}
